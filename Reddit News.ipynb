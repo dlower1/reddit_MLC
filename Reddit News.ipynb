{
 "cells": [
  {
   "cell_type": "code",
   "execution_count": 1,
   "metadata": {},
   "outputs": [],
   "source": [
    "import numpy as np\n",
    "import pandas as pd\n",
    "import praw\n",
    "import re\n",
    "from datetime import datetime\n",
    "from fake_useragent import UserAgent\n",
    "from scipy.stats import randint\n",
    "from sklearn.feature_extraction.text import CountVectorizer\n",
    "from sklearn.preprocessing import MinMaxScaler\n",
    "from sklearn.pipeline import Pipeline\n",
    "from sklearn.model_selection import RandomizedSearchCV, StratifiedKFold\n",
    "from sklearn.linear_model import LogisticRegression\n",
    "#from sklearn.neighbors import KNeighborsClassifier\n",
    "#from sklearn.svm import LinearSVC\n",
    "#from sklearn.naive_bayes import MultinomialNB\n",
    "#from sklearn.ensemble import AdaBoostClassifier, GradientBoostingClassifier, RandomForestClassifier\n",
    "from sklearn.neural_network import MLPClassifier"
   ]
  },
  {
   "cell_type": "code",
   "execution_count": 2,
   "metadata": {},
   "outputs": [],
   "source": [
    "def no_num(string):\n",
    "    \"\"\"Removes all the numbers from a string\"\"\"\n",
    "    r = re.sub('(\\d)+', '', string.lower())\n",
    "    return r"
   ]
  },
  {
   "cell_type": "code",
   "execution_count": 3,
   "metadata": {},
   "outputs": [],
   "source": [
    "def reddit_news_fech(data_path, track_path):\n",
    "    ua = UserAgent()\n",
    "\n",
    "    reddit = praw.Reddit(client_id='63Stmt93yKE2Zw', \n",
    "                         client_secret='YQ-z1FWG3iQ-hmxJTzbjYveWAh4', \n",
    "                         user_agent=ua.firefox)\n",
    "\n",
    "    if reddit.read_only == True:\n",
    "        print 'We good to Go!'\n",
    "    else:\n",
    "        print 'Why no work?'\n",
    "        return None\n",
    "\n",
    "    data = []\n",
    "\n",
    "    for sub in reddit.subreddit('news').top(time_filter='day', limit=100):\n",
    "    \n",
    "        rn = pd.to_datetime(datetime.utcnow())\n",
    "    \n",
    "        data.append([sub.created_utc, rn, sub.title,\n",
    "                     sub.author, sub.domain, sub.ups])\n",
    "\n",
    "    print 'Done feching data'\n",
    "\n",
    "    df = pd.DataFrame(data, columns=['created_utc', 'scraped_utc', 'title',\n",
    "                                     'author', 'domain', 'upvotes'])\n",
    "\n",
    "    df['created_utc'] = pd.to_datetime(df['created_utc'], unit='s')\n",
    "    df['up_time'] = df['scraped_utc'] - df['created_utc']\n",
    "    df['up_seconds'] = [x.total_seconds() for x in df['up_time']]\n",
    "\n",
    "    median = df['upvotes'].median()\n",
    "    mean = df['upvotes'].mean()\n",
    "    tracked = pd.read_csv(track_path)\n",
    "    track = pd.DataFrame([[rn.day+(rn.hour/24.0), median]],\n",
    "                         columns=['time', 'median'])\n",
    "    tracked = tracked.append(track)\n",
    "\n",
    "    df['target'] = [1 if x > median else 0 for x in df['upvotes']]\n",
    "\n",
    "    print 'Writing data to .csv'\n",
    "    data_path = '{}/{}-{}_{}.csv'.format(data_path, rn.month, rn.day, rn.hour)\n",
    "    df.to_csv(data_path, index=False, encoding='utf-8')\n",
    "    tracked.to_csv(track_path, index=False)\n",
    "    del tracked\n",
    "    del df\n",
    "    print 'Job Done'\n",
    "    return data_path"
   ]
  },
  {
   "cell_type": "code",
   "execution_count": 4,
   "metadata": {},
   "outputs": [],
   "source": [
    "def reddit_data_process(train, test):\n",
    "    \"\"\"For making data\"\"\"\n",
    "\n",
    "    y_train = train['target']\n",
    "    y_test = test['target']\n",
    "    \n",
    "    y_train_alt = [1 if x > train['upvotes'].mean() else 0 for x in train['upvotes']]\n",
    "    y_test_alt = [1 if x > test['upvotes'].mean() else 0 for x in test['upvotes']]\n",
    "\n",
    "    # The author is sometimes deleated, so i need to account for that\n",
    "    author_train = ['REDACTED' if x == None or '' else x if isinstance(x, basestring) == True else x.name for x in train['author']]\n",
    "    author_test = ['REDACTED' if x == None or '' else x if isinstance(x, basestring) == True else x.name for x in test['author']]\n",
    "    cv_a = CountVectorizer(lowercase=False, token_pattern='\\S+')\n",
    "    cv_a.fit(author_train)\n",
    "    author_train = pd.DataFrame(cv_a.transform(author_train).todense(),\n",
    "                                columns=cv_a.get_feature_names())\n",
    "    author_test = pd.DataFrame(cv_a.transform(author_test).todense(),\n",
    "                               columns=cv_a.get_feature_names())\n",
    "    del cv_a\n",
    "\n",
    "    cv_d = CountVectorizer(token_pattern='\\S+')\n",
    "    cv_d.fit(train['domain'])\n",
    "    domain_train = pd.DataFrame(cv_d.transform(train['domain']).todense(),\n",
    "                                columns=cv_d.get_feature_names())\n",
    "    domain_test = pd.DataFrame(cv_d.transform(test['domain']).todense(),\n",
    "                               columns=cv_d.get_feature_names())\n",
    "    del cv_d\n",
    "    \n",
    "    cv_t = CountVectorizer(stop_words='english', preprocessor=no_num)\n",
    "    cv_t.fit(train['title'])\n",
    "    title_train = pd.DataFrame(cv_t.transform(train['title']).todense(),\n",
    "                               columns=cv_t.get_feature_names())\n",
    "    title_test = pd.DataFrame(cv_t.transform(test['title']).todense(),\n",
    "                              columns=cv_t.get_feature_names())\n",
    "    del cv_t\n",
    "    \n",
    "    ad_train = author_train.merge(domain_train, left_index=True, right_index=True)\n",
    "    super_train = title_train.merge(ad_train, left_index=True, right_index=True)\n",
    "    ad_test = author_test.merge(domain_test, left_index=True, right_index=True)\n",
    "    super_test = title_test.merge(ad_test, left_index=True, right_index=True)\n",
    "\n",
    "    super_train['up_seconds'] = train['up_seconds'].values\n",
    "    super_test['up_seconds'] = test['up_seconds'].values\n",
    "    \n",
    "    del author_train\n",
    "    del author_test\n",
    "    del domain_test\n",
    "    del domain_train\n",
    "    del title_test\n",
    "    del title_train\n",
    "    del ad_train\n",
    "    del ad_test\n",
    "    \n",
    "    return super_train, y_train, super_test, y_test, y_train_alt, y_test_alt"
   ]
  },
  {
   "cell_type": "code",
   "execution_count": null,
   "metadata": {},
   "outputs": [],
   "source": []
  },
  {
   "cell_type": "code",
   "execution_count": null,
   "metadata": {},
   "outputs": [],
   "source": []
  },
  {
   "cell_type": "code",
   "execution_count": null,
   "metadata": {},
   "outputs": [],
   "source": []
  },
  {
   "cell_type": "code",
   "execution_count": 5,
   "metadata": {},
   "outputs": [
    {
     "name": "stdout",
     "output_type": "stream",
     "text": [
      "We good to Go!\n",
      "Done feching data\n",
      "Writing data to .csv\n",
      "Job Done\n"
     ]
    }
   ],
   "source": [
    "tracker = './data/tracker.csv'\n",
    "data_loc = './data'\n",
    "test_path = reddit_news_fech(data_loc, tracker)"
   ]
  },
  {
   "cell_type": "code",
   "execution_count": 6,
   "metadata": {},
   "outputs": [
    {
     "name": "stdout",
     "output_type": "stream",
     "text": [
      "./data/3-10_16.csv\n"
     ]
    }
   ],
   "source": [
    "print test_path"
   ]
  },
  {
   "cell_type": "code",
   "execution_count": null,
   "metadata": {},
   "outputs": [],
   "source": [
    "#test_path = './data/3-5_15.csv'"
   ]
  },
  {
   "cell_type": "code",
   "execution_count": null,
   "metadata": {},
   "outputs": [],
   "source": [
    "meta_path = './data/meta_data.csv'\n",
    "meta_data = pd.read_csv(meta_path)\n",
    "\n",
    "cv = KFold(n_splits=3, shuffle=True)\n",
    "mm = MinMaxScaler()\n",
    "mlp = MLPClassifier()\n",
    "\n",
    "mlp_pipe = Pipeline(steps=[('mm', mm), ('mlp', mlp)])\n",
    "\n",
    "mlp_params = {'mlp__hidden_layer_sizes': [tuple(randint(50, 500).rvs(m)) for m in range(1, 6)],\n",
    "              'mlp__activation': ['identity', 'logistic', 'tanh', 'relu'],\n",
    "              'mlp__solver': ['lbfgs', 'sgd', 'adam'],\n",
    "              'mlp__learning_rate': ['constant', 'invscaling', 'adaptive'],\n",
    "              'mlp__alpha': np.logspace(-7, 1, 10**4),\n",
    "              'mlp__max_iter': randint(1000, 5000).rvs(1000)}\n",
    "\n",
    "ran_mlp = RandomizedSearchCV(mlp_pipe, param_distributions=mlp_params,\n",
    "                             cv=cv, n_iter=33, n_jobs=-1, verbose=2)\n",
    "\n",
    "train_set = pd.read_csv('./data/TRAIN.csv', na_filter=False)\n",
    "test_set = pd.read_csv(test_path, na_filter=False)\n",
    "    \n",
    "test_mean = test_set['upvotes'].mean()\n",
    "\n",
    "print train_set.shape\n",
    "print test_set.shape\n",
    "    \n",
    "X_train, y_train, X_test, y_test, y_train_mean, y_test_mean = reddit_data_process(train_set, test_set)\n",
    "    \n",
    "baseline = float(y_test.sum())/len(y_test)\n",
    "if baseline < .5:\n",
    "        baseline = 1 - float(y_test.sum())/len(y_test)\n",
    "alt_baseline = 1 - float(sum(y_test_mean))/len(y_test_mean)\n",
    "    \n",
    "print '\\nBaseline: {}\\nAlt_Baseline: {}\\n'.format(baseline,\n",
    "                                                  alt_baseline)\n",
    "\n",
    "ran_mlp.fit(X_train, y_train)\n",
    "net_score = ran_mlp.score(X_test, y_test)\n",
    "net_percent = (net_score - baseline) * 100\n",
    "net_best_params = ran_mlp.best_params_\n",
    "    \n",
    "print '\\n{}: {}\\nFrom Baseline: {}%\\n{}\\n'.format('Median', net_score,\n",
    "                                                  net_percent,\n",
    "                                                  net_best_params)\n",
    "    \n",
    "ran_mlp.fit(X_train, y_train_mean)\n",
    "net_score_mean = ran_mlp.score(X_test, y_test_mean)\n",
    "net_percent_mean = (net_score_mean - alt_baseline) * 100\n",
    "net_best_params_mean = ran_mlp.best_params_\n",
    "\n",
    "print '\\n{}: {}\\nFrom Baseline: {}%\\n{}\\n'.format('Mean', net_score_mean,\n",
    "                                                  net_percent_mean,\n",
    "                                                  net_best_params_mean)\n",
    "    \n",
    "result = pd.DataFrame([[tracker['time'].iloc[-1], len(X_train), len(X_train.columns),\n",
    "                        tracker['median'].iloc[-1], baseline, net_score, net_best_params,\n",
    "                        test_mean, alt_baseline, net_score_mean, net_best_params_mean]],\n",
    "                      columns=['time', 'samples', 'features',\n",
    "                               'median', 'baseline', 'score', 'params',\n",
    "                               'mean', 'mean_base', 'mean_score', 'mean_params'])\n",
    "\n",
    "meta_data = meta_data.append(result)\n",
    "train_set = train_set.append(test_set)\n",
    "\n",
    "print 'Writing to .cvs now...'\n",
    "train_set.to_csv('./data/TRAIN.csv', index=False)\n",
    "\n",
    "tr = pd.read_csv('./data/tracker_mean.csv')\n",
    "\n",
    "tr.append(pd.DataFrame([[tracker['time'].iloc[-1], tracker['median'].iloc[-1], test_mean]],\n",
    "                       columns=['time', 'median', 'mean']))\n",
    "\n",
    "tr.to_csv('./data/tracker_mean.csv', index=False)\n",
    "\n",
    "meta_data.to_csv(meta_path, index=False)\n",
    "print 'All Done'"
   ]
  },
  {
   "cell_type": "code",
   "execution_count": null,
   "metadata": {},
   "outputs": [],
   "source": [
    "sum(net_best_params_mean['mlp__hidden_layer_sizes'])"
   ]
  },
  {
   "cell_type": "code",
   "execution_count": null,
   "metadata": {},
   "outputs": [],
   "source": [
    "len(net_best_params_mean['mlp__hidden_layer_sizes'])"
   ]
  },
  {
   "cell_type": "code",
   "execution_count": null,
   "metadata": {},
   "outputs": [],
   "source": []
  },
  {
   "cell_type": "code",
   "execution_count": null,
   "metadata": {},
   "outputs": [],
   "source": []
  },
  {
   "cell_type": "code",
   "execution_count": null,
   "metadata": {},
   "outputs": [],
   "source": []
  },
  {
   "cell_type": "code",
   "execution_count": null,
   "metadata": {},
   "outputs": [],
   "source": [
    "meta_path = './data/meta_data.csv'\n",
    "meta_data = pd.read_csv(meta_path)\n",
    "meta_data.head(3)"
   ]
  },
  {
   "cell_type": "code",
   "execution_count": null,
   "metadata": {},
   "outputs": [],
   "source": [
    "train = pd.read_csv('./data/TRAIN.csv', na_filter=False)\n",
    "train.shape"
   ]
  },
  {
   "cell_type": "code",
   "execution_count": null,
   "metadata": {
    "scrolled": true
   },
   "outputs": [
    {
     "name": "stdout",
     "output_type": "stream",
     "text": [
      "\n",
      "3-2_16\n",
      "Median Baseline: 0.5\n",
      "Mean Baseline: 0.9\n",
      "\n",
      "Fitting 2 folds for each of 25 candidates, totalling 50 fits\n",
      "[CV] mlp__activation=logistic, mlp__alpha=18.124175473742394, mlp__hidden_layer_sizes=(126, 397, 56, 315, 256), mlp__solver=lbfgs, mlp__learning_rate=invscaling, mlp__max_iter=1332 \n",
      "[CV] mlp__activation=logistic, mlp__alpha=18.124175473742394, mlp__hidden_layer_sizes=(126, 397, 56, 315, 256), mlp__solver=lbfgs, mlp__learning_rate=invscaling, mlp__max_iter=1332 \n",
      "[CV] mlp__activation=identity, mlp__alpha=954.9485639791966, mlp__hidden_layer_sizes=(54, 182, 222, 442), mlp__solver=sgd, mlp__learning_rate=invscaling, mlp__max_iter=1247 \n",
      "[CV] mlp__activation=identity, mlp__alpha=954.9485639791966, mlp__hidden_layer_sizes=(54, 182, 222, 442), mlp__solver=sgd, mlp__learning_rate=invscaling, mlp__max_iter=1247 \n",
      "[CV]  mlp__activation=logistic, mlp__alpha=18.124175473742394, mlp__hidden_layer_sizes=(126, 397, 56, 315, 256), mlp__solver=lbfgs, mlp__learning_rate=invscaling, mlp__max_iter=1332, total=   9.1s\n",
      "[CV] mlp__activation=logistic, mlp__alpha=870.8431497690724, mlp__hidden_layer_sizes=(451,), mlp__solver=lbfgs, mlp__learning_rate=constant, mlp__max_iter=890 \n",
      "[CV]  mlp__activation=logistic, mlp__alpha=18.124175473742394, mlp__hidden_layer_sizes=(126, 397, 56, 315, 256), mlp__solver=lbfgs, mlp__learning_rate=invscaling, mlp__max_iter=1332, total=   9.1s\n",
      "[CV] mlp__activation=logistic, mlp__alpha=870.8431497690724, mlp__hidden_layer_sizes=(451,), mlp__solver=lbfgs, mlp__learning_rate=constant, mlp__max_iter=890 \n",
      "[CV]  mlp__activation=logistic, mlp__alpha=870.8431497690724, mlp__hidden_layer_sizes=(451,), mlp__solver=lbfgs, mlp__learning_rate=constant, mlp__max_iter=890, total=   5.6s\n",
      "[CV] mlp__activation=tanh, mlp__alpha=119.97177354358855, mlp__hidden_layer_sizes=(451,), mlp__solver=lbfgs, mlp__learning_rate=invscaling, mlp__max_iter=3711 \n",
      "[CV]  mlp__activation=logistic, mlp__alpha=870.8431497690724, mlp__hidden_layer_sizes=(451,), mlp__solver=lbfgs, mlp__learning_rate=constant, mlp__max_iter=890, total=   6.8s\n",
      "[CV] mlp__activation=tanh, mlp__alpha=119.97177354358855, mlp__hidden_layer_sizes=(451,), mlp__solver=lbfgs, mlp__learning_rate=invscaling, mlp__max_iter=3711 \n",
      "[CV]  mlp__activation=tanh, mlp__alpha=119.97177354358855, mlp__hidden_layer_sizes=(451,), mlp__solver=lbfgs, mlp__learning_rate=invscaling, mlp__max_iter=3711, total=   3.7s\n",
      "[CV] mlp__activation=tanh, mlp__alpha=0.00019646866461804464, mlp__hidden_layer_sizes=(279, 231), mlp__solver=lbfgs, mlp__learning_rate=adaptive, mlp__max_iter=1255 \n",
      "[CV]  mlp__activation=tanh, mlp__alpha=119.97177354358855, mlp__hidden_layer_sizes=(451,), mlp__solver=lbfgs, mlp__learning_rate=invscaling, mlp__max_iter=3711, total=   3.8s\n",
      "[CV] mlp__activation=tanh, mlp__alpha=0.00019646866461804464, mlp__hidden_layer_sizes=(279, 231), mlp__solver=lbfgs, mlp__learning_rate=adaptive, mlp__max_iter=1255 \n",
      "[CV]  mlp__activation=tanh, mlp__alpha=0.00019646866461804464, mlp__hidden_layer_sizes=(279, 231), mlp__solver=lbfgs, mlp__learning_rate=adaptive, mlp__max_iter=1255, total=   3.1s\n",
      "[CV] mlp__activation=identity, mlp__alpha=0.05568596444286409, mlp__hidden_layer_sizes=(244, 159, 198), mlp__solver=sgd, mlp__learning_rate=constant, mlp__max_iter=4420 \n",
      "[CV]  mlp__activation=tanh, mlp__alpha=0.00019646866461804464, mlp__hidden_layer_sizes=(279, 231), mlp__solver=lbfgs, mlp__learning_rate=adaptive, mlp__max_iter=1255, total=   3.6s\n",
      "[CV] mlp__activation=identity, mlp__alpha=0.05568596444286409, mlp__hidden_layer_sizes=(244, 159, 198), mlp__solver=sgd, mlp__learning_rate=constant, mlp__max_iter=4420 \n",
      "[CV]  mlp__activation=identity, mlp__alpha=0.05568596444286409, mlp__hidden_layer_sizes=(244, 159, 198), mlp__solver=sgd, mlp__learning_rate=constant, mlp__max_iter=4420, total=  28.7s\n",
      "[CV] mlp__activation=relu, mlp__alpha=4.706224849841282e-05, mlp__hidden_layer_sizes=(244, 159, 198), mlp__solver=lbfgs, mlp__learning_rate=adaptive, mlp__max_iter=3178 \n",
      "[CV]  mlp__activation=identity, mlp__alpha=0.05568596444286409, mlp__hidden_layer_sizes=(244, 159, 198), mlp__solver=sgd, mlp__learning_rate=constant, mlp__max_iter=4420, total=  28.8s\n",
      "[CV] mlp__activation=relu, mlp__alpha=4.706224849841282e-05, mlp__hidden_layer_sizes=(244, 159, 198), mlp__solver=lbfgs, mlp__learning_rate=adaptive, mlp__max_iter=3178 \n",
      "[CV]  mlp__activation=relu, mlp__alpha=4.706224849841282e-05, mlp__hidden_layer_sizes=(244, 159, 198), mlp__solver=lbfgs, mlp__learning_rate=adaptive, mlp__max_iter=3178, total=   3.7s\n",
      "[CV]  mlp__activation=relu, mlp__alpha=4.706224849841282e-05, mlp__hidden_layer_sizes=(244, 159, 198), mlp__solver=lbfgs, mlp__learning_rate=adaptive, mlp__max_iter=3178, total=   1.8s\n",
      "[CV] mlp__activation=tanh, mlp__alpha=1.5746977146430867, mlp__hidden_layer_sizes=(54, 182, 222, 442), mlp__solver=adam, mlp__learning_rate=adaptive, mlp__max_iter=1306 \n",
      "[CV] mlp__activation=tanh, mlp__alpha=1.5746977146430867, mlp__hidden_layer_sizes=(54, 182, 222, 442), mlp__solver=adam, mlp__learning_rate=adaptive, mlp__max_iter=1306 \n"
     ]
    },
    {
     "name": "stderr",
     "output_type": "stream",
     "text": [
      "/home/loki/.local/lib/python2.7/site-packages/sklearn/neural_network/multilayer_perceptron.py:564: ConvergenceWarning: Stochastic Optimizer: Maximum iterations (1247) reached and the optimization hasn't converged yet.\n",
      "  % self.max_iter, ConvergenceWarning)\n"
     ]
    },
    {
     "name": "stdout",
     "output_type": "stream",
     "text": [
      "[CV]  mlp__activation=identity, mlp__alpha=954.9485639791966, mlp__hidden_layer_sizes=(54, 182, 222, 442), mlp__solver=sgd, mlp__learning_rate=invscaling, mlp__max_iter=1247, total=  59.9s\n",
      "[CV] mlp__activation=logistic, mlp__alpha=0.4641588833612782, mlp__hidden_layer_sizes=(244, 159, 198), mlp__solver=adam, mlp__learning_rate=invscaling, mlp__max_iter=3727 \n"
     ]
    },
    {
     "name": "stderr",
     "output_type": "stream",
     "text": [
      "/home/loki/.local/lib/python2.7/site-packages/sklearn/neural_network/multilayer_perceptron.py:564: ConvergenceWarning: Stochastic Optimizer: Maximum iterations (1247) reached and the optimization hasn't converged yet.\n",
      "  % self.max_iter, ConvergenceWarning)\n"
     ]
    },
    {
     "name": "stdout",
     "output_type": "stream",
     "text": [
      "[CV]  mlp__activation=identity, mlp__alpha=954.9485639791966, mlp__hidden_layer_sizes=(54, 182, 222, 442), mlp__solver=sgd, mlp__learning_rate=invscaling, mlp__max_iter=1247, total= 1.0min\n",
      "[CV] mlp__activation=logistic, mlp__alpha=0.4641588833612782, mlp__hidden_layer_sizes=(244, 159, 198), mlp__solver=adam, mlp__learning_rate=invscaling, mlp__max_iter=3727 \n",
      "[CV]  mlp__activation=logistic, mlp__alpha=0.4641588833612782, mlp__hidden_layer_sizes=(244, 159, 198), mlp__solver=adam, mlp__learning_rate=invscaling, mlp__max_iter=3727, total=   8.4s\n",
      "[CV] mlp__activation=relu, mlp__alpha=911.9267598459298, mlp__hidden_layer_sizes=(451,), mlp__solver=sgd, mlp__learning_rate=constant, mlp__max_iter=3399 \n",
      "[CV]  mlp__activation=relu, mlp__alpha=911.9267598459298, mlp__hidden_layer_sizes=(451,), mlp__solver=sgd, mlp__learning_rate=constant, mlp__max_iter=3399, total=   1.7s\n",
      "[CV] mlp__activation=relu, mlp__alpha=911.9267598459298, mlp__hidden_layer_sizes=(451,), mlp__solver=sgd, mlp__learning_rate=constant, mlp__max_iter=3399 \n",
      "[CV]  mlp__activation=logistic, mlp__alpha=0.4641588833612782, mlp__hidden_layer_sizes=(244, 159, 198), mlp__solver=adam, mlp__learning_rate=invscaling, mlp__max_iter=3727, total=   8.8s\n",
      "[CV] mlp__activation=logistic, mlp__alpha=0.0001524695727017573, mlp__hidden_layer_sizes=(279, 231), mlp__solver=lbfgs, mlp__learning_rate=invscaling, mlp__max_iter=4501 \n",
      "[CV]  mlp__activation=tanh, mlp__alpha=1.5746977146430867, mlp__hidden_layer_sizes=(54, 182, 222, 442), mlp__solver=adam, mlp__learning_rate=adaptive, mlp__max_iter=1306, total=  17.5s\n",
      "[CV] mlp__activation=logistic, mlp__alpha=0.0001524695727017573, mlp__hidden_layer_sizes=(279, 231), mlp__solver=lbfgs, mlp__learning_rate=invscaling, mlp__max_iter=4501 \n",
      "[CV]  mlp__activation=relu, mlp__alpha=911.9267598459298, mlp__hidden_layer_sizes=(451,), mlp__solver=sgd, mlp__learning_rate=constant, mlp__max_iter=3399, total=   1.8s\n",
      "[CV] mlp__activation=logistic, mlp__alpha=1.7793043899185772e-07, mlp__hidden_layer_sizes=(451,), mlp__solver=sgd, mlp__learning_rate=adaptive, mlp__max_iter=3588 \n",
      "[CV]  mlp__activation=tanh, mlp__alpha=1.5746977146430867, mlp__hidden_layer_sizes=(54, 182, 222, 442), mlp__solver=adam, mlp__learning_rate=adaptive, mlp__max_iter=1306, total=  17.8s\n",
      "[CV] mlp__activation=logistic, mlp__alpha=1.7793043899185772e-07, mlp__hidden_layer_sizes=(451,), mlp__solver=sgd, mlp__learning_rate=adaptive, mlp__max_iter=3588 \n",
      "[CV]  mlp__activation=logistic, mlp__alpha=1.7793043899185772e-07, mlp__hidden_layer_sizes=(451,), mlp__solver=sgd, mlp__learning_rate=adaptive, mlp__max_iter=3588, total=   1.8s\n",
      "[CV]  mlp__activation=logistic, mlp__alpha=1.7793043899185772e-07, mlp__hidden_layer_sizes=(451,), mlp__solver=sgd, mlp__learning_rate=adaptive, mlp__max_iter=3588, total=   2.0s\n",
      "[CV] mlp__activation=tanh, mlp__alpha=0.054417142868658876, mlp__hidden_layer_sizes=(279, 231), mlp__solver=adam, mlp__learning_rate=adaptive, mlp__max_iter=814 \n",
      "[CV] mlp__activation=tanh, mlp__alpha=0.054417142868658876, mlp__hidden_layer_sizes=(279, 231), mlp__solver=adam, mlp__learning_rate=adaptive, mlp__max_iter=814 \n",
      "[CV]  mlp__activation=logistic, mlp__alpha=0.0001524695727017573, mlp__hidden_layer_sizes=(279, 231), mlp__solver=lbfgs, mlp__learning_rate=invscaling, mlp__max_iter=4501, total=   4.4s\n",
      "[CV] mlp__activation=identity, mlp__alpha=268.80010215376075, mlp__hidden_layer_sizes=(451,), mlp__solver=adam, mlp__learning_rate=invscaling, mlp__max_iter=3636 \n",
      "[CV]  mlp__activation=logistic, mlp__alpha=0.0001524695727017573, mlp__hidden_layer_sizes=(279, 231), mlp__solver=lbfgs, mlp__learning_rate=invscaling, mlp__max_iter=4501, total=   6.1s\n",
      "[CV] mlp__activation=identity, mlp__alpha=268.80010215376075, mlp__hidden_layer_sizes=(451,), mlp__solver=adam, mlp__learning_rate=invscaling, mlp__max_iter=3636 \n",
      "[CV]  mlp__activation=identity, mlp__alpha=268.80010215376075, mlp__hidden_layer_sizes=(451,), mlp__solver=adam, mlp__learning_rate=invscaling, mlp__max_iter=3636, total=  20.8s\n",
      "[CV] mlp__activation=identity, mlp__alpha=77.42636826811278, mlp__hidden_layer_sizes=(451,), mlp__solver=lbfgs, mlp__learning_rate=invscaling, mlp__max_iter=1411 \n",
      "[CV]  mlp__activation=identity, mlp__alpha=268.80010215376075, mlp__hidden_layer_sizes=(451,), mlp__solver=adam, mlp__learning_rate=invscaling, mlp__max_iter=3636, total=  20.4s\n",
      "[CV] mlp__activation=identity, mlp__alpha=77.42636826811278, mlp__hidden_layer_sizes=(451,), mlp__solver=lbfgs, mlp__learning_rate=invscaling, mlp__max_iter=1411 \n",
      "[CV]  mlp__activation=tanh, mlp__alpha=0.054417142868658876, mlp__hidden_layer_sizes=(279, 231), mlp__solver=adam, mlp__learning_rate=adaptive, mlp__max_iter=814, total=  24.8s\n",
      "[CV] mlp__activation=relu, mlp__alpha=794.145171902934, mlp__hidden_layer_sizes=(279, 231), mlp__solver=sgd, mlp__learning_rate=constant, mlp__max_iter=4573 \n",
      "[CV]  mlp__activation=tanh, mlp__alpha=0.054417142868658876, mlp__hidden_layer_sizes=(279, 231), mlp__solver=adam, mlp__learning_rate=adaptive, mlp__max_iter=814, total=  25.7s\n",
      "[CV] mlp__activation=relu, mlp__alpha=794.145171902934, mlp__hidden_layer_sizes=(279, 231), mlp__solver=sgd, mlp__learning_rate=constant, mlp__max_iter=4573 \n",
      "[CV]  mlp__activation=relu, mlp__alpha=794.145171902934, mlp__hidden_layer_sizes=(279, 231), mlp__solver=sgd, mlp__learning_rate=constant, mlp__max_iter=4573, total=   1.4s\n",
      "[CV] mlp__activation=tanh, mlp__alpha=0.024287643824604504, mlp__hidden_layer_sizes=(244, 159, 198), mlp__solver=lbfgs, mlp__learning_rate=adaptive, mlp__max_iter=1762 \n",
      "[CV]  mlp__activation=relu, mlp__alpha=794.145171902934, mlp__hidden_layer_sizes=(279, 231), mlp__solver=sgd, mlp__learning_rate=constant, mlp__max_iter=4573, total=   1.0s\n",
      "[CV] mlp__activation=tanh, mlp__alpha=0.024287643824604504, mlp__hidden_layer_sizes=(244, 159, 198), mlp__solver=lbfgs, mlp__learning_rate=adaptive, mlp__max_iter=1762 \n",
      "[CV]  mlp__activation=identity, mlp__alpha=77.42636826811278, mlp__hidden_layer_sizes=(451,), mlp__solver=lbfgs, mlp__learning_rate=invscaling, mlp__max_iter=1411, total=   3.6s\n",
      "[CV] mlp__activation=logistic, mlp__alpha=70.6071771413778, mlp__hidden_layer_sizes=(126, 397, 56, 315, 256), mlp__solver=lbfgs, mlp__learning_rate=constant, mlp__max_iter=2696 \n",
      "[CV]  mlp__activation=identity, mlp__alpha=77.42636826811278, mlp__hidden_layer_sizes=(451,), mlp__solver=lbfgs, mlp__learning_rate=invscaling, mlp__max_iter=1411, total=   3.9s\n",
      "[CV] mlp__activation=logistic, mlp__alpha=70.6071771413778, mlp__hidden_layer_sizes=(126, 397, 56, 315, 256), mlp__solver=lbfgs, mlp__learning_rate=constant, mlp__max_iter=2696 \n",
      "[CV]  mlp__activation=logistic, mlp__alpha=70.6071771413778, mlp__hidden_layer_sizes=(126, 397, 56, 315, 256), mlp__solver=lbfgs, mlp__learning_rate=constant, mlp__max_iter=2696, total=   5.3s\n",
      "[CV] mlp__activation=relu, mlp__alpha=2.1004982416539152e-05, mlp__hidden_layer_sizes=(451,), mlp__solver=lbfgs, mlp__learning_rate=constant, mlp__max_iter=540 \n"
     ]
    },
    {
     "name": "stderr",
     "output_type": "stream",
     "text": [
      "[Parallel(n_jobs=-1)]: Done  33 tasks      | elapsed:  1.8min\n"
     ]
    },
    {
     "name": "stdout",
     "output_type": "stream",
     "text": [
      "[CV]  mlp__activation=tanh, mlp__alpha=0.024287643824604504, mlp__hidden_layer_sizes=(244, 159, 198), mlp__solver=lbfgs, mlp__learning_rate=adaptive, mlp__max_iter=1762, total=   7.2s\n",
      "[CV] mlp__activation=relu, mlp__alpha=2.1004982416539152e-05, mlp__hidden_layer_sizes=(451,), mlp__solver=lbfgs, mlp__learning_rate=constant, mlp__max_iter=540 \n",
      "[CV]  mlp__activation=logistic, mlp__alpha=70.6071771413778, mlp__hidden_layer_sizes=(126, 397, 56, 315, 256), mlp__solver=lbfgs, mlp__learning_rate=constant, mlp__max_iter=2696, total=   6.8s\n",
      "[CV] mlp__activation=logistic, mlp__alpha=3.1441083031472647, mlp__hidden_layer_sizes=(244, 159, 198), mlp__solver=adam, mlp__learning_rate=constant, mlp__max_iter=4736 \n",
      "[CV]  mlp__activation=tanh, mlp__alpha=0.024287643824604504, mlp__hidden_layer_sizes=(244, 159, 198), mlp__solver=lbfgs, mlp__learning_rate=adaptive, mlp__max_iter=1762, total=   8.5s\n",
      "[CV] mlp__activation=logistic, mlp__alpha=3.1441083031472647, mlp__hidden_layer_sizes=(244, 159, 198), mlp__solver=adam, mlp__learning_rate=constant, mlp__max_iter=4736 \n",
      "[CV]  mlp__activation=relu, mlp__alpha=2.1004982416539152e-05, mlp__hidden_layer_sizes=(451,), mlp__solver=lbfgs, mlp__learning_rate=constant, mlp__max_iter=540, total=   3.4s\n",
      "[CV] mlp__activation=tanh, mlp__alpha=5.404216420705915e-05, mlp__hidden_layer_sizes=(244, 159, 198), mlp__solver=lbfgs, mlp__learning_rate=invscaling, mlp__max_iter=4906 \n",
      "[CV]  mlp__activation=relu, mlp__alpha=2.1004982416539152e-05, mlp__hidden_layer_sizes=(451,), mlp__solver=lbfgs, mlp__learning_rate=constant, mlp__max_iter=540, total=   3.5s\n",
      "[CV] mlp__activation=tanh, mlp__alpha=5.404216420705915e-05, mlp__hidden_layer_sizes=(244, 159, 198), mlp__solver=lbfgs, mlp__learning_rate=invscaling, mlp__max_iter=4906 \n",
      "[CV]  mlp__activation=tanh, mlp__alpha=5.404216420705915e-05, mlp__hidden_layer_sizes=(244, 159, 198), mlp__solver=lbfgs, mlp__learning_rate=invscaling, mlp__max_iter=4906, total=   3.4s\n",
      "[CV] mlp__activation=tanh, mlp__alpha=0.00785045620020451, mlp__hidden_layer_sizes=(279, 231), mlp__solver=sgd, mlp__learning_rate=adaptive, mlp__max_iter=2620 \n",
      "[CV]  mlp__activation=tanh, mlp__alpha=5.404216420705915e-05, mlp__hidden_layer_sizes=(244, 159, 198), mlp__solver=lbfgs, mlp__learning_rate=invscaling, mlp__max_iter=4906, total=   3.8s\n",
      "[CV] mlp__activation=tanh, mlp__alpha=0.00785045620020451, mlp__hidden_layer_sizes=(279, 231), mlp__solver=sgd, mlp__learning_rate=adaptive, mlp__max_iter=2620 \n",
      "[CV]  mlp__activation=logistic, mlp__alpha=3.1441083031472647, mlp__hidden_layer_sizes=(244, 159, 198), mlp__solver=adam, mlp__learning_rate=constant, mlp__max_iter=4736, total=   9.1s\n",
      "[CV] mlp__activation=tanh, mlp__alpha=0.015317404637020799, mlp__hidden_layer_sizes=(244, 159, 198), mlp__solver=sgd, mlp__learning_rate=invscaling, mlp__max_iter=1305 \n",
      "[CV]  mlp__activation=logistic, mlp__alpha=3.1441083031472647, mlp__hidden_layer_sizes=(244, 159, 198), mlp__solver=adam, mlp__learning_rate=constant, mlp__max_iter=4736, total=  10.0s\n",
      "[CV] mlp__activation=tanh, mlp__alpha=0.015317404637020799, mlp__hidden_layer_sizes=(244, 159, 198), mlp__solver=sgd, mlp__learning_rate=invscaling, mlp__max_iter=1305 \n",
      "[CV]  mlp__activation=tanh, mlp__alpha=0.015317404637020799, mlp__hidden_layer_sizes=(244, 159, 198), mlp__solver=sgd, mlp__learning_rate=invscaling, mlp__max_iter=1305, total=   1.0s\n",
      "[CV] mlp__activation=tanh, mlp__alpha=30.093900344497243, mlp__hidden_layer_sizes=(451,), mlp__solver=lbfgs, mlp__learning_rate=adaptive, mlp__max_iter=2079 \n",
      "[CV]  mlp__activation=tanh, mlp__alpha=0.015317404637020799, mlp__hidden_layer_sizes=(244, 159, 198), mlp__solver=sgd, mlp__learning_rate=invscaling, mlp__max_iter=1305, total=   1.5s\n",
      "[CV] mlp__activation=tanh, mlp__alpha=30.093900344497243, mlp__hidden_layer_sizes=(451,), mlp__solver=lbfgs, mlp__learning_rate=adaptive, mlp__max_iter=2079 \n",
      "[CV]  mlp__activation=tanh, mlp__alpha=30.093900344497243, mlp__hidden_layer_sizes=(451,), mlp__solver=lbfgs, mlp__learning_rate=adaptive, mlp__max_iter=2079, total=   4.0s\n",
      "[CV] mlp__activation=relu, mlp__alpha=0.0010092621909870484, mlp__hidden_layer_sizes=(54, 182, 222, 442), mlp__solver=sgd, mlp__learning_rate=constant, mlp__max_iter=666 \n",
      "[CV]  mlp__activation=relu, mlp__alpha=0.0010092621909870484, mlp__hidden_layer_sizes=(54, 182, 222, 442), mlp__solver=sgd, mlp__learning_rate=constant, mlp__max_iter=666, total=   0.4s\n",
      "[CV] mlp__activation=relu, mlp__alpha=0.0010092621909870484, mlp__hidden_layer_sizes=(54, 182, 222, 442), mlp__solver=sgd, mlp__learning_rate=constant, mlp__max_iter=666 \n",
      "[CV]  mlp__activation=relu, mlp__alpha=0.0010092621909870484, mlp__hidden_layer_sizes=(54, 182, 222, 442), mlp__solver=sgd, mlp__learning_rate=constant, mlp__max_iter=666, total=   0.3s\n",
      "[CV]  mlp__activation=tanh, mlp__alpha=30.093900344497243, mlp__hidden_layer_sizes=(451,), mlp__solver=lbfgs, mlp__learning_rate=adaptive, mlp__max_iter=2079, total=   4.9s\n",
      "[CV]  mlp__activation=tanh, mlp__alpha=0.00785045620020451, mlp__hidden_layer_sizes=(279, 231), mlp__solver=sgd, mlp__learning_rate=adaptive, mlp__max_iter=2620, total=  31.3s\n",
      "[CV]  mlp__activation=tanh, mlp__alpha=0.00785045620020451, mlp__hidden_layer_sizes=(279, 231), mlp__solver=sgd, mlp__learning_rate=adaptive, mlp__max_iter=2620, total=  30.6s\n"
     ]
    },
    {
     "name": "stderr",
     "output_type": "stream",
     "text": [
      "[Parallel(n_jobs=-1)]: Done  50 out of  50 | elapsed:  2.4min finished\n"
     ]
    },
    {
     "name": "stdout",
     "output_type": "stream",
     "text": [
      "Fitting 2 folds for each of 25 candidates, totalling 50 fits\n",
      "\n",
      "Score[median]: 0.55\n",
      "From Baseline: 5.0%\n",
      "From LOG: 0.0%\n",
      "{'mlp__activation': 'relu', 'mlp__alpha': 2.1004982416539152e-05, 'mlp__hidden_layer_sizes': (451,), 'mlp__solver': 'lbfgs', 'mlp__learning_rate': 'constant', 'mlp__max_iter': 540}\n",
      "LOG Params:{'log__solver': 'liblinear', 'log__class_weight': None, 'log__max_iter': 2138, 'log__C': 911.9267598459298}\n",
      "Fitting 2 folds for each of 25 candidates, totalling 50 fits\n"
     ]
    },
    {
     "name": "stderr",
     "output_type": "stream",
     "text": [
      "[Parallel(n_jobs=-1)]: Done  50 out of  50 | elapsed:    1.6s finished\n"
     ]
    },
    {
     "name": "stdout",
     "output_type": "stream",
     "text": [
      "[CV] mlp__activation=identity, mlp__alpha=158.19734815786015, mlp__hidden_layer_sizes=(54, 182, 222, 442), mlp__solver=sgd, mlp__learning_rate=constant, mlp__max_iter=667 \n",
      "[CV] mlp__activation=tanh, mlp__alpha=1.2220446866314887, mlp__hidden_layer_sizes=(54, 182, 222, 442), mlp__solver=sgd, mlp__learning_rate=adaptive, mlp__max_iter=2079 \n",
      "[CV] mlp__activation=identity, mlp__alpha=158.19734815786015, mlp__hidden_layer_sizes=(54, 182, 222, 442), mlp__solver=sgd, mlp__learning_rate=constant, mlp__max_iter=667 \n",
      "[CV] mlp__activation=tanh, mlp__alpha=1.2220446866314887, mlp__hidden_layer_sizes=(54, 182, 222, 442), mlp__solver=sgd, mlp__learning_rate=adaptive, mlp__max_iter=2079 \n"
     ]
    },
    {
     "name": "stderr",
     "output_type": "stream",
     "text": [
      "/home/loki/.local/lib/python2.7/site-packages/sklearn/neural_network/multilayer_perceptron.py:564: ConvergenceWarning: Stochastic Optimizer: Maximum iterations (667) reached and the optimization hasn't converged yet.\n",
      "  % self.max_iter, ConvergenceWarning)\n"
     ]
    },
    {
     "name": "stdout",
     "output_type": "stream",
     "text": [
      "[CV]  mlp__activation=identity, mlp__alpha=158.19734815786015, mlp__hidden_layer_sizes=(54, 182, 222, 442), mlp__solver=sgd, mlp__learning_rate=constant, mlp__max_iter=667, total=  29.3s\n",
      "[CV] mlp__activation=relu, mlp__alpha=0.00023086779941871696, mlp__hidden_layer_sizes=(54, 182, 222, 442), mlp__solver=sgd, mlp__learning_rate=constant, mlp__max_iter=3193 \n"
     ]
    },
    {
     "name": "stderr",
     "output_type": "stream",
     "text": [
      "/home/loki/.local/lib/python2.7/site-packages/sklearn/neural_network/multilayer_perceptron.py:564: ConvergenceWarning: Stochastic Optimizer: Maximum iterations (667) reached and the optimization hasn't converged yet.\n",
      "  % self.max_iter, ConvergenceWarning)\n"
     ]
    },
    {
     "name": "stdout",
     "output_type": "stream",
     "text": [
      "[CV]  mlp__activation=identity, mlp__alpha=158.19734815786015, mlp__hidden_layer_sizes=(54, 182, 222, 442), mlp__solver=sgd, mlp__learning_rate=constant, mlp__max_iter=667, total=  30.8s\n",
      "[CV] mlp__activation=relu, mlp__alpha=0.00023086779941871696, mlp__hidden_layer_sizes=(54, 182, 222, 442), mlp__solver=sgd, mlp__learning_rate=constant, mlp__max_iter=3193 \n",
      "[CV]  mlp__activation=relu, mlp__alpha=0.00023086779941871696, mlp__hidden_layer_sizes=(54, 182, 222, 442), mlp__solver=sgd, mlp__learning_rate=constant, mlp__max_iter=3193, total=  13.3s\n",
      "[CV] mlp__activation=tanh, mlp__alpha=3.0232946844057763e-07, mlp__hidden_layer_sizes=(244, 159, 198), mlp__solver=lbfgs, mlp__learning_rate=adaptive, mlp__max_iter=3014 \n",
      "[CV]  mlp__activation=relu, mlp__alpha=0.00023086779941871696, mlp__hidden_layer_sizes=(54, 182, 222, 442), mlp__solver=sgd, mlp__learning_rate=constant, mlp__max_iter=3193, total=  12.2s\n",
      "[CV] mlp__activation=tanh, mlp__alpha=3.0232946844057763e-07, mlp__hidden_layer_sizes=(244, 159, 198), mlp__solver=lbfgs, mlp__learning_rate=adaptive, mlp__max_iter=3014 \n",
      "[CV]  mlp__activation=tanh, mlp__alpha=3.0232946844057763e-07, mlp__hidden_layer_sizes=(244, 159, 198), mlp__solver=lbfgs, mlp__learning_rate=adaptive, mlp__max_iter=3014, total=   3.9s\n",
      "[CV] mlp__activation=logistic, mlp__alpha=0.03431907197459043, mlp__hidden_layer_sizes=(54, 182, 222, 442), mlp__solver=sgd, mlp__learning_rate=constant, mlp__max_iter=4309 \n",
      "[CV]  mlp__activation=tanh, mlp__alpha=3.0232946844057763e-07, mlp__hidden_layer_sizes=(244, 159, 198), mlp__solver=lbfgs, mlp__learning_rate=adaptive, mlp__max_iter=3014, total=   4.7s\n",
      "[CV] mlp__activation=logistic, mlp__alpha=0.03431907197459043, mlp__hidden_layer_sizes=(54, 182, 222, 442), mlp__solver=sgd, mlp__learning_rate=constant, mlp__max_iter=4309 \n",
      "[CV]  mlp__activation=logistic, mlp__alpha=0.03431907197459043, mlp__hidden_layer_sizes=(54, 182, 222, 442), mlp__solver=sgd, mlp__learning_rate=constant, mlp__max_iter=4309, total=   1.3s\n",
      "[CV] mlp__activation=tanh, mlp__alpha=0.5711586478126435, mlp__hidden_layer_sizes=(279, 231), mlp__solver=sgd, mlp__learning_rate=constant, mlp__max_iter=4740 \n",
      "[CV]  mlp__activation=logistic, mlp__alpha=0.03431907197459043, mlp__hidden_layer_sizes=(54, 182, 222, 442), mlp__solver=sgd, mlp__learning_rate=constant, mlp__max_iter=4309, total=   1.3s\n",
      "[CV] mlp__activation=tanh, mlp__alpha=0.5711586478126435, mlp__hidden_layer_sizes=(279, 231), mlp__solver=sgd, mlp__learning_rate=constant, mlp__max_iter=4740 \n"
     ]
    },
    {
     "name": "stderr",
     "output_type": "stream",
     "text": [
      "/home/loki/.local/lib/python2.7/site-packages/sklearn/neural_network/multilayer_perceptron.py:564: ConvergenceWarning: Stochastic Optimizer: Maximum iterations (2079) reached and the optimization hasn't converged yet.\n",
      "  % self.max_iter, ConvergenceWarning)\n"
     ]
    },
    {
     "name": "stdout",
     "output_type": "stream",
     "text": [
      "[CV]  mlp__activation=tanh, mlp__alpha=1.2220446866314887, mlp__hidden_layer_sizes=(54, 182, 222, 442), mlp__solver=sgd, mlp__learning_rate=adaptive, mlp__max_iter=2079, total= 1.9min\n",
      "[CV] mlp__activation=relu, mlp__alpha=3.3306003436245885e-05, mlp__hidden_layer_sizes=(451,), mlp__solver=sgd, mlp__learning_rate=constant, mlp__max_iter=3576 \n"
     ]
    },
    {
     "name": "stderr",
     "output_type": "stream",
     "text": [
      "/home/loki/.local/lib/python2.7/site-packages/sklearn/neural_network/multilayer_perceptron.py:564: ConvergenceWarning: Stochastic Optimizer: Maximum iterations (2079) reached and the optimization hasn't converged yet.\n",
      "  % self.max_iter, ConvergenceWarning)\n"
     ]
    },
    {
     "name": "stdout",
     "output_type": "stream",
     "text": [
      "[CV]  mlp__activation=tanh, mlp__alpha=1.2220446866314887, mlp__hidden_layer_sizes=(54, 182, 222, 442), mlp__solver=sgd, mlp__learning_rate=adaptive, mlp__max_iter=2079, total= 2.0min\n",
      "[CV] mlp__activation=relu, mlp__alpha=3.3306003436245885e-05, mlp__hidden_layer_sizes=(451,), mlp__solver=sgd, mlp__learning_rate=constant, mlp__max_iter=3576 \n",
      "[CV]  mlp__activation=relu, mlp__alpha=3.3306003436245885e-05, mlp__hidden_layer_sizes=(451,), mlp__solver=sgd, mlp__learning_rate=constant, mlp__max_iter=3576, total= 1.4min\n",
      "[CV] mlp__activation=identity, mlp__alpha=0.011616226326085019, mlp__hidden_layer_sizes=(279, 231), mlp__solver=lbfgs, mlp__learning_rate=adaptive, mlp__max_iter=4088 \n",
      "[CV]  mlp__activation=identity, mlp__alpha=0.011616226326085019, mlp__hidden_layer_sizes=(279, 231), mlp__solver=lbfgs, mlp__learning_rate=adaptive, mlp__max_iter=4088, total=   3.5s\n",
      "[CV] mlp__activation=identity, mlp__alpha=0.011616226326085019, mlp__hidden_layer_sizes=(279, 231), mlp__solver=lbfgs, mlp__learning_rate=adaptive, mlp__max_iter=4088 \n",
      "[CV]  mlp__activation=identity, mlp__alpha=0.011616226326085019, mlp__hidden_layer_sizes=(279, 231), mlp__solver=lbfgs, mlp__learning_rate=adaptive, mlp__max_iter=4088, total=   4.3s\n",
      "[CV] mlp__activation=logistic, mlp__alpha=3.18055201533292e-05, mlp__hidden_layer_sizes=(279, 231), mlp__solver=sgd, mlp__learning_rate=adaptive, mlp__max_iter=3321 \n",
      "[CV]  mlp__activation=logistic, mlp__alpha=3.18055201533292e-05, mlp__hidden_layer_sizes=(279, 231), mlp__solver=sgd, mlp__learning_rate=adaptive, mlp__max_iter=3321, total=   3.0s\n",
      "[CV] mlp__activation=logistic, mlp__alpha=3.18055201533292e-05, mlp__hidden_layer_sizes=(279, 231), mlp__solver=sgd, mlp__learning_rate=adaptive, mlp__max_iter=3321 \n",
      "[CV]  mlp__activation=relu, mlp__alpha=3.3306003436245885e-05, mlp__hidden_layer_sizes=(451,), mlp__solver=sgd, mlp__learning_rate=constant, mlp__max_iter=3576, total= 1.5min\n",
      "[CV] mlp__activation=logistic, mlp__alpha=0.053177231778509665, mlp__hidden_layer_sizes=(451,), mlp__solver=lbfgs, mlp__learning_rate=adaptive, mlp__max_iter=1170 \n",
      "[CV]  mlp__activation=logistic, mlp__alpha=3.18055201533292e-05, mlp__hidden_layer_sizes=(279, 231), mlp__solver=sgd, mlp__learning_rate=adaptive, mlp__max_iter=3321, total=   2.9s\n",
      "[CV] mlp__activation=logistic, mlp__alpha=0.053177231778509665, mlp__hidden_layer_sizes=(451,), mlp__solver=lbfgs, mlp__learning_rate=adaptive, mlp__max_iter=1170 \n",
      "[CV]  mlp__activation=logistic, mlp__alpha=0.053177231778509665, mlp__hidden_layer_sizes=(451,), mlp__solver=lbfgs, mlp__learning_rate=adaptive, mlp__max_iter=1170, total=  15.2s\n",
      "[CV] mlp__activation=identity, mlp__alpha=4.4838559480211905e-06, mlp__hidden_layer_sizes=(279, 231), mlp__solver=adam, mlp__learning_rate=adaptive, mlp__max_iter=4369 \n",
      "[CV]  mlp__activation=logistic, mlp__alpha=0.053177231778509665, mlp__hidden_layer_sizes=(451,), mlp__solver=lbfgs, mlp__learning_rate=adaptive, mlp__max_iter=1170, total=  15.0s\n",
      "[CV] mlp__activation=identity, mlp__alpha=4.4838559480211905e-06, mlp__hidden_layer_sizes=(279, 231), mlp__solver=adam, mlp__learning_rate=adaptive, mlp__max_iter=4369 \n",
      "[CV]  mlp__activation=identity, mlp__alpha=4.4838559480211905e-06, mlp__hidden_layer_sizes=(279, 231), mlp__solver=adam, mlp__learning_rate=adaptive, mlp__max_iter=4369, total=   2.1s\n",
      "[CV] mlp__activation=logistic, mlp__alpha=1.2505385872903914, mlp__hidden_layer_sizes=(126, 397, 56, 315, 256), mlp__solver=sgd, mlp__learning_rate=adaptive, mlp__max_iter=4802 \n",
      "[CV]  mlp__activation=identity, mlp__alpha=4.4838559480211905e-06, mlp__hidden_layer_sizes=(279, 231), mlp__solver=adam, mlp__learning_rate=adaptive, mlp__max_iter=4369, total=   2.1s\n",
      "[CV] mlp__activation=logistic, mlp__alpha=1.2505385872903914, mlp__hidden_layer_sizes=(126, 397, 56, 315, 256), mlp__solver=sgd, mlp__learning_rate=adaptive, mlp__max_iter=4802 \n"
     ]
    },
    {
     "name": "stderr",
     "output_type": "stream",
     "text": [
      "/home/loki/.local/lib/python2.7/site-packages/sklearn/neural_network/multilayer_perceptron.py:564: ConvergenceWarning: Stochastic Optimizer: Maximum iterations (4740) reached and the optimization hasn't converged yet.\n",
      "  % self.max_iter, ConvergenceWarning)\n"
     ]
    },
    {
     "name": "stdout",
     "output_type": "stream",
     "text": [
      "[CV]  mlp__activation=tanh, mlp__alpha=0.5711586478126435, mlp__hidden_layer_sizes=(279, 231), mlp__solver=sgd, mlp__learning_rate=constant, mlp__max_iter=4740, total= 5.3min\n",
      "[CV] mlp__activation=identity, mlp__alpha=0.03353710152002929, mlp__hidden_layer_sizes=(244, 159, 198), mlp__solver=sgd, mlp__learning_rate=constant, mlp__max_iter=1917 \n"
     ]
    },
    {
     "name": "stderr",
     "output_type": "stream",
     "text": [
      "/home/loki/.local/lib/python2.7/site-packages/sklearn/neural_network/multilayer_perceptron.py:564: ConvergenceWarning: Stochastic Optimizer: Maximum iterations (4740) reached and the optimization hasn't converged yet.\n",
      "  % self.max_iter, ConvergenceWarning)\n"
     ]
    },
    {
     "name": "stdout",
     "output_type": "stream",
     "text": [
      "[CV]  mlp__activation=tanh, mlp__alpha=0.5711586478126435, mlp__hidden_layer_sizes=(279, 231), mlp__solver=sgd, mlp__learning_rate=constant, mlp__max_iter=4740, total= 5.5min\n",
      "[CV] mlp__activation=identity, mlp__alpha=0.03353710152002929, mlp__hidden_layer_sizes=(244, 159, 198), mlp__solver=sgd, mlp__learning_rate=constant, mlp__max_iter=1917 \n",
      "[CV]  mlp__activation=identity, mlp__alpha=0.03353710152002929, mlp__hidden_layer_sizes=(244, 159, 198), mlp__solver=sgd, mlp__learning_rate=constant, mlp__max_iter=1917, total=  25.3s\n",
      "[CV] mlp__activation=identity, mlp__alpha=3.3229325163989684e-06, mlp__hidden_layer_sizes=(279, 231), mlp__solver=lbfgs, mlp__learning_rate=constant, mlp__max_iter=1114 \n",
      "[CV]  mlp__activation=identity, mlp__alpha=3.3229325163989684e-06, mlp__hidden_layer_sizes=(279, 231), mlp__solver=lbfgs, mlp__learning_rate=constant, mlp__max_iter=1114, total=   3.4s\n",
      "[CV] mlp__activation=identity, mlp__alpha=3.3229325163989684e-06, mlp__hidden_layer_sizes=(279, 231), mlp__solver=lbfgs, mlp__learning_rate=constant, mlp__max_iter=1114 \n",
      "[CV]  mlp__activation=identity, mlp__alpha=3.3229325163989684e-06, mlp__hidden_layer_sizes=(279, 231), mlp__solver=lbfgs, mlp__learning_rate=constant, mlp__max_iter=1114, total=   4.8s\n",
      "[CV] mlp__activation=logistic, mlp__alpha=0.01135154708920999, mlp__hidden_layer_sizes=(126, 397, 56, 315, 256), mlp__solver=lbfgs, mlp__learning_rate=adaptive, mlp__max_iter=3929 \n",
      "[CV]  mlp__activation=identity, mlp__alpha=0.03353710152002929, mlp__hidden_layer_sizes=(244, 159, 198), mlp__solver=sgd, mlp__learning_rate=constant, mlp__max_iter=1917, total=  26.5s\n",
      "[CV] mlp__activation=logistic, mlp__alpha=0.01135154708920999, mlp__hidden_layer_sizes=(126, 397, 56, 315, 256), mlp__solver=lbfgs, mlp__learning_rate=adaptive, mlp__max_iter=3929 \n",
      "[CV]  mlp__activation=logistic, mlp__alpha=0.01135154708920999, mlp__hidden_layer_sizes=(126, 397, 56, 315, 256), mlp__solver=lbfgs, mlp__learning_rate=adaptive, mlp__max_iter=3929, total=   7.3s\n",
      "[CV] mlp__activation=identity, mlp__alpha=3.0232946844057763e-07, mlp__hidden_layer_sizes=(451,), mlp__solver=sgd, mlp__learning_rate=invscaling, mlp__max_iter=2236 \n",
      "[CV]  mlp__activation=logistic, mlp__alpha=0.01135154708920999, mlp__hidden_layer_sizes=(126, 397, 56, 315, 256), mlp__solver=lbfgs, mlp__learning_rate=adaptive, mlp__max_iter=3929, total=   4.0s\n",
      "[CV] mlp__activation=identity, mlp__alpha=3.0232946844057763e-07, mlp__hidden_layer_sizes=(451,), mlp__solver=sgd, mlp__learning_rate=invscaling, mlp__max_iter=2236 \n",
      "[CV]  mlp__activation=identity, mlp__alpha=3.0232946844057763e-07, mlp__hidden_layer_sizes=(451,), mlp__solver=sgd, mlp__learning_rate=invscaling, mlp__max_iter=2236, total=  10.5s\n",
      "[CV] mlp__activation=tanh, mlp__alpha=0.023193450592744275, mlp__hidden_layer_sizes=(126, 397, 56, 315, 256), mlp__solver=lbfgs, mlp__learning_rate=invscaling, mlp__max_iter=790 \n",
      "[CV]  mlp__activation=identity, mlp__alpha=3.0232946844057763e-07, mlp__hidden_layer_sizes=(451,), mlp__solver=sgd, mlp__learning_rate=invscaling, mlp__max_iter=2236, total=  13.6s\n",
      "[CV] mlp__activation=tanh, mlp__alpha=0.023193450592744275, mlp__hidden_layer_sizes=(126, 397, 56, 315, 256), mlp__solver=lbfgs, mlp__learning_rate=invscaling, mlp__max_iter=790 \n",
      "[CV]  mlp__activation=tanh, mlp__alpha=0.023193450592744275, mlp__hidden_layer_sizes=(126, 397, 56, 315, 256), mlp__solver=lbfgs, mlp__learning_rate=invscaling, mlp__max_iter=790, total=   3.4s\n",
      "[CV] mlp__activation=logistic, mlp__alpha=3.7374257423910643e-05, mlp__hidden_layer_sizes=(54, 182, 222, 442), mlp__solver=lbfgs, mlp__learning_rate=adaptive, mlp__max_iter=528 \n",
      "[CV]  mlp__activation=logistic, mlp__alpha=3.7374257423910643e-05, mlp__hidden_layer_sizes=(54, 182, 222, 442), mlp__solver=lbfgs, mlp__learning_rate=adaptive, mlp__max_iter=528, total=   2.1s\n",
      "[CV] mlp__activation=logistic, mlp__alpha=3.7374257423910643e-05, mlp__hidden_layer_sizes=(54, 182, 222, 442), mlp__solver=lbfgs, mlp__learning_rate=adaptive, mlp__max_iter=528 \n",
      "[CV]  mlp__activation=logistic, mlp__alpha=3.7374257423910643e-05, mlp__hidden_layer_sizes=(54, 182, 222, 442), mlp__solver=lbfgs, mlp__learning_rate=adaptive, mlp__max_iter=528, total=   2.3s\n",
      "[CV] mlp__activation=tanh, mlp__alpha=0.01429404533431761, mlp__hidden_layer_sizes=(279, 231), mlp__solver=lbfgs, mlp__learning_rate=invscaling, mlp__max_iter=935 \n"
     ]
    },
    {
     "name": "stderr",
     "output_type": "stream",
     "text": [
      "[Parallel(n_jobs=-1)]: Done  33 tasks      | elapsed:  7.1min\n"
     ]
    },
    {
     "name": "stdout",
     "output_type": "stream",
     "text": [
      "[CV]  mlp__activation=tanh, mlp__alpha=0.023193450592744275, mlp__hidden_layer_sizes=(126, 397, 56, 315, 256), mlp__solver=lbfgs, mlp__learning_rate=invscaling, mlp__max_iter=790, total=  14.9s\n",
      "[CV] mlp__activation=tanh, mlp__alpha=0.01429404533431761, mlp__hidden_layer_sizes=(279, 231), mlp__solver=lbfgs, mlp__learning_rate=invscaling, mlp__max_iter=935 \n",
      "[CV]  mlp__activation=tanh, mlp__alpha=0.01429404533431761, mlp__hidden_layer_sizes=(279, 231), mlp__solver=lbfgs, mlp__learning_rate=invscaling, mlp__max_iter=935, total=   3.5s\n",
      "[CV] mlp__activation=tanh, mlp__alpha=8.768856094587427e-05, mlp__hidden_layer_sizes=(244, 159, 198), mlp__solver=lbfgs, mlp__learning_rate=adaptive, mlp__max_iter=2229 \n",
      "[CV]  mlp__activation=tanh, mlp__alpha=0.01429404533431761, mlp__hidden_layer_sizes=(279, 231), mlp__solver=lbfgs, mlp__learning_rate=invscaling, mlp__max_iter=935, total=  14.0s\n",
      "[CV] mlp__activation=tanh, mlp__alpha=8.768856094587427e-05, mlp__hidden_layer_sizes=(244, 159, 198), mlp__solver=lbfgs, mlp__learning_rate=adaptive, mlp__max_iter=2229 \n",
      "[CV]  mlp__activation=tanh, mlp__alpha=8.768856094587427e-05, mlp__hidden_layer_sizes=(244, 159, 198), mlp__solver=lbfgs, mlp__learning_rate=adaptive, mlp__max_iter=2229, total=   4.4s\n",
      "[CV] mlp__activation=identity, mlp__alpha=0.008033501977124734, mlp__hidden_layer_sizes=(126, 397, 56, 315, 256), mlp__solver=lbfgs, mlp__learning_rate=constant, mlp__max_iter=1119 \n",
      "[CV]  mlp__activation=identity, mlp__alpha=0.008033501977124734, mlp__hidden_layer_sizes=(126, 397, 56, 315, 256), mlp__solver=lbfgs, mlp__learning_rate=constant, mlp__max_iter=1119, total=   2.9s\n",
      "[CV] mlp__activation=identity, mlp__alpha=0.008033501977124734, mlp__hidden_layer_sizes=(126, 397, 56, 315, 256), mlp__solver=lbfgs, mlp__learning_rate=constant, mlp__max_iter=1119 \n",
      "[CV]  mlp__activation=tanh, mlp__alpha=8.768856094587427e-05, mlp__hidden_layer_sizes=(244, 159, 198), mlp__solver=lbfgs, mlp__learning_rate=adaptive, mlp__max_iter=2229, total=   4.1s\n",
      "[CV] mlp__activation=logistic, mlp__alpha=1.4694918006248172, mlp__hidden_layer_sizes=(279, 231), mlp__solver=sgd, mlp__learning_rate=invscaling, mlp__max_iter=1688 \n",
      "[CV]  mlp__activation=identity, mlp__alpha=0.008033501977124734, mlp__hidden_layer_sizes=(126, 397, 56, 315, 256), mlp__solver=lbfgs, mlp__learning_rate=constant, mlp__max_iter=1119, total=   2.7s\n",
      "[CV] mlp__activation=logistic, mlp__alpha=1.4694918006248172, mlp__hidden_layer_sizes=(279, 231), mlp__solver=sgd, mlp__learning_rate=invscaling, mlp__max_iter=1688 \n",
      "[CV]  mlp__activation=logistic, mlp__alpha=1.4694918006248172, mlp__hidden_layer_sizes=(279, 231), mlp__solver=sgd, mlp__learning_rate=invscaling, mlp__max_iter=1688, total=  16.6s\n",
      "[CV] mlp__activation=logistic, mlp__alpha=724.2022334607316, mlp__hidden_layer_sizes=(54, 182, 222, 442), mlp__solver=adam, mlp__learning_rate=adaptive, mlp__max_iter=1202 \n",
      "[CV]  mlp__activation=logistic, mlp__alpha=1.4694918006248172, mlp__hidden_layer_sizes=(279, 231), mlp__solver=sgd, mlp__learning_rate=invscaling, mlp__max_iter=1688, total=  25.5s\n",
      "[CV] mlp__activation=logistic, mlp__alpha=724.2022334607316, mlp__hidden_layer_sizes=(54, 182, 222, 442), mlp__solver=adam, mlp__learning_rate=adaptive, mlp__max_iter=1202 \n",
      "[CV]  mlp__activation=logistic, mlp__alpha=724.2022334607316, mlp__hidden_layer_sizes=(54, 182, 222, 442), mlp__solver=adam, mlp__learning_rate=adaptive, mlp__max_iter=1202, total=  44.0s\n",
      "[CV] mlp__activation=logistic, mlp__alpha=5.777790117970507e-06, mlp__hidden_layer_sizes=(244, 159, 198), mlp__solver=lbfgs, mlp__learning_rate=invscaling, mlp__max_iter=2172 \n",
      "[CV]  mlp__activation=logistic, mlp__alpha=724.2022334607316, mlp__hidden_layer_sizes=(54, 182, 222, 442), mlp__solver=adam, mlp__learning_rate=adaptive, mlp__max_iter=1202, total=  33.7s\n",
      "[CV] mlp__activation=logistic, mlp__alpha=5.777790117970507e-06, mlp__hidden_layer_sizes=(244, 159, 198), mlp__solver=lbfgs, mlp__learning_rate=invscaling, mlp__max_iter=2172 \n",
      "[CV]  mlp__activation=logistic, mlp__alpha=5.777790117970507e-06, mlp__hidden_layer_sizes=(244, 159, 198), mlp__solver=lbfgs, mlp__learning_rate=invscaling, mlp__max_iter=2172, total=   2.2s\n",
      "[CV] mlp__activation=tanh, mlp__alpha=0.030583380323784316, mlp__hidden_layer_sizes=(54, 182, 222, 442), mlp__solver=lbfgs, mlp__learning_rate=invscaling, mlp__max_iter=4075 \n",
      "[CV]  mlp__activation=logistic, mlp__alpha=5.777790117970507e-06, mlp__hidden_layer_sizes=(244, 159, 198), mlp__solver=lbfgs, mlp__learning_rate=invscaling, mlp__max_iter=2172, total=   2.9s\n",
      "[CV] mlp__activation=tanh, mlp__alpha=0.030583380323784316, mlp__hidden_layer_sizes=(54, 182, 222, 442), mlp__solver=lbfgs, mlp__learning_rate=invscaling, mlp__max_iter=4075 \n",
      "[CV]  mlp__activation=tanh, mlp__alpha=0.030583380323784316, mlp__hidden_layer_sizes=(54, 182, 222, 442), mlp__solver=lbfgs, mlp__learning_rate=invscaling, mlp__max_iter=4075, total=   9.5s\n",
      "[CV]  mlp__activation=tanh, mlp__alpha=0.030583380323784316, mlp__hidden_layer_sizes=(54, 182, 222, 442), mlp__solver=lbfgs, mlp__learning_rate=invscaling, mlp__max_iter=4075, total=  12.4s\n"
     ]
    },
    {
     "name": "stderr",
     "output_type": "stream",
     "text": [
      "/home/loki/.local/lib/python2.7/site-packages/sklearn/neural_network/multilayer_perceptron.py:564: ConvergenceWarning: Stochastic Optimizer: Maximum iterations (4802) reached and the optimization hasn't converged yet.\n",
      "  % self.max_iter, ConvergenceWarning)\n"
     ]
    },
    {
     "name": "stdout",
     "output_type": "stream",
     "text": [
      "[CV]  mlp__activation=logistic, mlp__alpha=1.2505385872903914, mlp__hidden_layer_sizes=(126, 397, 56, 315, 256), mlp__solver=sgd, mlp__learning_rate=adaptive, mlp__max_iter=4802, total= 5.6min\n"
     ]
    },
    {
     "name": "stderr",
     "output_type": "stream",
     "text": [
      "/home/loki/.local/lib/python2.7/site-packages/sklearn/neural_network/multilayer_perceptron.py:564: ConvergenceWarning: Stochastic Optimizer: Maximum iterations (4802) reached and the optimization hasn't converged yet.\n",
      "  % self.max_iter, ConvergenceWarning)\n"
     ]
    },
    {
     "name": "stdout",
     "output_type": "stream",
     "text": [
      "[CV]  mlp__activation=logistic, mlp__alpha=1.2505385872903914, mlp__hidden_layer_sizes=(126, 397, 56, 315, 256), mlp__solver=sgd, mlp__learning_rate=adaptive, mlp__max_iter=4802, total= 5.6min\n"
     ]
    },
    {
     "name": "stderr",
     "output_type": "stream",
     "text": [
      "[Parallel(n_jobs=-1)]: Done  50 out of  50 | elapsed:  9.4min finished\n"
     ]
    },
    {
     "name": "stdout",
     "output_type": "stream",
     "text": [
      "Fitting 2 folds for each of 25 candidates, totalling 50 fits\n"
     ]
    },
    {
     "name": "stderr",
     "output_type": "stream",
     "text": [
      "/home/loki/.local/lib/python2.7/site-packages/sklearn/neural_network/multilayer_perceptron.py:564: ConvergenceWarning: Stochastic Optimizer: Maximum iterations (667) reached and the optimization hasn't converged yet.\n",
      "  % self.max_iter, ConvergenceWarning)\n",
      "/home/loki/.local/lib/python2.7/site-packages/sklearn/linear_model/sag.py:326: ConvergenceWarning: The max_iter was reached which means the coef_ did not converge\n",
      "  \"the coef_ did not converge\", ConvergenceWarning)\n",
      "/home/loki/.local/lib/python2.7/site-packages/sklearn/linear_model/sag.py:326: ConvergenceWarning: The max_iter was reached which means the coef_ did not converge\n",
      "  \"the coef_ did not converge\", ConvergenceWarning)\n",
      "/home/loki/.local/lib/python2.7/site-packages/sklearn/linear_model/sag.py:326: ConvergenceWarning: The max_iter was reached which means the coef_ did not converge\n",
      "  \"the coef_ did not converge\", ConvergenceWarning)\n",
      "[Parallel(n_jobs=-1)]: Done  50 out of  50 | elapsed:    4.1s finished\n",
      "/home/loki/.local/lib/python2.7/site-packages/sklearn/linear_model/sag.py:326: ConvergenceWarning: The max_iter was reached which means the coef_ did not converge\n",
      "  \"the coef_ did not converge\", ConvergenceWarning)\n"
     ]
    },
    {
     "name": "stdout",
     "output_type": "stream",
     "text": [
      "\n",
      "Score[mean]: 0.9\n",
      "From Baseline: 0.0%\n",
      "From LOG: -1.0%\n",
      "{'mlp__activation': 'identity', 'mlp__alpha': 158.19734815786015, 'mlp__hidden_layer_sizes': (54, 182, 222, 442), 'mlp__solver': 'sgd', 'mlp__learning_rate': 'constant', 'mlp__max_iter': 667}\n",
      "LOG Params:{'log__solver': 'saga', 'log__class_weight': 'balanced', 'log__max_iter': 732, 'log__C': 308.6664943337274}\n",
      "\n",
      "3-3_2\n",
      "Median Baseline: 0.5\n",
      "Mean Baseline: 0.88\n",
      "\n",
      "Fitting 2 folds for each of 25 candidates, totalling 50 fits\n",
      "[CV] mlp__activation=relu, mlp__alpha=0.017589165903277325, mlp__hidden_layer_sizes=(54, 182, 222, 442), mlp__solver=sgd, mlp__learning_rate=invscaling, mlp__max_iter=709 \n",
      "[CV] mlp__activation=relu, mlp__alpha=0.017589165903277325, mlp__hidden_layer_sizes=(54, 182, 222, 442), mlp__solver=sgd, mlp__learning_rate=invscaling, mlp__max_iter=709 \n",
      "[CV] mlp__activation=relu, mlp__alpha=0.01084014359178331, mlp__hidden_layer_sizes=(54, 182, 222, 442), mlp__solver=sgd, mlp__learning_rate=invscaling, mlp__max_iter=2546 \n",
      "[CV] mlp__activation=relu, mlp__alpha=0.01084014359178331, mlp__hidden_layer_sizes=(54, 182, 222, 442), mlp__solver=sgd, mlp__learning_rate=invscaling, mlp__max_iter=2546 \n",
      "[CV]  mlp__activation=relu, mlp__alpha=0.01084014359178331, mlp__hidden_layer_sizes=(54, 182, 222, 442), mlp__solver=sgd, mlp__learning_rate=invscaling, mlp__max_iter=2546, total=   0.3s\n",
      "[CV] mlp__activation=tanh, mlp__alpha=0.0006665363268124914, mlp__hidden_layer_sizes=(244, 159, 198), mlp__solver=sgd, mlp__learning_rate=constant, mlp__max_iter=1692 \n",
      "[CV]  mlp__activation=relu, mlp__alpha=0.017589165903277325, mlp__hidden_layer_sizes=(54, 182, 222, 442), mlp__solver=sgd, mlp__learning_rate=invscaling, mlp__max_iter=709, total=   0.4s\n",
      "[CV] mlp__activation=tanh, mlp__alpha=0.0006665363268124914, mlp__hidden_layer_sizes=(244, 159, 198), mlp__solver=sgd, mlp__learning_rate=constant, mlp__max_iter=1692 \n",
      "[CV]  mlp__activation=relu, mlp__alpha=0.017589165903277325, mlp__hidden_layer_sizes=(54, 182, 222, 442), mlp__solver=sgd, mlp__learning_rate=invscaling, mlp__max_iter=709, total=   0.5s\n",
      "[CV]  mlp__activation=relu, mlp__alpha=0.01084014359178331, mlp__hidden_layer_sizes=(54, 182, 222, 442), mlp__solver=sgd, mlp__learning_rate=invscaling, mlp__max_iter=2546, total=   0.4s\n",
      "[CV] mlp__activation=identity, mlp__alpha=0.0805203967082547, mlp__hidden_layer_sizes=(451,), mlp__solver=adam, mlp__learning_rate=adaptive, mlp__max_iter=4832 \n",
      "[CV] mlp__activation=identity, mlp__alpha=0.0805203967082547, mlp__hidden_layer_sizes=(451,), mlp__solver=adam, mlp__learning_rate=adaptive, mlp__max_iter=4832 \n",
      "[CV]  mlp__activation=identity, mlp__alpha=0.0805203967082547, mlp__hidden_layer_sizes=(451,), mlp__solver=adam, mlp__learning_rate=adaptive, mlp__max_iter=4832, total=  45.4s\n",
      "[CV] mlp__activation=logistic, mlp__alpha=436.15377892080056, mlp__hidden_layer_sizes=(451,), mlp__solver=adam, mlp__learning_rate=constant, mlp__max_iter=1729 \n",
      "[CV]  mlp__activation=identity, mlp__alpha=0.0805203967082547, mlp__hidden_layer_sizes=(451,), mlp__solver=adam, mlp__learning_rate=adaptive, mlp__max_iter=4832, total=  45.5s\n",
      "[CV] mlp__activation=logistic, mlp__alpha=436.15377892080056, mlp__hidden_layer_sizes=(451,), mlp__solver=adam, mlp__learning_rate=constant, mlp__max_iter=1729 \n",
      "[CV]  mlp__activation=logistic, mlp__alpha=436.15377892080056, mlp__hidden_layer_sizes=(451,), mlp__solver=adam, mlp__learning_rate=constant, mlp__max_iter=1729, total=  26.0s\n",
      "[CV] mlp__activation=identity, mlp__alpha=2.4625859163505443e-06, mlp__hidden_layer_sizes=(126, 397, 56, 315, 256), mlp__solver=adam, mlp__learning_rate=constant, mlp__max_iter=3135 \n",
      "[CV]  mlp__activation=logistic, mlp__alpha=436.15377892080056, mlp__hidden_layer_sizes=(451,), mlp__solver=adam, mlp__learning_rate=constant, mlp__max_iter=1729, total=  27.2s\n",
      "[CV] mlp__activation=identity, mlp__alpha=2.4625859163505443e-06, mlp__hidden_layer_sizes=(126, 397, 56, 315, 256), mlp__solver=adam, mlp__learning_rate=constant, mlp__max_iter=3135 \n",
      "[CV]  mlp__activation=identity, mlp__alpha=2.4625859163505443e-06, mlp__hidden_layer_sizes=(126, 397, 56, 315, 256), mlp__solver=adam, mlp__learning_rate=constant, mlp__max_iter=3135, total=   3.1s\n",
      "[CV] mlp__activation=identity, mlp__alpha=2.45691646298279e-07, mlp__hidden_layer_sizes=(244, 159, 198), mlp__solver=lbfgs, mlp__learning_rate=adaptive, mlp__max_iter=4160 \n",
      "[CV]  mlp__activation=identity, mlp__alpha=2.4625859163505443e-06, mlp__hidden_layer_sizes=(126, 397, 56, 315, 256), mlp__solver=adam, mlp__learning_rate=constant, mlp__max_iter=3135, total=   3.4s\n",
      "[CV] mlp__activation=identity, mlp__alpha=2.45691646298279e-07, mlp__hidden_layer_sizes=(244, 159, 198), mlp__solver=lbfgs, mlp__learning_rate=adaptive, mlp__max_iter=4160 \n",
      "[CV]  mlp__activation=identity, mlp__alpha=2.45691646298279e-07, mlp__hidden_layer_sizes=(244, 159, 198), mlp__solver=lbfgs, mlp__learning_rate=adaptive, mlp__max_iter=4160, total=   6.2s\n",
      "[CV] mlp__activation=logistic, mlp__alpha=3.292437333007769, mlp__hidden_layer_sizes=(451,), mlp__solver=sgd, mlp__learning_rate=invscaling, mlp__max_iter=4719 \n",
      "[CV]  mlp__activation=tanh, mlp__alpha=0.0006665363268124914, mlp__hidden_layer_sizes=(244, 159, 198), mlp__solver=sgd, mlp__learning_rate=constant, mlp__max_iter=1692, total= 1.4min\n",
      "[CV] mlp__activation=logistic, mlp__alpha=3.292437333007769, mlp__hidden_layer_sizes=(451,), mlp__solver=sgd, mlp__learning_rate=invscaling, mlp__max_iter=4719 \n",
      "[CV]  mlp__activation=identity, mlp__alpha=2.45691646298279e-07, mlp__hidden_layer_sizes=(244, 159, 198), mlp__solver=lbfgs, mlp__learning_rate=adaptive, mlp__max_iter=4160, total=   8.2s\n",
      "[CV] mlp__activation=relu, mlp__alpha=8.354528058382872e-06, mlp__hidden_layer_sizes=(451,), mlp__solver=sgd, mlp__learning_rate=invscaling, mlp__max_iter=2107 \n",
      "[CV]  mlp__activation=relu, mlp__alpha=8.354528058382872e-06, mlp__hidden_layer_sizes=(451,), mlp__solver=sgd, mlp__learning_rate=invscaling, mlp__max_iter=2107, total=   0.8s\n",
      "[CV] mlp__activation=relu, mlp__alpha=8.354528058382872e-06, mlp__hidden_layer_sizes=(451,), mlp__solver=sgd, mlp__learning_rate=invscaling, mlp__max_iter=2107 \n",
      "[CV]  mlp__activation=logistic, mlp__alpha=3.292437333007769, mlp__hidden_layer_sizes=(451,), mlp__solver=sgd, mlp__learning_rate=invscaling, mlp__max_iter=4719, total=   4.0s\n",
      "[CV] mlp__activation=relu, mlp__alpha=0.0024796728925021603, mlp__hidden_layer_sizes=(451,), mlp__solver=lbfgs, mlp__learning_rate=adaptive, mlp__max_iter=4873 \n",
      "[CV]  mlp__activation=relu, mlp__alpha=8.354528058382872e-06, mlp__hidden_layer_sizes=(451,), mlp__solver=sgd, mlp__learning_rate=invscaling, mlp__max_iter=2107, total=   0.7s\n",
      "[CV] mlp__activation=relu, mlp__alpha=0.0024796728925021603, mlp__hidden_layer_sizes=(451,), mlp__solver=lbfgs, mlp__learning_rate=adaptive, mlp__max_iter=4873 \n",
      "[CV]  mlp__activation=tanh, mlp__alpha=0.0006665363268124914, mlp__hidden_layer_sizes=(244, 159, 198), mlp__solver=sgd, mlp__learning_rate=constant, mlp__max_iter=1692, total= 1.5min\n",
      "[CV]  mlp__activation=logistic, mlp__alpha=3.292437333007769, mlp__hidden_layer_sizes=(451,), mlp__solver=sgd, mlp__learning_rate=invscaling, mlp__max_iter=4719, total=   6.3s\n",
      "[CV] mlp__activation=logistic, mlp__alpha=1.8082449348779517, mlp__hidden_layer_sizes=(279, 231), mlp__solver=lbfgs, mlp__learning_rate=adaptive, mlp__max_iter=4912 \n",
      "[CV] mlp__activation=logistic, mlp__alpha=1.8082449348779517, mlp__hidden_layer_sizes=(279, 231), mlp__solver=lbfgs, mlp__learning_rate=adaptive, mlp__max_iter=4912 \n",
      "[CV]  mlp__activation=relu, mlp__alpha=0.0024796728925021603, mlp__hidden_layer_sizes=(451,), mlp__solver=lbfgs, mlp__learning_rate=adaptive, mlp__max_iter=4873, total=   5.3s\n",
      "[CV] mlp__activation=tanh, mlp__alpha=21.794069843029583, mlp__hidden_layer_sizes=(54, 182, 222, 442), mlp__solver=adam, mlp__learning_rate=adaptive, mlp__max_iter=2933 \n",
      "[CV]  mlp__activation=relu, mlp__alpha=0.0024796728925021603, mlp__hidden_layer_sizes=(451,), mlp__solver=lbfgs, mlp__learning_rate=adaptive, mlp__max_iter=4873, total=   8.4s\n",
      "[CV] mlp__activation=tanh, mlp__alpha=21.794069843029583, mlp__hidden_layer_sizes=(54, 182, 222, 442), mlp__solver=adam, mlp__learning_rate=adaptive, mlp__max_iter=2933 \n",
      "[CV]  mlp__activation=logistic, mlp__alpha=1.8082449348779517, mlp__hidden_layer_sizes=(279, 231), mlp__solver=lbfgs, mlp__learning_rate=adaptive, mlp__max_iter=4912, total=  12.7s\n"
     ]
    },
    {
     "name": "stdout",
     "output_type": "stream",
     "text": [
      "[CV] mlp__activation=identity, mlp__alpha=0.07514081061116962, mlp__hidden_layer_sizes=(54, 182, 222, 442), mlp__solver=adam, mlp__learning_rate=invscaling, mlp__max_iter=2842 \n",
      "[CV]  mlp__activation=logistic, mlp__alpha=1.8082449348779517, mlp__hidden_layer_sizes=(279, 231), mlp__solver=lbfgs, mlp__learning_rate=adaptive, mlp__max_iter=4912, total=  17.7s\n",
      "[CV] mlp__activation=identity, mlp__alpha=0.07514081061116962, mlp__hidden_layer_sizes=(54, 182, 222, 442), mlp__solver=adam, mlp__learning_rate=invscaling, mlp__max_iter=2842 \n",
      "[CV]  mlp__activation=tanh, mlp__alpha=21.794069843029583, mlp__hidden_layer_sizes=(54, 182, 222, 442), mlp__solver=adam, mlp__learning_rate=adaptive, mlp__max_iter=2933, total=  27.4s\n",
      "[CV] mlp__activation=relu, mlp__alpha=3.528154115380883, mlp__hidden_layer_sizes=(54, 182, 222, 442), mlp__solver=adam, mlp__learning_rate=constant, mlp__max_iter=3253 \n",
      "[CV]  mlp__activation=tanh, mlp__alpha=21.794069843029583, mlp__hidden_layer_sizes=(54, 182, 222, 442), mlp__solver=adam, mlp__learning_rate=adaptive, mlp__max_iter=2933, total=  26.9s\n",
      "[CV] mlp__activation=relu, mlp__alpha=3.528154115380883, mlp__hidden_layer_sizes=(54, 182, 222, 442), mlp__solver=adam, mlp__learning_rate=constant, mlp__max_iter=3253 \n",
      "[CV]  mlp__activation=identity, mlp__alpha=0.07514081061116962, mlp__hidden_layer_sizes=(54, 182, 222, 442), mlp__solver=adam, mlp__learning_rate=invscaling, mlp__max_iter=2842, total=  28.4s\n",
      "[CV] mlp__activation=tanh, mlp__alpha=5.391774640387505e-06, mlp__hidden_layer_sizes=(244, 159, 198), mlp__solver=sgd, mlp__learning_rate=invscaling, mlp__max_iter=2967 \n",
      "[CV]  mlp__activation=tanh, mlp__alpha=5.391774640387505e-06, mlp__hidden_layer_sizes=(244, 159, 198), mlp__solver=sgd, mlp__learning_rate=invscaling, mlp__max_iter=2967, total=   1.1s\n",
      "[CV] mlp__activation=tanh, mlp__alpha=5.391774640387505e-06, mlp__hidden_layer_sizes=(244, 159, 198), mlp__solver=sgd, mlp__learning_rate=invscaling, mlp__max_iter=2967 \n",
      "[CV]  mlp__activation=tanh, mlp__alpha=5.391774640387505e-06, mlp__hidden_layer_sizes=(244, 159, 198), mlp__solver=sgd, mlp__learning_rate=invscaling, mlp__max_iter=2967, total=   1.1s\n",
      "[CV] mlp__activation=relu, mlp__alpha=7.97814457207663e-06, mlp__hidden_layer_sizes=(279, 231), mlp__solver=lbfgs, mlp__learning_rate=constant, mlp__max_iter=1989 \n",
      "[CV]  mlp__activation=identity, mlp__alpha=0.07514081061116962, mlp__hidden_layer_sizes=(54, 182, 222, 442), mlp__solver=adam, mlp__learning_rate=invscaling, mlp__max_iter=2842, total=  29.3s\n",
      "[CV] mlp__activation=relu, mlp__alpha=7.97814457207663e-06, mlp__hidden_layer_sizes=(279, 231), mlp__solver=lbfgs, mlp__learning_rate=constant, mlp__max_iter=1989 \n",
      "[CV]  mlp__activation=relu, mlp__alpha=7.97814457207663e-06, mlp__hidden_layer_sizes=(279, 231), mlp__solver=lbfgs, mlp__learning_rate=constant, mlp__max_iter=1989, total=   7.4s\n",
      "[CV] mlp__activation=relu, mlp__alpha=5.148867450137497e-06, mlp__hidden_layer_sizes=(451,), mlp__solver=adam, mlp__learning_rate=constant, mlp__max_iter=4685 \n",
      "[CV]  mlp__activation=relu, mlp__alpha=3.528154115380883, mlp__hidden_layer_sizes=(54, 182, 222, 442), mlp__solver=adam, mlp__learning_rate=constant, mlp__max_iter=3253, total=  21.5s\n",
      "[CV] mlp__activation=relu, mlp__alpha=5.148867450137497e-06, mlp__hidden_layer_sizes=(451,), mlp__solver=adam, mlp__learning_rate=constant, mlp__max_iter=4685 \n",
      "[CV]  mlp__activation=relu, mlp__alpha=7.97814457207663e-06, mlp__hidden_layer_sizes=(279, 231), mlp__solver=lbfgs, mlp__learning_rate=constant, mlp__max_iter=1989, total=   7.5s\n",
      "[CV] mlp__activation=identity, mlp__alpha=0.029205555121827452, mlp__hidden_layer_sizes=(54, 182, 222, 442), mlp__solver=lbfgs, mlp__learning_rate=constant, mlp__max_iter=3206 \n",
      "[CV]  mlp__activation=relu, mlp__alpha=3.528154115380883, mlp__hidden_layer_sizes=(54, 182, 222, 442), mlp__solver=adam, mlp__learning_rate=constant, mlp__max_iter=3253, total=  20.9s\n",
      "[CV] mlp__activation=identity, mlp__alpha=0.029205555121827452, mlp__hidden_layer_sizes=(54, 182, 222, 442), mlp__solver=lbfgs, mlp__learning_rate=constant, mlp__max_iter=3206 \n",
      "[CV]  mlp__activation=relu, mlp__alpha=5.148867450137497e-06, mlp__hidden_layer_sizes=(451,), mlp__solver=adam, mlp__learning_rate=constant, mlp__max_iter=4685, total=  15.9s\n",
      "[CV] mlp__activation=identity, mlp__alpha=0.0005172657387216019, mlp__hidden_layer_sizes=(54, 182, 222, 442), mlp__solver=adam, mlp__learning_rate=adaptive, mlp__max_iter=4028 \n"
     ]
    },
    {
     "name": "stderr",
     "output_type": "stream",
     "text": [
      "[Parallel(n_jobs=-1)]: Done  33 tasks      | elapsed:  2.6min\n"
     ]
    },
    {
     "name": "stdout",
     "output_type": "stream",
     "text": [
      "[CV]  mlp__activation=identity, mlp__alpha=0.0005172657387216019, mlp__hidden_layer_sizes=(54, 182, 222, 442), mlp__solver=adam, mlp__learning_rate=adaptive, mlp__max_iter=4028, total=   3.2s\n",
      "[CV] mlp__activation=identity, mlp__alpha=0.0005172657387216019, mlp__hidden_layer_sizes=(54, 182, 222, 442), mlp__solver=adam, mlp__learning_rate=adaptive, mlp__max_iter=4028 \n",
      "[CV]  mlp__activation=identity, mlp__alpha=0.0005172657387216019, mlp__hidden_layer_sizes=(54, 182, 222, 442), mlp__solver=adam, mlp__learning_rate=adaptive, mlp__max_iter=4028, total=   3.4s\n",
      "[CV] mlp__activation=relu, mlp__alpha=1.9966424501097934e-07, mlp__hidden_layer_sizes=(54, 182, 222, 442), mlp__solver=sgd, mlp__learning_rate=adaptive, mlp__max_iter=2388 \n",
      "[CV]  mlp__activation=relu, mlp__alpha=1.9966424501097934e-07, mlp__hidden_layer_sizes=(54, 182, 222, 442), mlp__solver=sgd, mlp__learning_rate=adaptive, mlp__max_iter=2388, total=   1.6s\n",
      "[CV] mlp__activation=relu, mlp__alpha=1.9966424501097934e-07, mlp__hidden_layer_sizes=(54, 182, 222, 442), mlp__solver=sgd, mlp__learning_rate=adaptive, mlp__max_iter=2388 \n",
      "[CV]  mlp__activation=relu, mlp__alpha=1.9966424501097934e-07, mlp__hidden_layer_sizes=(54, 182, 222, 442), mlp__solver=sgd, mlp__learning_rate=adaptive, mlp__max_iter=2388, total=   1.6s\n",
      "[CV] mlp__activation=tanh, mlp__alpha=39.68246104569486, mlp__hidden_layer_sizes=(54, 182, 222, 442), mlp__solver=lbfgs, mlp__learning_rate=constant, mlp__max_iter=1688 \n",
      "[CV]  mlp__activation=tanh, mlp__alpha=39.68246104569486, mlp__hidden_layer_sizes=(54, 182, 222, 442), mlp__solver=lbfgs, mlp__learning_rate=constant, mlp__max_iter=1688, total=   3.1s\n",
      "[CV] mlp__activation=tanh, mlp__alpha=39.68246104569486, mlp__hidden_layer_sizes=(54, 182, 222, 442), mlp__solver=lbfgs, mlp__learning_rate=constant, mlp__max_iter=1688 \n",
      "[CV]  mlp__activation=relu, mlp__alpha=5.148867450137497e-06, mlp__hidden_layer_sizes=(451,), mlp__solver=adam, mlp__learning_rate=constant, mlp__max_iter=4685, total=  31.5s\n",
      "[CV] mlp__activation=tanh, mlp__alpha=131.55856240457052, mlp__hidden_layer_sizes=(54, 182, 222, 442), mlp__solver=lbfgs, mlp__learning_rate=adaptive, mlp__max_iter=3114 \n",
      "[CV]  mlp__activation=tanh, mlp__alpha=39.68246104569486, mlp__hidden_layer_sizes=(54, 182, 222, 442), mlp__solver=lbfgs, mlp__learning_rate=constant, mlp__max_iter=1688, total=   2.5s\n",
      "[CV] mlp__activation=tanh, mlp__alpha=131.55856240457052, mlp__hidden_layer_sizes=(54, 182, 222, 442), mlp__solver=lbfgs, mlp__learning_rate=adaptive, mlp__max_iter=3114 \n",
      "[CV]  mlp__activation=tanh, mlp__alpha=131.55856240457052, mlp__hidden_layer_sizes=(54, 182, 222, 442), mlp__solver=lbfgs, mlp__learning_rate=adaptive, mlp__max_iter=3114, total=   2.6s\n",
      "[CV] mlp__activation=tanh, mlp__alpha=4.598992090522438e-05, mlp__hidden_layer_sizes=(244, 159, 198), mlp__solver=adam, mlp__learning_rate=invscaling, mlp__max_iter=653 \n",
      "[CV]  mlp__activation=tanh, mlp__alpha=131.55856240457052, mlp__hidden_layer_sizes=(54, 182, 222, 442), mlp__solver=lbfgs, mlp__learning_rate=adaptive, mlp__max_iter=3114, total=   2.5s\n",
      "[CV] mlp__activation=tanh, mlp__alpha=4.598992090522438e-05, mlp__hidden_layer_sizes=(244, 159, 198), mlp__solver=adam, mlp__learning_rate=invscaling, mlp__max_iter=653 \n",
      "[CV]  mlp__activation=tanh, mlp__alpha=4.598992090522438e-05, mlp__hidden_layer_sizes=(244, 159, 198), mlp__solver=adam, mlp__learning_rate=invscaling, mlp__max_iter=653, total=   5.6s\n",
      "[CV] mlp__activation=tanh, mlp__alpha=524.4688749495119, mlp__hidden_layer_sizes=(54, 182, 222, 442), mlp__solver=lbfgs, mlp__learning_rate=invscaling, mlp__max_iter=1413 \n",
      "[CV]  mlp__activation=tanh, mlp__alpha=524.4688749495119, mlp__hidden_layer_sizes=(54, 182, 222, 442), mlp__solver=lbfgs, mlp__learning_rate=invscaling, mlp__max_iter=1413, total=   2.5s\n",
      "[CV] mlp__activation=tanh, mlp__alpha=524.4688749495119, mlp__hidden_layer_sizes=(54, 182, 222, 442), mlp__solver=lbfgs, mlp__learning_rate=invscaling, mlp__max_iter=1413 \n",
      "[CV]  mlp__activation=tanh, mlp__alpha=4.598992090522438e-05, mlp__hidden_layer_sizes=(244, 159, 198), mlp__solver=adam, mlp__learning_rate=invscaling, mlp__max_iter=653, total=   6.4s\n",
      "[CV] mlp__activation=tanh, mlp__alpha=0.0001633853877809862, mlp__hidden_layer_sizes=(244, 159, 198), mlp__solver=adam, mlp__learning_rate=invscaling, mlp__max_iter=2346 \n",
      "[CV]  mlp__activation=tanh, mlp__alpha=524.4688749495119, mlp__hidden_layer_sizes=(54, 182, 222, 442), mlp__solver=lbfgs, mlp__learning_rate=invscaling, mlp__max_iter=1413, total=   2.8s\n",
      "[CV] mlp__activation=tanh, mlp__alpha=0.0001633853877809862, mlp__hidden_layer_sizes=(244, 159, 198), mlp__solver=adam, mlp__learning_rate=invscaling, mlp__max_iter=2346 \n",
      "[CV]  mlp__activation=identity, mlp__alpha=0.029205555121827452, mlp__hidden_layer_sizes=(54, 182, 222, 442), mlp__solver=lbfgs, mlp__learning_rate=constant, mlp__max_iter=3206, total=  42.8s\n",
      "[CV]  mlp__activation=tanh, mlp__alpha=0.0001633853877809862, mlp__hidden_layer_sizes=(244, 159, 198), mlp__solver=adam, mlp__learning_rate=invscaling, mlp__max_iter=2346, total=   4.4s\n",
      "[CV]  mlp__activation=tanh, mlp__alpha=0.0001633853877809862, mlp__hidden_layer_sizes=(244, 159, 198), mlp__solver=adam, mlp__learning_rate=invscaling, mlp__max_iter=2346, total=   4.3s\n",
      "[CV]  mlp__activation=identity, mlp__alpha=0.029205555121827452, mlp__hidden_layer_sizes=(54, 182, 222, 442), mlp__solver=lbfgs, mlp__learning_rate=constant, mlp__max_iter=3206, total=  49.1s\n"
     ]
    },
    {
     "name": "stderr",
     "output_type": "stream",
     "text": [
      "[Parallel(n_jobs=-1)]: Done  50 out of  50 | elapsed:  3.2min finished\n"
     ]
    },
    {
     "name": "stdout",
     "output_type": "stream",
     "text": [
      "Fitting 2 folds for each of 25 candidates, totalling 50 fits\n",
      "\n",
      "Score[median]: 0.5\n",
      "From Baseline: 0.0%\n",
      "From LOG: -20.0%\n",
      "{'mlp__activation': 'logistic', 'mlp__alpha': 3.292437333007769, 'mlp__hidden_layer_sizes': (451,), 'mlp__solver': 'sgd', 'mlp__learning_rate': 'invscaling', 'mlp__max_iter': 4719}\n",
      "LOG Params:{'log__solver': 'newton-cg', 'log__class_weight': 'balanced', 'log__max_iter': 3500, 'log__C': 0.8070620141149507}\n",
      "Fitting 2 folds for each of 25 candidates, totalling 50 fits\n"
     ]
    },
    {
     "name": "stderr",
     "output_type": "stream",
     "text": [
      "[Parallel(n_jobs=-1)]: Done  50 out of  50 | elapsed:    2.7s finished\n"
     ]
    },
    {
     "name": "stdout",
     "output_type": "stream",
     "text": [
      "[CV] mlp__activation=tanh, mlp__alpha=4.341478330055092, mlp__hidden_layer_sizes=(54, 182, 222, 442), mlp__solver=sgd, mlp__learning_rate=invscaling, mlp__max_iter=3636 \n",
      "[CV] mlp__activation=tanh, mlp__alpha=4.341478330055092, mlp__hidden_layer_sizes=(54, 182, 222, 442), mlp__solver=sgd, mlp__learning_rate=invscaling, mlp__max_iter=3636 \n",
      "[CV] mlp__activation=identity, mlp__alpha=73.93819919175873, mlp__hidden_layer_sizes=(279, 231), mlp__solver=sgd, mlp__learning_rate=invscaling, mlp__max_iter=3318 \n",
      "[CV] mlp__activation=identity, mlp__alpha=73.93819919175873, mlp__hidden_layer_sizes=(279, 231), mlp__solver=sgd, mlp__learning_rate=invscaling, mlp__max_iter=3318 \n",
      "[CV]  mlp__activation=tanh, mlp__alpha=4.341478330055092, mlp__hidden_layer_sizes=(54, 182, 222, 442), mlp__solver=sgd, mlp__learning_rate=invscaling, mlp__max_iter=3636, total= 1.3min\n",
      "[CV] mlp__activation=relu, mlp__alpha=2.5258200269627848e-05, mlp__hidden_layer_sizes=(54, 182, 222, 442), mlp__solver=sgd, mlp__learning_rate=constant, mlp__max_iter=4209 \n",
      "[CV]  mlp__activation=tanh, mlp__alpha=4.341478330055092, mlp__hidden_layer_sizes=(54, 182, 222, 442), mlp__solver=sgd, mlp__learning_rate=invscaling, mlp__max_iter=3636, total= 1.4min\n",
      "[CV] mlp__activation=relu, mlp__alpha=2.5258200269627848e-05, mlp__hidden_layer_sizes=(54, 182, 222, 442), mlp__solver=sgd, mlp__learning_rate=constant, mlp__max_iter=4209 \n",
      "[CV]  mlp__activation=relu, mlp__alpha=2.5258200269627848e-05, mlp__hidden_layer_sizes=(54, 182, 222, 442), mlp__solver=sgd, mlp__learning_rate=constant, mlp__max_iter=4209, total=  17.0s\n",
      "[CV] mlp__activation=relu, mlp__alpha=2.5258200269627848e-05, mlp__hidden_layer_sizes=(279, 231), mlp__solver=sgd, mlp__learning_rate=invscaling, mlp__max_iter=3821 \n",
      "[CV]  mlp__activation=relu, mlp__alpha=2.5258200269627848e-05, mlp__hidden_layer_sizes=(279, 231), mlp__solver=sgd, mlp__learning_rate=invscaling, mlp__max_iter=3821, total=   4.7s\n",
      "[CV] mlp__activation=relu, mlp__alpha=2.5258200269627848e-05, mlp__hidden_layer_sizes=(279, 231), mlp__solver=sgd, mlp__learning_rate=invscaling, mlp__max_iter=3821 \n",
      "[CV]  mlp__activation=relu, mlp__alpha=2.5258200269627848e-05, mlp__hidden_layer_sizes=(54, 182, 222, 442), mlp__solver=sgd, mlp__learning_rate=constant, mlp__max_iter=4209, total=  19.4s\n",
      "[CV] mlp__activation=relu, mlp__alpha=2.496878428884327, mlp__hidden_layer_sizes=(126, 397, 56, 315, 256), mlp__solver=lbfgs, mlp__learning_rate=invscaling, mlp__max_iter=4731 \n",
      "[CV]  mlp__activation=relu, mlp__alpha=2.5258200269627848e-05, mlp__hidden_layer_sizes=(279, 231), mlp__solver=sgd, mlp__learning_rate=invscaling, mlp__max_iter=3821, total=   4.5s\n",
      "[CV] mlp__activation=relu, mlp__alpha=2.496878428884327, mlp__hidden_layer_sizes=(126, 397, 56, 315, 256), mlp__solver=lbfgs, mlp__learning_rate=invscaling, mlp__max_iter=4731 \n",
      "[CV]  mlp__activation=relu, mlp__alpha=2.496878428884327, mlp__hidden_layer_sizes=(126, 397, 56, 315, 256), mlp__solver=lbfgs, mlp__learning_rate=invscaling, mlp__max_iter=4731, total=  19.1s\n",
      "[CV] mlp__activation=logistic, mlp__alpha=0.00023625084654779475, mlp__hidden_layer_sizes=(451,), mlp__solver=lbfgs, mlp__learning_rate=adaptive, mlp__max_iter=733 \n",
      "[CV]  mlp__activation=relu, mlp__alpha=2.496878428884327, mlp__hidden_layer_sizes=(126, 397, 56, 315, 256), mlp__solver=lbfgs, mlp__learning_rate=invscaling, mlp__max_iter=4731, total=  23.4s\n",
      "[CV] mlp__activation=logistic, mlp__alpha=0.00023625084654779475, mlp__hidden_layer_sizes=(451,), mlp__solver=lbfgs, mlp__learning_rate=adaptive, mlp__max_iter=733 \n",
      "[CV]  mlp__activation=logistic, mlp__alpha=0.00023625084654779475, mlp__hidden_layer_sizes=(451,), mlp__solver=lbfgs, mlp__learning_rate=adaptive, mlp__max_iter=733, total=  14.1s\n",
      "[CV] mlp__activation=identity, mlp__alpha=6.050367879391224e-06, mlp__hidden_layer_sizes=(54, 182, 222, 442), mlp__solver=lbfgs, mlp__learning_rate=adaptive, mlp__max_iter=749 \n",
      "[CV]  mlp__activation=identity, mlp__alpha=6.050367879391224e-06, mlp__hidden_layer_sizes=(54, 182, 222, 442), mlp__solver=lbfgs, mlp__learning_rate=adaptive, mlp__max_iter=749, total=   5.2s\n",
      "[CV] mlp__activation=identity, mlp__alpha=6.050367879391224e-06, mlp__hidden_layer_sizes=(54, 182, 222, 442), mlp__solver=lbfgs, mlp__learning_rate=adaptive, mlp__max_iter=749 \n",
      "[CV]  mlp__activation=identity, mlp__alpha=6.050367879391224e-06, mlp__hidden_layer_sizes=(54, 182, 222, 442), mlp__solver=lbfgs, mlp__learning_rate=adaptive, mlp__max_iter=749, total=   2.2s\n",
      "[CV] mlp__activation=relu, mlp__alpha=0.8451366330684722, mlp__hidden_layer_sizes=(54, 182, 222, 442), mlp__solver=adam, mlp__learning_rate=adaptive, mlp__max_iter=1391 \n",
      "[CV]  mlp__activation=logistic, mlp__alpha=0.00023625084654779475, mlp__hidden_layer_sizes=(451,), mlp__solver=lbfgs, mlp__learning_rate=adaptive, mlp__max_iter=733, total=  16.9s\n",
      "[CV] mlp__activation=relu, mlp__alpha=0.8451366330684722, mlp__hidden_layer_sizes=(54, 182, 222, 442), mlp__solver=adam, mlp__learning_rate=adaptive, mlp__max_iter=1391 \n",
      "[CV]  mlp__activation=relu, mlp__alpha=0.8451366330684722, mlp__hidden_layer_sizes=(54, 182, 222, 442), mlp__solver=adam, mlp__learning_rate=adaptive, mlp__max_iter=1391, total=  22.1s\n",
      "[CV] mlp__activation=relu, mlp__alpha=33.76980310825095, mlp__hidden_layer_sizes=(126, 397, 56, 315, 256), mlp__solver=adam, mlp__learning_rate=invscaling, mlp__max_iter=1040 \n",
      "[CV]  mlp__activation=relu, mlp__alpha=0.8451366330684722, mlp__hidden_layer_sizes=(54, 182, 222, 442), mlp__solver=adam, mlp__learning_rate=adaptive, mlp__max_iter=1391, total=  25.0s\n",
      "[CV] mlp__activation=relu, mlp__alpha=33.76980310825095, mlp__hidden_layer_sizes=(126, 397, 56, 315, 256), mlp__solver=adam, mlp__learning_rate=invscaling, mlp__max_iter=1040 \n",
      "[CV]  mlp__activation=relu, mlp__alpha=33.76980310825095, mlp__hidden_layer_sizes=(126, 397, 56, 315, 256), mlp__solver=adam, mlp__learning_rate=invscaling, mlp__max_iter=1040, total= 1.0min\n",
      "[CV] mlp__activation=identity, mlp__alpha=9.39664831495469e-05, mlp__hidden_layer_sizes=(126, 397, 56, 315, 256), mlp__solver=adam, mlp__learning_rate=adaptive, mlp__max_iter=1592 \n",
      "[CV]  mlp__activation=identity, mlp__alpha=9.39664831495469e-05, mlp__hidden_layer_sizes=(126, 397, 56, 315, 256), mlp__solver=adam, mlp__learning_rate=adaptive, mlp__max_iter=1592, total=   1.8s\n",
      "[CV] mlp__activation=identity, mlp__alpha=9.39664831495469e-05, mlp__hidden_layer_sizes=(126, 397, 56, 315, 256), mlp__solver=adam, mlp__learning_rate=adaptive, mlp__max_iter=1592 \n",
      "[CV]  mlp__activation=relu, mlp__alpha=33.76980310825095, mlp__hidden_layer_sizes=(126, 397, 56, 315, 256), mlp__solver=adam, mlp__learning_rate=invscaling, mlp__max_iter=1040, total=  58.3s\n",
      "[CV] mlp__activation=relu, mlp__alpha=3.0232946844057763e-07, mlp__hidden_layer_sizes=(126, 397, 56, 315, 256), mlp__solver=sgd, mlp__learning_rate=constant, mlp__max_iter=1043 \n",
      "[CV]  mlp__activation=identity, mlp__alpha=9.39664831495469e-05, mlp__hidden_layer_sizes=(126, 397, 56, 315, 256), mlp__solver=adam, mlp__learning_rate=adaptive, mlp__max_iter=1592, total=   2.6s\n",
      "[CV] mlp__activation=relu, mlp__alpha=3.0232946844057763e-07, mlp__hidden_layer_sizes=(126, 397, 56, 315, 256), mlp__solver=sgd, mlp__learning_rate=constant, mlp__max_iter=1043 \n",
      "[CV]  mlp__activation=relu, mlp__alpha=3.0232946844057763e-07, mlp__hidden_layer_sizes=(126, 397, 56, 315, 256), mlp__solver=sgd, mlp__learning_rate=constant, mlp__max_iter=1043, total=  22.9s\n",
      "[CV] mlp__activation=identity, mlp__alpha=6.634708121092351e-06, mlp__hidden_layer_sizes=(279, 231), mlp__solver=adam, mlp__learning_rate=invscaling, mlp__max_iter=540 \n",
      "[CV]  mlp__activation=relu, mlp__alpha=3.0232946844057763e-07, mlp__hidden_layer_sizes=(126, 397, 56, 315, 256), mlp__solver=sgd, mlp__learning_rate=constant, mlp__max_iter=1043, total=  22.9s\n",
      "[CV] mlp__activation=identity, mlp__alpha=6.634708121092351e-06, mlp__hidden_layer_sizes=(279, 231), mlp__solver=adam, mlp__learning_rate=invscaling, mlp__max_iter=540 \n",
      "[CV]  mlp__activation=identity, mlp__alpha=6.634708121092351e-06, mlp__hidden_layer_sizes=(279, 231), mlp__solver=adam, mlp__learning_rate=invscaling, mlp__max_iter=540, total=   3.2s\n",
      "[CV] mlp__activation=relu, mlp__alpha=0.0009203731996618221, mlp__hidden_layer_sizes=(126, 397, 56, 315, 256), mlp__solver=sgd, mlp__learning_rate=invscaling, mlp__max_iter=4077 \n"
     ]
    },
    {
     "name": "stdout",
     "output_type": "stream",
     "text": [
      "[CV]  mlp__activation=identity, mlp__alpha=6.634708121092351e-06, mlp__hidden_layer_sizes=(279, 231), mlp__solver=adam, mlp__learning_rate=invscaling, mlp__max_iter=540, total=   3.3s\n",
      "[CV] mlp__activation=relu, mlp__alpha=0.0009203731996618221, mlp__hidden_layer_sizes=(126, 397, 56, 315, 256), mlp__solver=sgd, mlp__learning_rate=invscaling, mlp__max_iter=4077 \n",
      "[CV]  mlp__activation=relu, mlp__alpha=0.0009203731996618221, mlp__hidden_layer_sizes=(126, 397, 56, 315, 256), mlp__solver=sgd, mlp__learning_rate=invscaling, mlp__max_iter=4077, total=  10.0s\n",
      "[CV] mlp__activation=relu, mlp__alpha=3.3152823423194235e-07, mlp__hidden_layer_sizes=(54, 182, 222, 442), mlp__solver=sgd, mlp__learning_rate=constant, mlp__max_iter=834 \n",
      "[CV]  mlp__activation=relu, mlp__alpha=0.0009203731996618221, mlp__hidden_layer_sizes=(126, 397, 56, 315, 256), mlp__solver=sgd, mlp__learning_rate=invscaling, mlp__max_iter=4077, total=   9.4s\n",
      "[CV] mlp__activation=relu, mlp__alpha=3.3152823423194235e-07, mlp__hidden_layer_sizes=(54, 182, 222, 442), mlp__solver=sgd, mlp__learning_rate=constant, mlp__max_iter=834 \n",
      "[CV]  mlp__activation=relu, mlp__alpha=3.3152823423194235e-07, mlp__hidden_layer_sizes=(54, 182, 222, 442), mlp__solver=sgd, mlp__learning_rate=constant, mlp__max_iter=834, total=  16.5s\n",
      "[CV] mlp__activation=tanh, mlp__alpha=15.072253093107586, mlp__hidden_layer_sizes=(279, 231), mlp__solver=lbfgs, mlp__learning_rate=adaptive, mlp__max_iter=2730 \n",
      "[CV]  mlp__activation=relu, mlp__alpha=3.3152823423194235e-07, mlp__hidden_layer_sizes=(54, 182, 222, 442), mlp__solver=sgd, mlp__learning_rate=constant, mlp__max_iter=834, total=  17.1s\n",
      "[CV] mlp__activation=tanh, mlp__alpha=15.072253093107586, mlp__hidden_layer_sizes=(279, 231), mlp__solver=lbfgs, mlp__learning_rate=adaptive, mlp__max_iter=2730 \n",
      "[CV]  mlp__activation=tanh, mlp__alpha=15.072253093107586, mlp__hidden_layer_sizes=(279, 231), mlp__solver=lbfgs, mlp__learning_rate=adaptive, mlp__max_iter=2730, total=   8.7s\n",
      "[CV] mlp__activation=identity, mlp__alpha=0.06696160054853216, mlp__hidden_layer_sizes=(244, 159, 198), mlp__solver=adam, mlp__learning_rate=adaptive, mlp__max_iter=4446 \n",
      "[CV]  mlp__activation=tanh, mlp__alpha=15.072253093107586, mlp__hidden_layer_sizes=(279, 231), mlp__solver=lbfgs, mlp__learning_rate=adaptive, mlp__max_iter=2730, total=  10.4s\n",
      "[CV] mlp__activation=identity, mlp__alpha=0.06696160054853216, mlp__hidden_layer_sizes=(244, 159, 198), mlp__solver=adam, mlp__learning_rate=adaptive, mlp__max_iter=4446 \n"
     ]
    },
    {
     "name": "stderr",
     "output_type": "stream",
     "text": [
      "/home/loki/.local/lib/python2.7/site-packages/sklearn/neural_network/multilayer_perceptron.py:564: ConvergenceWarning: Stochastic Optimizer: Maximum iterations (3318) reached and the optimization hasn't converged yet.\n",
      "  % self.max_iter, ConvergenceWarning)\n"
     ]
    },
    {
     "name": "stdout",
     "output_type": "stream",
     "text": [
      "[CV]  mlp__activation=identity, mlp__alpha=73.93819919175873, mlp__hidden_layer_sizes=(279, 231), mlp__solver=sgd, mlp__learning_rate=invscaling, mlp__max_iter=3318, total= 5.5min\n",
      "[CV] mlp__activation=logistic, mlp__alpha=0.03940901640403448, mlp__hidden_layer_sizes=(126, 397, 56, 315, 256), mlp__solver=adam, mlp__learning_rate=constant, mlp__max_iter=3118 \n",
      "[CV]  mlp__activation=logistic, mlp__alpha=0.03940901640403448, mlp__hidden_layer_sizes=(126, 397, 56, 315, 256), mlp__solver=adam, mlp__learning_rate=constant, mlp__max_iter=3118, total=   1.6s\n",
      "[CV] mlp__activation=logistic, mlp__alpha=0.03940901640403448, mlp__hidden_layer_sizes=(126, 397, 56, 315, 256), mlp__solver=adam, mlp__learning_rate=constant, mlp__max_iter=3118 \n"
     ]
    },
    {
     "name": "stderr",
     "output_type": "stream",
     "text": [
      "/home/loki/.local/lib/python2.7/site-packages/sklearn/neural_network/multilayer_perceptron.py:564: ConvergenceWarning: Stochastic Optimizer: Maximum iterations (3318) reached and the optimization hasn't converged yet.\n",
      "  % self.max_iter, ConvergenceWarning)\n"
     ]
    },
    {
     "name": "stdout",
     "output_type": "stream",
     "text": [
      "[CV]  mlp__activation=identity, mlp__alpha=73.93819919175873, mlp__hidden_layer_sizes=(279, 231), mlp__solver=sgd, mlp__learning_rate=invscaling, mlp__max_iter=3318, total= 5.6min\n",
      "[CV] mlp__activation=identity, mlp__alpha=388.6776690892668, mlp__hidden_layer_sizes=(244, 159, 198), mlp__solver=adam, mlp__learning_rate=invscaling, mlp__max_iter=4013 \n",
      "[CV]  mlp__activation=logistic, mlp__alpha=0.03940901640403448, mlp__hidden_layer_sizes=(126, 397, 56, 315, 256), mlp__solver=adam, mlp__learning_rate=constant, mlp__max_iter=3118, total=   1.8s\n",
      "[CV] mlp__activation=identity, mlp__alpha=388.6776690892668, mlp__hidden_layer_sizes=(244, 159, 198), mlp__solver=adam, mlp__learning_rate=invscaling, mlp__max_iter=4013 \n",
      "[CV]  mlp__activation=identity, mlp__alpha=0.06696160054853216, mlp__hidden_layer_sizes=(244, 159, 198), mlp__solver=adam, mlp__learning_rate=adaptive, mlp__max_iter=4446, total=  48.6s\n",
      "[CV] mlp__activation=tanh, mlp__alpha=0.00011299339380332217, mlp__hidden_layer_sizes=(126, 397, 56, 315, 256), mlp__solver=adam, mlp__learning_rate=adaptive, mlp__max_iter=2079 \n"
     ]
    },
    {
     "name": "stderr",
     "output_type": "stream",
     "text": [
      "[Parallel(n_jobs=-1)]: Done  33 tasks      | elapsed:  5.7min\n"
     ]
    },
    {
     "name": "stdout",
     "output_type": "stream",
     "text": [
      "[CV]  mlp__activation=tanh, mlp__alpha=0.00011299339380332217, mlp__hidden_layer_sizes=(126, 397, 56, 315, 256), mlp__solver=adam, mlp__learning_rate=adaptive, mlp__max_iter=2079, total=   2.2s\n",
      "[CV] mlp__activation=tanh, mlp__alpha=0.00011299339380332217, mlp__hidden_layer_sizes=(126, 397, 56, 315, 256), mlp__solver=adam, mlp__learning_rate=adaptive, mlp__max_iter=2079 \n",
      "[CV]  mlp__activation=identity, mlp__alpha=0.06696160054853216, mlp__hidden_layer_sizes=(244, 159, 198), mlp__solver=adam, mlp__learning_rate=adaptive, mlp__max_iter=4446, total=  49.6s\n",
      "[CV] mlp__activation=identity, mlp__alpha=0.019737643263002553, mlp__hidden_layer_sizes=(126, 397, 56, 315, 256), mlp__solver=sgd, mlp__learning_rate=adaptive, mlp__max_iter=1017 \n",
      "[CV]  mlp__activation=tanh, mlp__alpha=0.00011299339380332217, mlp__hidden_layer_sizes=(126, 397, 56, 315, 256), mlp__solver=adam, mlp__learning_rate=adaptive, mlp__max_iter=2079, total=   2.9s\n",
      "[CV] mlp__activation=identity, mlp__alpha=0.019737643263002553, mlp__hidden_layer_sizes=(126, 397, 56, 315, 256), mlp__solver=sgd, mlp__learning_rate=adaptive, mlp__max_iter=1017 \n",
      "[CV]  mlp__activation=identity, mlp__alpha=0.019737643263002553, mlp__hidden_layer_sizes=(126, 397, 56, 315, 256), mlp__solver=sgd, mlp__learning_rate=adaptive, mlp__max_iter=1017, total=  49.5s\n",
      "[CV] mlp__activation=identity, mlp__alpha=354.44556739704353, mlp__hidden_layer_sizes=(54, 182, 222, 442), mlp__solver=lbfgs, mlp__learning_rate=invscaling, mlp__max_iter=1052 \n",
      "[CV]  mlp__activation=identity, mlp__alpha=0.019737643263002553, mlp__hidden_layer_sizes=(126, 397, 56, 315, 256), mlp__solver=sgd, mlp__learning_rate=adaptive, mlp__max_iter=1017, total=  47.4s\n",
      "[CV] mlp__activation=identity, mlp__alpha=354.44556739704353, mlp__hidden_layer_sizes=(54, 182, 222, 442), mlp__solver=lbfgs, mlp__learning_rate=invscaling, mlp__max_iter=1052 \n",
      "[CV]  mlp__activation=identity, mlp__alpha=354.44556739704353, mlp__hidden_layer_sizes=(54, 182, 222, 442), mlp__solver=lbfgs, mlp__learning_rate=invscaling, mlp__max_iter=1052, total=   3.5s\n",
      "[CV] mlp__activation=tanh, mlp__alpha=0.00012108297502320394, mlp__hidden_layer_sizes=(279, 231), mlp__solver=adam, mlp__learning_rate=constant, mlp__max_iter=2650 \n",
      "[CV]  mlp__activation=identity, mlp__alpha=354.44556739704353, mlp__hidden_layer_sizes=(54, 182, 222, 442), mlp__solver=lbfgs, mlp__learning_rate=invscaling, mlp__max_iter=1052, total=   4.4s\n",
      "[CV] mlp__activation=tanh, mlp__alpha=0.00012108297502320394, mlp__hidden_layer_sizes=(279, 231), mlp__solver=adam, mlp__learning_rate=constant, mlp__max_iter=2650 \n",
      "[CV]  mlp__activation=tanh, mlp__alpha=0.00012108297502320394, mlp__hidden_layer_sizes=(279, 231), mlp__solver=adam, mlp__learning_rate=constant, mlp__max_iter=2650, total=   3.9s\n",
      "[CV] mlp__activation=identity, mlp__alpha=11.43031129114481, mlp__hidden_layer_sizes=(244, 159, 198), mlp__solver=lbfgs, mlp__learning_rate=invscaling, mlp__max_iter=956 \n",
      "[CV]  mlp__activation=tanh, mlp__alpha=0.00012108297502320394, mlp__hidden_layer_sizes=(279, 231), mlp__solver=adam, mlp__learning_rate=constant, mlp__max_iter=2650, total=   3.3s\n",
      "[CV] mlp__activation=identity, mlp__alpha=11.43031129114481, mlp__hidden_layer_sizes=(244, 159, 198), mlp__solver=lbfgs, mlp__learning_rate=invscaling, mlp__max_iter=956 \n",
      "[CV]  mlp__activation=identity, mlp__alpha=11.43031129114481, mlp__hidden_layer_sizes=(244, 159, 198), mlp__solver=lbfgs, mlp__learning_rate=invscaling, mlp__max_iter=956, total=  14.4s\n",
      "[CV] mlp__activation=tanh, mlp__alpha=2.298059988758849e-06, mlp__hidden_layer_sizes=(451,), mlp__solver=sgd, mlp__learning_rate=invscaling, mlp__max_iter=2017 \n",
      "[CV]  mlp__activation=identity, mlp__alpha=11.43031129114481, mlp__hidden_layer_sizes=(244, 159, 198), mlp__solver=lbfgs, mlp__learning_rate=invscaling, mlp__max_iter=956, total=  15.9s\n",
      "[CV] mlp__activation=tanh, mlp__alpha=2.298059988758849e-06, mlp__hidden_layer_sizes=(451,), mlp__solver=sgd, mlp__learning_rate=invscaling, mlp__max_iter=2017 \n",
      "[CV]  mlp__activation=tanh, mlp__alpha=2.298059988758849e-06, mlp__hidden_layer_sizes=(451,), mlp__solver=sgd, mlp__learning_rate=invscaling, mlp__max_iter=2017, total=  10.1s\n",
      "[CV] mlp__activation=logistic, mlp__alpha=0.0005804485942768978, mlp__hidden_layer_sizes=(126, 397, 56, 315, 256), mlp__solver=adam, mlp__learning_rate=constant, mlp__max_iter=1625 \n",
      "[CV]  mlp__activation=logistic, mlp__alpha=0.0005804485942768978, mlp__hidden_layer_sizes=(126, 397, 56, 315, 256), mlp__solver=adam, mlp__learning_rate=constant, mlp__max_iter=1625, total=   1.8s\n",
      "[CV] mlp__activation=logistic, mlp__alpha=0.0005804485942768978, mlp__hidden_layer_sizes=(126, 397, 56, 315, 256), mlp__solver=adam, mlp__learning_rate=constant, mlp__max_iter=1625 \n",
      "[CV]  mlp__activation=logistic, mlp__alpha=0.0005804485942768978, mlp__hidden_layer_sizes=(126, 397, 56, 315, 256), mlp__solver=adam, mlp__learning_rate=constant, mlp__max_iter=1625, total=   1.6s\n",
      "[CV]  mlp__activation=tanh, mlp__alpha=2.298059988758849e-06, mlp__hidden_layer_sizes=(451,), mlp__solver=sgd, mlp__learning_rate=invscaling, mlp__max_iter=2017, total=  12.6s\n",
      "[CV]  mlp__activation=identity, mlp__alpha=388.6776690892668, mlp__hidden_layer_sizes=(244, 159, 198), mlp__solver=adam, mlp__learning_rate=invscaling, mlp__max_iter=4013, total= 1.6min\n",
      "[CV]  mlp__activation=identity, mlp__alpha=388.6776690892668, mlp__hidden_layer_sizes=(244, 159, 198), mlp__solver=adam, mlp__learning_rate=invscaling, mlp__max_iter=4013, total= 1.7min\n"
     ]
    },
    {
     "name": "stderr",
     "output_type": "stream",
     "text": [
      "[Parallel(n_jobs=-1)]: Done  50 out of  50 | elapsed:  7.3min finished\n"
     ]
    },
    {
     "name": "stdout",
     "output_type": "stream",
     "text": [
      "Fitting 2 folds for each of 25 candidates, totalling 50 fits\n"
     ]
    },
    {
     "name": "stderr",
     "output_type": "stream",
     "text": [
      "[Parallel(n_jobs=-1)]: Done  43 out of  50 | elapsed:    4.7s remaining:    0.8s\n",
      "[Parallel(n_jobs=-1)]: Done  50 out of  50 | elapsed:   16.5s finished\n"
     ]
    },
    {
     "name": "stdout",
     "output_type": "stream",
     "text": [
      "\n",
      "Score[mean]: 0.86\n",
      "From Baseline: -2.0%\n",
      "From LOG: -2.0%\n",
      "{'mlp__activation': 'tanh', 'mlp__alpha': 4.341478330055092, 'mlp__hidden_layer_sizes': (54, 182, 222, 442), 'mlp__solver': 'sgd', 'mlp__learning_rate': 'invscaling', 'mlp__max_iter': 3636}\n",
      "LOG Params:{'log__solver': 'lbfgs', 'log__class_weight': None, 'log__max_iter': 910, 'log__C': 1.2362095437367691e-05}\n",
      "\n",
      "3-3_15\n",
      "Median Baseline: 0.507246376812\n",
      "Mean Baseline: 0.927536231884\n",
      "\n",
      "Fitting 2 folds for each of 25 candidates, totalling 50 fits\n",
      "[CV] mlp__activation=logistic, mlp__alpha=0.006528521141127847, mlp__hidden_layer_sizes=(54, 182, 222, 442), mlp__solver=sgd, mlp__learning_rate=invscaling, mlp__max_iter=3118 \n",
      "[CV] mlp__activation=logistic, mlp__alpha=0.006528521141127847, mlp__hidden_layer_sizes=(54, 182, 222, 442), mlp__solver=sgd, mlp__learning_rate=invscaling, mlp__max_iter=3118 \n",
      "[CV] mlp__activation=identity, mlp__alpha=0.20244465099768016, mlp__hidden_layer_sizes=(54, 182, 222, 442), mlp__solver=adam, mlp__learning_rate=constant, mlp__max_iter=2172 \n",
      "[CV] mlp__activation=identity, mlp__alpha=0.20244465099768016, mlp__hidden_layer_sizes=(54, 182, 222, 442), mlp__solver=adam, mlp__learning_rate=constant, mlp__max_iter=2172 \n",
      "[CV]  mlp__activation=logistic, mlp__alpha=0.006528521141127847, mlp__hidden_layer_sizes=(54, 182, 222, 442), mlp__solver=sgd, mlp__learning_rate=invscaling, mlp__max_iter=3118, total=   0.7s\n",
      "[CV] mlp__activation=relu, mlp__alpha=0.0006513490946272803, mlp__hidden_layer_sizes=(244, 159, 198), mlp__solver=adam, mlp__learning_rate=constant, mlp__max_iter=4468 \n",
      "[CV]  mlp__activation=logistic, mlp__alpha=0.006528521141127847, mlp__hidden_layer_sizes=(54, 182, 222, 442), mlp__solver=sgd, mlp__learning_rate=invscaling, mlp__max_iter=3118, total=   0.9s\n",
      "[CV] mlp__activation=relu, mlp__alpha=0.0006513490946272803, mlp__hidden_layer_sizes=(244, 159, 198), mlp__solver=adam, mlp__learning_rate=constant, mlp__max_iter=4468 \n",
      "[CV]  mlp__activation=relu, mlp__alpha=0.0006513490946272803, mlp__hidden_layer_sizes=(244, 159, 198), mlp__solver=adam, mlp__learning_rate=constant, mlp__max_iter=4468, total=   9.7s\n",
      "[CV] mlp__activation=identity, mlp__alpha=16.913295170296504, mlp__hidden_layer_sizes=(244, 159, 198), mlp__solver=adam, mlp__learning_rate=invscaling, mlp__max_iter=3399 \n",
      "[CV]  mlp__activation=relu, mlp__alpha=0.0006513490946272803, mlp__hidden_layer_sizes=(244, 159, 198), mlp__solver=adam, mlp__learning_rate=constant, mlp__max_iter=4468, total=  11.8s\n",
      "[CV] mlp__activation=identity, mlp__alpha=16.913295170296504, mlp__hidden_layer_sizes=(244, 159, 198), mlp__solver=adam, mlp__learning_rate=invscaling, mlp__max_iter=3399 \n",
      "[CV]  mlp__activation=identity, mlp__alpha=0.20244465099768016, mlp__hidden_layer_sizes=(54, 182, 222, 442), mlp__solver=adam, mlp__learning_rate=constant, mlp__max_iter=2172, total=  34.7s\n",
      "[CV] mlp__activation=relu, mlp__alpha=10.915359353313933, mlp__hidden_layer_sizes=(126, 397, 56, 315, 256), mlp__solver=sgd, mlp__learning_rate=constant, mlp__max_iter=540 \n",
      "[CV]  mlp__activation=identity, mlp__alpha=0.20244465099768016, mlp__hidden_layer_sizes=(54, 182, 222, 442), mlp__solver=adam, mlp__learning_rate=constant, mlp__max_iter=2172, total=  36.4s\n",
      "[CV] mlp__activation=relu, mlp__alpha=10.915359353313933, mlp__hidden_layer_sizes=(126, 397, 56, 315, 256), mlp__solver=sgd, mlp__learning_rate=constant, mlp__max_iter=540 \n",
      "[CV]  mlp__activation=identity, mlp__alpha=16.913295170296504, mlp__hidden_layer_sizes=(244, 159, 198), mlp__solver=adam, mlp__learning_rate=invscaling, mlp__max_iter=3399, total=  40.1s\n",
      "[CV] mlp__activation=logistic, mlp__alpha=0.004951020159556351, mlp__hidden_layer_sizes=(126, 397, 56, 315, 256), mlp__solver=adam, mlp__learning_rate=adaptive, mlp__max_iter=3931 \n",
      "[CV]  mlp__activation=logistic, mlp__alpha=0.004951020159556351, mlp__hidden_layer_sizes=(126, 397, 56, 315, 256), mlp__solver=adam, mlp__learning_rate=adaptive, mlp__max_iter=3931, total=   1.5s\n",
      "[CV] mlp__activation=logistic, mlp__alpha=0.004951020159556351, mlp__hidden_layer_sizes=(126, 397, 56, 315, 256), mlp__solver=adam, mlp__learning_rate=adaptive, mlp__max_iter=3931 \n",
      "[CV]  mlp__activation=identity, mlp__alpha=16.913295170296504, mlp__hidden_layer_sizes=(244, 159, 198), mlp__solver=adam, mlp__learning_rate=invscaling, mlp__max_iter=3399, total=  40.9s\n",
      "[CV] mlp__activation=logistic, mlp__alpha=13.43161170046018, mlp__hidden_layer_sizes=(54, 182, 222, 442), mlp__solver=sgd, mlp__learning_rate=invscaling, mlp__max_iter=4094 \n",
      "[CV]  mlp__activation=logistic, mlp__alpha=0.004951020159556351, mlp__hidden_layer_sizes=(126, 397, 56, 315, 256), mlp__solver=adam, mlp__learning_rate=adaptive, mlp__max_iter=3931, total=   1.3s\n",
      "[CV] mlp__activation=logistic, mlp__alpha=13.43161170046018, mlp__hidden_layer_sizes=(54, 182, 222, 442), mlp__solver=sgd, mlp__learning_rate=invscaling, mlp__max_iter=4094 \n",
      "[CV]  mlp__activation=logistic, mlp__alpha=13.43161170046018, mlp__hidden_layer_sizes=(54, 182, 222, 442), mlp__solver=sgd, mlp__learning_rate=invscaling, mlp__max_iter=4094, total=  26.6s\n",
      "[CV] mlp__activation=identity, mlp__alpha=2.4682684522556925e-05, mlp__hidden_layer_sizes=(126, 397, 56, 315, 256), mlp__solver=lbfgs, mlp__learning_rate=invscaling, mlp__max_iter=2552 \n",
      "[CV]  mlp__activation=identity, mlp__alpha=2.4682684522556925e-05, mlp__hidden_layer_sizes=(126, 397, 56, 315, 256), mlp__solver=lbfgs, mlp__learning_rate=invscaling, mlp__max_iter=2552, total=  10.0s\n",
      "[CV] mlp__activation=identity, mlp__alpha=2.4682684522556925e-05, mlp__hidden_layer_sizes=(126, 397, 56, 315, 256), mlp__solver=lbfgs, mlp__learning_rate=invscaling, mlp__max_iter=2552 \n",
      "[CV]  mlp__activation=logistic, mlp__alpha=13.43161170046018, mlp__hidden_layer_sizes=(54, 182, 222, 442), mlp__solver=sgd, mlp__learning_rate=invscaling, mlp__max_iter=4094, total=  38.4s\n",
      "[CV] mlp__activation=relu, mlp__alpha=0.09461848194721992, mlp__hidden_layer_sizes=(244, 159, 198), mlp__solver=lbfgs, mlp__learning_rate=adaptive, mlp__max_iter=2451 \n",
      "[CV]  mlp__activation=identity, mlp__alpha=2.4682684522556925e-05, mlp__hidden_layer_sizes=(126, 397, 56, 315, 256), mlp__solver=lbfgs, mlp__learning_rate=invscaling, mlp__max_iter=2552, total=   8.3s\n",
      "[CV] mlp__activation=relu, mlp__alpha=0.09461848194721992, mlp__hidden_layer_sizes=(244, 159, 198), mlp__solver=lbfgs, mlp__learning_rate=adaptive, mlp__max_iter=2451 \n"
     ]
    },
    {
     "name": "stderr",
     "output_type": "stream",
     "text": [
      "/home/loki/.local/lib/python2.7/site-packages/sklearn/neural_network/multilayer_perceptron.py:564: ConvergenceWarning: Stochastic Optimizer: Maximum iterations (540) reached and the optimization hasn't converged yet.\n",
      "  % self.max_iter, ConvergenceWarning)\n"
     ]
    },
    {
     "name": "stdout",
     "output_type": "stream",
     "text": [
      "[CV]  mlp__activation=relu, mlp__alpha=10.915359353313933, mlp__hidden_layer_sizes=(126, 397, 56, 315, 256), mlp__solver=sgd, mlp__learning_rate=constant, mlp__max_iter=540, total= 1.1min\n",
      "[CV] mlp__activation=relu, mlp__alpha=0.020197857568198783, mlp__hidden_layer_sizes=(451,), mlp__solver=sgd, mlp__learning_rate=adaptive, mlp__max_iter=3776 \n"
     ]
    },
    {
     "name": "stderr",
     "output_type": "stream",
     "text": [
      "/home/loki/.local/lib/python2.7/site-packages/sklearn/neural_network/multilayer_perceptron.py:564: ConvergenceWarning: Stochastic Optimizer: Maximum iterations (540) reached and the optimization hasn't converged yet.\n",
      "  % self.max_iter, ConvergenceWarning)\n"
     ]
    },
    {
     "name": "stdout",
     "output_type": "stream",
     "text": [
      "[CV]  mlp__activation=relu, mlp__alpha=10.915359353313933, mlp__hidden_layer_sizes=(126, 397, 56, 315, 256), mlp__solver=sgd, mlp__learning_rate=constant, mlp__max_iter=540, total= 1.1min\n",
      "[CV] mlp__activation=relu, mlp__alpha=0.020197857568198783, mlp__hidden_layer_sizes=(451,), mlp__solver=sgd, mlp__learning_rate=adaptive, mlp__max_iter=3776 \n",
      "[CV]  mlp__activation=relu, mlp__alpha=0.020197857568198783, mlp__hidden_layer_sizes=(451,), mlp__solver=sgd, mlp__learning_rate=adaptive, mlp__max_iter=3776, total=   3.3s\n",
      "[CV] mlp__activation=tanh, mlp__alpha=524.4688749495119, mlp__hidden_layer_sizes=(279, 231), mlp__solver=sgd, mlp__learning_rate=invscaling, mlp__max_iter=4685 \n",
      "[CV]  mlp__activation=relu, mlp__alpha=0.020197857568198783, mlp__hidden_layer_sizes=(451,), mlp__solver=sgd, mlp__learning_rate=adaptive, mlp__max_iter=3776, total=   3.8s\n",
      "[CV] mlp__activation=tanh, mlp__alpha=524.4688749495119, mlp__hidden_layer_sizes=(279, 231), mlp__solver=sgd, mlp__learning_rate=invscaling, mlp__max_iter=4685 \n",
      "[CV]  mlp__activation=relu, mlp__alpha=0.09461848194721992, mlp__hidden_layer_sizes=(244, 159, 198), mlp__solver=lbfgs, mlp__learning_rate=adaptive, mlp__max_iter=2451, total= 1.5min\n",
      "[CV] mlp__activation=identity, mlp__alpha=0.0001183240627458378, mlp__hidden_layer_sizes=(451,), mlp__solver=lbfgs, mlp__learning_rate=invscaling, mlp__max_iter=3701 \n",
      "[CV]  mlp__activation=identity, mlp__alpha=0.0001183240627458378, mlp__hidden_layer_sizes=(451,), mlp__solver=lbfgs, mlp__learning_rate=invscaling, mlp__max_iter=3701, total=  11.7s\n",
      "[CV] mlp__activation=identity, mlp__alpha=0.0001183240627458378, mlp__hidden_layer_sizes=(451,), mlp__solver=lbfgs, mlp__learning_rate=invscaling, mlp__max_iter=3701 \n",
      "[CV]  mlp__activation=relu, mlp__alpha=0.09461848194721992, mlp__hidden_layer_sizes=(244, 159, 198), mlp__solver=lbfgs, mlp__learning_rate=adaptive, mlp__max_iter=2451, total= 1.7min\n",
      "[CV] mlp__activation=tanh, mlp__alpha=181.65997883753286, mlp__hidden_layer_sizes=(54, 182, 222, 442), mlp__solver=lbfgs, mlp__learning_rate=adaptive, mlp__max_iter=3172 \n",
      "[CV]  mlp__activation=tanh, mlp__alpha=181.65997883753286, mlp__hidden_layer_sizes=(54, 182, 222, 442), mlp__solver=lbfgs, mlp__learning_rate=adaptive, mlp__max_iter=3172, total=   3.4s\n",
      "[CV] mlp__activation=tanh, mlp__alpha=181.65997883753286, mlp__hidden_layer_sizes=(54, 182, 222, 442), mlp__solver=lbfgs, mlp__learning_rate=adaptive, mlp__max_iter=3172 \n",
      "[CV]  mlp__activation=identity, mlp__alpha=0.0001183240627458378, mlp__hidden_layer_sizes=(451,), mlp__solver=lbfgs, mlp__learning_rate=invscaling, mlp__max_iter=3701, total=  12.2s\n",
      "[CV] mlp__activation=logistic, mlp__alpha=16.527920614648973, mlp__hidden_layer_sizes=(279, 231), mlp__solver=adam, mlp__learning_rate=constant, mlp__max_iter=1625 \n",
      "[CV]  mlp__activation=tanh, mlp__alpha=181.65997883753286, mlp__hidden_layer_sizes=(54, 182, 222, 442), mlp__solver=lbfgs, mlp__learning_rate=adaptive, mlp__max_iter=3172, total=   3.7s\n",
      "[CV] mlp__activation=logistic, mlp__alpha=16.527920614648973, mlp__hidden_layer_sizes=(279, 231), mlp__solver=adam, mlp__learning_rate=constant, mlp__max_iter=1625 \n",
      "[CV]  mlp__activation=logistic, mlp__alpha=16.527920614648973, mlp__hidden_layer_sizes=(279, 231), mlp__solver=adam, mlp__learning_rate=constant, mlp__max_iter=1625, total=  25.2s\n",
      "[CV] mlp__activation=logistic, mlp__alpha=0.01084014359178331, mlp__hidden_layer_sizes=(126, 397, 56, 315, 256), mlp__solver=sgd, mlp__learning_rate=constant, mlp__max_iter=2236 \n",
      "[CV]  mlp__activation=logistic, mlp__alpha=16.527920614648973, mlp__hidden_layer_sizes=(279, 231), mlp__solver=adam, mlp__learning_rate=constant, mlp__max_iter=1625, total=  24.8s\n",
      "[CV] mlp__activation=logistic, mlp__alpha=0.01084014359178331, mlp__hidden_layer_sizes=(126, 397, 56, 315, 256), mlp__solver=sgd, mlp__learning_rate=constant, mlp__max_iter=2236 \n",
      "[CV]  mlp__activation=logistic, mlp__alpha=0.01084014359178331, mlp__hidden_layer_sizes=(126, 397, 56, 315, 256), mlp__solver=sgd, mlp__learning_rate=constant, mlp__max_iter=2236, total=   3.4s\n",
      "[CV] mlp__activation=relu, mlp__alpha=0.00025316484786313555, mlp__hidden_layer_sizes=(126, 397, 56, 315, 256), mlp__solver=sgd, mlp__learning_rate=adaptive, mlp__max_iter=704 \n",
      "[CV]  mlp__activation=logistic, mlp__alpha=0.01084014359178331, mlp__hidden_layer_sizes=(126, 397, 56, 315, 256), mlp__solver=sgd, mlp__learning_rate=constant, mlp__max_iter=2236, total=   3.7s\n",
      "[CV] mlp__activation=relu, mlp__alpha=0.00025316484786313555, mlp__hidden_layer_sizes=(126, 397, 56, 315, 256), mlp__solver=sgd, mlp__learning_rate=adaptive, mlp__max_iter=704 \n",
      "[CV]  mlp__activation=relu, mlp__alpha=0.00025316484786313555, mlp__hidden_layer_sizes=(126, 397, 56, 315, 256), mlp__solver=sgd, mlp__learning_rate=adaptive, mlp__max_iter=704, total=   2.5s\n",
      "[CV] mlp__activation=tanh, mlp__alpha=1.9828839491270713, mlp__hidden_layer_sizes=(126, 397, 56, 315, 256), mlp__solver=sgd, mlp__learning_rate=invscaling, mlp__max_iter=1091 \n",
      "[CV]  mlp__activation=relu, mlp__alpha=0.00025316484786313555, mlp__hidden_layer_sizes=(126, 397, 56, 315, 256), mlp__solver=sgd, mlp__learning_rate=adaptive, mlp__max_iter=704, total=   3.0s\n",
      "[CV] mlp__activation=tanh, mlp__alpha=1.9828839491270713, mlp__hidden_layer_sizes=(126, 397, 56, 315, 256), mlp__solver=sgd, mlp__learning_rate=invscaling, mlp__max_iter=1091 \n",
      "[CV]  mlp__activation=tanh, mlp__alpha=1.9828839491270713, mlp__hidden_layer_sizes=(126, 397, 56, 315, 256), mlp__solver=sgd, mlp__learning_rate=invscaling, mlp__max_iter=1091, total=   2.8s\n",
      "[CV] mlp__activation=logistic, mlp__alpha=93.10413487069084, mlp__hidden_layer_sizes=(54, 182, 222, 442), mlp__solver=adam, mlp__learning_rate=adaptive, mlp__max_iter=3086 \n",
      "[CV]  mlp__activation=tanh, mlp__alpha=1.9828839491270713, mlp__hidden_layer_sizes=(126, 397, 56, 315, 256), mlp__solver=sgd, mlp__learning_rate=invscaling, mlp__max_iter=1091, total=   3.0s\n",
      "[CV] mlp__activation=logistic, mlp__alpha=93.10413487069084, mlp__hidden_layer_sizes=(54, 182, 222, 442), mlp__solver=adam, mlp__learning_rate=adaptive, mlp__max_iter=3086 \n",
      "[CV]  mlp__activation=logistic, mlp__alpha=93.10413487069084, mlp__hidden_layer_sizes=(54, 182, 222, 442), mlp__solver=adam, mlp__learning_rate=adaptive, mlp__max_iter=3086, total=  23.1s\n",
      "[CV] mlp__activation=logistic, mlp__alpha=228.7490817355704, mlp__hidden_layer_sizes=(54, 182, 222, 442), mlp__solver=lbfgs, mlp__learning_rate=constant, mlp__max_iter=1305 \n"
     ]
    },
    {
     "name": "stderr",
     "output_type": "stream",
     "text": [
      "[Parallel(n_jobs=-1)]: Done  33 tasks      | elapsed:  4.4min\n"
     ]
    },
    {
     "name": "stdout",
     "output_type": "stream",
     "text": [
      "[CV]  mlp__activation=logistic, mlp__alpha=93.10413487069084, mlp__hidden_layer_sizes=(54, 182, 222, 442), mlp__solver=adam, mlp__learning_rate=adaptive, mlp__max_iter=3086, total=  23.2s\n",
      "[CV] mlp__activation=logistic, mlp__alpha=228.7490817355704, mlp__hidden_layer_sizes=(54, 182, 222, 442), mlp__solver=lbfgs, mlp__learning_rate=constant, mlp__max_iter=1305 \n",
      "[CV]  mlp__activation=logistic, mlp__alpha=228.7490817355704, mlp__hidden_layer_sizes=(54, 182, 222, 442), mlp__solver=lbfgs, mlp__learning_rate=constant, mlp__max_iter=1305, total=   8.0s\n",
      "[CV] mlp__activation=identity, mlp__alpha=308.6664943337274, mlp__hidden_layer_sizes=(279, 231), mlp__solver=sgd, mlp__learning_rate=invscaling, mlp__max_iter=716 \n",
      "[CV]  mlp__activation=logistic, mlp__alpha=228.7490817355704, mlp__hidden_layer_sizes=(54, 182, 222, 442), mlp__solver=lbfgs, mlp__learning_rate=constant, mlp__max_iter=1305, total=   7.5s\n",
      "[CV] mlp__activation=identity, mlp__alpha=308.6664943337274, mlp__hidden_layer_sizes=(279, 231), mlp__solver=sgd, mlp__learning_rate=invscaling, mlp__max_iter=716 \n"
     ]
    },
    {
     "name": "stderr",
     "output_type": "stream",
     "text": [
      "/home/loki/.local/lib/python2.7/site-packages/sklearn/neural_network/multilayer_perceptron.py:564: ConvergenceWarning: Stochastic Optimizer: Maximum iterations (716) reached and the optimization hasn't converged yet.\n",
      "  % self.max_iter, ConvergenceWarning)\n"
     ]
    },
    {
     "name": "stdout",
     "output_type": "stream",
     "text": [
      "[CV]  mlp__activation=identity, mlp__alpha=308.6664943337274, mlp__hidden_layer_sizes=(279, 231), mlp__solver=sgd, mlp__learning_rate=invscaling, mlp__max_iter=716, total= 1.7min\n",
      "[CV] mlp__activation=tanh, mlp__alpha=1.3493671405883065e-07, mlp__hidden_layer_sizes=(244, 159, 198), mlp__solver=sgd, mlp__learning_rate=constant, mlp__max_iter=1889 \n"
     ]
    },
    {
     "name": "stderr",
     "output_type": "stream",
     "text": [
      "/home/loki/.local/lib/python2.7/site-packages/sklearn/neural_network/multilayer_perceptron.py:564: ConvergenceWarning: Stochastic Optimizer: Maximum iterations (716) reached and the optimization hasn't converged yet.\n",
      "  % self.max_iter, ConvergenceWarning)\n"
     ]
    },
    {
     "name": "stdout",
     "output_type": "stream",
     "text": [
      "[CV]  mlp__activation=identity, mlp__alpha=308.6664943337274, mlp__hidden_layer_sizes=(279, 231), mlp__solver=sgd, mlp__learning_rate=invscaling, mlp__max_iter=716, total= 1.7min\n",
      "[CV] mlp__activation=tanh, mlp__alpha=1.3493671405883065e-07, mlp__hidden_layer_sizes=(244, 159, 198), mlp__solver=sgd, mlp__learning_rate=constant, mlp__max_iter=1889 \n",
      "[CV]  mlp__activation=tanh, mlp__alpha=1.3493671405883065e-07, mlp__hidden_layer_sizes=(244, 159, 198), mlp__solver=sgd, mlp__learning_rate=constant, mlp__max_iter=1889, total= 2.0min\n",
      "[CV] mlp__activation=logistic, mlp__alpha=97.49649183484097, mlp__hidden_layer_sizes=(451,), mlp__solver=lbfgs, mlp__learning_rate=adaptive, mlp__max_iter=2355 \n",
      "[CV]  mlp__activation=logistic, mlp__alpha=97.49649183484097, mlp__hidden_layer_sizes=(451,), mlp__solver=lbfgs, mlp__learning_rate=adaptive, mlp__max_iter=2355, total=  14.6s\n",
      "[CV] mlp__activation=logistic, mlp__alpha=97.49649183484097, mlp__hidden_layer_sizes=(451,), mlp__solver=lbfgs, mlp__learning_rate=adaptive, mlp__max_iter=2355 \n",
      "[CV]  mlp__activation=logistic, mlp__alpha=97.49649183484097, mlp__hidden_layer_sizes=(451,), mlp__solver=lbfgs, mlp__learning_rate=adaptive, mlp__max_iter=2355, total=  13.4s\n",
      "[CV] mlp__activation=relu, mlp__alpha=0.010351779556301762, mlp__hidden_layer_sizes=(279, 231), mlp__solver=adam, mlp__learning_rate=constant, mlp__max_iter=2644 \n",
      "[CV]  mlp__activation=tanh, mlp__alpha=1.3493671405883065e-07, mlp__hidden_layer_sizes=(244, 159, 198), mlp__solver=sgd, mlp__learning_rate=constant, mlp__max_iter=1889, total= 2.5min\n",
      "[CV] mlp__activation=relu, mlp__alpha=0.010351779556301762, mlp__hidden_layer_sizes=(279, 231), mlp__solver=adam, mlp__learning_rate=constant, mlp__max_iter=2644 \n",
      "[CV]  mlp__activation=relu, mlp__alpha=0.010351779556301762, mlp__hidden_layer_sizes=(279, 231), mlp__solver=adam, mlp__learning_rate=constant, mlp__max_iter=2644, total=  16.6s\n",
      "[CV] mlp__activation=tanh, mlp__alpha=49.96877453854889, mlp__hidden_layer_sizes=(244, 159, 198), mlp__solver=lbfgs, mlp__learning_rate=constant, mlp__max_iter=3062 \n",
      "[CV]  mlp__activation=relu, mlp__alpha=0.010351779556301762, mlp__hidden_layer_sizes=(279, 231), mlp__solver=adam, mlp__learning_rate=constant, mlp__max_iter=2644, total=  18.8s\n",
      "[CV] mlp__activation=tanh, mlp__alpha=49.96877453854889, mlp__hidden_layer_sizes=(244, 159, 198), mlp__solver=lbfgs, mlp__learning_rate=constant, mlp__max_iter=3062 \n",
      "[CV]  mlp__activation=tanh, mlp__alpha=49.96877453854889, mlp__hidden_layer_sizes=(244, 159, 198), mlp__solver=lbfgs, mlp__learning_rate=constant, mlp__max_iter=3062, total=   7.0s\n",
      "[CV] mlp__activation=logistic, mlp__alpha=1.7793043899185772e-07, mlp__hidden_layer_sizes=(451,), mlp__solver=lbfgs, mlp__learning_rate=adaptive, mlp__max_iter=1631 \n",
      "[CV]  mlp__activation=tanh, mlp__alpha=49.96877453854889, mlp__hidden_layer_sizes=(244, 159, 198), mlp__solver=lbfgs, mlp__learning_rate=constant, mlp__max_iter=3062, total=  10.2s\n",
      "[CV] mlp__activation=logistic, mlp__alpha=1.7793043899185772e-07, mlp__hidden_layer_sizes=(451,), mlp__solver=lbfgs, mlp__learning_rate=adaptive, mlp__max_iter=1631 \n",
      "[CV]  mlp__activation=logistic, mlp__alpha=1.7793043899185772e-07, mlp__hidden_layer_sizes=(451,), mlp__solver=lbfgs, mlp__learning_rate=adaptive, mlp__max_iter=1631, total=  17.9s\n",
      "[CV]  mlp__activation=logistic, mlp__alpha=1.7793043899185772e-07, mlp__hidden_layer_sizes=(451,), mlp__solver=lbfgs, mlp__learning_rate=adaptive, mlp__max_iter=1631, total=  17.1s\n"
     ]
    },
    {
     "name": "stderr",
     "output_type": "stream",
     "text": [
      "/home/loki/.local/lib/python2.7/site-packages/sklearn/neural_network/multilayer_perceptron.py:564: ConvergenceWarning: Stochastic Optimizer: Maximum iterations (4685) reached and the optimization hasn't converged yet.\n",
      "  % self.max_iter, ConvergenceWarning)\n"
     ]
    },
    {
     "name": "stdout",
     "output_type": "stream",
     "text": [
      "[CV]  mlp__activation=tanh, mlp__alpha=524.4688749495119, mlp__hidden_layer_sizes=(279, 231), mlp__solver=sgd, mlp__learning_rate=invscaling, mlp__max_iter=4685, total= 9.6min\n"
     ]
    },
    {
     "name": "stderr",
     "output_type": "stream",
     "text": [
      "/home/loki/.local/lib/python2.7/site-packages/sklearn/neural_network/multilayer_perceptron.py:564: ConvergenceWarning: Stochastic Optimizer: Maximum iterations (4685) reached and the optimization hasn't converged yet.\n",
      "  % self.max_iter, ConvergenceWarning)\n"
     ]
    },
    {
     "name": "stdout",
     "output_type": "stream",
     "text": [
      "[CV]  mlp__activation=tanh, mlp__alpha=524.4688749495119, mlp__hidden_layer_sizes=(279, 231), mlp__solver=sgd, mlp__learning_rate=invscaling, mlp__max_iter=4685, total= 9.6min\n"
     ]
    },
    {
     "name": "stderr",
     "output_type": "stream",
     "text": [
      "[Parallel(n_jobs=-1)]: Done  50 out of  50 | elapsed: 11.4min finished\n"
     ]
    },
    {
     "name": "stdout",
     "output_type": "stream",
     "text": [
      "Fitting 2 folds for each of 25 candidates, totalling 50 fits\n"
     ]
    },
    {
     "name": "stderr",
     "output_type": "stream",
     "text": [
      "[Parallel(n_jobs=-1)]: Done  50 out of  50 | elapsed:   22.2s finished\n"
     ]
    },
    {
     "name": "stdout",
     "output_type": "stream",
     "text": [
      "\n",
      "Score[median]: 0.695652173913\n",
      "From Baseline: 18.8405797101%\n",
      "From LOG: 2.89855072464%\n",
      "{'mlp__activation': 'identity', 'mlp__alpha': 0.0001183240627458378, 'mlp__hidden_layer_sizes': (451,), 'mlp__solver': 'lbfgs', 'mlp__learning_rate': 'invscaling', 'mlp__max_iter': 3701}\n",
      "\n",
      "Fitting 2 folds for each of 25 candidates, totalling 50 fits\n",
      "[CV] mlp__activation=relu, mlp__alpha=1.0765446128423159e-05, mlp__hidden_layer_sizes=(126, 397, 56, 315, 256), mlp__solver=sgd, mlp__learning_rate=invscaling, mlp__max_iter=4861 \n",
      "[CV] mlp__activation=relu, mlp__alpha=1.0765446128423159e-05, mlp__hidden_layer_sizes=(126, 397, 56, 315, 256), mlp__solver=sgd, mlp__learning_rate=invscaling, mlp__max_iter=4861 \n",
      "[CV] mlp__activation=identity, mlp__alpha=1.2915496650148827e-06, mlp__hidden_layer_sizes=(126, 397, 56, 315, 256), mlp__solver=sgd, mlp__learning_rate=constant, mlp__max_iter=2838 \n",
      "[CV] mlp__activation=identity, mlp__alpha=1.2915496650148827e-06, mlp__hidden_layer_sizes=(126, 397, 56, 315, 256), mlp__solver=sgd, mlp__learning_rate=constant, mlp__max_iter=2838 \n",
      "[CV]  mlp__activation=relu, mlp__alpha=1.0765446128423159e-05, mlp__hidden_layer_sizes=(126, 397, 56, 315, 256), mlp__solver=sgd, mlp__learning_rate=invscaling, mlp__max_iter=4861, total=   6.4s\n",
      "[CV] mlp__activation=relu, mlp__alpha=812.6619200091945, mlp__hidden_layer_sizes=(451,), mlp__solver=lbfgs, mlp__learning_rate=adaptive, mlp__max_iter=4996 \n",
      "[CV]  mlp__activation=relu, mlp__alpha=1.0765446128423159e-05, mlp__hidden_layer_sizes=(126, 397, 56, 315, 256), mlp__solver=sgd, mlp__learning_rate=invscaling, mlp__max_iter=4861, total=   6.6s\n",
      "[CV] mlp__activation=relu, mlp__alpha=812.6619200091945, mlp__hidden_layer_sizes=(451,), mlp__solver=lbfgs, mlp__learning_rate=adaptive, mlp__max_iter=4996 \n",
      "[CV]  mlp__activation=relu, mlp__alpha=812.6619200091945, mlp__hidden_layer_sizes=(451,), mlp__solver=lbfgs, mlp__learning_rate=adaptive, mlp__max_iter=4996, total=  11.2s\n",
      "[CV] mlp__activation=tanh, mlp__alpha=2.3462288481422625e-07, mlp__hidden_layer_sizes=(451,), mlp__solver=adam, mlp__learning_rate=adaptive, mlp__max_iter=1932 \n",
      "[CV]  mlp__activation=relu, mlp__alpha=812.6619200091945, mlp__hidden_layer_sizes=(451,), mlp__solver=lbfgs, mlp__learning_rate=adaptive, mlp__max_iter=4996, total=  11.5s\n",
      "[CV] mlp__activation=tanh, mlp__alpha=2.3462288481422625e-07, mlp__hidden_layer_sizes=(451,), mlp__solver=adam, mlp__learning_rate=adaptive, mlp__max_iter=1932 \n",
      "[CV]  mlp__activation=tanh, mlp__alpha=2.3462288481422625e-07, mlp__hidden_layer_sizes=(451,), mlp__solver=adam, mlp__learning_rate=adaptive, mlp__max_iter=1932, total=  11.3s\n",
      "[CV] mlp__activation=tanh, mlp__alpha=114.56687286348726, mlp__hidden_layer_sizes=(244, 159, 198), mlp__solver=lbfgs, mlp__learning_rate=constant, mlp__max_iter=1043 \n",
      "[CV]  mlp__activation=tanh, mlp__alpha=2.3462288481422625e-07, mlp__hidden_layer_sizes=(451,), mlp__solver=adam, mlp__learning_rate=adaptive, mlp__max_iter=1932, total=  11.8s\n",
      "[CV] mlp__activation=tanh, mlp__alpha=114.56687286348726, mlp__hidden_layer_sizes=(244, 159, 198), mlp__solver=lbfgs, mlp__learning_rate=constant, mlp__max_iter=1043 \n",
      "[CV]  mlp__activation=tanh, mlp__alpha=114.56687286348726, mlp__hidden_layer_sizes=(244, 159, 198), mlp__solver=lbfgs, mlp__learning_rate=constant, mlp__max_iter=1043, total=   8.2s\n",
      "[CV] mlp__activation=tanh, mlp__alpha=17.307655341957275, mlp__hidden_layer_sizes=(126, 397, 56, 315, 256), mlp__solver=lbfgs, mlp__learning_rate=constant, mlp__max_iter=3212 \n",
      "[CV]  mlp__activation=tanh, mlp__alpha=114.56687286348726, mlp__hidden_layer_sizes=(244, 159, 198), mlp__solver=lbfgs, mlp__learning_rate=constant, mlp__max_iter=1043, total=   8.0s\n",
      "[CV] mlp__activation=tanh, mlp__alpha=17.307655341957275, mlp__hidden_layer_sizes=(126, 397, 56, 315, 256), mlp__solver=lbfgs, mlp__learning_rate=constant, mlp__max_iter=3212 \n",
      "[CV]  mlp__activation=tanh, mlp__alpha=17.307655341957275, mlp__hidden_layer_sizes=(126, 397, 56, 315, 256), mlp__solver=lbfgs, mlp__learning_rate=constant, mlp__max_iter=3212, total=  12.9s\n",
      "[CV] mlp__activation=identity, mlp__alpha=140.97728716289677, mlp__hidden_layer_sizes=(54, 182, 222, 442), mlp__solver=sgd, mlp__learning_rate=constant, mlp__max_iter=1119 \n",
      "[CV]  mlp__activation=tanh, mlp__alpha=17.307655341957275, mlp__hidden_layer_sizes=(126, 397, 56, 315, 256), mlp__solver=lbfgs, mlp__learning_rate=constant, mlp__max_iter=3212, total=  15.1s\n",
      "[CV] mlp__activation=identity, mlp__alpha=140.97728716289677, mlp__hidden_layer_sizes=(54, 182, 222, 442), mlp__solver=sgd, mlp__learning_rate=constant, mlp__max_iter=1119 \n",
      "[CV]  mlp__activation=identity, mlp__alpha=1.2915496650148827e-06, mlp__hidden_layer_sizes=(126, 397, 56, 315, 256), mlp__solver=sgd, mlp__learning_rate=constant, mlp__max_iter=2838, total= 1.1min\n",
      "[CV] mlp__activation=logistic, mlp__alpha=2.4682684522556925e-05, mlp__hidden_layer_sizes=(54, 182, 222, 442), mlp__solver=lbfgs, mlp__learning_rate=invscaling, mlp__max_iter=2521 \n",
      "[CV]  mlp__activation=logistic, mlp__alpha=2.4682684522556925e-05, mlp__hidden_layer_sizes=(54, 182, 222, 442), mlp__solver=lbfgs, mlp__learning_rate=invscaling, mlp__max_iter=2521, total=   3.3s\n",
      "[CV] mlp__activation=logistic, mlp__alpha=2.4682684522556925e-05, mlp__hidden_layer_sizes=(54, 182, 222, 442), mlp__solver=lbfgs, mlp__learning_rate=invscaling, mlp__max_iter=2521 \n",
      "[CV]  mlp__activation=identity, mlp__alpha=1.2915496650148827e-06, mlp__hidden_layer_sizes=(126, 397, 56, 315, 256), mlp__solver=sgd, mlp__learning_rate=constant, mlp__max_iter=2838, total= 1.2min\n",
      "[CV] mlp__activation=identity, mlp__alpha=0.0018376562003881724, mlp__hidden_layer_sizes=(54, 182, 222, 442), mlp__solver=sgd, mlp__learning_rate=constant, mlp__max_iter=2514 \n",
      "[CV]  mlp__activation=logistic, mlp__alpha=2.4682684522556925e-05, mlp__hidden_layer_sizes=(54, 182, 222, 442), mlp__solver=lbfgs, mlp__learning_rate=invscaling, mlp__max_iter=2521, total=   3.3s\n",
      "[CV] mlp__activation=identity, mlp__alpha=0.0018376562003881724, mlp__hidden_layer_sizes=(54, 182, 222, 442), mlp__solver=sgd, mlp__learning_rate=constant, mlp__max_iter=2514 \n",
      "[CV]  mlp__activation=identity, mlp__alpha=140.97728716289677, mlp__hidden_layer_sizes=(54, 182, 222, 442), mlp__solver=sgd, mlp__learning_rate=constant, mlp__max_iter=1119, total=  57.5s\n",
      "[CV] mlp__activation=tanh, mlp__alpha=1.1221477682079802e-07, mlp__hidden_layer_sizes=(126, 397, 56, 315, 256), mlp__solver=lbfgs, mlp__learning_rate=adaptive, mlp__max_iter=4667 \n",
      "[CV]  mlp__activation=identity, mlp__alpha=140.97728716289677, mlp__hidden_layer_sizes=(54, 182, 222, 442), mlp__solver=sgd, mlp__learning_rate=constant, mlp__max_iter=1119, total=  58.7s\n",
      "[CV] mlp__activation=tanh, mlp__alpha=1.1221477682079802e-07, mlp__hidden_layer_sizes=(126, 397, 56, 315, 256), mlp__solver=lbfgs, mlp__learning_rate=adaptive, mlp__max_iter=4667 \n",
      "[CV]  mlp__activation=tanh, mlp__alpha=1.1221477682079802e-07, mlp__hidden_layer_sizes=(126, 397, 56, 315, 256), mlp__solver=lbfgs, mlp__learning_rate=adaptive, mlp__max_iter=4667, total=   4.9s\n",
      "[CV] mlp__activation=relu, mlp__alpha=1.6681005372000593e-05, mlp__hidden_layer_sizes=(279, 231), mlp__solver=lbfgs, mlp__learning_rate=adaptive, mlp__max_iter=2886 \n",
      "[CV]  mlp__activation=tanh, mlp__alpha=1.1221477682079802e-07, mlp__hidden_layer_sizes=(126, 397, 56, 315, 256), mlp__solver=lbfgs, mlp__learning_rate=adaptive, mlp__max_iter=4667, total=  10.1s\n",
      "[CV]  mlp__activation=relu, mlp__alpha=1.6681005372000593e-05, mlp__hidden_layer_sizes=(279, 231), mlp__solver=lbfgs, mlp__learning_rate=adaptive, mlp__max_iter=2886, total=   8.4s\n",
      "[CV] mlp__activation=relu, mlp__alpha=1.6681005372000593e-05, mlp__hidden_layer_sizes=(279, 231), mlp__solver=lbfgs, mlp__learning_rate=adaptive, mlp__max_iter=2886 \n",
      "[CV] mlp__activation=identity, mlp__alpha=2.614673211801092, mlp__hidden_layer_sizes=(244, 159, 198), mlp__solver=adam, mlp__learning_rate=adaptive, mlp__max_iter=3969 \n",
      "[CV]  mlp__activation=identity, mlp__alpha=0.0018376562003881724, mlp__hidden_layer_sizes=(54, 182, 222, 442), mlp__solver=sgd, mlp__learning_rate=constant, mlp__max_iter=2514, total=  57.1s\n",
      "[CV] mlp__activation=identity, mlp__alpha=2.614673211801092, mlp__hidden_layer_sizes=(244, 159, 198), mlp__solver=adam, mlp__learning_rate=adaptive, mlp__max_iter=3969 \n"
     ]
    },
    {
     "name": "stdout",
     "output_type": "stream",
     "text": [
      "[CV]  mlp__activation=identity, mlp__alpha=0.0018376562003881724, mlp__hidden_layer_sizes=(54, 182, 222, 442), mlp__solver=sgd, mlp__learning_rate=constant, mlp__max_iter=2514, total=  60.0s\n",
      "[CV] mlp__activation=identity, mlp__alpha=1.0495932305582266e-06, mlp__hidden_layer_sizes=(279, 231), mlp__solver=sgd, mlp__learning_rate=constant, mlp__max_iter=2329 \n",
      "[CV]  mlp__activation=relu, mlp__alpha=1.6681005372000593e-05, mlp__hidden_layer_sizes=(279, 231), mlp__solver=lbfgs, mlp__learning_rate=adaptive, mlp__max_iter=2886, total=  16.5s\n",
      "[CV] mlp__activation=identity, mlp__alpha=1.0495932305582266e-06, mlp__hidden_layer_sizes=(279, 231), mlp__solver=sgd, mlp__learning_rate=constant, mlp__max_iter=2329 \n",
      "[CV]  mlp__activation=identity, mlp__alpha=2.614673211801092, mlp__hidden_layer_sizes=(244, 159, 198), mlp__solver=adam, mlp__learning_rate=adaptive, mlp__max_iter=3969, total=  36.6s\n",
      "[CV] mlp__activation=logistic, mlp__alpha=0.11118496048192698, mlp__hidden_layer_sizes=(126, 397, 56, 315, 256), mlp__solver=lbfgs, mlp__learning_rate=invscaling, mlp__max_iter=1084 \n",
      "[CV]  mlp__activation=identity, mlp__alpha=2.614673211801092, mlp__hidden_layer_sizes=(244, 159, 198), mlp__solver=adam, mlp__learning_rate=adaptive, mlp__max_iter=3969, total=  36.0s\n",
      "[CV] mlp__activation=logistic, mlp__alpha=0.11118496048192698, mlp__hidden_layer_sizes=(126, 397, 56, 315, 256), mlp__solver=lbfgs, mlp__learning_rate=invscaling, mlp__max_iter=1084 \n",
      "[CV]  mlp__activation=logistic, mlp__alpha=0.11118496048192698, mlp__hidden_layer_sizes=(126, 397, 56, 315, 256), mlp__solver=lbfgs, mlp__learning_rate=invscaling, mlp__max_iter=1084, total=  11.2s\n",
      "[CV] mlp__activation=tanh, mlp__alpha=0.005066461008921269, mlp__hidden_layer_sizes=(244, 159, 198), mlp__solver=sgd, mlp__learning_rate=invscaling, mlp__max_iter=3402 \n",
      "[CV]  mlp__activation=logistic, mlp__alpha=0.11118496048192698, mlp__hidden_layer_sizes=(126, 397, 56, 315, 256), mlp__solver=lbfgs, mlp__learning_rate=invscaling, mlp__max_iter=1084, total=  11.0s\n",
      "[CV] mlp__activation=tanh, mlp__alpha=0.005066461008921269, mlp__hidden_layer_sizes=(244, 159, 198), mlp__solver=sgd, mlp__learning_rate=invscaling, mlp__max_iter=3402 \n",
      "[CV]  mlp__activation=tanh, mlp__alpha=0.005066461008921269, mlp__hidden_layer_sizes=(244, 159, 198), mlp__solver=sgd, mlp__learning_rate=invscaling, mlp__max_iter=3402, total=  32.0s\n",
      "[CV] mlp__activation=logistic, mlp__alpha=14.393226447194094, mlp__hidden_layer_sizes=(451,), mlp__solver=sgd, mlp__learning_rate=invscaling, mlp__max_iter=2071 \n",
      "[CV]  mlp__activation=tanh, mlp__alpha=0.005066461008921269, mlp__hidden_layer_sizes=(244, 159, 198), mlp__solver=sgd, mlp__learning_rate=invscaling, mlp__max_iter=3402, total=  31.4s\n",
      "[CV] mlp__activation=logistic, mlp__alpha=14.393226447194094, mlp__hidden_layer_sizes=(451,), mlp__solver=sgd, mlp__learning_rate=invscaling, mlp__max_iter=2071 \n",
      "[CV]  mlp__activation=identity, mlp__alpha=1.0495932305582266e-06, mlp__hidden_layer_sizes=(279, 231), mlp__solver=sgd, mlp__learning_rate=constant, mlp__max_iter=2329, total= 2.4min\n",
      "[CV] mlp__activation=logistic, mlp__alpha=0.003669142378402494, mlp__hidden_layer_sizes=(126, 397, 56, 315, 256), mlp__solver=lbfgs, mlp__learning_rate=invscaling, mlp__max_iter=4265 \n",
      "[CV]  mlp__activation=logistic, mlp__alpha=0.003669142378402494, mlp__hidden_layer_sizes=(126, 397, 56, 315, 256), mlp__solver=lbfgs, mlp__learning_rate=invscaling, mlp__max_iter=4265, total=   5.9s\n",
      "[CV] mlp__activation=logistic, mlp__alpha=0.003669142378402494, mlp__hidden_layer_sizes=(126, 397, 56, 315, 256), mlp__solver=lbfgs, mlp__learning_rate=invscaling, mlp__max_iter=4265 \n",
      "[CV]  mlp__activation=identity, mlp__alpha=1.0495932305582266e-06, mlp__hidden_layer_sizes=(279, 231), mlp__solver=sgd, mlp__learning_rate=constant, mlp__max_iter=2329, total= 2.4min\n",
      "[CV] mlp__activation=tanh, mlp__alpha=7.1097094323124385e-06, mlp__hidden_layer_sizes=(54, 182, 222, 442), mlp__solver=adam, mlp__learning_rate=constant, mlp__max_iter=2275 \n",
      "[CV]  mlp__activation=logistic, mlp__alpha=0.003669142378402494, mlp__hidden_layer_sizes=(126, 397, 56, 315, 256), mlp__solver=lbfgs, mlp__learning_rate=invscaling, mlp__max_iter=4265, total=   4.7s\n",
      "[CV] mlp__activation=tanh, mlp__alpha=7.1097094323124385e-06, mlp__hidden_layer_sizes=(54, 182, 222, 442), mlp__solver=adam, mlp__learning_rate=constant, mlp__max_iter=2275 \n",
      "[CV]  mlp__activation=tanh, mlp__alpha=7.1097094323124385e-06, mlp__hidden_layer_sizes=(54, 182, 222, 442), mlp__solver=adam, mlp__learning_rate=constant, mlp__max_iter=2275, total=   3.9s\n",
      "[CV] mlp__activation=logistic, mlp__alpha=68.99837121430025, mlp__hidden_layer_sizes=(451,), mlp__solver=adam, mlp__learning_rate=adaptive, mlp__max_iter=2312 \n"
     ]
    },
    {
     "name": "stderr",
     "output_type": "stream",
     "text": [
      "[Parallel(n_jobs=-1)]: Done  33 tasks      | elapsed:  4.8min\n"
     ]
    },
    {
     "name": "stdout",
     "output_type": "stream",
     "text": [
      "[CV]  mlp__activation=tanh, mlp__alpha=7.1097094323124385e-06, mlp__hidden_layer_sizes=(54, 182, 222, 442), mlp__solver=adam, mlp__learning_rate=constant, mlp__max_iter=2275, total=   3.3s\n",
      "[CV] mlp__activation=logistic, mlp__alpha=68.99837121430025, mlp__hidden_layer_sizes=(451,), mlp__solver=adam, mlp__learning_rate=adaptive, mlp__max_iter=2312 \n",
      "[CV]  mlp__activation=logistic, mlp__alpha=68.99837121430025, mlp__hidden_layer_sizes=(451,), mlp__solver=adam, mlp__learning_rate=adaptive, mlp__max_iter=2312, total=  39.5s\n",
      "[CV] mlp__activation=identity, mlp__alpha=5.404216420705915e-05, mlp__hidden_layer_sizes=(451,), mlp__solver=lbfgs, mlp__learning_rate=invscaling, mlp__max_iter=2355 \n",
      "[CV]  mlp__activation=logistic, mlp__alpha=14.393226447194094, mlp__hidden_layer_sizes=(451,), mlp__solver=sgd, mlp__learning_rate=invscaling, mlp__max_iter=2071, total= 2.1min\n",
      "[CV] mlp__activation=identity, mlp__alpha=5.404216420705915e-05, mlp__hidden_layer_sizes=(451,), mlp__solver=lbfgs, mlp__learning_rate=invscaling, mlp__max_iter=2355 \n",
      "[CV]  mlp__activation=logistic, mlp__alpha=68.99837121430025, mlp__hidden_layer_sizes=(451,), mlp__solver=adam, mlp__learning_rate=adaptive, mlp__max_iter=2312, total=  47.9s\n",
      "[CV] mlp__activation=identity, mlp__alpha=0.5454271305329836, mlp__hidden_layer_sizes=(126, 397, 56, 315, 256), mlp__solver=sgd, mlp__learning_rate=invscaling, mlp__max_iter=4206 \n",
      "[CV]  mlp__activation=identity, mlp__alpha=5.404216420705915e-05, mlp__hidden_layer_sizes=(451,), mlp__solver=lbfgs, mlp__learning_rate=invscaling, mlp__max_iter=2355, total=   9.3s\n",
      "[CV] mlp__activation=identity, mlp__alpha=0.5454271305329836, mlp__hidden_layer_sizes=(126, 397, 56, 315, 256), mlp__solver=sgd, mlp__learning_rate=invscaling, mlp__max_iter=4206 \n",
      "[CV]  mlp__activation=identity, mlp__alpha=5.404216420705915e-05, mlp__hidden_layer_sizes=(451,), mlp__solver=lbfgs, mlp__learning_rate=invscaling, mlp__max_iter=2355, total=  12.8s\n",
      "[CV] mlp__activation=logistic, mlp__alpha=6.963744730628222e-05, mlp__hidden_layer_sizes=(451,), mlp__solver=lbfgs, mlp__learning_rate=invscaling, mlp__max_iter=2586 \n",
      "[CV]  mlp__activation=logistic, mlp__alpha=14.393226447194094, mlp__hidden_layer_sizes=(451,), mlp__solver=sgd, mlp__learning_rate=invscaling, mlp__max_iter=2071, total= 2.5min\n",
      "[CV] mlp__activation=logistic, mlp__alpha=6.963744730628222e-05, mlp__hidden_layer_sizes=(451,), mlp__solver=lbfgs, mlp__learning_rate=invscaling, mlp__max_iter=2586 \n",
      "[CV]  mlp__activation=logistic, mlp__alpha=6.963744730628222e-05, mlp__hidden_layer_sizes=(451,), mlp__solver=lbfgs, mlp__learning_rate=invscaling, mlp__max_iter=2586, total=  18.2s\n",
      "[CV] mlp__activation=identity, mlp__alpha=0.0031952475057592136, mlp__hidden_layer_sizes=(279, 231), mlp__solver=lbfgs, mlp__learning_rate=constant, mlp__max_iter=1444 \n",
      "[CV]  mlp__activation=identity, mlp__alpha=0.5454271305329836, mlp__hidden_layer_sizes=(126, 397, 56, 315, 256), mlp__solver=sgd, mlp__learning_rate=invscaling, mlp__max_iter=4206, total=  32.4s\n",
      "[CV] mlp__activation=identity, mlp__alpha=0.0031952475057592136, mlp__hidden_layer_sizes=(279, 231), mlp__solver=lbfgs, mlp__learning_rate=constant, mlp__max_iter=1444 \n",
      "[CV]  mlp__activation=identity, mlp__alpha=0.0031952475057592136, mlp__hidden_layer_sizes=(279, 231), mlp__solver=lbfgs, mlp__learning_rate=constant, mlp__max_iter=1444, total=   6.8s\n",
      "[CV] mlp__activation=tanh, mlp__alpha=0.014968392930772555, mlp__hidden_layer_sizes=(54, 182, 222, 442), mlp__solver=sgd, mlp__learning_rate=invscaling, mlp__max_iter=4848 \n",
      "[CV]  mlp__activation=identity, mlp__alpha=0.5454271305329836, mlp__hidden_layer_sizes=(126, 397, 56, 315, 256), mlp__solver=sgd, mlp__learning_rate=invscaling, mlp__max_iter=4206, total=  39.6s\n",
      "[CV] mlp__activation=tanh, mlp__alpha=0.014968392930772555, mlp__hidden_layer_sizes=(54, 182, 222, 442), mlp__solver=sgd, mlp__learning_rate=invscaling, mlp__max_iter=4848 \n",
      "[CV]  mlp__activation=identity, mlp__alpha=0.0031952475057592136, mlp__hidden_layer_sizes=(279, 231), mlp__solver=lbfgs, mlp__learning_rate=constant, mlp__max_iter=1444, total=   7.2s\n",
      "[CV] mlp__activation=logistic, mlp__alpha=0.012738113231864785, mlp__hidden_layer_sizes=(244, 159, 198), mlp__solver=lbfgs, mlp__learning_rate=constant, mlp__max_iter=2465 \n",
      "[CV]  mlp__activation=logistic, mlp__alpha=0.012738113231864785, mlp__hidden_layer_sizes=(244, 159, 198), mlp__solver=lbfgs, mlp__learning_rate=constant, mlp__max_iter=2465, total=   4.5s\n",
      "[CV] mlp__activation=logistic, mlp__alpha=0.012738113231864785, mlp__hidden_layer_sizes=(244, 159, 198), mlp__solver=lbfgs, mlp__learning_rate=constant, mlp__max_iter=2465 \n",
      "[CV]  mlp__activation=logistic, mlp__alpha=0.012738113231864785, mlp__hidden_layer_sizes=(244, 159, 198), mlp__solver=lbfgs, mlp__learning_rate=constant, mlp__max_iter=2465, total=   4.1s\n",
      "[CV]  mlp__activation=logistic, mlp__alpha=6.963744730628222e-05, mlp__hidden_layer_sizes=(451,), mlp__solver=lbfgs, mlp__learning_rate=invscaling, mlp__max_iter=2586, total=  29.2s\n",
      "[CV]  mlp__activation=tanh, mlp__alpha=0.014968392930772555, mlp__hidden_layer_sizes=(54, 182, 222, 442), mlp__solver=sgd, mlp__learning_rate=invscaling, mlp__max_iter=4848, total=  29.4s\n",
      "[CV]  mlp__activation=tanh, mlp__alpha=0.014968392930772555, mlp__hidden_layer_sizes=(54, 182, 222, 442), mlp__solver=sgd, mlp__learning_rate=invscaling, mlp__max_iter=4848, total=  22.8s\n"
     ]
    },
    {
     "name": "stderr",
     "output_type": "stream",
     "text": [
      "[Parallel(n_jobs=-1)]: Done  50 out of  50 | elapsed:  6.6min finished\n"
     ]
    },
    {
     "name": "stdout",
     "output_type": "stream",
     "text": [
      "Fitting 2 folds for each of 25 candidates, totalling 50 fits\n"
     ]
    },
    {
     "name": "stderr",
     "output_type": "stream",
     "text": [
      "[Parallel(n_jobs=-1)]: Done  43 out of  50 | elapsed:   18.4s remaining:    3.0s\n",
      "[Parallel(n_jobs=-1)]: Done  50 out of  50 | elapsed:   33.4s finished\n"
     ]
    },
    {
     "name": "stdout",
     "output_type": "stream",
     "text": [
      "\n",
      "Score[mean]: 0.927536231884\n",
      "From Baseline: 0.0%\n",
      "From LOG: 0.0%\n",
      "{'mlp__activation': 'relu', 'mlp__alpha': 812.6619200091945, 'mlp__hidden_layer_sizes': (451,), 'mlp__solver': 'lbfgs', 'mlp__learning_rate': 'adaptive', 'mlp__max_iter': 4996}\n",
      "LOG Params:{'log__solver': 'lbfgs', 'log__class_weight': None, 'log__max_iter': 2082, 'log__C': 6.619433458774388e-07}\n",
      "\n",
      "3-4_5\n",
      "Median Baseline: 0.5\n",
      "Mean Baseline: 0.910256410256\n",
      "\n",
      "Fitting 2 folds for each of 25 candidates, totalling 50 fits\n",
      "[CV] mlp__activation=logistic, mlp__alpha=1.0162650893929952, mlp__hidden_layer_sizes=(126, 397, 56, 315, 256), mlp__solver=sgd, mlp__learning_rate=constant, mlp__max_iter=1770 \n",
      "[CV] mlp__activation=logistic, mlp__alpha=1.0162650893929952, mlp__hidden_layer_sizes=(126, 397, 56, 315, 256), mlp__solver=sgd, mlp__learning_rate=constant, mlp__max_iter=1770 \n",
      "[CV] mlp__activation=relu, mlp__alpha=1.2333634979137747e-06, mlp__hidden_layer_sizes=(451,), mlp__solver=adam, mlp__learning_rate=constant, mlp__max_iter=1619 \n",
      "[CV] mlp__activation=relu, mlp__alpha=1.2333634979137747e-06, mlp__hidden_layer_sizes=(451,), mlp__solver=adam, mlp__learning_rate=constant, mlp__max_iter=1619 \n",
      "[CV]  mlp__activation=logistic, mlp__alpha=1.0162650893929952, mlp__hidden_layer_sizes=(126, 397, 56, 315, 256), mlp__solver=sgd, mlp__learning_rate=constant, mlp__max_iter=1770, total=   3.9s\n",
      "[CV] mlp__activation=tanh, mlp__alpha=0.006234401888627864, mlp__hidden_layer_sizes=(244, 159, 198), mlp__solver=adam, mlp__learning_rate=adaptive, mlp__max_iter=2826 \n",
      "[CV]  mlp__activation=logistic, mlp__alpha=1.0162650893929952, mlp__hidden_layer_sizes=(126, 397, 56, 315, 256), mlp__solver=sgd, mlp__learning_rate=constant, mlp__max_iter=1770, total=   4.2s\n",
      "[CV] mlp__activation=tanh, mlp__alpha=0.006234401888627864, mlp__hidden_layer_sizes=(244, 159, 198), mlp__solver=adam, mlp__learning_rate=adaptive, mlp__max_iter=2826 \n",
      "[CV]  mlp__activation=tanh, mlp__alpha=0.006234401888627864, mlp__hidden_layer_sizes=(244, 159, 198), mlp__solver=adam, mlp__learning_rate=adaptive, mlp__max_iter=2826, total=  11.5s\n",
      "[CV] mlp__activation=tanh, mlp__alpha=1.1509622008850312e-06, mlp__hidden_layer_sizes=(244, 159, 198), mlp__solver=lbfgs, mlp__learning_rate=invscaling, mlp__max_iter=1081 \n",
      "[CV]  mlp__activation=tanh, mlp__alpha=0.006234401888627864, mlp__hidden_layer_sizes=(244, 159, 198), mlp__solver=adam, mlp__learning_rate=adaptive, mlp__max_iter=2826, total=  12.2s\n",
      "[CV] mlp__activation=tanh, mlp__alpha=1.1509622008850312e-06, mlp__hidden_layer_sizes=(244, 159, 198), mlp__solver=lbfgs, mlp__learning_rate=invscaling, mlp__max_iter=1081 \n",
      "[CV]  mlp__activation=relu, mlp__alpha=1.2333634979137747e-06, mlp__hidden_layer_sizes=(451,), mlp__solver=adam, mlp__learning_rate=constant, mlp__max_iter=1619, total=  21.9s\n",
      "[CV] mlp__activation=identity, mlp__alpha=0.001754867149648152, mlp__hidden_layer_sizes=(279, 231), mlp__solver=lbfgs, mlp__learning_rate=constant, mlp__max_iter=3318 \n",
      "[CV]  mlp__activation=relu, mlp__alpha=1.2333634979137747e-06, mlp__hidden_layer_sizes=(451,), mlp__solver=adam, mlp__learning_rate=constant, mlp__max_iter=1619, total=  25.3s\n",
      "[CV] mlp__activation=identity, mlp__alpha=0.001754867149648152, mlp__hidden_layer_sizes=(279, 231), mlp__solver=lbfgs, mlp__learning_rate=constant, mlp__max_iter=3318 \n",
      "[CV]  mlp__activation=tanh, mlp__alpha=1.1509622008850312e-06, mlp__hidden_layer_sizes=(244, 159, 198), mlp__solver=lbfgs, mlp__learning_rate=invscaling, mlp__max_iter=1081, total=   9.8s\n",
      "[CV] mlp__activation=identity, mlp__alpha=3.1441083031472647, mlp__hidden_layer_sizes=(279, 231), mlp__solver=sgd, mlp__learning_rate=invscaling, mlp__max_iter=965 \n",
      "[CV]  mlp__activation=tanh, mlp__alpha=1.1509622008850312e-06, mlp__hidden_layer_sizes=(244, 159, 198), mlp__solver=lbfgs, mlp__learning_rate=invscaling, mlp__max_iter=1081, total=  10.9s\n",
      "[CV] mlp__activation=identity, mlp__alpha=3.1441083031472647, mlp__hidden_layer_sizes=(279, 231), mlp__solver=sgd, mlp__learning_rate=invscaling, mlp__max_iter=965 \n",
      "[CV]  mlp__activation=identity, mlp__alpha=3.1441083031472647, mlp__hidden_layer_sizes=(279, 231), mlp__solver=sgd, mlp__learning_rate=invscaling, mlp__max_iter=965, total=   2.6s\n",
      "[CV] mlp__activation=identity, mlp__alpha=2.0431973201952705e-07, mlp__hidden_layer_sizes=(54, 182, 222, 442), mlp__solver=sgd, mlp__learning_rate=constant, mlp__max_iter=515 \n",
      "[CV]  mlp__activation=identity, mlp__alpha=3.1441083031472647, mlp__hidden_layer_sizes=(279, 231), mlp__solver=sgd, mlp__learning_rate=invscaling, mlp__max_iter=965, total=   3.0s\n",
      "[CV] mlp__activation=identity, mlp__alpha=2.0431973201952705e-07, mlp__hidden_layer_sizes=(54, 182, 222, 442), mlp__solver=sgd, mlp__learning_rate=constant, mlp__max_iter=515 \n",
      "[CV]  mlp__activation=identity, mlp__alpha=2.0431973201952705e-07, mlp__hidden_layer_sizes=(54, 182, 222, 442), mlp__solver=sgd, mlp__learning_rate=constant, mlp__max_iter=515, total=   0.7s\n",
      "[CV] mlp__activation=relu, mlp__alpha=0.00024175940791691308, mlp__hidden_layer_sizes=(54, 182, 222, 442), mlp__solver=lbfgs, mlp__learning_rate=invscaling, mlp__max_iter=3688 \n",
      "[CV]  mlp__activation=identity, mlp__alpha=2.0431973201952705e-07, mlp__hidden_layer_sizes=(54, 182, 222, 442), mlp__solver=sgd, mlp__learning_rate=constant, mlp__max_iter=515, total=   0.5s\n",
      "[CV] mlp__activation=relu, mlp__alpha=0.00024175940791691308, mlp__hidden_layer_sizes=(54, 182, 222, 442), mlp__solver=lbfgs, mlp__learning_rate=invscaling, mlp__max_iter=3688 \n",
      "[CV]  mlp__activation=identity, mlp__alpha=0.001754867149648152, mlp__hidden_layer_sizes=(279, 231), mlp__solver=lbfgs, mlp__learning_rate=constant, mlp__max_iter=3318, total=   9.4s\n",
      "[CV] mlp__activation=tanh, mlp__alpha=0.12767507043192644, mlp__hidden_layer_sizes=(244, 159, 198), mlp__solver=sgd, mlp__learning_rate=constant, mlp__max_iter=3283 \n",
      "[CV]  mlp__activation=identity, mlp__alpha=0.001754867149648152, mlp__hidden_layer_sizes=(279, 231), mlp__solver=lbfgs, mlp__learning_rate=constant, mlp__max_iter=3318, total=   9.6s\n",
      "[CV] mlp__activation=tanh, mlp__alpha=0.12767507043192644, mlp__hidden_layer_sizes=(244, 159, 198), mlp__solver=sgd, mlp__learning_rate=constant, mlp__max_iter=3283 \n",
      "[CV]  mlp__activation=relu, mlp__alpha=0.00024175940791691308, mlp__hidden_layer_sizes=(54, 182, 222, 442), mlp__solver=lbfgs, mlp__learning_rate=invscaling, mlp__max_iter=3688, total=   7.6s\n",
      "[CV] mlp__activation=relu, mlp__alpha=8.089243486805938, mlp__hidden_layer_sizes=(54, 182, 222, 442), mlp__solver=sgd, mlp__learning_rate=constant, mlp__max_iter=2525 \n",
      "[CV]  mlp__activation=relu, mlp__alpha=0.00024175940791691308, mlp__hidden_layer_sizes=(54, 182, 222, 442), mlp__solver=lbfgs, mlp__learning_rate=invscaling, mlp__max_iter=3688, total=  13.4s\n",
      "[CV] mlp__activation=relu, mlp__alpha=8.089243486805938, mlp__hidden_layer_sizes=(54, 182, 222, 442), mlp__solver=sgd, mlp__learning_rate=constant, mlp__max_iter=2525 \n",
      "[CV]  mlp__activation=tanh, mlp__alpha=0.12767507043192644, mlp__hidden_layer_sizes=(244, 159, 198), mlp__solver=sgd, mlp__learning_rate=constant, mlp__max_iter=3283, total= 2.7min\n",
      "[CV] mlp__activation=identity, mlp__alpha=0.0903557834613892, mlp__hidden_layer_sizes=(54, 182, 222, 442), mlp__solver=sgd, mlp__learning_rate=adaptive, mlp__max_iter=4984 \n",
      "[CV]  mlp__activation=tanh, mlp__alpha=0.12767507043192644, mlp__hidden_layer_sizes=(244, 159, 198), mlp__solver=sgd, mlp__learning_rate=constant, mlp__max_iter=3283, total= 2.7min\n",
      "[CV] mlp__activation=identity, mlp__alpha=0.0903557834613892, mlp__hidden_layer_sizes=(54, 182, 222, 442), mlp__solver=sgd, mlp__learning_rate=adaptive, mlp__max_iter=4984 \n",
      "[CV]  mlp__activation=identity, mlp__alpha=0.0903557834613892, mlp__hidden_layer_sizes=(54, 182, 222, 442), mlp__solver=sgd, mlp__learning_rate=adaptive, mlp__max_iter=4984, total= 1.2min\n",
      "[CV] mlp__activation=logistic, mlp__alpha=1.5494950393146317e-07, mlp__hidden_layer_sizes=(54, 182, 222, 442), mlp__solver=lbfgs, mlp__learning_rate=adaptive, mlp__max_iter=3253 \n",
      "[CV]  mlp__activation=logistic, mlp__alpha=1.5494950393146317e-07, mlp__hidden_layer_sizes=(54, 182, 222, 442), mlp__solver=lbfgs, mlp__learning_rate=adaptive, mlp__max_iter=3253, total=   2.5s\n",
      "[CV] mlp__activation=logistic, mlp__alpha=1.5494950393146317e-07, mlp__hidden_layer_sizes=(54, 182, 222, 442), mlp__solver=lbfgs, mlp__learning_rate=adaptive, mlp__max_iter=3253 \n"
     ]
    },
    {
     "name": "stdout",
     "output_type": "stream",
     "text": [
      "[CV]  mlp__activation=logistic, mlp__alpha=1.5494950393146317e-07, mlp__hidden_layer_sizes=(54, 182, 222, 442), mlp__solver=lbfgs, mlp__learning_rate=adaptive, mlp__max_iter=3253, total=   2.4s\n",
      "[CV] mlp__activation=logistic, mlp__alpha=707.7010661181889, mlp__hidden_layer_sizes=(279, 231), mlp__solver=lbfgs, mlp__learning_rate=invscaling, mlp__max_iter=3661 \n",
      "[CV]  mlp__activation=identity, mlp__alpha=0.0903557834613892, mlp__hidden_layer_sizes=(54, 182, 222, 442), mlp__solver=sgd, mlp__learning_rate=adaptive, mlp__max_iter=4984, total= 1.3min\n",
      "[CV] mlp__activation=logistic, mlp__alpha=707.7010661181889, mlp__hidden_layer_sizes=(279, 231), mlp__solver=lbfgs, mlp__learning_rate=invscaling, mlp__max_iter=3661 \n",
      "[CV]  mlp__activation=logistic, mlp__alpha=707.7010661181889, mlp__hidden_layer_sizes=(279, 231), mlp__solver=lbfgs, mlp__learning_rate=invscaling, mlp__max_iter=3661, total=  11.0s\n",
      "[CV] mlp__activation=identity, mlp__alpha=7.548799281653431, mlp__hidden_layer_sizes=(244, 159, 198), mlp__solver=lbfgs, mlp__learning_rate=invscaling, mlp__max_iter=3588 \n",
      "[CV]  mlp__activation=logistic, mlp__alpha=707.7010661181889, mlp__hidden_layer_sizes=(279, 231), mlp__solver=lbfgs, mlp__learning_rate=invscaling, mlp__max_iter=3661, total=  12.1s\n",
      "[CV] mlp__activation=identity, mlp__alpha=7.548799281653431, mlp__hidden_layer_sizes=(244, 159, 198), mlp__solver=lbfgs, mlp__learning_rate=invscaling, mlp__max_iter=3588 \n"
     ]
    },
    {
     "name": "stderr",
     "output_type": "stream",
     "text": [
      "/home/loki/.local/lib/python2.7/site-packages/sklearn/neural_network/multilayer_perceptron.py:564: ConvergenceWarning: Stochastic Optimizer: Maximum iterations (2525) reached and the optimization hasn't converged yet.\n",
      "  % self.max_iter, ConvergenceWarning)\n",
      "/home/loki/.local/lib/python2.7/site-packages/sklearn/neural_network/multilayer_perceptron.py:564: ConvergenceWarning: Stochastic Optimizer: Maximum iterations (2525) reached and the optimization hasn't converged yet.\n",
      "  % self.max_iter, ConvergenceWarning)\n"
     ]
    },
    {
     "name": "stdout",
     "output_type": "stream",
     "text": [
      "[CV]  mlp__activation=relu, mlp__alpha=8.089243486805938, mlp__hidden_layer_sizes=(54, 182, 222, 442), mlp__solver=sgd, mlp__learning_rate=constant, mlp__max_iter=2525, total= 4.3min\n",
      "[CV]  mlp__activation=relu, mlp__alpha=8.089243486805938, mlp__hidden_layer_sizes=(54, 182, 222, 442), mlp__solver=sgd, mlp__learning_rate=constant, mlp__max_iter=2525, total= 4.3min\n",
      "[CV] mlp__activation=tanh, mlp__alpha=1.0740661533334324e-06, mlp__hidden_layer_sizes=(279, 231), mlp__solver=adam, mlp__learning_rate=invscaling, mlp__max_iter=2389 \n",
      "[CV] mlp__activation=tanh, mlp__alpha=1.0740661533334324e-06, mlp__hidden_layer_sizes=(279, 231), mlp__solver=adam, mlp__learning_rate=invscaling, mlp__max_iter=2389 \n",
      "[CV]  mlp__activation=identity, mlp__alpha=7.548799281653431, mlp__hidden_layer_sizes=(244, 159, 198), mlp__solver=lbfgs, mlp__learning_rate=invscaling, mlp__max_iter=3588, total=  17.8s\n",
      "[CV] mlp__activation=tanh, mlp__alpha=0.3859993617679771, mlp__hidden_layer_sizes=(279, 231), mlp__solver=lbfgs, mlp__learning_rate=adaptive, mlp__max_iter=3176 \n",
      "[CV]  mlp__activation=identity, mlp__alpha=7.548799281653431, mlp__hidden_layer_sizes=(244, 159, 198), mlp__solver=lbfgs, mlp__learning_rate=invscaling, mlp__max_iter=3588, total=  15.3s\n",
      "[CV] mlp__activation=tanh, mlp__alpha=0.3859993617679771, mlp__hidden_layer_sizes=(279, 231), mlp__solver=lbfgs, mlp__learning_rate=adaptive, mlp__max_iter=3176 \n",
      "[CV]  mlp__activation=tanh, mlp__alpha=1.0740661533334324e-06, mlp__hidden_layer_sizes=(279, 231), mlp__solver=adam, mlp__learning_rate=invscaling, mlp__max_iter=2389, total=  11.6s\n",
      "[CV] mlp__activation=relu, mlp__alpha=0.0021594061521035676, mlp__hidden_layer_sizes=(451,), mlp__solver=adam, mlp__learning_rate=constant, mlp__max_iter=3783 \n",
      "[CV]  mlp__activation=tanh, mlp__alpha=1.0740661533334324e-06, mlp__hidden_layer_sizes=(279, 231), mlp__solver=adam, mlp__learning_rate=invscaling, mlp__max_iter=2389, total=  13.0s\n",
      "[CV] mlp__activation=relu, mlp__alpha=0.0021594061521035676, mlp__hidden_layer_sizes=(451,), mlp__solver=adam, mlp__learning_rate=constant, mlp__max_iter=3783 \n",
      "[CV]  mlp__activation=relu, mlp__alpha=0.0021594061521035676, mlp__hidden_layer_sizes=(451,), mlp__solver=adam, mlp__learning_rate=constant, mlp__max_iter=3783, total=  16.7s\n",
      "[CV] mlp__activation=relu, mlp__alpha=0.0017957846470020968, mlp__hidden_layer_sizes=(279, 231), mlp__solver=sgd, mlp__learning_rate=invscaling, mlp__max_iter=4439 \n",
      "[CV]  mlp__activation=relu, mlp__alpha=0.0017957846470020968, mlp__hidden_layer_sizes=(279, 231), mlp__solver=sgd, mlp__learning_rate=invscaling, mlp__max_iter=4439, total=   0.8s\n",
      "[CV] mlp__activation=relu, mlp__alpha=0.0017957846470020968, mlp__hidden_layer_sizes=(279, 231), mlp__solver=sgd, mlp__learning_rate=invscaling, mlp__max_iter=4439 \n",
      "[CV]  mlp__activation=relu, mlp__alpha=0.0017957846470020968, mlp__hidden_layer_sizes=(279, 231), mlp__solver=sgd, mlp__learning_rate=invscaling, mlp__max_iter=4439, total=   0.7s\n",
      "[CV] mlp__activation=tanh, mlp__alpha=4.051423171114648, mlp__hidden_layer_sizes=(279, 231), mlp__solver=adam, mlp__learning_rate=invscaling, mlp__max_iter=1452 \n"
     ]
    },
    {
     "name": "stderr",
     "output_type": "stream",
     "text": [
      "[Parallel(n_jobs=-1)]: Done  33 tasks      | elapsed:  5.5min\n"
     ]
    },
    {
     "name": "stdout",
     "output_type": "stream",
     "text": [
      "[CV]  mlp__activation=relu, mlp__alpha=0.0021594061521035676, mlp__hidden_layer_sizes=(451,), mlp__solver=adam, mlp__learning_rate=constant, mlp__max_iter=3783, total=  24.8s\n",
      "[CV] mlp__activation=tanh, mlp__alpha=4.051423171114648, mlp__hidden_layer_sizes=(279, 231), mlp__solver=adam, mlp__learning_rate=invscaling, mlp__max_iter=1452 \n",
      "[CV]  mlp__activation=tanh, mlp__alpha=0.3859993617679771, mlp__hidden_layer_sizes=(279, 231), mlp__solver=lbfgs, mlp__learning_rate=adaptive, mlp__max_iter=3176, total=  45.0s\n",
      "[CV] mlp__activation=logistic, mlp__alpha=67.42622241778349, mlp__hidden_layer_sizes=(279, 231), mlp__solver=sgd, mlp__learning_rate=constant, mlp__max_iter=1042 \n",
      "[CV]  mlp__activation=tanh, mlp__alpha=0.3859993617679771, mlp__hidden_layer_sizes=(279, 231), mlp__solver=lbfgs, mlp__learning_rate=adaptive, mlp__max_iter=3176, total=  51.0s\n",
      "[CV] mlp__activation=logistic, mlp__alpha=67.42622241778349, mlp__hidden_layer_sizes=(279, 231), mlp__solver=sgd, mlp__learning_rate=constant, mlp__max_iter=1042 \n",
      "[CV]  mlp__activation=tanh, mlp__alpha=4.051423171114648, mlp__hidden_layer_sizes=(279, 231), mlp__solver=adam, mlp__learning_rate=invscaling, mlp__max_iter=1452, total=  38.1s\n",
      "[CV] mlp__activation=tanh, mlp__alpha=0.002314005380130654, mlp__hidden_layer_sizes=(279, 231), mlp__solver=lbfgs, mlp__learning_rate=adaptive, mlp__max_iter=3209 \n",
      "[CV]  mlp__activation=tanh, mlp__alpha=4.051423171114648, mlp__hidden_layer_sizes=(279, 231), mlp__solver=adam, mlp__learning_rate=invscaling, mlp__max_iter=1452, total=  37.7s\n",
      "[CV] mlp__activation=tanh, mlp__alpha=0.002314005380130654, mlp__hidden_layer_sizes=(279, 231), mlp__solver=lbfgs, mlp__learning_rate=adaptive, mlp__max_iter=3209 \n",
      "[CV]  mlp__activation=tanh, mlp__alpha=0.002314005380130654, mlp__hidden_layer_sizes=(279, 231), mlp__solver=lbfgs, mlp__learning_rate=adaptive, mlp__max_iter=3209, total=  10.7s\n",
      "[CV] mlp__activation=identity, mlp__alpha=1.4694918006248172, mlp__hidden_layer_sizes=(279, 231), mlp__solver=adam, mlp__learning_rate=constant, mlp__max_iter=4446 \n",
      "[CV]  mlp__activation=tanh, mlp__alpha=0.002314005380130654, mlp__hidden_layer_sizes=(279, 231), mlp__solver=lbfgs, mlp__learning_rate=adaptive, mlp__max_iter=3209, total=  12.2s\n",
      "[CV] mlp__activation=identity, mlp__alpha=1.4694918006248172, mlp__hidden_layer_sizes=(279, 231), mlp__solver=adam, mlp__learning_rate=constant, mlp__max_iter=4446 \n",
      "[CV]  mlp__activation=identity, mlp__alpha=1.4694918006248172, mlp__hidden_layer_sizes=(279, 231), mlp__solver=adam, mlp__learning_rate=constant, mlp__max_iter=4446, total=  35.9s\n",
      "[CV] mlp__activation=logistic, mlp__alpha=8.549327066268385e-06, mlp__hidden_layer_sizes=(126, 397, 56, 315, 256), mlp__solver=lbfgs, mlp__learning_rate=invscaling, mlp__max_iter=3192 \n",
      "[CV]  mlp__activation=logistic, mlp__alpha=8.549327066268385e-06, mlp__hidden_layer_sizes=(126, 397, 56, 315, 256), mlp__solver=lbfgs, mlp__learning_rate=invscaling, mlp__max_iter=3192, total=   4.0s\n",
      "[CV] mlp__activation=logistic, mlp__alpha=8.549327066268385e-06, mlp__hidden_layer_sizes=(126, 397, 56, 315, 256), mlp__solver=lbfgs, mlp__learning_rate=invscaling, mlp__max_iter=3192 \n",
      "[CV]  mlp__activation=identity, mlp__alpha=1.4694918006248172, mlp__hidden_layer_sizes=(279, 231), mlp__solver=adam, mlp__learning_rate=constant, mlp__max_iter=4446, total=  34.7s\n",
      "[CV] mlp__activation=logistic, mlp__alpha=0.021643890860640204, mlp__hidden_layer_sizes=(451,), mlp__solver=lbfgs, mlp__learning_rate=constant, mlp__max_iter=4833 \n",
      "[CV]  mlp__activation=logistic, mlp__alpha=8.549327066268385e-06, mlp__hidden_layer_sizes=(126, 397, 56, 315, 256), mlp__solver=lbfgs, mlp__learning_rate=invscaling, mlp__max_iter=3192, total=   4.1s\n",
      "[CV] mlp__activation=logistic, mlp__alpha=0.021643890860640204, mlp__hidden_layer_sizes=(451,), mlp__solver=lbfgs, mlp__learning_rate=constant, mlp__max_iter=4833 \n",
      "[CV]  mlp__activation=logistic, mlp__alpha=0.021643890860640204, mlp__hidden_layer_sizes=(451,), mlp__solver=lbfgs, mlp__learning_rate=constant, mlp__max_iter=4833, total=  32.0s\n",
      "[CV] mlp__activation=tanh, mlp__alpha=6.619433458774388e-07, mlp__hidden_layer_sizes=(54, 182, 222, 442), mlp__solver=sgd, mlp__learning_rate=adaptive, mlp__max_iter=3025 \n",
      "[CV]  mlp__activation=logistic, mlp__alpha=0.021643890860640204, mlp__hidden_layer_sizes=(451,), mlp__solver=lbfgs, mlp__learning_rate=constant, mlp__max_iter=4833, total=  41.7s\n",
      "[CV] mlp__activation=tanh, mlp__alpha=6.619433458774388e-07, mlp__hidden_layer_sizes=(54, 182, 222, 442), mlp__solver=sgd, mlp__learning_rate=adaptive, mlp__max_iter=3025 \n",
      "[CV]  mlp__activation=tanh, mlp__alpha=6.619433458774388e-07, mlp__hidden_layer_sizes=(54, 182, 222, 442), mlp__solver=sgd, mlp__learning_rate=adaptive, mlp__max_iter=3025, total=   2.8s\n"
     ]
    },
    {
     "name": "stderr",
     "output_type": "stream",
     "text": [
      "/home/loki/.local/lib/python2.7/site-packages/sklearn/neural_network/multilayer_perceptron.py:564: ConvergenceWarning: Stochastic Optimizer: Maximum iterations (1042) reached and the optimization hasn't converged yet.\n",
      "  % self.max_iter, ConvergenceWarning)\n"
     ]
    },
    {
     "name": "stdout",
     "output_type": "stream",
     "text": [
      "[CV]  mlp__activation=logistic, mlp__alpha=67.42622241778349, mlp__hidden_layer_sizes=(279, 231), mlp__solver=sgd, mlp__learning_rate=constant, mlp__max_iter=1042, total= 2.7min\n"
     ]
    },
    {
     "name": "stderr",
     "output_type": "stream",
     "text": [
      "/home/loki/.local/lib/python2.7/site-packages/sklearn/neural_network/multilayer_perceptron.py:564: ConvergenceWarning: Stochastic Optimizer: Maximum iterations (1042) reached and the optimization hasn't converged yet.\n",
      "  % self.max_iter, ConvergenceWarning)\n"
     ]
    },
    {
     "name": "stdout",
     "output_type": "stream",
     "text": [
      "[CV]  mlp__activation=logistic, mlp__alpha=67.42622241778349, mlp__hidden_layer_sizes=(279, 231), mlp__solver=sgd, mlp__learning_rate=constant, mlp__max_iter=1042, total= 2.6min\n",
      "[CV]  mlp__activation=tanh, mlp__alpha=6.619433458774388e-07, mlp__hidden_layer_sizes=(54, 182, 222, 442), mlp__solver=sgd, mlp__learning_rate=adaptive, mlp__max_iter=3025, total= 1.1min\n"
     ]
    },
    {
     "name": "stderr",
     "output_type": "stream",
     "text": [
      "[Parallel(n_jobs=-1)]: Done  50 out of  50 | elapsed:  8.6min finished\n"
     ]
    },
    {
     "name": "stdout",
     "output_type": "stream",
     "text": [
      "Fitting 2 folds for each of 25 candidates, totalling 50 fits\n"
     ]
    },
    {
     "name": "stderr",
     "output_type": "stream",
     "text": [
      "[Parallel(n_jobs=-1)]: Done  42 tasks      | elapsed:    7.8s\n",
      "[Parallel(n_jobs=-1)]: Done  50 out of  50 | elapsed:   14.4s finished\n"
     ]
    },
    {
     "name": "stdout",
     "output_type": "stream",
     "text": [
      "\n",
      "Score[median]: 0.512820512821\n",
      "From Baseline: 1.28205128205%\n",
      "From LOG: -1.28205128205%\n",
      "{'mlp__activation': 'identity', 'mlp__alpha': 1.4694918006248172, 'mlp__hidden_layer_sizes': (279, 231), 'mlp__solver': 'adam', 'mlp__learning_rate': 'constant', 'mlp__max_iter': 4446}\n",
      "LOG Params:{'log__solver': 'newton-cg', 'log__class_weight': 'balanced', 'log__max_iter': 3402, 'log__C': 1.8504070195423021}\n",
      "Fitting 2 folds for each of 25 candidates, totalling 50 fits\n",
      "[CV] mlp__activation=logistic, mlp__alpha=0.27954159990678595, mlp__hidden_layer_sizes=(54, 182, 222, 442), mlp__solver=adam, mlp__learning_rate=constant, mlp__max_iter=2933 \n",
      "[CV] mlp__activation=logistic, mlp__alpha=0.27954159990678595, mlp__hidden_layer_sizes=(54, 182, 222, 442), mlp__solver=adam, mlp__learning_rate=constant, mlp__max_iter=2933 \n",
      "[CV] mlp__activation=relu, mlp__alpha=5.898896425508493e-07, mlp__hidden_layer_sizes=(279, 231), mlp__solver=sgd, mlp__learning_rate=invscaling, mlp__max_iter=704 \n",
      "[CV] mlp__activation=relu, mlp__alpha=5.898896425508493e-07, mlp__hidden_layer_sizes=(279, 231), mlp__solver=sgd, mlp__learning_rate=invscaling, mlp__max_iter=704 \n",
      "[CV]  mlp__activation=logistic, mlp__alpha=0.27954159990678595, mlp__hidden_layer_sizes=(54, 182, 222, 442), mlp__solver=adam, mlp__learning_rate=constant, mlp__max_iter=2933, total=   1.2s\n",
      "[CV] mlp__activation=identity, mlp__alpha=416.5044248545185, mlp__hidden_layer_sizes=(54, 182, 222, 442), mlp__solver=lbfgs, mlp__learning_rate=invscaling, mlp__max_iter=3538 \n",
      "[CV]  mlp__activation=logistic, mlp__alpha=0.27954159990678595, mlp__hidden_layer_sizes=(54, 182, 222, 442), mlp__solver=adam, mlp__learning_rate=constant, mlp__max_iter=2933, total=   1.4s\n",
      "[CV] mlp__activation=identity, mlp__alpha=416.5044248545185, mlp__hidden_layer_sizes=(54, 182, 222, 442), mlp__solver=lbfgs, mlp__learning_rate=invscaling, mlp__max_iter=3538 \n",
      "[CV]  mlp__activation=relu, mlp__alpha=5.898896425508493e-07, mlp__hidden_layer_sizes=(279, 231), mlp__solver=sgd, mlp__learning_rate=invscaling, mlp__max_iter=704, total=   4.7s\n",
      "[CV] mlp__activation=relu, mlp__alpha=0.03353710152002929, mlp__hidden_layer_sizes=(244, 159, 198), mlp__solver=sgd, mlp__learning_rate=invscaling, mlp__max_iter=4624 \n",
      "[CV]  mlp__activation=relu, mlp__alpha=5.898896425508493e-07, mlp__hidden_layer_sizes=(279, 231), mlp__solver=sgd, mlp__learning_rate=invscaling, mlp__max_iter=704, total=   4.8s\n",
      "[CV] mlp__activation=relu, mlp__alpha=0.03353710152002929, mlp__hidden_layer_sizes=(244, 159, 198), mlp__solver=sgd, mlp__learning_rate=invscaling, mlp__max_iter=4624 \n",
      "[CV]  mlp__activation=identity, mlp__alpha=416.5044248545185, mlp__hidden_layer_sizes=(54, 182, 222, 442), mlp__solver=lbfgs, mlp__learning_rate=invscaling, mlp__max_iter=3538, total=   4.1s\n",
      "[CV] mlp__activation=identity, mlp__alpha=0.0005416686911033152, mlp__hidden_layer_sizes=(244, 159, 198), mlp__solver=sgd, mlp__learning_rate=invscaling, mlp__max_iter=2645 \n",
      "[CV]  mlp__activation=identity, mlp__alpha=416.5044248545185, mlp__hidden_layer_sizes=(54, 182, 222, 442), mlp__solver=lbfgs, mlp__learning_rate=invscaling, mlp__max_iter=3538, total=   4.6s\n",
      "[CV] mlp__activation=identity, mlp__alpha=0.0005416686911033152, mlp__hidden_layer_sizes=(244, 159, 198), mlp__solver=sgd, mlp__learning_rate=invscaling, mlp__max_iter=2645 \n",
      "[CV]  mlp__activation=relu, mlp__alpha=0.03353710152002929, mlp__hidden_layer_sizes=(244, 159, 198), mlp__solver=sgd, mlp__learning_rate=invscaling, mlp__max_iter=4624, total=   5.8s\n",
      "[CV] mlp__activation=logistic, mlp__alpha=2.199593068030075e-05, mlp__hidden_layer_sizes=(451,), mlp__solver=adam, mlp__learning_rate=invscaling, mlp__max_iter=987 \n",
      "[CV]  mlp__activation=relu, mlp__alpha=0.03353710152002929, mlp__hidden_layer_sizes=(244, 159, 198), mlp__solver=sgd, mlp__learning_rate=invscaling, mlp__max_iter=4624, total=   6.7s\n",
      "[CV] mlp__activation=logistic, mlp__alpha=2.199593068030075e-05, mlp__hidden_layer_sizes=(451,), mlp__solver=adam, mlp__learning_rate=invscaling, mlp__max_iter=987 \n",
      "[CV]  mlp__activation=identity, mlp__alpha=0.0005416686911033152, mlp__hidden_layer_sizes=(244, 159, 198), mlp__solver=sgd, mlp__learning_rate=invscaling, mlp__max_iter=2645, total=  23.9s\n",
      "[CV] mlp__activation=logistic, mlp__alpha=5.46685729972018, mlp__hidden_layer_sizes=(279, 231), mlp__solver=lbfgs, mlp__learning_rate=invscaling, mlp__max_iter=2323 \n",
      "[CV]  mlp__activation=identity, mlp__alpha=0.0005416686911033152, mlp__hidden_layer_sizes=(244, 159, 198), mlp__solver=sgd, mlp__learning_rate=invscaling, mlp__max_iter=2645, total=  23.6s\n",
      "[CV] mlp__activation=logistic, mlp__alpha=5.46685729972018, mlp__hidden_layer_sizes=(279, 231), mlp__solver=lbfgs, mlp__learning_rate=invscaling, mlp__max_iter=2323 \n",
      "[CV]  mlp__activation=logistic, mlp__alpha=5.46685729972018, mlp__hidden_layer_sizes=(279, 231), mlp__solver=lbfgs, mlp__learning_rate=invscaling, mlp__max_iter=2323, total=  26.6s\n",
      "[CV] mlp__activation=relu, mlp__alpha=0.0596727119597331, mlp__hidden_layer_sizes=(451,), mlp__solver=adam, mlp__learning_rate=constant, mlp__max_iter=1202 \n",
      "[CV]  mlp__activation=logistic, mlp__alpha=5.46685729972018, mlp__hidden_layer_sizes=(279, 231), mlp__solver=lbfgs, mlp__learning_rate=invscaling, mlp__max_iter=2323, total=  27.9s\n",
      "[CV] mlp__activation=relu, mlp__alpha=0.0596727119597331, mlp__hidden_layer_sizes=(451,), mlp__solver=adam, mlp__learning_rate=constant, mlp__max_iter=1202 \n",
      "[CV]  mlp__activation=logistic, mlp__alpha=2.199593068030075e-05, mlp__hidden_layer_sizes=(451,), mlp__solver=adam, mlp__learning_rate=invscaling, mlp__max_iter=987, total=  49.9s\n",
      "[CV] mlp__activation=tanh, mlp__alpha=0.004838209664925958, mlp__hidden_layer_sizes=(279, 231), mlp__solver=sgd, mlp__learning_rate=invscaling, mlp__max_iter=1231 \n",
      "[CV]  mlp__activation=logistic, mlp__alpha=2.199593068030075e-05, mlp__hidden_layer_sizes=(451,), mlp__solver=adam, mlp__learning_rate=invscaling, mlp__max_iter=987, total=  58.9s\n",
      "[CV] mlp__activation=tanh, mlp__alpha=0.004838209664925958, mlp__hidden_layer_sizes=(279, 231), mlp__solver=sgd, mlp__learning_rate=invscaling, mlp__max_iter=1231 \n",
      "[CV]  mlp__activation=tanh, mlp__alpha=0.004838209664925958, mlp__hidden_layer_sizes=(279, 231), mlp__solver=sgd, mlp__learning_rate=invscaling, mlp__max_iter=1231, total=  19.0s\n",
      "[CV] mlp__activation=tanh, mlp__alpha=9.50556592010119, mlp__hidden_layer_sizes=(54, 182, 222, 442), mlp__solver=sgd, mlp__learning_rate=constant, mlp__max_iter=1785 \n",
      "[CV]  mlp__activation=tanh, mlp__alpha=0.004838209664925958, mlp__hidden_layer_sizes=(279, 231), mlp__solver=sgd, mlp__learning_rate=invscaling, mlp__max_iter=1231, total=  18.0s\n",
      "[CV] mlp__activation=tanh, mlp__alpha=9.50556592010119, mlp__hidden_layer_sizes=(54, 182, 222, 442), mlp__solver=sgd, mlp__learning_rate=constant, mlp__max_iter=1785 \n",
      "[CV]  mlp__activation=relu, mlp__alpha=0.0596727119597331, mlp__hidden_layer_sizes=(451,), mlp__solver=adam, mlp__learning_rate=constant, mlp__max_iter=1202, total=  58.6s\n",
      "[CV] mlp__activation=relu, mlp__alpha=46.63034929742736, mlp__hidden_layer_sizes=(244, 159, 198), mlp__solver=lbfgs, mlp__learning_rate=constant, mlp__max_iter=1342 \n",
      "[CV]  mlp__activation=relu, mlp__alpha=0.0596727119597331, mlp__hidden_layer_sizes=(451,), mlp__solver=adam, mlp__learning_rate=constant, mlp__max_iter=1202, total= 1.1min\n",
      "[CV] mlp__activation=relu, mlp__alpha=46.63034929742736, mlp__hidden_layer_sizes=(244, 159, 198), mlp__solver=lbfgs, mlp__learning_rate=constant, mlp__max_iter=1342 \n",
      "[CV]  mlp__activation=relu, mlp__alpha=46.63034929742736, mlp__hidden_layer_sizes=(244, 159, 198), mlp__solver=lbfgs, mlp__learning_rate=constant, mlp__max_iter=1342, total=   9.9s\n",
      "[CV] mlp__activation=tanh, mlp__alpha=0.0011589483034398118, mlp__hidden_layer_sizes=(244, 159, 198), mlp__solver=sgd, mlp__learning_rate=adaptive, mlp__max_iter=4713 \n",
      "[CV]  mlp__activation=relu, mlp__alpha=46.63034929742736, mlp__hidden_layer_sizes=(244, 159, 198), mlp__solver=lbfgs, mlp__learning_rate=constant, mlp__max_iter=1342, total=  11.1s\n",
      "[CV] mlp__activation=tanh, mlp__alpha=0.0011589483034398118, mlp__hidden_layer_sizes=(244, 159, 198), mlp__solver=sgd, mlp__learning_rate=adaptive, mlp__max_iter=4713 \n",
      "[CV]  mlp__activation=tanh, mlp__alpha=0.0011589483034398118, mlp__hidden_layer_sizes=(244, 159, 198), mlp__solver=sgd, mlp__learning_rate=adaptive, mlp__max_iter=4713, total= 2.3min\n"
     ]
    },
    {
     "name": "stdout",
     "output_type": "stream",
     "text": [
      "[CV] mlp__activation=identity, mlp__alpha=8.728526623848371e-07, mlp__hidden_layer_sizes=(244, 159, 198), mlp__solver=adam, mlp__learning_rate=invscaling, mlp__max_iter=1834 \n",
      "[CV]  mlp__activation=identity, mlp__alpha=8.728526623848371e-07, mlp__hidden_layer_sizes=(244, 159, 198), mlp__solver=adam, mlp__learning_rate=invscaling, mlp__max_iter=1834, total=   3.6s\n",
      "[CV] mlp__activation=identity, mlp__alpha=8.728526623848371e-07, mlp__hidden_layer_sizes=(244, 159, 198), mlp__solver=adam, mlp__learning_rate=invscaling, mlp__max_iter=1834 \n",
      "[CV]  mlp__activation=identity, mlp__alpha=8.728526623848371e-07, mlp__hidden_layer_sizes=(244, 159, 198), mlp__solver=adam, mlp__learning_rate=invscaling, mlp__max_iter=1834, total=  15.4s\n",
      "[CV] mlp__activation=relu, mlp__alpha=9.593608287093147e-06, mlp__hidden_layer_sizes=(451,), mlp__solver=lbfgs, mlp__learning_rate=invscaling, mlp__max_iter=3907 \n",
      "[CV]  mlp__activation=tanh, mlp__alpha=0.0011589483034398118, mlp__hidden_layer_sizes=(244, 159, 198), mlp__solver=sgd, mlp__learning_rate=adaptive, mlp__max_iter=4713, total= 2.5min\n",
      "[CV] mlp__activation=relu, mlp__alpha=9.593608287093147e-06, mlp__hidden_layer_sizes=(451,), mlp__solver=lbfgs, mlp__learning_rate=invscaling, mlp__max_iter=3907 \n",
      "[CV]  mlp__activation=relu, mlp__alpha=9.593608287093147e-06, mlp__hidden_layer_sizes=(451,), mlp__solver=lbfgs, mlp__learning_rate=invscaling, mlp__max_iter=3907, total=   9.4s\n",
      "[CV] mlp__activation=relu, mlp__alpha=0.0003746050032748993, mlp__hidden_layer_sizes=(244, 159, 198), mlp__solver=sgd, mlp__learning_rate=invscaling, mlp__max_iter=4713 \n",
      "[CV]  mlp__activation=relu, mlp__alpha=0.0003746050032748993, mlp__hidden_layer_sizes=(244, 159, 198), mlp__solver=sgd, mlp__learning_rate=invscaling, mlp__max_iter=4713, total=   5.8s\n",
      "[CV] mlp__activation=relu, mlp__alpha=0.0003746050032748993, mlp__hidden_layer_sizes=(244, 159, 198), mlp__solver=sgd, mlp__learning_rate=invscaling, mlp__max_iter=4713 \n",
      "[CV]  mlp__activation=relu, mlp__alpha=9.593608287093147e-06, mlp__hidden_layer_sizes=(451,), mlp__solver=lbfgs, mlp__learning_rate=invscaling, mlp__max_iter=3907, total=  16.2s\n",
      "[CV] mlp__activation=identity, mlp__alpha=2.052637752709252e-05, mlp__hidden_layer_sizes=(126, 397, 56, 315, 256), mlp__solver=lbfgs, mlp__learning_rate=constant, mlp__max_iter=528 \n",
      "[CV]  mlp__activation=relu, mlp__alpha=0.0003746050032748993, mlp__hidden_layer_sizes=(244, 159, 198), mlp__solver=sgd, mlp__learning_rate=invscaling, mlp__max_iter=4713, total=   6.1s\n",
      "[CV] mlp__activation=identity, mlp__alpha=2.052637752709252e-05, mlp__hidden_layer_sizes=(126, 397, 56, 315, 256), mlp__solver=lbfgs, mlp__learning_rate=constant, mlp__max_iter=528 \n",
      "[CV]  mlp__activation=identity, mlp__alpha=2.052637752709252e-05, mlp__hidden_layer_sizes=(126, 397, 56, 315, 256), mlp__solver=lbfgs, mlp__learning_rate=constant, mlp__max_iter=528, total=   4.9s\n",
      "[CV] mlp__activation=relu, mlp__alpha=4.695390010680063e-06, mlp__hidden_layer_sizes=(279, 231), mlp__solver=lbfgs, mlp__learning_rate=constant, mlp__max_iter=4765 \n"
     ]
    },
    {
     "name": "stderr",
     "output_type": "stream",
     "text": [
      "/home/loki/.local/lib/python2.7/site-packages/sklearn/neural_network/multilayer_perceptron.py:564: ConvergenceWarning: Stochastic Optimizer: Maximum iterations (1785) reached and the optimization hasn't converged yet.\n",
      "  % self.max_iter, ConvergenceWarning)\n"
     ]
    },
    {
     "name": "stdout",
     "output_type": "stream",
     "text": [
      "[CV]  mlp__activation=tanh, mlp__alpha=9.50556592010119, mlp__hidden_layer_sizes=(54, 182, 222, 442), mlp__solver=sgd, mlp__learning_rate=constant, mlp__max_iter=1785, total= 3.8min\n",
      "[CV] mlp__activation=relu, mlp__alpha=4.695390010680063e-06, mlp__hidden_layer_sizes=(279, 231), mlp__solver=lbfgs, mlp__learning_rate=constant, mlp__max_iter=4765 \n"
     ]
    },
    {
     "name": "stderr",
     "output_type": "stream",
     "text": [
      "/home/loki/.local/lib/python2.7/site-packages/sklearn/neural_network/multilayer_perceptron.py:564: ConvergenceWarning: Stochastic Optimizer: Maximum iterations (1785) reached and the optimization hasn't converged yet.\n",
      "  % self.max_iter, ConvergenceWarning)\n"
     ]
    },
    {
     "name": "stdout",
     "output_type": "stream",
     "text": [
      "[CV]  mlp__activation=tanh, mlp__alpha=9.50556592010119, mlp__hidden_layer_sizes=(54, 182, 222, 442), mlp__solver=sgd, mlp__learning_rate=constant, mlp__max_iter=1785, total= 3.7min\n",
      "[CV] mlp__activation=tanh, mlp__alpha=0.02066880249629082, mlp__hidden_layer_sizes=(279, 231), mlp__solver=lbfgs, mlp__learning_rate=constant, mlp__max_iter=4719 \n",
      "[CV]  mlp__activation=relu, mlp__alpha=4.695390010680063e-06, mlp__hidden_layer_sizes=(279, 231), mlp__solver=lbfgs, mlp__learning_rate=constant, mlp__max_iter=4765, total=   7.1s\n",
      "[CV] mlp__activation=tanh, mlp__alpha=0.02066880249629082, mlp__hidden_layer_sizes=(279, 231), mlp__solver=lbfgs, mlp__learning_rate=constant, mlp__max_iter=4719 \n",
      "[CV]  mlp__activation=identity, mlp__alpha=2.052637752709252e-05, mlp__hidden_layer_sizes=(126, 397, 56, 315, 256), mlp__solver=lbfgs, mlp__learning_rate=constant, mlp__max_iter=528, total=   8.1s\n",
      "[CV] mlp__activation=tanh, mlp__alpha=9.593608287093147e-06, mlp__hidden_layer_sizes=(451,), mlp__solver=adam, mlp__learning_rate=adaptive, mlp__max_iter=2552 \n"
     ]
    },
    {
     "name": "stderr",
     "output_type": "stream",
     "text": [
      "[Parallel(n_jobs=-1)]: Done  33 tasks      | elapsed:  5.2min\n"
     ]
    },
    {
     "name": "stdout",
     "output_type": "stream",
     "text": [
      "[CV]  mlp__activation=tanh, mlp__alpha=0.02066880249629082, mlp__hidden_layer_sizes=(279, 231), mlp__solver=lbfgs, mlp__learning_rate=constant, mlp__max_iter=4719, total=   6.2s\n",
      "[CV] mlp__activation=tanh, mlp__alpha=9.593608287093147e-06, mlp__hidden_layer_sizes=(451,), mlp__solver=adam, mlp__learning_rate=adaptive, mlp__max_iter=2552 \n",
      "[CV]  mlp__activation=relu, mlp__alpha=4.695390010680063e-06, mlp__hidden_layer_sizes=(279, 231), mlp__solver=lbfgs, mlp__learning_rate=constant, mlp__max_iter=4765, total=  12.6s\n",
      "[CV] mlp__activation=logistic, mlp__alpha=114.56687286348726, mlp__hidden_layer_sizes=(244, 159, 198), mlp__solver=lbfgs, mlp__learning_rate=invscaling, mlp__max_iter=1247 \n",
      "[CV]  mlp__activation=tanh, mlp__alpha=9.593608287093147e-06, mlp__hidden_layer_sizes=(451,), mlp__solver=adam, mlp__learning_rate=adaptive, mlp__max_iter=2552, total=  10.7s\n",
      "[CV] mlp__activation=logistic, mlp__alpha=114.56687286348726, mlp__hidden_layer_sizes=(244, 159, 198), mlp__solver=lbfgs, mlp__learning_rate=invscaling, mlp__max_iter=1247 \n",
      "[CV]  mlp__activation=tanh, mlp__alpha=0.02066880249629082, mlp__hidden_layer_sizes=(279, 231), mlp__solver=lbfgs, mlp__learning_rate=constant, mlp__max_iter=4719, total=  15.0s\n",
      "[CV] mlp__activation=relu, mlp__alpha=0.017589165903277325, mlp__hidden_layer_sizes=(279, 231), mlp__solver=sgd, mlp__learning_rate=constant, mlp__max_iter=798 \n",
      "[CV]  mlp__activation=tanh, mlp__alpha=9.593608287093147e-06, mlp__hidden_layer_sizes=(451,), mlp__solver=adam, mlp__learning_rate=adaptive, mlp__max_iter=2552, total=  11.4s\n",
      "[CV] mlp__activation=relu, mlp__alpha=0.017589165903277325, mlp__hidden_layer_sizes=(279, 231), mlp__solver=sgd, mlp__learning_rate=constant, mlp__max_iter=798 \n",
      "[CV]  mlp__activation=logistic, mlp__alpha=114.56687286348726, mlp__hidden_layer_sizes=(244, 159, 198), mlp__solver=lbfgs, mlp__learning_rate=invscaling, mlp__max_iter=1247, total=  11.4s\n",
      "[CV] mlp__activation=relu, mlp__alpha=5.25679112201842e-07, mlp__hidden_layer_sizes=(244, 159, 198), mlp__solver=adam, mlp__learning_rate=invscaling, mlp__max_iter=4860 \n",
      "[CV]  mlp__activation=logistic, mlp__alpha=114.56687286348726, mlp__hidden_layer_sizes=(244, 159, 198), mlp__solver=lbfgs, mlp__learning_rate=invscaling, mlp__max_iter=1247, total=  10.3s\n",
      "[CV] mlp__activation=relu, mlp__alpha=5.25679112201842e-07, mlp__hidden_layer_sizes=(244, 159, 198), mlp__solver=adam, mlp__learning_rate=invscaling, mlp__max_iter=4860 \n",
      "[CV]  mlp__activation=relu, mlp__alpha=5.25679112201842e-07, mlp__hidden_layer_sizes=(244, 159, 198), mlp__solver=adam, mlp__learning_rate=invscaling, mlp__max_iter=4860, total=  12.8s\n",
      "[CV] mlp__activation=relu, mlp__alpha=109.40547072057436, mlp__hidden_layer_sizes=(244, 159, 198), mlp__solver=lbfgs, mlp__learning_rate=constant, mlp__max_iter=1135 \n",
      "[CV]  mlp__activation=relu, mlp__alpha=109.40547072057436, mlp__hidden_layer_sizes=(244, 159, 198), mlp__solver=lbfgs, mlp__learning_rate=constant, mlp__max_iter=1135, total=   8.0s\n",
      "[CV] mlp__activation=relu, mlp__alpha=109.40547072057436, mlp__hidden_layer_sizes=(244, 159, 198), mlp__solver=lbfgs, mlp__learning_rate=constant, mlp__max_iter=1135 \n",
      "[CV]  mlp__activation=relu, mlp__alpha=5.25679112201842e-07, mlp__hidden_layer_sizes=(244, 159, 198), mlp__solver=adam, mlp__learning_rate=invscaling, mlp__max_iter=4860, total=  23.4s\n",
      "[CV] mlp__activation=identity, mlp__alpha=0.0047279695916003905, mlp__hidden_layer_sizes=(244, 159, 198), mlp__solver=sgd, mlp__learning_rate=invscaling, mlp__max_iter=4116 \n",
      "[CV]  mlp__activation=relu, mlp__alpha=109.40547072057436, mlp__hidden_layer_sizes=(244, 159, 198), mlp__solver=lbfgs, mlp__learning_rate=constant, mlp__max_iter=1135, total=   8.5s\n",
      "[CV] mlp__activation=identity, mlp__alpha=0.0047279695916003905, mlp__hidden_layer_sizes=(244, 159, 198), mlp__solver=sgd, mlp__learning_rate=invscaling, mlp__max_iter=4116 \n",
      "[CV]  mlp__activation=identity, mlp__alpha=0.0047279695916003905, mlp__hidden_layer_sizes=(244, 159, 198), mlp__solver=sgd, mlp__learning_rate=invscaling, mlp__max_iter=4116, total=  33.4s\n",
      "[CV] mlp__activation=logistic, mlp__alpha=5.101615314749834, mlp__hidden_layer_sizes=(244, 159, 198), mlp__solver=adam, mlp__learning_rate=adaptive, mlp__max_iter=2867 \n",
      "[CV]  mlp__activation=relu, mlp__alpha=0.017589165903277325, mlp__hidden_layer_sizes=(279, 231), mlp__solver=sgd, mlp__learning_rate=constant, mlp__max_iter=798, total= 1.3min\n",
      "[CV] mlp__activation=logistic, mlp__alpha=5.101615314749834, mlp__hidden_layer_sizes=(244, 159, 198), mlp__solver=adam, mlp__learning_rate=adaptive, mlp__max_iter=2867 \n",
      "[CV]  mlp__activation=identity, mlp__alpha=0.0047279695916003905, mlp__hidden_layer_sizes=(244, 159, 198), mlp__solver=sgd, mlp__learning_rate=invscaling, mlp__max_iter=4116, total=  48.8s\n",
      "[CV]  mlp__activation=logistic, mlp__alpha=5.101615314749834, mlp__hidden_layer_sizes=(244, 159, 198), mlp__solver=adam, mlp__learning_rate=adaptive, mlp__max_iter=2867, total=  23.3s\n",
      "[CV]  mlp__activation=logistic, mlp__alpha=5.101615314749834, mlp__hidden_layer_sizes=(244, 159, 198), mlp__solver=adam, mlp__learning_rate=adaptive, mlp__max_iter=2867, total=  20.9s\n"
     ]
    },
    {
     "name": "stderr",
     "output_type": "stream",
     "text": [
      "/home/loki/.local/lib/python2.7/site-packages/sklearn/neural_network/multilayer_perceptron.py:564: ConvergenceWarning: Stochastic Optimizer: Maximum iterations (798) reached and the optimization hasn't converged yet.\n",
      "  % self.max_iter, ConvergenceWarning)\n"
     ]
    },
    {
     "name": "stdout",
     "output_type": "stream",
     "text": [
      "[CV]  mlp__activation=relu, mlp__alpha=0.017589165903277325, mlp__hidden_layer_sizes=(279, 231), mlp__solver=sgd, mlp__learning_rate=constant, mlp__max_iter=798, total= 1.7min\n"
     ]
    },
    {
     "name": "stderr",
     "output_type": "stream",
     "text": [
      "[Parallel(n_jobs=-1)]: Done  50 out of  50 | elapsed:  7.2min finished\n"
     ]
    },
    {
     "name": "stdout",
     "output_type": "stream",
     "text": [
      "Fitting 2 folds for each of 25 candidates, totalling 50 fits\n"
     ]
    },
    {
     "name": "stderr",
     "output_type": "stream",
     "text": [
      "[Parallel(n_jobs=-1)]: Done  50 out of  50 | elapsed:   31.2s finished\n"
     ]
    },
    {
     "name": "stdout",
     "output_type": "stream",
     "text": [
      "\n",
      "Score[mean]: 0.910256410256\n",
      "From Baseline: 0.0%\n",
      "From LOG: -1.28205128205%\n",
      "{'mlp__activation': 'logistic', 'mlp__alpha': 2.199593068030075e-05, 'mlp__hidden_layer_sizes': (451,), 'mlp__solver': 'adam', 'mlp__learning_rate': 'invscaling', 'mlp__max_iter': 987}\n",
      "LOG Params:{'log__solver': 'newton-cg', 'log__class_weight': 'balanced', 'log__max_iter': 780, 'log__C': 3.479697903887688e-06}\n",
      "\n",
      "3-4_16\n",
      "Median Baseline: 0.506024096386\n",
      "Mean Baseline: 0.903614457831\n",
      "\n",
      "Fitting 2 folds for each of 25 candidates, totalling 50 fits\n",
      "[CV] mlp__activation=relu, mlp__alpha=3.292437333007769, mlp__hidden_layer_sizes=(244, 159, 198), mlp__solver=adam, mlp__learning_rate=invscaling, mlp__max_iter=3176 \n",
      "[CV] mlp__activation=relu, mlp__alpha=3.292437333007769, mlp__hidden_layer_sizes=(244, 159, 198), mlp__solver=adam, mlp__learning_rate=invscaling, mlp__max_iter=3176 \n",
      "[CV] mlp__activation=tanh, mlp__alpha=1.2915496650148827e-06, mlp__hidden_layer_sizes=(244, 159, 198), mlp__solver=adam, mlp__learning_rate=constant, mlp__max_iter=1841 \n",
      "[CV] mlp__activation=tanh, mlp__alpha=1.2915496650148827e-06, mlp__hidden_layer_sizes=(244, 159, 198), mlp__solver=adam, mlp__learning_rate=constant, mlp__max_iter=1841 \n",
      "[CV]  mlp__activation=tanh, mlp__alpha=1.2915496650148827e-06, mlp__hidden_layer_sizes=(244, 159, 198), mlp__solver=adam, mlp__learning_rate=constant, mlp__max_iter=1841, total=   5.6s\n",
      "[CV] mlp__activation=logistic, mlp__alpha=5.379361503980697e-07, mlp__hidden_layer_sizes=(451,), mlp__solver=lbfgs, mlp__learning_rate=adaptive, mlp__max_iter=2291 \n",
      "[CV]  mlp__activation=tanh, mlp__alpha=1.2915496650148827e-06, mlp__hidden_layer_sizes=(244, 159, 198), mlp__solver=adam, mlp__learning_rate=constant, mlp__max_iter=1841, total=   6.1s\n",
      "[CV] mlp__activation=logistic, mlp__alpha=5.379361503980697e-07, mlp__hidden_layer_sizes=(451,), mlp__solver=lbfgs, mlp__learning_rate=adaptive, mlp__max_iter=2291 \n",
      "[CV]  mlp__activation=logistic, mlp__alpha=5.379361503980697e-07, mlp__hidden_layer_sizes=(451,), mlp__solver=lbfgs, mlp__learning_rate=adaptive, mlp__max_iter=2291, total=  27.4s\n",
      "[CV] mlp__activation=identity, mlp__alpha=2.8213076759394705e-07, mlp__hidden_layer_sizes=(279, 231), mlp__solver=sgd, mlp__learning_rate=constant, mlp__max_iter=716 \n",
      "[CV]  mlp__activation=logistic, mlp__alpha=5.379361503980697e-07, mlp__hidden_layer_sizes=(451,), mlp__solver=lbfgs, mlp__learning_rate=adaptive, mlp__max_iter=2291, total=  27.2s\n",
      "[CV] mlp__activation=identity, mlp__alpha=2.8213076759394705e-07, mlp__hidden_layer_sizes=(279, 231), mlp__solver=sgd, mlp__learning_rate=constant, mlp__max_iter=716 \n",
      "[CV]  mlp__activation=relu, mlp__alpha=3.292437333007769, mlp__hidden_layer_sizes=(244, 159, 198), mlp__solver=adam, mlp__learning_rate=invscaling, mlp__max_iter=3176, total=  55.6s\n",
      "[CV] mlp__activation=relu, mlp__alpha=70.6071771413778, mlp__hidden_layer_sizes=(279, 231), mlp__solver=lbfgs, mlp__learning_rate=adaptive, mlp__max_iter=4829 \n",
      "[CV]  mlp__activation=relu, mlp__alpha=3.292437333007769, mlp__hidden_layer_sizes=(244, 159, 198), mlp__solver=adam, mlp__learning_rate=invscaling, mlp__max_iter=3176, total=  57.0s\n",
      "[CV] mlp__activation=relu, mlp__alpha=70.6071771413778, mlp__hidden_layer_sizes=(279, 231), mlp__solver=lbfgs, mlp__learning_rate=adaptive, mlp__max_iter=4829 \n",
      "[CV]  mlp__activation=relu, mlp__alpha=70.6071771413778, mlp__hidden_layer_sizes=(279, 231), mlp__solver=lbfgs, mlp__learning_rate=adaptive, mlp__max_iter=4829, total=   8.4s\n",
      "[CV] mlp__activation=logistic, mlp__alpha=8.183006815867389e-05, mlp__hidden_layer_sizes=(451,), mlp__solver=sgd, mlp__learning_rate=constant, mlp__max_iter=2124 \n",
      "[CV]  mlp__activation=relu, mlp__alpha=70.6071771413778, mlp__hidden_layer_sizes=(279, 231), mlp__solver=lbfgs, mlp__learning_rate=adaptive, mlp__max_iter=4829, total=   7.4s\n",
      "[CV] mlp__activation=logistic, mlp__alpha=8.183006815867389e-05, mlp__hidden_layer_sizes=(451,), mlp__solver=sgd, mlp__learning_rate=constant, mlp__max_iter=2124 \n",
      "[CV]  mlp__activation=logistic, mlp__alpha=8.183006815867389e-05, mlp__hidden_layer_sizes=(451,), mlp__solver=sgd, mlp__learning_rate=constant, mlp__max_iter=2124, total=   6.6s\n",
      "[CV] mlp__activation=logistic, mlp__alpha=1.9511483468466165e-07, mlp__hidden_layer_sizes=(451,), mlp__solver=adam, mlp__learning_rate=adaptive, mlp__max_iter=2312 \n",
      "[CV]  mlp__activation=logistic, mlp__alpha=8.183006815867389e-05, mlp__hidden_layer_sizes=(451,), mlp__solver=sgd, mlp__learning_rate=constant, mlp__max_iter=2124, total=   8.9s\n",
      "[CV] mlp__activation=logistic, mlp__alpha=1.9511483468466165e-07, mlp__hidden_layer_sizes=(451,), mlp__solver=adam, mlp__learning_rate=adaptive, mlp__max_iter=2312 \n",
      "[CV]  mlp__activation=logistic, mlp__alpha=1.9511483468466165e-07, mlp__hidden_layer_sizes=(451,), mlp__solver=adam, mlp__learning_rate=adaptive, mlp__max_iter=2312, total=  59.5s\n",
      "[CV] mlp__activation=identity, mlp__alpha=169.52323415541213, mlp__hidden_layer_sizes=(244, 159, 198), mlp__solver=lbfgs, mlp__learning_rate=invscaling, mlp__max_iter=2065 \n",
      "[CV]  mlp__activation=identity, mlp__alpha=169.52323415541213, mlp__hidden_layer_sizes=(244, 159, 198), mlp__solver=lbfgs, mlp__learning_rate=invscaling, mlp__max_iter=2065, total=   8.3s\n",
      "[CV] mlp__activation=identity, mlp__alpha=169.52323415541213, mlp__hidden_layer_sizes=(244, 159, 198), mlp__solver=lbfgs, mlp__learning_rate=invscaling, mlp__max_iter=2065 \n",
      "[CV]  mlp__activation=identity, mlp__alpha=169.52323415541213, mlp__hidden_layer_sizes=(244, 159, 198), mlp__solver=lbfgs, mlp__learning_rate=invscaling, mlp__max_iter=2065, total=   7.6s\n",
      "[CV] mlp__activation=relu, mlp__alpha=62.921461096103506, mlp__hidden_layer_sizes=(451,), mlp__solver=lbfgs, mlp__learning_rate=constant, mlp__max_iter=1032 \n",
      "[CV]  mlp__activation=relu, mlp__alpha=62.921461096103506, mlp__hidden_layer_sizes=(451,), mlp__solver=lbfgs, mlp__learning_rate=constant, mlp__max_iter=1032, total=  11.0s\n",
      "[CV] mlp__activation=relu, mlp__alpha=62.921461096103506, mlp__hidden_layer_sizes=(451,), mlp__solver=lbfgs, mlp__learning_rate=constant, mlp__max_iter=1032 \n",
      "[CV]  mlp__activation=logistic, mlp__alpha=1.9511483468466165e-07, mlp__hidden_layer_sizes=(451,), mlp__solver=adam, mlp__learning_rate=adaptive, mlp__max_iter=2312, total= 1.6min\n",
      "[CV] mlp__activation=identity, mlp__alpha=1.5388177500383464, mlp__hidden_layer_sizes=(126, 397, 56, 315, 256), mlp__solver=lbfgs, mlp__learning_rate=constant, mlp__max_iter=3311 \n",
      "[CV]  mlp__activation=relu, mlp__alpha=62.921461096103506, mlp__hidden_layer_sizes=(451,), mlp__solver=lbfgs, mlp__learning_rate=constant, mlp__max_iter=1032, total=  10.6s\n",
      "[CV] mlp__activation=identity, mlp__alpha=1.5388177500383464, mlp__hidden_layer_sizes=(126, 397, 56, 315, 256), mlp__solver=lbfgs, mlp__learning_rate=constant, mlp__max_iter=3311 \n",
      "[CV]  mlp__activation=identity, mlp__alpha=1.5388177500383464, mlp__hidden_layer_sizes=(126, 397, 56, 315, 256), mlp__solver=lbfgs, mlp__learning_rate=constant, mlp__max_iter=3311, total=  45.5s\n",
      "[CV] mlp__activation=relu, mlp__alpha=0.04321511127789762, mlp__hidden_layer_sizes=(54, 182, 222, 442), mlp__solver=sgd, mlp__learning_rate=constant, mlp__max_iter=2122 \n",
      "[CV]  mlp__activation=relu, mlp__alpha=0.04321511127789762, mlp__hidden_layer_sizes=(54, 182, 222, 442), mlp__solver=sgd, mlp__learning_rate=constant, mlp__max_iter=2122, total=   1.0s\n",
      "[CV] mlp__activation=relu, mlp__alpha=0.04321511127789762, mlp__hidden_layer_sizes=(54, 182, 222, 442), mlp__solver=sgd, mlp__learning_rate=constant, mlp__max_iter=2122 \n",
      "[CV]  mlp__activation=relu, mlp__alpha=0.04321511127789762, mlp__hidden_layer_sizes=(54, 182, 222, 442), mlp__solver=sgd, mlp__learning_rate=constant, mlp__max_iter=2122, total=   0.9s\n",
      "[CV] mlp__activation=tanh, mlp__alpha=0.0068365160045102385, mlp__hidden_layer_sizes=(244, 159, 198), mlp__solver=lbfgs, mlp__learning_rate=adaptive, mlp__max_iter=1354 \n",
      "[CV]  mlp__activation=identity, mlp__alpha=1.5388177500383464, mlp__hidden_layer_sizes=(126, 397, 56, 315, 256), mlp__solver=lbfgs, mlp__learning_rate=constant, mlp__max_iter=3311, total=  53.6s\n",
      "[CV] mlp__activation=tanh, mlp__alpha=0.0068365160045102385, mlp__hidden_layer_sizes=(244, 159, 198), mlp__solver=lbfgs, mlp__learning_rate=adaptive, mlp__max_iter=1354 \n",
      "[CV]  mlp__activation=tanh, mlp__alpha=0.0068365160045102385, mlp__hidden_layer_sizes=(244, 159, 198), mlp__solver=lbfgs, mlp__learning_rate=adaptive, mlp__max_iter=1354, total=  28.5s\n"
     ]
    },
    {
     "name": "stdout",
     "output_type": "stream",
     "text": [
      "[CV] mlp__activation=identity, mlp__alpha=0.005184593543892913, mlp__hidden_layer_sizes=(126, 397, 56, 315, 256), mlp__solver=lbfgs, mlp__learning_rate=adaptive, mlp__max_iter=3687 \n"
     ]
    },
    {
     "name": "stderr",
     "output_type": "stream",
     "text": [
      "/home/loki/.local/lib/python2.7/site-packages/sklearn/neural_network/multilayer_perceptron.py:564: ConvergenceWarning: Stochastic Optimizer: Maximum iterations (716) reached and the optimization hasn't converged yet.\n",
      "  % self.max_iter, ConvergenceWarning)\n"
     ]
    },
    {
     "name": "stdout",
     "output_type": "stream",
     "text": [
      "[CV]  mlp__activation=identity, mlp__alpha=2.8213076759394705e-07, mlp__hidden_layer_sizes=(279, 231), mlp__solver=sgd, mlp__learning_rate=constant, mlp__max_iter=716, total= 3.5min\n",
      "[CV] mlp__activation=identity, mlp__alpha=0.005184593543892913, mlp__hidden_layer_sizes=(126, 397, 56, 315, 256), mlp__solver=lbfgs, mlp__learning_rate=adaptive, mlp__max_iter=3687 \n"
     ]
    },
    {
     "name": "stderr",
     "output_type": "stream",
     "text": [
      "/home/loki/.local/lib/python2.7/site-packages/sklearn/neural_network/multilayer_perceptron.py:564: ConvergenceWarning: Stochastic Optimizer: Maximum iterations (716) reached and the optimization hasn't converged yet.\n",
      "  % self.max_iter, ConvergenceWarning)\n"
     ]
    },
    {
     "name": "stdout",
     "output_type": "stream",
     "text": [
      "[CV]  mlp__activation=identity, mlp__alpha=2.8213076759394705e-07, mlp__hidden_layer_sizes=(279, 231), mlp__solver=sgd, mlp__learning_rate=constant, mlp__max_iter=716, total= 3.6min\n",
      "[CV] mlp__activation=relu, mlp__alpha=2.769761935036891e-05, mlp__hidden_layer_sizes=(244, 159, 198), mlp__solver=adam, mlp__learning_rate=adaptive, mlp__max_iter=2643 \n",
      "[CV]  mlp__activation=relu, mlp__alpha=2.769761935036891e-05, mlp__hidden_layer_sizes=(244, 159, 198), mlp__solver=adam, mlp__learning_rate=adaptive, mlp__max_iter=2643, total=   7.9s\n",
      "[CV] mlp__activation=relu, mlp__alpha=2.769761935036891e-05, mlp__hidden_layer_sizes=(244, 159, 198), mlp__solver=adam, mlp__learning_rate=adaptive, mlp__max_iter=2643 \n",
      "[CV]  mlp__activation=tanh, mlp__alpha=0.0068365160045102385, mlp__hidden_layer_sizes=(244, 159, 198), mlp__solver=lbfgs, mlp__learning_rate=adaptive, mlp__max_iter=1354, total=  35.0s\n",
      "[CV] mlp__activation=relu, mlp__alpha=0.029886528735503827, mlp__hidden_layer_sizes=(451,), mlp__solver=adam, mlp__learning_rate=constant, mlp__max_iter=1599 \n",
      "[CV]  mlp__activation=identity, mlp__alpha=0.005184593543892913, mlp__hidden_layer_sizes=(126, 397, 56, 315, 256), mlp__solver=lbfgs, mlp__learning_rate=adaptive, mlp__max_iter=3687, total=  16.6s\n",
      "[CV] mlp__activation=relu, mlp__alpha=0.029886528735503827, mlp__hidden_layer_sizes=(451,), mlp__solver=adam, mlp__learning_rate=constant, mlp__max_iter=1599 \n",
      "[CV]  mlp__activation=identity, mlp__alpha=0.005184593543892913, mlp__hidden_layer_sizes=(126, 397, 56, 315, 256), mlp__solver=lbfgs, mlp__learning_rate=adaptive, mlp__max_iter=3687, total=  16.0s\n",
      "[CV] mlp__activation=relu, mlp__alpha=0.1607704421673822, mlp__hidden_layer_sizes=(54, 182, 222, 442), mlp__solver=adam, mlp__learning_rate=adaptive, mlp__max_iter=1768 \n",
      "[CV]  mlp__activation=relu, mlp__alpha=2.769761935036891e-05, mlp__hidden_layer_sizes=(244, 159, 198), mlp__solver=adam, mlp__learning_rate=adaptive, mlp__max_iter=2643, total=   7.9s\n",
      "[CV] mlp__activation=relu, mlp__alpha=0.1607704421673822, mlp__hidden_layer_sizes=(54, 182, 222, 442), mlp__solver=adam, mlp__learning_rate=adaptive, mlp__max_iter=1768 \n",
      "[CV]  mlp__activation=relu, mlp__alpha=0.1607704421673822, mlp__hidden_layer_sizes=(54, 182, 222, 442), mlp__solver=adam, mlp__learning_rate=adaptive, mlp__max_iter=1768, total=   8.3s\n",
      "[CV] mlp__activation=relu, mlp__alpha=2.675638444552045, mlp__hidden_layer_sizes=(126, 397, 56, 315, 256), mlp__solver=sgd, mlp__learning_rate=invscaling, mlp__max_iter=1113 \n",
      "[CV]  mlp__activation=relu, mlp__alpha=0.1607704421673822, mlp__hidden_layer_sizes=(54, 182, 222, 442), mlp__solver=adam, mlp__learning_rate=adaptive, mlp__max_iter=1768, total=  14.1s\n",
      "[CV] mlp__activation=relu, mlp__alpha=2.675638444552045, mlp__hidden_layer_sizes=(126, 397, 56, 315, 256), mlp__solver=sgd, mlp__learning_rate=invscaling, mlp__max_iter=1113 \n",
      "[CV]  mlp__activation=relu, mlp__alpha=0.029886528735503827, mlp__hidden_layer_sizes=(451,), mlp__solver=adam, mlp__learning_rate=constant, mlp__max_iter=1599, total=  33.6s\n",
      "[CV] mlp__activation=relu, mlp__alpha=223.53696459097966, mlp__hidden_layer_sizes=(451,), mlp__solver=lbfgs, mlp__learning_rate=adaptive, mlp__max_iter=4342 \n",
      "[CV]  mlp__activation=relu, mlp__alpha=0.029886528735503827, mlp__hidden_layer_sizes=(451,), mlp__solver=adam, mlp__learning_rate=constant, mlp__max_iter=1599, total=  34.8s\n",
      "[CV] mlp__activation=relu, mlp__alpha=223.53696459097966, mlp__hidden_layer_sizes=(451,), mlp__solver=lbfgs, mlp__learning_rate=adaptive, mlp__max_iter=4342 \n",
      "[CV]  mlp__activation=relu, mlp__alpha=223.53696459097966, mlp__hidden_layer_sizes=(451,), mlp__solver=lbfgs, mlp__learning_rate=adaptive, mlp__max_iter=4342, total=   8.7s\n",
      "[CV] mlp__activation=logistic, mlp__alpha=0.00021544346900318845, mlp__hidden_layer_sizes=(126, 397, 56, 315, 256), mlp__solver=sgd, mlp__learning_rate=adaptive, mlp__max_iter=1142 \n"
     ]
    },
    {
     "name": "stderr",
     "output_type": "stream",
     "text": [
      "[Parallel(n_jobs=-1)]: Done  33 tasks      | elapsed:  5.1min\n"
     ]
    },
    {
     "name": "stdout",
     "output_type": "stream",
     "text": [
      "[CV]  mlp__activation=relu, mlp__alpha=223.53696459097966, mlp__hidden_layer_sizes=(451,), mlp__solver=lbfgs, mlp__learning_rate=adaptive, mlp__max_iter=4342, total=  10.0s\n",
      "[CV] mlp__activation=logistic, mlp__alpha=0.00021544346900318845, mlp__hidden_layer_sizes=(126, 397, 56, 315, 256), mlp__solver=sgd, mlp__learning_rate=adaptive, mlp__max_iter=1142 \n",
      "[CV]  mlp__activation=logistic, mlp__alpha=0.00021544346900318845, mlp__hidden_layer_sizes=(126, 397, 56, 315, 256), mlp__solver=sgd, mlp__learning_rate=adaptive, mlp__max_iter=1142, total=   9.6s\n",
      "[CV] mlp__activation=tanh, mlp__alpha=0.0006078323128297229, mlp__hidden_layer_sizes=(54, 182, 222, 442), mlp__solver=adam, mlp__learning_rate=adaptive, mlp__max_iter=4268 \n",
      "[CV]  mlp__activation=logistic, mlp__alpha=0.00021544346900318845, mlp__hidden_layer_sizes=(126, 397, 56, 315, 256), mlp__solver=sgd, mlp__learning_rate=adaptive, mlp__max_iter=1142, total=   8.2s\n",
      "[CV] mlp__activation=tanh, mlp__alpha=0.0006078323128297229, mlp__hidden_layer_sizes=(54, 182, 222, 442), mlp__solver=adam, mlp__learning_rate=adaptive, mlp__max_iter=4268 \n",
      "[CV]  mlp__activation=tanh, mlp__alpha=0.0006078323128297229, mlp__hidden_layer_sizes=(54, 182, 222, 442), mlp__solver=adam, mlp__learning_rate=adaptive, mlp__max_iter=4268, total=   4.1s\n",
      "[CV] mlp__activation=logistic, mlp__alpha=0.00038333951017666015, mlp__hidden_layer_sizes=(126, 397, 56, 315, 256), mlp__solver=adam, mlp__learning_rate=constant, mlp__max_iter=2147 \n",
      "[CV]  mlp__activation=tanh, mlp__alpha=0.0006078323128297229, mlp__hidden_layer_sizes=(54, 182, 222, 442), mlp__solver=adam, mlp__learning_rate=adaptive, mlp__max_iter=4268, total=   3.5s\n",
      "[CV] mlp__activation=logistic, mlp__alpha=0.00038333951017666015, mlp__hidden_layer_sizes=(126, 397, 56, 315, 256), mlp__solver=adam, mlp__learning_rate=constant, mlp__max_iter=2147 \n",
      "[CV]  mlp__activation=logistic, mlp__alpha=0.00038333951017666015, mlp__hidden_layer_sizes=(126, 397, 56, 315, 256), mlp__solver=adam, mlp__learning_rate=constant, mlp__max_iter=2147, total=   2.8s\n",
      "[CV] mlp__activation=tanh, mlp__alpha=3.2174181506763717, mlp__hidden_layer_sizes=(54, 182, 222, 442), mlp__solver=adam, mlp__learning_rate=constant, mlp__max_iter=1411 \n",
      "[CV]  mlp__activation=logistic, mlp__alpha=0.00038333951017666015, mlp__hidden_layer_sizes=(126, 397, 56, 315, 256), mlp__solver=adam, mlp__learning_rate=constant, mlp__max_iter=2147, total=   2.9s\n",
      "[CV] mlp__activation=tanh, mlp__alpha=3.2174181506763717, mlp__hidden_layer_sizes=(54, 182, 222, 442), mlp__solver=adam, mlp__learning_rate=constant, mlp__max_iter=1411 \n",
      "[CV]  mlp__activation=tanh, mlp__alpha=3.2174181506763717, mlp__hidden_layer_sizes=(54, 182, 222, 442), mlp__solver=adam, mlp__learning_rate=constant, mlp__max_iter=1411, total=  30.1s\n",
      "[CV] mlp__activation=logistic, mlp__alpha=41.554553347188794, mlp__hidden_layer_sizes=(126, 397, 56, 315, 256), mlp__solver=sgd, mlp__learning_rate=adaptive, mlp__max_iter=2124 \n",
      "[CV]  mlp__activation=tanh, mlp__alpha=3.2174181506763717, mlp__hidden_layer_sizes=(54, 182, 222, 442), mlp__solver=adam, mlp__learning_rate=constant, mlp__max_iter=1411, total=  31.7s\n",
      "[CV] mlp__activation=logistic, mlp__alpha=41.554553347188794, mlp__hidden_layer_sizes=(126, 397, 56, 315, 256), mlp__solver=sgd, mlp__learning_rate=adaptive, mlp__max_iter=2124 \n",
      "[CV]  mlp__activation=relu, mlp__alpha=2.675638444552045, mlp__hidden_layer_sizes=(126, 397, 56, 315, 256), mlp__solver=sgd, mlp__learning_rate=invscaling, mlp__max_iter=1113, total= 1.4min\n",
      "[CV] mlp__activation=logistic, mlp__alpha=362.7100252330648, mlp__hidden_layer_sizes=(451,), mlp__solver=sgd, mlp__learning_rate=constant, mlp__max_iter=2827 \n",
      "[CV]  mlp__activation=relu, mlp__alpha=2.675638444552045, mlp__hidden_layer_sizes=(126, 397, 56, 315, 256), mlp__solver=sgd, mlp__learning_rate=invscaling, mlp__max_iter=1113, total= 1.6min\n",
      "[CV] mlp__activation=logistic, mlp__alpha=362.7100252330648, mlp__hidden_layer_sizes=(451,), mlp__solver=sgd, mlp__learning_rate=constant, mlp__max_iter=2827 \n",
      "[CV]  mlp__activation=logistic, mlp__alpha=362.7100252330648, mlp__hidden_layer_sizes=(451,), mlp__solver=sgd, mlp__learning_rate=constant, mlp__max_iter=2827, total=   8.2s\n",
      "[CV] mlp__activation=tanh, mlp__alpha=8.277856966198472, mlp__hidden_layer_sizes=(279, 231), mlp__solver=sgd, mlp__learning_rate=adaptive, mlp__max_iter=782 \n",
      "[CV]  mlp__activation=logistic, mlp__alpha=362.7100252330648, mlp__hidden_layer_sizes=(451,), mlp__solver=sgd, mlp__learning_rate=constant, mlp__max_iter=2827, total=   8.4s\n",
      "[CV] mlp__activation=tanh, mlp__alpha=8.277856966198472, mlp__hidden_layer_sizes=(279, 231), mlp__solver=sgd, mlp__learning_rate=adaptive, mlp__max_iter=782 \n",
      "[CV]  mlp__activation=logistic, mlp__alpha=41.554553347188794, mlp__hidden_layer_sizes=(126, 397, 56, 315, 256), mlp__solver=sgd, mlp__learning_rate=adaptive, mlp__max_iter=2124, total= 1.2min\n",
      "[CV]  mlp__activation=logistic, mlp__alpha=41.554553347188794, mlp__hidden_layer_sizes=(126, 397, 56, 315, 256), mlp__solver=sgd, mlp__learning_rate=adaptive, mlp__max_iter=2124, total= 1.3min\n"
     ]
    },
    {
     "name": "stderr",
     "output_type": "stream",
     "text": [
      "/home/loki/.local/lib/python2.7/site-packages/sklearn/neural_network/multilayer_perceptron.py:564: ConvergenceWarning: Stochastic Optimizer: Maximum iterations (782) reached and the optimization hasn't converged yet.\n",
      "  % self.max_iter, ConvergenceWarning)\n"
     ]
    },
    {
     "name": "stdout",
     "output_type": "stream",
     "text": [
      "[CV]  mlp__activation=tanh, mlp__alpha=8.277856966198472, mlp__hidden_layer_sizes=(279, 231), mlp__solver=sgd, mlp__learning_rate=adaptive, mlp__max_iter=782, total= 2.4min\n"
     ]
    },
    {
     "name": "stderr",
     "output_type": "stream",
     "text": [
      "/home/loki/.local/lib/python2.7/site-packages/sklearn/neural_network/multilayer_perceptron.py:564: ConvergenceWarning: Stochastic Optimizer: Maximum iterations (782) reached and the optimization hasn't converged yet.\n",
      "  % self.max_iter, ConvergenceWarning)\n"
     ]
    },
    {
     "name": "stdout",
     "output_type": "stream",
     "text": [
      "[CV]  mlp__activation=tanh, mlp__alpha=8.277856966198472, mlp__hidden_layer_sizes=(279, 231), mlp__solver=sgd, mlp__learning_rate=adaptive, mlp__max_iter=782, total= 2.4min\n"
     ]
    },
    {
     "name": "stderr",
     "output_type": "stream",
     "text": [
      "[Parallel(n_jobs=-1)]: Done  50 out of  50 | elapsed:  8.7min finished\n"
     ]
    },
    {
     "name": "stdout",
     "output_type": "stream",
     "text": [
      "Fitting 2 folds for each of 25 candidates, totalling 50 fits\n"
     ]
    },
    {
     "name": "stderr",
     "output_type": "stream",
     "text": [
      "[Parallel(n_jobs=-1)]: Done  42 tasks      | elapsed:    8.4s\n",
      "[Parallel(n_jobs=-1)]: Done  50 out of  50 | elapsed:   16.2s finished\n"
     ]
    },
    {
     "name": "stdout",
     "output_type": "stream",
     "text": [
      "\n",
      "Score[median]: 0.867469879518\n",
      "From Baseline: 36.1445783133%\n",
      "From LOG: 0.0%\n",
      "{'mlp__activation': 'tanh', 'mlp__alpha': 3.2174181506763717, 'mlp__hidden_layer_sizes': (54, 182, 222, 442), 'mlp__solver': 'adam', 'mlp__learning_rate': 'constant', 'mlp__max_iter': 1411}\n",
      "LOG Params:{'log__solver': 'lbfgs', 'log__class_weight': None, 'log__max_iter': 3970, 'log__C': 2.555097090352507}\n",
      "Fitting 2 folds for each of 25 candidates, totalling 50 fits\n",
      "[CV] mlp__activation=identity, mlp__alpha=3.471686818926559e-07, mlp__hidden_layer_sizes=(54, 182, 222, 442), mlp__solver=adam, mlp__learning_rate=adaptive, mlp__max_iter=1668 \n",
      "[CV] mlp__activation=identity, mlp__alpha=3.471686818926559e-07, mlp__hidden_layer_sizes=(54, 182, 222, 442), mlp__solver=adam, mlp__learning_rate=adaptive, mlp__max_iter=1668 \n",
      "[CV] mlp__activation=relu, mlp__alpha=0.00019199206655932848, mlp__hidden_layer_sizes=(451,), mlp__solver=lbfgs, mlp__learning_rate=constant, mlp__max_iter=1091 \n",
      "[CV] mlp__activation=relu, mlp__alpha=0.00019199206655932848, mlp__hidden_layer_sizes=(451,), mlp__solver=lbfgs, mlp__learning_rate=constant, mlp__max_iter=1091 \n",
      "[CV]  mlp__activation=identity, mlp__alpha=3.471686818926559e-07, mlp__hidden_layer_sizes=(54, 182, 222, 442), mlp__solver=adam, mlp__learning_rate=adaptive, mlp__max_iter=1668, total=   2.8s\n",
      "[CV] mlp__activation=logistic, mlp__alpha=1.1247371783647508e-06, mlp__hidden_layer_sizes=(279, 231), mlp__solver=adam, mlp__learning_rate=constant, mlp__max_iter=1459 \n",
      "[CV]  mlp__activation=identity, mlp__alpha=3.471686818926559e-07, mlp__hidden_layer_sizes=(54, 182, 222, 442), mlp__solver=adam, mlp__learning_rate=adaptive, mlp__max_iter=1668, total=   2.9s\n",
      "[CV] mlp__activation=logistic, mlp__alpha=1.1247371783647508e-06, mlp__hidden_layer_sizes=(279, 231), mlp__solver=adam, mlp__learning_rate=constant, mlp__max_iter=1459 \n",
      "[CV]  mlp__activation=logistic, mlp__alpha=1.1247371783647508e-06, mlp__hidden_layer_sizes=(279, 231), mlp__solver=adam, mlp__learning_rate=constant, mlp__max_iter=1459, total=   1.8s\n",
      "[CV] mlp__activation=relu, mlp__alpha=11.43031129114481, mlp__hidden_layer_sizes=(126, 397, 56, 315, 256), mlp__solver=adam, mlp__learning_rate=adaptive, mlp__max_iter=3560 \n",
      "[CV]  mlp__activation=logistic, mlp__alpha=1.1247371783647508e-06, mlp__hidden_layer_sizes=(279, 231), mlp__solver=adam, mlp__learning_rate=constant, mlp__max_iter=1459, total=   2.5s\n",
      "[CV] mlp__activation=relu, mlp__alpha=11.43031129114481, mlp__hidden_layer_sizes=(126, 397, 56, 315, 256), mlp__solver=adam, mlp__learning_rate=adaptive, mlp__max_iter=3560 \n",
      "[CV]  mlp__activation=relu, mlp__alpha=0.00019199206655932848, mlp__hidden_layer_sizes=(451,), mlp__solver=lbfgs, mlp__learning_rate=constant, mlp__max_iter=1091, total=  10.9s\n",
      "[CV] mlp__activation=identity, mlp__alpha=0.0004939621743878321, mlp__hidden_layer_sizes=(126, 397, 56, 315, 256), mlp__solver=lbfgs, mlp__learning_rate=constant, mlp__max_iter=818 \n",
      "[CV]  mlp__activation=identity, mlp__alpha=0.0004939621743878321, mlp__hidden_layer_sizes=(126, 397, 56, 315, 256), mlp__solver=lbfgs, mlp__learning_rate=constant, mlp__max_iter=818, total=   5.1s\n",
      "[CV] mlp__activation=identity, mlp__alpha=0.0004939621743878321, mlp__hidden_layer_sizes=(126, 397, 56, 315, 256), mlp__solver=lbfgs, mlp__learning_rate=constant, mlp__max_iter=818 \n",
      "[CV]  mlp__activation=relu, mlp__alpha=0.00019199206655932848, mlp__hidden_layer_sizes=(451,), mlp__solver=lbfgs, mlp__learning_rate=constant, mlp__max_iter=1091, total=  18.5s\n",
      "[CV] mlp__activation=relu, mlp__alpha=6.650018030431119e-05, mlp__hidden_layer_sizes=(126, 397, 56, 315, 256), mlp__solver=adam, mlp__learning_rate=invscaling, mlp__max_iter=693 \n",
      "[CV]  mlp__activation=identity, mlp__alpha=0.0004939621743878321, mlp__hidden_layer_sizes=(126, 397, 56, 315, 256), mlp__solver=lbfgs, mlp__learning_rate=constant, mlp__max_iter=818, total=  13.2s\n",
      "[CV] mlp__activation=relu, mlp__alpha=6.650018030431119e-05, mlp__hidden_layer_sizes=(126, 397, 56, 315, 256), mlp__solver=adam, mlp__learning_rate=invscaling, mlp__max_iter=693 \n",
      "[CV]  mlp__activation=relu, mlp__alpha=6.650018030431119e-05, mlp__hidden_layer_sizes=(126, 397, 56, 315, 256), mlp__solver=adam, mlp__learning_rate=invscaling, mlp__max_iter=693, total=  12.3s\n",
      "[CV] mlp__activation=identity, mlp__alpha=3.7374257423910643e-05, mlp__hidden_layer_sizes=(451,), mlp__solver=adam, mlp__learning_rate=adaptive, mlp__max_iter=3253 \n",
      "[CV]  mlp__activation=relu, mlp__alpha=6.650018030431119e-05, mlp__hidden_layer_sizes=(126, 397, 56, 315, 256), mlp__solver=adam, mlp__learning_rate=invscaling, mlp__max_iter=693, total=  18.8s\n",
      "[CV] mlp__activation=identity, mlp__alpha=3.7374257423910643e-05, mlp__hidden_layer_sizes=(451,), mlp__solver=adam, mlp__learning_rate=adaptive, mlp__max_iter=3253 \n",
      "[CV]  mlp__activation=relu, mlp__alpha=11.43031129114481, mlp__hidden_layer_sizes=(126, 397, 56, 315, 256), mlp__solver=adam, mlp__learning_rate=adaptive, mlp__max_iter=3560, total=  44.1s\n",
      "[CV] mlp__activation=relu, mlp__alpha=0.005685317913873753, mlp__hidden_layer_sizes=(279, 231), mlp__solver=lbfgs, mlp__learning_rate=constant, mlp__max_iter=4593 \n",
      "[CV]  mlp__activation=relu, mlp__alpha=11.43031129114481, mlp__hidden_layer_sizes=(126, 397, 56, 315, 256), mlp__solver=adam, mlp__learning_rate=adaptive, mlp__max_iter=3560, total=  48.7s\n",
      "[CV] mlp__activation=relu, mlp__alpha=0.005685317913873753, mlp__hidden_layer_sizes=(279, 231), mlp__solver=lbfgs, mlp__learning_rate=constant, mlp__max_iter=4593 \n",
      "[CV]  mlp__activation=identity, mlp__alpha=3.7374257423910643e-05, mlp__hidden_layer_sizes=(451,), mlp__solver=adam, mlp__learning_rate=adaptive, mlp__max_iter=3253, total=  24.2s\n",
      "[CV] mlp__activation=logistic, mlp__alpha=28.738126918510694, mlp__hidden_layer_sizes=(451,), mlp__solver=lbfgs, mlp__learning_rate=constant, mlp__max_iter=3085 \n",
      "[CV]  mlp__activation=relu, mlp__alpha=0.005685317913873753, mlp__hidden_layer_sizes=(279, 231), mlp__solver=lbfgs, mlp__learning_rate=constant, mlp__max_iter=4593, total=  19.1s\n",
      "[CV] mlp__activation=logistic, mlp__alpha=28.738126918510694, mlp__hidden_layer_sizes=(451,), mlp__solver=lbfgs, mlp__learning_rate=constant, mlp__max_iter=3085 \n",
      "[CV]  mlp__activation=relu, mlp__alpha=0.005685317913873753, mlp__hidden_layer_sizes=(279, 231), mlp__solver=lbfgs, mlp__learning_rate=constant, mlp__max_iter=4593, total=  15.9s\n",
      "[CV] mlp__activation=identity, mlp__alpha=1.4195547660501015e-05, mlp__hidden_layer_sizes=(244, 159, 198), mlp__solver=adam, mlp__learning_rate=constant, mlp__max_iter=1371 \n",
      "[CV]  mlp__activation=identity, mlp__alpha=3.7374257423910643e-05, mlp__hidden_layer_sizes=(451,), mlp__solver=adam, mlp__learning_rate=adaptive, mlp__max_iter=3253, total=  21.7s\n",
      "[CV] mlp__activation=identity, mlp__alpha=1.4195547660501015e-05, mlp__hidden_layer_sizes=(244, 159, 198), mlp__solver=adam, mlp__learning_rate=constant, mlp__max_iter=1371 \n",
      "[CV]  mlp__activation=identity, mlp__alpha=1.4195547660501015e-05, mlp__hidden_layer_sizes=(244, 159, 198), mlp__solver=adam, mlp__learning_rate=constant, mlp__max_iter=1371, total=   4.5s\n",
      "[CV] mlp__activation=relu, mlp__alpha=5.268921421350677e-06, mlp__hidden_layer_sizes=(451,), mlp__solver=sgd, mlp__learning_rate=adaptive, mlp__max_iter=585 \n",
      "[CV]  mlp__activation=identity, mlp__alpha=1.4195547660501015e-05, mlp__hidden_layer_sizes=(244, 159, 198), mlp__solver=adam, mlp__learning_rate=constant, mlp__max_iter=1371, total=   4.9s\n",
      "[CV] mlp__activation=relu, mlp__alpha=5.268921421350677e-06, mlp__hidden_layer_sizes=(451,), mlp__solver=sgd, mlp__learning_rate=adaptive, mlp__max_iter=585 \n",
      "[CV]  mlp__activation=logistic, mlp__alpha=28.738126918510694, mlp__hidden_layer_sizes=(451,), mlp__solver=lbfgs, mlp__learning_rate=constant, mlp__max_iter=3085, total=  22.5s\n",
      "[CV] mlp__activation=logistic, mlp__alpha=6.619433458774388e-07, mlp__hidden_layer_sizes=(54, 182, 222, 442), mlp__solver=adam, mlp__learning_rate=invscaling, mlp__max_iter=2845 \n",
      "[CV]  mlp__activation=logistic, mlp__alpha=6.619433458774388e-07, mlp__hidden_layer_sizes=(54, 182, 222, 442), mlp__solver=adam, mlp__learning_rate=invscaling, mlp__max_iter=2845, total=   1.8s\n",
      "[CV] mlp__activation=logistic, mlp__alpha=6.619433458774388e-07, mlp__hidden_layer_sizes=(54, 182, 222, 442), mlp__solver=adam, mlp__learning_rate=invscaling, mlp__max_iter=2845 \n"
     ]
    },
    {
     "name": "stdout",
     "output_type": "stream",
     "text": [
      "[CV]  mlp__activation=logistic, mlp__alpha=6.619433458774388e-07, mlp__hidden_layer_sizes=(54, 182, 222, 442), mlp__solver=adam, mlp__learning_rate=invscaling, mlp__max_iter=2845, total=   1.8s\n",
      "[CV] mlp__activation=identity, mlp__alpha=8.748668120479914e-06, mlp__hidden_layer_sizes=(451,), mlp__solver=sgd, mlp__learning_rate=invscaling, mlp__max_iter=2723 \n",
      "[CV]  mlp__activation=logistic, mlp__alpha=28.738126918510694, mlp__hidden_layer_sizes=(451,), mlp__solver=lbfgs, mlp__learning_rate=constant, mlp__max_iter=3085, total=  37.2s\n",
      "[CV] mlp__activation=identity, mlp__alpha=8.748668120479914e-06, mlp__hidden_layer_sizes=(451,), mlp__solver=sgd, mlp__learning_rate=invscaling, mlp__max_iter=2723 \n",
      "[CV]  mlp__activation=identity, mlp__alpha=8.748668120479914e-06, mlp__hidden_layer_sizes=(451,), mlp__solver=sgd, mlp__learning_rate=invscaling, mlp__max_iter=2723, total=  27.2s\n",
      "[CV] mlp__activation=identity, mlp__alpha=7.275483529196233e-06, mlp__hidden_layer_sizes=(244, 159, 198), mlp__solver=adam, mlp__learning_rate=adaptive, mlp__max_iter=1137 \n",
      "[CV]  mlp__activation=identity, mlp__alpha=7.275483529196233e-06, mlp__hidden_layer_sizes=(244, 159, 198), mlp__solver=adam, mlp__learning_rate=adaptive, mlp__max_iter=1137, total=   6.7s\n",
      "[CV] mlp__activation=identity, mlp__alpha=7.275483529196233e-06, mlp__hidden_layer_sizes=(244, 159, 198), mlp__solver=adam, mlp__learning_rate=adaptive, mlp__max_iter=1137 \n",
      "[CV]  mlp__activation=identity, mlp__alpha=7.275483529196233e-06, mlp__hidden_layer_sizes=(244, 159, 198), mlp__solver=adam, mlp__learning_rate=adaptive, mlp__max_iter=1137, total=   6.6s\n",
      "[CV] mlp__activation=logistic, mlp__alpha=1.4526539259467812e-05, mlp__hidden_layer_sizes=(279, 231), mlp__solver=sgd, mlp__learning_rate=adaptive, mlp__max_iter=1533 \n",
      "[CV]  mlp__activation=logistic, mlp__alpha=1.4526539259467812e-05, mlp__hidden_layer_sizes=(279, 231), mlp__solver=sgd, mlp__learning_rate=adaptive, mlp__max_iter=1533, total=  11.6s\n",
      "[CV] mlp__activation=logistic, mlp__alpha=1.4526539259467812e-05, mlp__hidden_layer_sizes=(279, 231), mlp__solver=sgd, mlp__learning_rate=adaptive, mlp__max_iter=1533 \n",
      "[CV]  mlp__activation=logistic, mlp__alpha=1.4526539259467812e-05, mlp__hidden_layer_sizes=(279, 231), mlp__solver=sgd, mlp__learning_rate=adaptive, mlp__max_iter=1533, total=  11.3s\n",
      "[CV] mlp__activation=logistic, mlp__alpha=0.008608647696149245, mlp__hidden_layer_sizes=(126, 397, 56, 315, 256), mlp__solver=adam, mlp__learning_rate=constant, mlp__max_iter=928 \n",
      "[CV]  mlp__activation=logistic, mlp__alpha=0.008608647696149245, mlp__hidden_layer_sizes=(126, 397, 56, 315, 256), mlp__solver=adam, mlp__learning_rate=constant, mlp__max_iter=928, total=   2.6s\n",
      "[CV] mlp__activation=logistic, mlp__alpha=0.008608647696149245, mlp__hidden_layer_sizes=(126, 397, 56, 315, 256), mlp__solver=adam, mlp__learning_rate=constant, mlp__max_iter=928 \n",
      "[CV]  mlp__activation=logistic, mlp__alpha=0.008608647696149245, mlp__hidden_layer_sizes=(126, 397, 56, 315, 256), mlp__solver=adam, mlp__learning_rate=constant, mlp__max_iter=928, total=   2.7s\n",
      "[CV] mlp__activation=identity, mlp__alpha=2.8213076759394705e-07, mlp__hidden_layer_sizes=(451,), mlp__solver=adam, mlp__learning_rate=invscaling, mlp__max_iter=3390 \n",
      "[CV]  mlp__activation=identity, mlp__alpha=8.748668120479914e-06, mlp__hidden_layer_sizes=(451,), mlp__solver=sgd, mlp__learning_rate=invscaling, mlp__max_iter=2723, total=  49.0s\n",
      "[CV] mlp__activation=identity, mlp__alpha=2.8213076759394705e-07, mlp__hidden_layer_sizes=(451,), mlp__solver=adam, mlp__learning_rate=invscaling, mlp__max_iter=3390 \n",
      "[CV]  mlp__activation=identity, mlp__alpha=2.8213076759394705e-07, mlp__hidden_layer_sizes=(451,), mlp__solver=adam, mlp__learning_rate=invscaling, mlp__max_iter=3390, total=  26.1s\n",
      "[CV] mlp__activation=tanh, mlp__alpha=0.2434368873543108, mlp__hidden_layer_sizes=(244, 159, 198), mlp__solver=adam, mlp__learning_rate=invscaling, mlp__max_iter=4116 \n",
      "[CV]  mlp__activation=identity, mlp__alpha=2.8213076759394705e-07, mlp__hidden_layer_sizes=(451,), mlp__solver=adam, mlp__learning_rate=invscaling, mlp__max_iter=3390, total=  24.8s\n",
      "[CV] mlp__activation=tanh, mlp__alpha=0.2434368873543108, mlp__hidden_layer_sizes=(244, 159, 198), mlp__solver=adam, mlp__learning_rate=invscaling, mlp__max_iter=4116 \n",
      "[CV]  mlp__activation=tanh, mlp__alpha=0.2434368873543108, mlp__hidden_layer_sizes=(244, 159, 198), mlp__solver=adam, mlp__learning_rate=invscaling, mlp__max_iter=4116, total=  32.5s\n",
      "[CV] mlp__activation=identity, mlp__alpha=0.12476595526308684, mlp__hidden_layer_sizes=(244, 159, 198), mlp__solver=lbfgs, mlp__learning_rate=constant, mlp__max_iter=2008 \n"
     ]
    },
    {
     "name": "stderr",
     "output_type": "stream",
     "text": [
      "[Parallel(n_jobs=-1)]: Done  33 tasks      | elapsed:  3.6min\n"
     ]
    },
    {
     "name": "stdout",
     "output_type": "stream",
     "text": [
      "[CV]  mlp__activation=tanh, mlp__alpha=0.2434368873543108, mlp__hidden_layer_sizes=(244, 159, 198), mlp__solver=adam, mlp__learning_rate=invscaling, mlp__max_iter=4116, total=  56.3s\n",
      "[CV] mlp__activation=identity, mlp__alpha=0.12476595526308684, mlp__hidden_layer_sizes=(244, 159, 198), mlp__solver=lbfgs, mlp__learning_rate=constant, mlp__max_iter=2008 \n",
      "[CV]  mlp__activation=identity, mlp__alpha=0.12476595526308684, mlp__hidden_layer_sizes=(244, 159, 198), mlp__solver=lbfgs, mlp__learning_rate=constant, mlp__max_iter=2008, total=  22.8s\n",
      "[CV] mlp__activation=tanh, mlp__alpha=0.00011041880508541602, mlp__hidden_layer_sizes=(244, 159, 198), mlp__solver=lbfgs, mlp__learning_rate=invscaling, mlp__max_iter=1493 \n",
      "[CV]  mlp__activation=tanh, mlp__alpha=0.00011041880508541602, mlp__hidden_layer_sizes=(244, 159, 198), mlp__solver=lbfgs, mlp__learning_rate=invscaling, mlp__max_iter=1493, total=   8.0s\n",
      "[CV] mlp__activation=tanh, mlp__alpha=0.00011041880508541602, mlp__hidden_layer_sizes=(244, 159, 198), mlp__solver=lbfgs, mlp__learning_rate=invscaling, mlp__max_iter=1493 \n",
      "[CV]  mlp__activation=tanh, mlp__alpha=0.00011041880508541602, mlp__hidden_layer_sizes=(244, 159, 198), mlp__solver=lbfgs, mlp__learning_rate=invscaling, mlp__max_iter=1493, total=  16.0s\n",
      "[CV] mlp__activation=logistic, mlp__alpha=2.8343433061513092e-05, mlp__hidden_layer_sizes=(54, 182, 222, 442), mlp__solver=sgd, mlp__learning_rate=adaptive, mlp__max_iter=3756 \n",
      "[CV]  mlp__activation=logistic, mlp__alpha=2.8343433061513092e-05, mlp__hidden_layer_sizes=(54, 182, 222, 442), mlp__solver=sgd, mlp__learning_rate=adaptive, mlp__max_iter=3756, total=   6.5s\n",
      "[CV] mlp__activation=logistic, mlp__alpha=2.8343433061513092e-05, mlp__hidden_layer_sizes=(54, 182, 222, 442), mlp__solver=sgd, mlp__learning_rate=adaptive, mlp__max_iter=3756 \n",
      "[CV]  mlp__activation=logistic, mlp__alpha=2.8343433061513092e-05, mlp__hidden_layer_sizes=(54, 182, 222, 442), mlp__solver=sgd, mlp__learning_rate=adaptive, mlp__max_iter=3756, total=   6.1s\n",
      "[CV] mlp__activation=logistic, mlp__alpha=1.1247371783647508e-06, mlp__hidden_layer_sizes=(451,), mlp__solver=sgd, mlp__learning_rate=invscaling, mlp__max_iter=3909 \n",
      "[CV]  mlp__activation=identity, mlp__alpha=0.12476595526308684, mlp__hidden_layer_sizes=(244, 159, 198), mlp__solver=lbfgs, mlp__learning_rate=constant, mlp__max_iter=2008, total= 1.1min\n",
      "[CV] mlp__activation=logistic, mlp__alpha=1.1247371783647508e-06, mlp__hidden_layer_sizes=(451,), mlp__solver=sgd, mlp__learning_rate=invscaling, mlp__max_iter=3909 \n"
     ]
    },
    {
     "name": "stderr",
     "output_type": "stream",
     "text": [
      "/home/loki/.local/lib/python2.7/site-packages/sklearn/neural_network/multilayer_perceptron.py:564: ConvergenceWarning: Stochastic Optimizer: Maximum iterations (585) reached and the optimization hasn't converged yet.\n",
      "  % self.max_iter, ConvergenceWarning)\n"
     ]
    },
    {
     "name": "stdout",
     "output_type": "stream",
     "text": [
      "[CV]  mlp__activation=relu, mlp__alpha=5.268921421350677e-06, mlp__hidden_layer_sizes=(451,), mlp__solver=sgd, mlp__learning_rate=adaptive, mlp__max_iter=585, total= 4.2min\n",
      "[CV] mlp__activation=tanh, mlp__alpha=0.07012063589007177, mlp__hidden_layer_sizes=(54, 182, 222, 442), mlp__solver=sgd, mlp__learning_rate=constant, mlp__max_iter=667 \n"
     ]
    },
    {
     "name": "stderr",
     "output_type": "stream",
     "text": [
      "/home/loki/.local/lib/python2.7/site-packages/sklearn/neural_network/multilayer_perceptron.py:564: ConvergenceWarning: Stochastic Optimizer: Maximum iterations (585) reached and the optimization hasn't converged yet.\n",
      "  % self.max_iter, ConvergenceWarning)\n"
     ]
    },
    {
     "name": "stdout",
     "output_type": "stream",
     "text": [
      "[CV]  mlp__activation=relu, mlp__alpha=5.268921421350677e-06, mlp__hidden_layer_sizes=(451,), mlp__solver=sgd, mlp__learning_rate=adaptive, mlp__max_iter=585, total= 4.3min\n",
      "[CV] mlp__activation=tanh, mlp__alpha=0.07012063589007177, mlp__hidden_layer_sizes=(54, 182, 222, 442), mlp__solver=sgd, mlp__learning_rate=constant, mlp__max_iter=667 \n",
      "[CV]  mlp__activation=logistic, mlp__alpha=1.1247371783647508e-06, mlp__hidden_layer_sizes=(451,), mlp__solver=sgd, mlp__learning_rate=invscaling, mlp__max_iter=3909, total= 1.1min\n",
      "[CV] mlp__activation=identity, mlp__alpha=8.164167604921471e-06, mlp__hidden_layer_sizes=(54, 182, 222, 442), mlp__solver=sgd, mlp__learning_rate=invscaling, mlp__max_iter=1247 \n",
      "[CV]  mlp__activation=logistic, mlp__alpha=1.1247371783647508e-06, mlp__hidden_layer_sizes=(451,), mlp__solver=sgd, mlp__learning_rate=invscaling, mlp__max_iter=3909, total= 1.7min\n",
      "[CV] mlp__activation=identity, mlp__alpha=8.164167604921471e-06, mlp__hidden_layer_sizes=(54, 182, 222, 442), mlp__solver=sgd, mlp__learning_rate=invscaling, mlp__max_iter=1247 \n",
      "[CV]  mlp__activation=identity, mlp__alpha=8.164167604921471e-06, mlp__hidden_layer_sizes=(54, 182, 222, 442), mlp__solver=sgd, mlp__learning_rate=invscaling, mlp__max_iter=1247, total=  35.3s\n",
      "[CV] mlp__activation=tanh, mlp__alpha=0.4860564232142139, mlp__hidden_layer_sizes=(54, 182, 222, 442), mlp__solver=lbfgs, mlp__learning_rate=invscaling, mlp__max_iter=818 \n",
      "[CV]  mlp__activation=tanh, mlp__alpha=0.4860564232142139, mlp__hidden_layer_sizes=(54, 182, 222, 442), mlp__solver=lbfgs, mlp__learning_rate=invscaling, mlp__max_iter=818, total=  34.1s\n",
      "[CV] mlp__activation=tanh, mlp__alpha=0.4860564232142139, mlp__hidden_layer_sizes=(54, 182, 222, 442), mlp__solver=lbfgs, mlp__learning_rate=invscaling, mlp__max_iter=818 \n",
      "[CV]  mlp__activation=tanh, mlp__alpha=0.07012063589007177, mlp__hidden_layer_sizes=(54, 182, 222, 442), mlp__solver=sgd, mlp__learning_rate=constant, mlp__max_iter=667, total= 2.1min\n",
      "[CV]  mlp__activation=identity, mlp__alpha=8.164167604921471e-06, mlp__hidden_layer_sizes=(54, 182, 222, 442), mlp__solver=sgd, mlp__learning_rate=invscaling, mlp__max_iter=1247, total= 1.4min\n",
      "[CV]  mlp__activation=tanh, mlp__alpha=0.07012063589007177, mlp__hidden_layer_sizes=(54, 182, 222, 442), mlp__solver=sgd, mlp__learning_rate=constant, mlp__max_iter=667, total= 2.2min\n",
      "[CV]  mlp__activation=tanh, mlp__alpha=0.4860564232142139, mlp__hidden_layer_sizes=(54, 182, 222, 442), mlp__solver=lbfgs, mlp__learning_rate=invscaling, mlp__max_iter=818, total=  16.8s\n"
     ]
    },
    {
     "name": "stderr",
     "output_type": "stream",
     "text": [
      "[Parallel(n_jobs=-1)]: Done  50 out of  50 | elapsed:  7.7min finished\n"
     ]
    },
    {
     "name": "stdout",
     "output_type": "stream",
     "text": [
      "Fitting 2 folds for each of 25 candidates, totalling 50 fits\n"
     ]
    },
    {
     "name": "stderr",
     "output_type": "stream",
     "text": [
      "[Parallel(n_jobs=-1)]: Done  43 out of  50 | elapsed:   11.5s remaining:    1.9s\n",
      "[Parallel(n_jobs=-1)]: Done  50 out of  50 | elapsed:   18.0s finished\n"
     ]
    },
    {
     "name": "stdout",
     "output_type": "stream",
     "text": [
      "\n",
      "Score[mean]: 0.963855421687\n",
      "From Baseline: 6.02409638554%\n",
      "From LOG: 0.0%\n",
      "{'mlp__activation': 'identity', 'mlp__alpha': 0.0004939621743878321, 'mlp__hidden_layer_sizes': (126, 397, 56, 315, 256), 'mlp__solver': 'lbfgs', 'mlp__learning_rate': 'constant', 'mlp__max_iter': 818}\n",
      "LOG Params:{'log__solver': 'newton-cg', 'log__class_weight': 'balanced', 'log__max_iter': 2624, 'log__C': 0.00011562801312073754}\n",
      "\n",
      "3-5_3\n",
      "Median Baseline: 0.507042253521\n",
      "Mean Baseline: 0.859154929577\n",
      "\n",
      "Fitting 2 folds for each of 25 candidates, totalling 50 fits\n",
      "[CV] mlp__activation=identity, mlp__alpha=1.483102514336103e-06, mlp__hidden_layer_sizes=(279, 231), mlp__solver=adam, mlp__learning_rate=adaptive, mlp__max_iter=1356 \n",
      "[CV] mlp__activation=identity, mlp__alpha=1.483102514336103e-06, mlp__hidden_layer_sizes=(279, 231), mlp__solver=adam, mlp__learning_rate=adaptive, mlp__max_iter=1356 \n",
      "[CV] mlp__activation=tanh, mlp__alpha=724.2022334607316, mlp__hidden_layer_sizes=(451,), mlp__solver=sgd, mlp__learning_rate=adaptive, mlp__max_iter=1017 \n",
      "[CV] mlp__activation=tanh, mlp__alpha=724.2022334607316, mlp__hidden_layer_sizes=(451,), mlp__solver=sgd, mlp__learning_rate=adaptive, mlp__max_iter=1017 \n",
      "[CV]  mlp__activation=identity, mlp__alpha=1.483102514336103e-06, mlp__hidden_layer_sizes=(279, 231), mlp__solver=adam, mlp__learning_rate=adaptive, mlp__max_iter=1356, total=  10.9s\n",
      "[CV] mlp__activation=identity, mlp__alpha=0.00038333951017666015, mlp__hidden_layer_sizes=(279, 231), mlp__solver=sgd, mlp__learning_rate=constant, mlp__max_iter=2171 \n",
      "[CV]  mlp__activation=identity, mlp__alpha=1.483102514336103e-06, mlp__hidden_layer_sizes=(279, 231), mlp__solver=adam, mlp__learning_rate=adaptive, mlp__max_iter=1356, total=  12.8s\n",
      "[CV] mlp__activation=identity, mlp__alpha=0.00038333951017666015, mlp__hidden_layer_sizes=(279, 231), mlp__solver=sgd, mlp__learning_rate=constant, mlp__max_iter=2171 \n",
      "[CV]  mlp__activation=tanh, mlp__alpha=724.2022334607316, mlp__hidden_layer_sizes=(451,), mlp__solver=sgd, mlp__learning_rate=adaptive, mlp__max_iter=1017, total=  17.9s\n",
      "[CV] mlp__activation=tanh, mlp__alpha=8.470868266557403, mlp__hidden_layer_sizes=(279, 231), mlp__solver=sgd, mlp__learning_rate=constant, mlp__max_iter=782 \n",
      "[CV]  mlp__activation=tanh, mlp__alpha=724.2022334607316, mlp__hidden_layer_sizes=(451,), mlp__solver=sgd, mlp__learning_rate=adaptive, mlp__max_iter=1017, total=  18.8s\n",
      "[CV] mlp__activation=tanh, mlp__alpha=8.470868266557403, mlp__hidden_layer_sizes=(279, 231), mlp__solver=sgd, mlp__learning_rate=constant, mlp__max_iter=782 \n"
     ]
    },
    {
     "name": "stderr",
     "output_type": "stream",
     "text": [
      "/home/loki/.local/lib/python2.7/site-packages/sklearn/neural_network/multilayer_perceptron.py:564: ConvergenceWarning: Stochastic Optimizer: Maximum iterations (782) reached and the optimization hasn't converged yet.\n",
      "  % self.max_iter, ConvergenceWarning)\n"
     ]
    },
    {
     "name": "stdout",
     "output_type": "stream",
     "text": [
      "[CV]  mlp__activation=tanh, mlp__alpha=8.470868266557403, mlp__hidden_layer_sizes=(279, 231), mlp__solver=sgd, mlp__learning_rate=constant, mlp__max_iter=782, total= 4.9min\n",
      "[CV] mlp__activation=identity, mlp__alpha=0.05568596444286409, mlp__hidden_layer_sizes=(126, 397, 56, 315, 256), mlp__solver=sgd, mlp__learning_rate=constant, mlp__max_iter=812 \n"
     ]
    },
    {
     "name": "stderr",
     "output_type": "stream",
     "text": [
      "/home/loki/.local/lib/python2.7/site-packages/sklearn/neural_network/multilayer_perceptron.py:564: ConvergenceWarning: Stochastic Optimizer: Maximum iterations (782) reached and the optimization hasn't converged yet.\n",
      "  % self.max_iter, ConvergenceWarning)\n"
     ]
    },
    {
     "name": "stdout",
     "output_type": "stream",
     "text": [
      "[CV]  mlp__activation=tanh, mlp__alpha=8.470868266557403, mlp__hidden_layer_sizes=(279, 231), mlp__solver=sgd, mlp__learning_rate=constant, mlp__max_iter=782, total= 4.9min\n",
      "[CV] mlp__activation=identity, mlp__alpha=0.05568596444286409, mlp__hidden_layer_sizes=(126, 397, 56, 315, 256), mlp__solver=sgd, mlp__learning_rate=constant, mlp__max_iter=812 \n",
      "[CV]  mlp__activation=identity, mlp__alpha=0.00038333951017666015, mlp__hidden_layer_sizes=(279, 231), mlp__solver=sgd, mlp__learning_rate=constant, mlp__max_iter=2171, total= 5.3min\n",
      "[CV] mlp__activation=relu, mlp__alpha=1.592950212572123e-05, mlp__hidden_layer_sizes=(279, 231), mlp__solver=adam, mlp__learning_rate=adaptive, mlp__max_iter=4719 \n",
      "[CV]  mlp__activation=identity, mlp__alpha=0.00038333951017666015, mlp__hidden_layer_sizes=(279, 231), mlp__solver=sgd, mlp__learning_rate=constant, mlp__max_iter=2171, total= 5.3min\n",
      "[CV] mlp__activation=relu, mlp__alpha=1.592950212572123e-05, mlp__hidden_layer_sizes=(279, 231), mlp__solver=adam, mlp__learning_rate=adaptive, mlp__max_iter=4719 \n",
      "[CV]  mlp__activation=relu, mlp__alpha=1.592950212572123e-05, mlp__hidden_layer_sizes=(279, 231), mlp__solver=adam, mlp__learning_rate=adaptive, mlp__max_iter=4719, total=  12.7s\n",
      "[CV] mlp__activation=relu, mlp__alpha=0.2731721598441379, mlp__hidden_layer_sizes=(126, 397, 56, 315, 256), mlp__solver=lbfgs, mlp__learning_rate=adaptive, mlp__max_iter=1282 \n",
      "[CV]  mlp__activation=relu, mlp__alpha=1.592950212572123e-05, mlp__hidden_layer_sizes=(279, 231), mlp__solver=adam, mlp__learning_rate=adaptive, mlp__max_iter=4719, total=  13.7s\n",
      "[CV] mlp__activation=relu, mlp__alpha=0.2731721598441379, mlp__hidden_layer_sizes=(126, 397, 56, 315, 256), mlp__solver=lbfgs, mlp__learning_rate=adaptive, mlp__max_iter=1282 \n",
      "[CV]  mlp__activation=identity, mlp__alpha=0.05568596444286409, mlp__hidden_layer_sizes=(126, 397, 56, 315, 256), mlp__solver=sgd, mlp__learning_rate=constant, mlp__max_iter=812, total= 1.7min\n",
      "[CV] mlp__activation=identity, mlp__alpha=315.8635408267819, mlp__hidden_layer_sizes=(244, 159, 198), mlp__solver=sgd, mlp__learning_rate=constant, mlp__max_iter=2607 \n",
      "[CV]  mlp__activation=relu, mlp__alpha=0.2731721598441379, mlp__hidden_layer_sizes=(126, 397, 56, 315, 256), mlp__solver=lbfgs, mlp__learning_rate=adaptive, mlp__max_iter=1282, total= 1.2min\n",
      "[CV] mlp__activation=identity, mlp__alpha=315.8635408267819, mlp__hidden_layer_sizes=(244, 159, 198), mlp__solver=sgd, mlp__learning_rate=constant, mlp__max_iter=2607 \n",
      "[CV]  mlp__activation=identity, mlp__alpha=315.8635408267819, mlp__hidden_layer_sizes=(244, 159, 198), mlp__solver=sgd, mlp__learning_rate=constant, mlp__max_iter=2607, total=  19.9s\n",
      "[CV] mlp__activation=identity, mlp__alpha=0.017188391428171457, mlp__hidden_layer_sizes=(126, 397, 56, 315, 256), mlp__solver=sgd, mlp__learning_rate=invscaling, mlp__max_iter=3624 \n",
      "[CV]  mlp__activation=identity, mlp__alpha=0.017188391428171457, mlp__hidden_layer_sizes=(126, 397, 56, 315, 256), mlp__solver=sgd, mlp__learning_rate=invscaling, mlp__max_iter=3624, total=   2.1s\n",
      "[CV] mlp__activation=identity, mlp__alpha=0.017188391428171457, mlp__hidden_layer_sizes=(126, 397, 56, 315, 256), mlp__solver=sgd, mlp__learning_rate=invscaling, mlp__max_iter=3624 \n",
      "[CV]  mlp__activation=identity, mlp__alpha=0.017188391428171457, mlp__hidden_layer_sizes=(126, 397, 56, 315, 256), mlp__solver=sgd, mlp__learning_rate=invscaling, mlp__max_iter=3624, total=   2.5s\n",
      "[CV] mlp__activation=relu, mlp__alpha=0.0004939621743878321, mlp__hidden_layer_sizes=(126, 397, 56, 315, 256), mlp__solver=lbfgs, mlp__learning_rate=adaptive, mlp__max_iter=2651 \n",
      "[CV]  mlp__activation=identity, mlp__alpha=315.8635408267819, mlp__hidden_layer_sizes=(244, 159, 198), mlp__solver=sgd, mlp__learning_rate=constant, mlp__max_iter=2607, total=  19.6s\n",
      "[CV] mlp__activation=relu, mlp__alpha=0.0004939621743878321, mlp__hidden_layer_sizes=(126, 397, 56, 315, 256), mlp__solver=lbfgs, mlp__learning_rate=adaptive, mlp__max_iter=2651 \n",
      "[CV]  mlp__activation=identity, mlp__alpha=0.05568596444286409, mlp__hidden_layer_sizes=(126, 397, 56, 315, 256), mlp__solver=sgd, mlp__learning_rate=constant, mlp__max_iter=812, total= 2.1min\n",
      "[CV] mlp__activation=logistic, mlp__alpha=7.9049276226964205, mlp__hidden_layer_sizes=(451,), mlp__solver=adam, mlp__learning_rate=constant, mlp__max_iter=2171 \n",
      "[CV]  mlp__activation=relu, mlp__alpha=0.0004939621743878321, mlp__hidden_layer_sizes=(126, 397, 56, 315, 256), mlp__solver=lbfgs, mlp__learning_rate=adaptive, mlp__max_iter=2651, total=  17.4s\n",
      "[CV] mlp__activation=logistic, mlp__alpha=7.9049276226964205, mlp__hidden_layer_sizes=(451,), mlp__solver=adam, mlp__learning_rate=constant, mlp__max_iter=2171 \n",
      "[CV]  mlp__activation=logistic, mlp__alpha=7.9049276226964205, mlp__hidden_layer_sizes=(451,), mlp__solver=adam, mlp__learning_rate=constant, mlp__max_iter=2171, total=  27.2s\n",
      "[CV] mlp__activation=identity, mlp__alpha=10.915359353313933, mlp__hidden_layer_sizes=(126, 397, 56, 315, 256), mlp__solver=lbfgs, mlp__learning_rate=invscaling, mlp__max_iter=2671 \n",
      "[CV]  mlp__activation=logistic, mlp__alpha=7.9049276226964205, mlp__hidden_layer_sizes=(451,), mlp__solver=adam, mlp__learning_rate=constant, mlp__max_iter=2171, total=  22.9s\n",
      "[CV] mlp__activation=identity, mlp__alpha=10.915359353313933, mlp__hidden_layer_sizes=(126, 397, 56, 315, 256), mlp__solver=lbfgs, mlp__learning_rate=invscaling, mlp__max_iter=2671 \n",
      "[CV]  mlp__activation=identity, mlp__alpha=10.915359353313933, mlp__hidden_layer_sizes=(126, 397, 56, 315, 256), mlp__solver=lbfgs, mlp__learning_rate=invscaling, mlp__max_iter=2671, total=  15.5s\n",
      "[CV] mlp__activation=logistic, mlp__alpha=72.25349491787222, mlp__hidden_layer_sizes=(451,), mlp__solver=lbfgs, mlp__learning_rate=constant, mlp__max_iter=1408 \n",
      "[CV]  mlp__activation=identity, mlp__alpha=10.915359353313933, mlp__hidden_layer_sizes=(126, 397, 56, 315, 256), mlp__solver=lbfgs, mlp__learning_rate=invscaling, mlp__max_iter=2671, total=  16.3s\n",
      "[CV] mlp__activation=logistic, mlp__alpha=72.25349491787222, mlp__hidden_layer_sizes=(451,), mlp__solver=lbfgs, mlp__learning_rate=constant, mlp__max_iter=1408 \n",
      "[CV]  mlp__activation=logistic, mlp__alpha=72.25349491787222, mlp__hidden_layer_sizes=(451,), mlp__solver=lbfgs, mlp__learning_rate=constant, mlp__max_iter=1408, total=  12.5s\n",
      "[CV] mlp__activation=tanh, mlp__alpha=0.21199534575360687, mlp__hidden_layer_sizes=(279, 231), mlp__solver=lbfgs, mlp__learning_rate=constant, mlp__max_iter=3497 \n",
      "[CV]  mlp__activation=logistic, mlp__alpha=72.25349491787222, mlp__hidden_layer_sizes=(451,), mlp__solver=lbfgs, mlp__learning_rate=constant, mlp__max_iter=1408, total=  10.0s\n",
      "[CV] mlp__activation=tanh, mlp__alpha=0.21199534575360687, mlp__hidden_layer_sizes=(279, 231), mlp__solver=lbfgs, mlp__learning_rate=constant, mlp__max_iter=3497 \n",
      "[CV]  mlp__activation=relu, mlp__alpha=0.0004939621743878321, mlp__hidden_layer_sizes=(126, 397, 56, 315, 256), mlp__solver=lbfgs, mlp__learning_rate=adaptive, mlp__max_iter=2651, total= 1.3min\n",
      "[CV] mlp__activation=logistic, mlp__alpha=0.00025316484786313555, mlp__hidden_layer_sizes=(54, 182, 222, 442), mlp__solver=adam, mlp__learning_rate=invscaling, mlp__max_iter=2744 \n",
      "[CV]  mlp__activation=logistic, mlp__alpha=0.00025316484786313555, mlp__hidden_layer_sizes=(54, 182, 222, 442), mlp__solver=adam, mlp__learning_rate=invscaling, mlp__max_iter=2744, total=   2.6s\n",
      "[CV] mlp__activation=logistic, mlp__alpha=0.00025316484786313555, mlp__hidden_layer_sizes=(54, 182, 222, 442), mlp__solver=adam, mlp__learning_rate=invscaling, mlp__max_iter=2744 \n",
      "[CV]  mlp__activation=logistic, mlp__alpha=0.00025316484786313555, mlp__hidden_layer_sizes=(54, 182, 222, 442), mlp__solver=adam, mlp__learning_rate=invscaling, mlp__max_iter=2744, total=   1.8s\n",
      "[CV] mlp__activation=logistic, mlp__alpha=0.011616226326085019, mlp__hidden_layer_sizes=(54, 182, 222, 442), mlp__solver=lbfgs, mlp__learning_rate=adaptive, mlp__max_iter=2323 \n",
      "[CV]  mlp__activation=logistic, mlp__alpha=0.011616226326085019, mlp__hidden_layer_sizes=(54, 182, 222, 442), mlp__solver=lbfgs, mlp__learning_rate=adaptive, mlp__max_iter=2323, total=   1.8s\n",
      "[CV] mlp__activation=logistic, mlp__alpha=0.011616226326085019, mlp__hidden_layer_sizes=(54, 182, 222, 442), mlp__solver=lbfgs, mlp__learning_rate=adaptive, mlp__max_iter=2323 \n"
     ]
    },
    {
     "name": "stdout",
     "output_type": "stream",
     "text": [
      "[CV]  mlp__activation=logistic, mlp__alpha=0.011616226326085019, mlp__hidden_layer_sizes=(54, 182, 222, 442), mlp__solver=lbfgs, mlp__learning_rate=adaptive, mlp__max_iter=2323, total=   2.1s\n",
      "[CV] mlp__activation=relu, mlp__alpha=0.003424006137971426, mlp__hidden_layer_sizes=(279, 231), mlp__solver=adam, mlp__learning_rate=invscaling, mlp__max_iter=3528 \n",
      "[CV]  mlp__activation=relu, mlp__alpha=0.003424006137971426, mlp__hidden_layer_sizes=(279, 231), mlp__solver=adam, mlp__learning_rate=invscaling, mlp__max_iter=3528, total=  10.1s\n",
      "[CV] mlp__activation=relu, mlp__alpha=0.003424006137971426, mlp__hidden_layer_sizes=(279, 231), mlp__solver=adam, mlp__learning_rate=invscaling, mlp__max_iter=3528 \n",
      "[CV]  mlp__activation=relu, mlp__alpha=0.003424006137971426, mlp__hidden_layer_sizes=(279, 231), mlp__solver=adam, mlp__learning_rate=invscaling, mlp__max_iter=3528, total=   9.1s\n",
      "[CV] mlp__activation=identity, mlp__alpha=3.610418597173337, mlp__hidden_layer_sizes=(54, 182, 222, 442), mlp__solver=lbfgs, mlp__learning_rate=adaptive, mlp__max_iter=2121 \n",
      "[CV]  mlp__activation=identity, mlp__alpha=3.610418597173337, mlp__hidden_layer_sizes=(54, 182, 222, 442), mlp__solver=lbfgs, mlp__learning_rate=adaptive, mlp__max_iter=2121, total=  17.2s\n",
      "[CV] mlp__activation=identity, mlp__alpha=3.610418597173337, mlp__hidden_layer_sizes=(54, 182, 222, 442), mlp__solver=lbfgs, mlp__learning_rate=adaptive, mlp__max_iter=2121 \n",
      "[CV]  mlp__activation=tanh, mlp__alpha=0.21199534575360687, mlp__hidden_layer_sizes=(279, 231), mlp__solver=lbfgs, mlp__learning_rate=constant, mlp__max_iter=3497, total= 1.1min\n",
      "[CV] mlp__activation=logistic, mlp__alpha=0.0026572011053245066, mlp__hidden_layer_sizes=(54, 182, 222, 442), mlp__solver=sgd, mlp__learning_rate=constant, mlp__max_iter=709 \n"
     ]
    },
    {
     "name": "stderr",
     "output_type": "stream",
     "text": [
      "[Parallel(n_jobs=-1)]: Done  33 tasks      | elapsed:  9.5min\n"
     ]
    },
    {
     "name": "stdout",
     "output_type": "stream",
     "text": [
      "[CV]  mlp__activation=logistic, mlp__alpha=0.0026572011053245066, mlp__hidden_layer_sizes=(54, 182, 222, 442), mlp__solver=sgd, mlp__learning_rate=constant, mlp__max_iter=709, total=   2.3s\n",
      "[CV] mlp__activation=logistic, mlp__alpha=0.0026572011053245066, mlp__hidden_layer_sizes=(54, 182, 222, 442), mlp__solver=sgd, mlp__learning_rate=constant, mlp__max_iter=709 \n",
      "[CV]  mlp__activation=identity, mlp__alpha=3.610418597173337, mlp__hidden_layer_sizes=(54, 182, 222, 442), mlp__solver=lbfgs, mlp__learning_rate=adaptive, mlp__max_iter=2121, total=  16.1s\n",
      "[CV] mlp__activation=tanh, mlp__alpha=0.0008588828559546249, mlp__hidden_layer_sizes=(279, 231), mlp__solver=adam, mlp__learning_rate=constant, mlp__max_iter=790 \n",
      "[CV]  mlp__activation=logistic, mlp__alpha=0.0026572011053245066, mlp__hidden_layer_sizes=(54, 182, 222, 442), mlp__solver=sgd, mlp__learning_rate=constant, mlp__max_iter=709, total=   3.2s\n",
      "[CV] mlp__activation=tanh, mlp__alpha=0.0008588828559546249, mlp__hidden_layer_sizes=(279, 231), mlp__solver=adam, mlp__learning_rate=constant, mlp__max_iter=790 \n",
      "[CV]  mlp__activation=tanh, mlp__alpha=0.0008588828559546249, mlp__hidden_layer_sizes=(279, 231), mlp__solver=adam, mlp__learning_rate=constant, mlp__max_iter=790, total=   7.2s\n",
      "[CV] mlp__activation=tanh, mlp__alpha=0.011092898648952227, mlp__hidden_layer_sizes=(244, 159, 198), mlp__solver=adam, mlp__learning_rate=constant, mlp__max_iter=1834 \n",
      "[CV]  mlp__activation=tanh, mlp__alpha=0.0008588828559546249, mlp__hidden_layer_sizes=(279, 231), mlp__solver=adam, mlp__learning_rate=constant, mlp__max_iter=790, total=   8.8s\n",
      "[CV] mlp__activation=tanh, mlp__alpha=0.011092898648952227, mlp__hidden_layer_sizes=(244, 159, 198), mlp__solver=adam, mlp__learning_rate=constant, mlp__max_iter=1834 \n",
      "[CV]  mlp__activation=tanh, mlp__alpha=0.011092898648952227, mlp__hidden_layer_sizes=(244, 159, 198), mlp__solver=adam, mlp__learning_rate=constant, mlp__max_iter=1834, total=   6.3s\n",
      "[CV] mlp__activation=identity, mlp__alpha=22.82224474186901, mlp__hidden_layer_sizes=(451,), mlp__solver=adam, mlp__learning_rate=adaptive, mlp__max_iter=3118 \n",
      "[CV]  mlp__activation=tanh, mlp__alpha=0.011092898648952227, mlp__hidden_layer_sizes=(244, 159, 198), mlp__solver=adam, mlp__learning_rate=constant, mlp__max_iter=1834, total=  46.4s\n",
      "[CV] mlp__activation=identity, mlp__alpha=22.82224474186901, mlp__hidden_layer_sizes=(451,), mlp__solver=adam, mlp__learning_rate=adaptive, mlp__max_iter=3118 \n",
      "[CV]  mlp__activation=identity, mlp__alpha=22.82224474186901, mlp__hidden_layer_sizes=(451,), mlp__solver=adam, mlp__learning_rate=adaptive, mlp__max_iter=3118, total=  46.5s\n",
      "[CV] mlp__activation=logistic, mlp__alpha=73.93819919175873, mlp__hidden_layer_sizes=(244, 159, 198), mlp__solver=lbfgs, mlp__learning_rate=adaptive, mlp__max_iter=4640 \n",
      "[CV]  mlp__activation=logistic, mlp__alpha=73.93819919175873, mlp__hidden_layer_sizes=(244, 159, 198), mlp__solver=lbfgs, mlp__learning_rate=adaptive, mlp__max_iter=4640, total=  17.7s\n",
      "[CV] mlp__activation=logistic, mlp__alpha=73.93819919175873, mlp__hidden_layer_sizes=(244, 159, 198), mlp__solver=lbfgs, mlp__learning_rate=adaptive, mlp__max_iter=4640 \n",
      "[CV]  mlp__activation=relu, mlp__alpha=0.2731721598441379, mlp__hidden_layer_sizes=(126, 397, 56, 315, 256), mlp__solver=lbfgs, mlp__learning_rate=adaptive, mlp__max_iter=1282, total= 5.3min\n",
      "[CV] mlp__activation=logistic, mlp__alpha=1.483102514336103e-06, mlp__hidden_layer_sizes=(279, 231), mlp__solver=lbfgs, mlp__learning_rate=invscaling, mlp__max_iter=4912 \n",
      "[CV]  mlp__activation=logistic, mlp__alpha=73.93819919175873, mlp__hidden_layer_sizes=(244, 159, 198), mlp__solver=lbfgs, mlp__learning_rate=adaptive, mlp__max_iter=4640, total=  17.5s\n",
      "[CV] mlp__activation=logistic, mlp__alpha=1.483102514336103e-06, mlp__hidden_layer_sizes=(279, 231), mlp__solver=lbfgs, mlp__learning_rate=invscaling, mlp__max_iter=4912 \n",
      "[CV]  mlp__activation=identity, mlp__alpha=22.82224474186901, mlp__hidden_layer_sizes=(451,), mlp__solver=adam, mlp__learning_rate=adaptive, mlp__max_iter=3118, total=  41.8s\n",
      "[CV] mlp__activation=tanh, mlp__alpha=0.14327029534098296, mlp__hidden_layer_sizes=(54, 182, 222, 442), mlp__solver=lbfgs, mlp__learning_rate=adaptive, mlp__max_iter=1269 \n",
      "[CV]  mlp__activation=tanh, mlp__alpha=0.21199534575360687, mlp__hidden_layer_sizes=(279, 231), mlp__solver=lbfgs, mlp__learning_rate=constant, mlp__max_iter=3497, total= 3.0min\n",
      "[CV] mlp__activation=tanh, mlp__alpha=0.14327029534098296, mlp__hidden_layer_sizes=(54, 182, 222, 442), mlp__solver=lbfgs, mlp__learning_rate=adaptive, mlp__max_iter=1269 \n",
      "[CV]  mlp__activation=logistic, mlp__alpha=1.483102514336103e-06, mlp__hidden_layer_sizes=(279, 231), mlp__solver=lbfgs, mlp__learning_rate=invscaling, mlp__max_iter=4912, total=  24.1s\n",
      "[CV]  mlp__activation=logistic, mlp__alpha=1.483102514336103e-06, mlp__hidden_layer_sizes=(279, 231), mlp__solver=lbfgs, mlp__learning_rate=invscaling, mlp__max_iter=4912, total=  42.5s\n",
      "[CV]  mlp__activation=tanh, mlp__alpha=0.14327029534098296, mlp__hidden_layer_sizes=(54, 182, 222, 442), mlp__solver=lbfgs, mlp__learning_rate=adaptive, mlp__max_iter=1269, total= 1.2min\n",
      "[CV]  mlp__activation=tanh, mlp__alpha=0.14327029534098296, mlp__hidden_layer_sizes=(54, 182, 222, 442), mlp__solver=lbfgs, mlp__learning_rate=adaptive, mlp__max_iter=1269, total= 1.3min\n"
     ]
    },
    {
     "name": "stderr",
     "output_type": "stream",
     "text": [
      "[Parallel(n_jobs=-1)]: Done  50 out of  50 | elapsed: 12.6min finished\n"
     ]
    },
    {
     "name": "stdout",
     "output_type": "stream",
     "text": [
      "Fitting 2 folds for each of 25 candidates, totalling 50 fits\n"
     ]
    },
    {
     "name": "stderr",
     "output_type": "stream",
     "text": [
      "[Parallel(n_jobs=-1)]: Done  42 tasks      | elapsed:   15.9s\n",
      "[Parallel(n_jobs=-1)]: Done  50 out of  50 | elapsed:   17.0s finished\n"
     ]
    },
    {
     "name": "stdout",
     "output_type": "stream",
     "text": [
      "\n",
      "Score[median]: 0.732394366197\n",
      "From Baseline: 22.5352112676%\n",
      "From LOG: 8.45070422535%\n",
      "{'mlp__activation': 'identity', 'mlp__alpha': 1.483102514336103e-06, 'mlp__hidden_layer_sizes': (279, 231), 'mlp__solver': 'adam', 'mlp__learning_rate': 'adaptive', 'mlp__max_iter': 1356}\n",
      "\n",
      "Fitting 2 folds for each of 25 candidates, totalling 50 fits\n",
      "[CV] mlp__activation=relu, mlp__alpha=18.979216428391034, mlp__hidden_layer_sizes=(54, 182, 222, 442), mlp__solver=lbfgs, mlp__learning_rate=constant, mlp__max_iter=3642 \n",
      "[CV] mlp__activation=relu, mlp__alpha=18.979216428391034, mlp__hidden_layer_sizes=(54, 182, 222, 442), mlp__solver=lbfgs, mlp__learning_rate=constant, mlp__max_iter=3642 \n",
      "[CV] mlp__activation=relu, mlp__alpha=1.8504070195423021, mlp__hidden_layer_sizes=(244, 159, 198), mlp__solver=lbfgs, mlp__learning_rate=adaptive, mlp__max_iter=1893 \n",
      "[CV] mlp__activation=relu, mlp__alpha=1.8504070195423021, mlp__hidden_layer_sizes=(244, 159, 198), mlp__solver=lbfgs, mlp__learning_rate=adaptive, mlp__max_iter=1893 \n",
      "[CV]  mlp__activation=relu, mlp__alpha=18.979216428391034, mlp__hidden_layer_sizes=(54, 182, 222, 442), mlp__solver=lbfgs, mlp__learning_rate=constant, mlp__max_iter=3642, total=   3.7s\n",
      "[CV] mlp__activation=tanh, mlp__alpha=0.0007142559285543127, mlp__hidden_layer_sizes=(54, 182, 222, 442), mlp__solver=lbfgs, mlp__learning_rate=invscaling, mlp__max_iter=1235 \n",
      "[CV]  mlp__activation=relu, mlp__alpha=18.979216428391034, mlp__hidden_layer_sizes=(54, 182, 222, 442), mlp__solver=lbfgs, mlp__learning_rate=constant, mlp__max_iter=3642, total=   4.7s\n",
      "[CV] mlp__activation=tanh, mlp__alpha=0.0007142559285543127, mlp__hidden_layer_sizes=(54, 182, 222, 442), mlp__solver=lbfgs, mlp__learning_rate=invscaling, mlp__max_iter=1235 \n",
      "[CV]  mlp__activation=tanh, mlp__alpha=0.0007142559285543127, mlp__hidden_layer_sizes=(54, 182, 222, 442), mlp__solver=lbfgs, mlp__learning_rate=invscaling, mlp__max_iter=1235, total=   4.6s\n",
      "[CV] mlp__activation=logistic, mlp__alpha=86.88382635251193, mlp__hidden_layer_sizes=(126, 397, 56, 315, 256), mlp__solver=sgd, mlp__learning_rate=adaptive, mlp__max_iter=4837 \n",
      "[CV]  mlp__activation=tanh, mlp__alpha=0.0007142559285543127, mlp__hidden_layer_sizes=(54, 182, 222, 442), mlp__solver=lbfgs, mlp__learning_rate=invscaling, mlp__max_iter=1235, total=   9.1s\n",
      "[CV] mlp__activation=logistic, mlp__alpha=86.88382635251193, mlp__hidden_layer_sizes=(126, 397, 56, 315, 256), mlp__solver=sgd, mlp__learning_rate=adaptive, mlp__max_iter=4837 \n",
      "[CV]  mlp__activation=relu, mlp__alpha=1.8504070195423021, mlp__hidden_layer_sizes=(244, 159, 198), mlp__solver=lbfgs, mlp__learning_rate=adaptive, mlp__max_iter=1893, total=  28.6s\n",
      "[CV] mlp__activation=relu, mlp__alpha=0.004311561990318229, mlp__hidden_layer_sizes=(126, 397, 56, 315, 256), mlp__solver=sgd, mlp__learning_rate=constant, mlp__max_iter=4939 \n",
      "[CV]  mlp__activation=relu, mlp__alpha=1.8504070195423021, mlp__hidden_layer_sizes=(244, 159, 198), mlp__solver=lbfgs, mlp__learning_rate=adaptive, mlp__max_iter=1893, total=  37.6s\n",
      "[CV] mlp__activation=relu, mlp__alpha=0.004311561990318229, mlp__hidden_layer_sizes=(126, 397, 56, 315, 256), mlp__solver=sgd, mlp__learning_rate=constant, mlp__max_iter=4939 \n",
      "[CV]  mlp__activation=relu, mlp__alpha=0.004311561990318229, mlp__hidden_layer_sizes=(126, 397, 56, 315, 256), mlp__solver=sgd, mlp__learning_rate=constant, mlp__max_iter=4939, total=  41.1s\n",
      "[CV] mlp__activation=relu, mlp__alpha=0.0014593657991557576, mlp__hidden_layer_sizes=(54, 182, 222, 442), mlp__solver=adam, mlp__learning_rate=invscaling, mlp__max_iter=2848 \n",
      "[CV]  mlp__activation=relu, mlp__alpha=0.004311561990318229, mlp__hidden_layer_sizes=(126, 397, 56, 315, 256), mlp__solver=sgd, mlp__learning_rate=constant, mlp__max_iter=4939, total=  43.0s\n",
      "[CV] mlp__activation=relu, mlp__alpha=0.0014593657991557576, mlp__hidden_layer_sizes=(54, 182, 222, 442), mlp__solver=adam, mlp__learning_rate=invscaling, mlp__max_iter=2848 \n",
      "[CV]  mlp__activation=relu, mlp__alpha=0.0014593657991557576, mlp__hidden_layer_sizes=(54, 182, 222, 442), mlp__solver=adam, mlp__learning_rate=invscaling, mlp__max_iter=2848, total=  10.9s\n",
      "[CV] mlp__activation=tanh, mlp__alpha=301.6334347259197, mlp__hidden_layer_sizes=(126, 397, 56, 315, 256), mlp__solver=lbfgs, mlp__learning_rate=invscaling, mlp__max_iter=3827 \n",
      "[CV]  mlp__activation=relu, mlp__alpha=0.0014593657991557576, mlp__hidden_layer_sizes=(54, 182, 222, 442), mlp__solver=adam, mlp__learning_rate=invscaling, mlp__max_iter=2848, total=   1.9s\n",
      "[CV] mlp__activation=tanh, mlp__alpha=301.6334347259197, mlp__hidden_layer_sizes=(126, 397, 56, 315, 256), mlp__solver=lbfgs, mlp__learning_rate=invscaling, mlp__max_iter=3827 \n",
      "[CV]  mlp__activation=tanh, mlp__alpha=301.6334347259197, mlp__hidden_layer_sizes=(126, 397, 56, 315, 256), mlp__solver=lbfgs, mlp__learning_rate=invscaling, mlp__max_iter=3827, total=  10.8s\n",
      "[CV] mlp__activation=relu, mlp__alpha=2.3300614106969246, mlp__hidden_layer_sizes=(279, 231), mlp__solver=sgd, mlp__learning_rate=adaptive, mlp__max_iter=2652 \n",
      "[CV]  mlp__activation=tanh, mlp__alpha=301.6334347259197, mlp__hidden_layer_sizes=(126, 397, 56, 315, 256), mlp__solver=lbfgs, mlp__learning_rate=invscaling, mlp__max_iter=3827, total=  10.0s\n",
      "[CV] mlp__activation=relu, mlp__alpha=2.3300614106969246, mlp__hidden_layer_sizes=(279, 231), mlp__solver=sgd, mlp__learning_rate=adaptive, mlp__max_iter=2652 \n",
      "[CV]  mlp__activation=logistic, mlp__alpha=86.88382635251193, mlp__hidden_layer_sizes=(126, 397, 56, 315, 256), mlp__solver=sgd, mlp__learning_rate=adaptive, mlp__max_iter=4837, total= 1.6min\n",
      "[CV] mlp__activation=identity, mlp__alpha=14.393226447194094, mlp__hidden_layer_sizes=(54, 182, 222, 442), mlp__solver=sgd, mlp__learning_rate=invscaling, mlp__max_iter=827 \n",
      "[CV]  mlp__activation=logistic, mlp__alpha=86.88382635251193, mlp__hidden_layer_sizes=(126, 397, 56, 315, 256), mlp__solver=sgd, mlp__learning_rate=adaptive, mlp__max_iter=4837, total= 1.7min\n",
      "[CV] mlp__activation=identity, mlp__alpha=14.393226447194094, mlp__hidden_layer_sizes=(54, 182, 222, 442), mlp__solver=sgd, mlp__learning_rate=invscaling, mlp__max_iter=827 \n"
     ]
    },
    {
     "name": "stderr",
     "output_type": "stream",
     "text": [
      "/home/loki/.local/lib/python2.7/site-packages/sklearn/neural_network/multilayer_perceptron.py:564: ConvergenceWarning: Stochastic Optimizer: Maximum iterations (827) reached and the optimization hasn't converged yet.\n",
      "  % self.max_iter, ConvergenceWarning)\n"
     ]
    },
    {
     "name": "stdout",
     "output_type": "stream",
     "text": [
      "[CV]  mlp__activation=identity, mlp__alpha=14.393226447194094, mlp__hidden_layer_sizes=(54, 182, 222, 442), mlp__solver=sgd, mlp__learning_rate=invscaling, mlp__max_iter=827, total= 2.6min\n",
      "[CV] mlp__activation=logistic, mlp__alpha=0.4641588833612782, mlp__hidden_layer_sizes=(54, 182, 222, 442), mlp__solver=adam, mlp__learning_rate=adaptive, mlp__max_iter=1502 \n"
     ]
    },
    {
     "name": "stderr",
     "output_type": "stream",
     "text": [
      "/home/loki/.local/lib/python2.7/site-packages/sklearn/neural_network/multilayer_perceptron.py:564: ConvergenceWarning: Stochastic Optimizer: Maximum iterations (827) reached and the optimization hasn't converged yet.\n",
      "  % self.max_iter, ConvergenceWarning)\n"
     ]
    },
    {
     "name": "stdout",
     "output_type": "stream",
     "text": [
      "[CV]  mlp__activation=identity, mlp__alpha=14.393226447194094, mlp__hidden_layer_sizes=(54, 182, 222, 442), mlp__solver=sgd, mlp__learning_rate=invscaling, mlp__max_iter=827, total= 2.4min\n",
      "[CV] mlp__activation=logistic, mlp__alpha=0.4641588833612782, mlp__hidden_layer_sizes=(54, 182, 222, 442), mlp__solver=adam, mlp__learning_rate=adaptive, mlp__max_iter=1502 \n",
      "[CV]  mlp__activation=logistic, mlp__alpha=0.4641588833612782, mlp__hidden_layer_sizes=(54, 182, 222, 442), mlp__solver=adam, mlp__learning_rate=adaptive, mlp__max_iter=1502, total=  12.7s\n",
      "[CV] mlp__activation=logistic, mlp__alpha=416.5044248545185, mlp__hidden_layer_sizes=(451,), mlp__solver=lbfgs, mlp__learning_rate=adaptive, mlp__max_iter=4151 \n",
      "[CV]  mlp__activation=logistic, mlp__alpha=0.4641588833612782, mlp__hidden_layer_sizes=(54, 182, 222, 442), mlp__solver=adam, mlp__learning_rate=adaptive, mlp__max_iter=1502, total=  18.3s\n",
      "[CV] mlp__activation=logistic, mlp__alpha=416.5044248545185, mlp__hidden_layer_sizes=(451,), mlp__solver=lbfgs, mlp__learning_rate=adaptive, mlp__max_iter=4151 \n",
      "[CV]  mlp__activation=logistic, mlp__alpha=416.5044248545185, mlp__hidden_layer_sizes=(451,), mlp__solver=lbfgs, mlp__learning_rate=adaptive, mlp__max_iter=4151, total=  25.0s\n",
      "[CV] mlp__activation=tanh, mlp__alpha=0.0006820776732865685, mlp__hidden_layer_sizes=(451,), mlp__solver=sgd, mlp__learning_rate=constant, mlp__max_iter=3576 \n",
      "[CV]  mlp__activation=logistic, mlp__alpha=416.5044248545185, mlp__hidden_layer_sizes=(451,), mlp__solver=lbfgs, mlp__learning_rate=adaptive, mlp__max_iter=4151, total=  24.6s\n",
      "[CV] mlp__activation=tanh, mlp__alpha=0.0006820776732865685, mlp__hidden_layer_sizes=(451,), mlp__solver=sgd, mlp__learning_rate=constant, mlp__max_iter=3576 \n",
      "[CV]  mlp__activation=tanh, mlp__alpha=0.0006820776732865685, mlp__hidden_layer_sizes=(451,), mlp__solver=sgd, mlp__learning_rate=constant, mlp__max_iter=3576, total= 9.3min\n",
      "[CV] mlp__activation=relu, mlp__alpha=8.549327066268385e-06, mlp__hidden_layer_sizes=(54, 182, 222, 442), mlp__solver=adam, mlp__learning_rate=invscaling, mlp__max_iter=962 \n",
      "[CV]  mlp__activation=relu, mlp__alpha=8.549327066268385e-06, mlp__hidden_layer_sizes=(54, 182, 222, 442), mlp__solver=adam, mlp__learning_rate=invscaling, mlp__max_iter=962, total=   9.2s\n",
      "[CV] mlp__activation=relu, mlp__alpha=8.549327066268385e-06, mlp__hidden_layer_sizes=(54, 182, 222, 442), mlp__solver=adam, mlp__learning_rate=invscaling, mlp__max_iter=962 \n",
      "[CV]  mlp__activation=relu, mlp__alpha=8.549327066268385e-06, mlp__hidden_layer_sizes=(54, 182, 222, 442), mlp__solver=adam, mlp__learning_rate=invscaling, mlp__max_iter=962, total=  11.2s\n",
      "[CV] mlp__activation=relu, mlp__alpha=7.814350607844543e-05, mlp__hidden_layer_sizes=(54, 182, 222, 442), mlp__solver=sgd, mlp__learning_rate=adaptive, mlp__max_iter=1729 \n",
      "[CV]  mlp__activation=relu, mlp__alpha=7.814350607844543e-05, mlp__hidden_layer_sizes=(54, 182, 222, 442), mlp__solver=sgd, mlp__learning_rate=adaptive, mlp__max_iter=1729, total=  29.6s\n",
      "[CV] mlp__activation=relu, mlp__alpha=7.814350607844543e-05, mlp__hidden_layer_sizes=(54, 182, 222, 442), mlp__solver=sgd, mlp__learning_rate=adaptive, mlp__max_iter=1729 \n",
      "[CV]  mlp__activation=tanh, mlp__alpha=0.0006820776732865685, mlp__hidden_layer_sizes=(451,), mlp__solver=sgd, mlp__learning_rate=constant, mlp__max_iter=3576, total=10.4min\n",
      "[CV] mlp__activation=logistic, mlp__alpha=7.9049276226964205, mlp__hidden_layer_sizes=(126, 397, 56, 315, 256), mlp__solver=sgd, mlp__learning_rate=adaptive, mlp__max_iter=4242 \n",
      "[CV]  mlp__activation=relu, mlp__alpha=7.814350607844543e-05, mlp__hidden_layer_sizes=(54, 182, 222, 442), mlp__solver=sgd, mlp__learning_rate=adaptive, mlp__max_iter=1729, total=  30.6s\n",
      "[CV] mlp__activation=logistic, mlp__alpha=7.9049276226964205, mlp__hidden_layer_sizes=(126, 397, 56, 315, 256), mlp__solver=sgd, mlp__learning_rate=adaptive, mlp__max_iter=4242 \n"
     ]
    },
    {
     "name": "stderr",
     "output_type": "stream",
     "text": [
      "/home/loki/.local/lib/python2.7/site-packages/sklearn/neural_network/multilayer_perceptron.py:564: ConvergenceWarning: Stochastic Optimizer: Maximum iterations (2652) reached and the optimization hasn't converged yet.\n",
      "  % self.max_iter, ConvergenceWarning)\n"
     ]
    },
    {
     "name": "stdout",
     "output_type": "stream",
     "text": [
      "[CV]  mlp__activation=relu, mlp__alpha=2.3300614106969246, mlp__hidden_layer_sizes=(279, 231), mlp__solver=sgd, mlp__learning_rate=adaptive, mlp__max_iter=2652, total=14.8min\n",
      "[CV] mlp__activation=relu, mlp__alpha=8.373806535266489e-05, mlp__hidden_layer_sizes=(54, 182, 222, 442), mlp__solver=adam, mlp__learning_rate=constant, mlp__max_iter=2321 \n",
      "[CV]  mlp__activation=relu, mlp__alpha=8.373806535266489e-05, mlp__hidden_layer_sizes=(54, 182, 222, 442), mlp__solver=adam, mlp__learning_rate=constant, mlp__max_iter=2321, total=   9.4s\n",
      "[CV] mlp__activation=relu, mlp__alpha=8.373806535266489e-05, mlp__hidden_layer_sizes=(54, 182, 222, 442), mlp__solver=adam, mlp__learning_rate=constant, mlp__max_iter=2321 \n"
     ]
    },
    {
     "name": "stderr",
     "output_type": "stream",
     "text": [
      "/home/loki/.local/lib/python2.7/site-packages/sklearn/neural_network/multilayer_perceptron.py:564: ConvergenceWarning: Stochastic Optimizer: Maximum iterations (2652) reached and the optimization hasn't converged yet.\n",
      "  % self.max_iter, ConvergenceWarning)\n"
     ]
    },
    {
     "name": "stdout",
     "output_type": "stream",
     "text": [
      "[CV]  mlp__activation=relu, mlp__alpha=2.3300614106969246, mlp__hidden_layer_sizes=(279, 231), mlp__solver=sgd, mlp__learning_rate=adaptive, mlp__max_iter=2652, total=15.1min\n",
      "[CV] mlp__activation=relu, mlp__alpha=33.00034791125289, mlp__hidden_layer_sizes=(244, 159, 198), mlp__solver=lbfgs, mlp__learning_rate=constant, mlp__max_iter=2691 \n",
      "[CV]  mlp__activation=relu, mlp__alpha=8.373806535266489e-05, mlp__hidden_layer_sizes=(54, 182, 222, 442), mlp__solver=adam, mlp__learning_rate=constant, mlp__max_iter=2321, total=  13.6s\n",
      "[CV] mlp__activation=relu, mlp__alpha=33.00034791125289, mlp__hidden_layer_sizes=(244, 159, 198), mlp__solver=lbfgs, mlp__learning_rate=constant, mlp__max_iter=2691 \n",
      "[CV]  mlp__activation=relu, mlp__alpha=33.00034791125289, mlp__hidden_layer_sizes=(244, 159, 198), mlp__solver=lbfgs, mlp__learning_rate=constant, mlp__max_iter=2691, total=  12.9s\n",
      "[CV] mlp__activation=tanh, mlp__alpha=1.7793043899185772e-07, mlp__hidden_layer_sizes=(279, 231), mlp__solver=adam, mlp__learning_rate=constant, mlp__max_iter=1444 \n",
      "[CV]  mlp__activation=relu, mlp__alpha=33.00034791125289, mlp__hidden_layer_sizes=(244, 159, 198), mlp__solver=lbfgs, mlp__learning_rate=constant, mlp__max_iter=2691, total=  14.7s\n",
      "[CV] mlp__activation=tanh, mlp__alpha=1.7793043899185772e-07, mlp__hidden_layer_sizes=(279, 231), mlp__solver=adam, mlp__learning_rate=constant, mlp__max_iter=1444 \n",
      "[CV]  mlp__activation=tanh, mlp__alpha=1.7793043899185772e-07, mlp__hidden_layer_sizes=(279, 231), mlp__solver=adam, mlp__learning_rate=constant, mlp__max_iter=1444, total=   8.8s\n",
      "[CV] mlp__activation=tanh, mlp__alpha=4.391800892596086e-05, mlp__hidden_layer_sizes=(279, 231), mlp__solver=lbfgs, mlp__learning_rate=invscaling, mlp__max_iter=2832 \n"
     ]
    },
    {
     "name": "stderr",
     "output_type": "stream",
     "text": [
      "[Parallel(n_jobs=-1)]: Done  33 tasks      | elapsed: 17.0min\n"
     ]
    },
    {
     "name": "stdout",
     "output_type": "stream",
     "text": [
      "[CV]  mlp__activation=tanh, mlp__alpha=1.7793043899185772e-07, mlp__hidden_layer_sizes=(279, 231), mlp__solver=adam, mlp__learning_rate=constant, mlp__max_iter=1444, total=   9.0s\n",
      "[CV] mlp__activation=tanh, mlp__alpha=4.391800892596086e-05, mlp__hidden_layer_sizes=(279, 231), mlp__solver=lbfgs, mlp__learning_rate=invscaling, mlp__max_iter=2832 \n",
      "[CV]  mlp__activation=tanh, mlp__alpha=4.391800892596086e-05, mlp__hidden_layer_sizes=(279, 231), mlp__solver=lbfgs, mlp__learning_rate=invscaling, mlp__max_iter=2832, total=   7.5s\n",
      "[CV] mlp__activation=logistic, mlp__alpha=0.11914506981197748, mlp__hidden_layer_sizes=(244, 159, 198), mlp__solver=sgd, mlp__learning_rate=adaptive, mlp__max_iter=3576 \n",
      "[CV]  mlp__activation=logistic, mlp__alpha=0.11914506981197748, mlp__hidden_layer_sizes=(244, 159, 198), mlp__solver=sgd, mlp__learning_rate=adaptive, mlp__max_iter=3576, total=  10.8s\n",
      "[CV] mlp__activation=logistic, mlp__alpha=0.11914506981197748, mlp__hidden_layer_sizes=(244, 159, 198), mlp__solver=sgd, mlp__learning_rate=adaptive, mlp__max_iter=3576 \n",
      "[CV]  mlp__activation=tanh, mlp__alpha=4.391800892596086e-05, mlp__hidden_layer_sizes=(279, 231), mlp__solver=lbfgs, mlp__learning_rate=invscaling, mlp__max_iter=2832, total=  14.6s\n",
      "[CV] mlp__activation=identity, mlp__alpha=0.31368698245668797, mlp__hidden_layer_sizes=(451,), mlp__solver=sgd, mlp__learning_rate=invscaling, mlp__max_iter=690 \n",
      "[CV]  mlp__activation=logistic, mlp__alpha=0.11914506981197748, mlp__hidden_layer_sizes=(244, 159, 198), mlp__solver=sgd, mlp__learning_rate=adaptive, mlp__max_iter=3576, total=  12.6s\n",
      "[CV] mlp__activation=identity, mlp__alpha=0.31368698245668797, mlp__hidden_layer_sizes=(451,), mlp__solver=sgd, mlp__learning_rate=invscaling, mlp__max_iter=690 \n",
      "[CV]  mlp__activation=identity, mlp__alpha=0.31368698245668797, mlp__hidden_layer_sizes=(451,), mlp__solver=sgd, mlp__learning_rate=invscaling, mlp__max_iter=690, total=  33.6s\n",
      "[CV] mlp__activation=tanh, mlp__alpha=0.12767507043192644, mlp__hidden_layer_sizes=(126, 397, 56, 315, 256), mlp__solver=sgd, mlp__learning_rate=constant, mlp__max_iter=748 \n",
      "[CV]  mlp__activation=identity, mlp__alpha=0.31368698245668797, mlp__hidden_layer_sizes=(451,), mlp__solver=sgd, mlp__learning_rate=invscaling, mlp__max_iter=690, total=  31.7s\n",
      "[CV] mlp__activation=tanh, mlp__alpha=0.12767507043192644, mlp__hidden_layer_sizes=(126, 397, 56, 315, 256), mlp__solver=sgd, mlp__learning_rate=constant, mlp__max_iter=748 \n",
      "[CV]  mlp__activation=tanh, mlp__alpha=0.12767507043192644, mlp__hidden_layer_sizes=(126, 397, 56, 315, 256), mlp__solver=sgd, mlp__learning_rate=constant, mlp__max_iter=748, total= 2.8min\n",
      "[CV] mlp__activation=identity, mlp__alpha=4.695390010680063e-06, mlp__hidden_layer_sizes=(451,), mlp__solver=sgd, mlp__learning_rate=invscaling, mlp__max_iter=4667 \n",
      "[CV]  mlp__activation=tanh, mlp__alpha=0.12767507043192644, mlp__hidden_layer_sizes=(126, 397, 56, 315, 256), mlp__solver=sgd, mlp__learning_rate=constant, mlp__max_iter=748, total= 3.1min\n",
      "[CV] mlp__activation=identity, mlp__alpha=4.695390010680063e-06, mlp__hidden_layer_sizes=(451,), mlp__solver=sgd, mlp__learning_rate=invscaling, mlp__max_iter=4667 \n",
      "[CV]  mlp__activation=identity, mlp__alpha=4.695390010680063e-06, mlp__hidden_layer_sizes=(451,), mlp__solver=sgd, mlp__learning_rate=invscaling, mlp__max_iter=4667, total=  31.7s\n",
      "[CV] mlp__activation=identity, mlp__alpha=0.012738113231864785, mlp__hidden_layer_sizes=(451,), mlp__solver=adam, mlp__learning_rate=constant, mlp__max_iter=944 \n",
      "[CV]  mlp__activation=identity, mlp__alpha=4.695390010680063e-06, mlp__hidden_layer_sizes=(451,), mlp__solver=sgd, mlp__learning_rate=invscaling, mlp__max_iter=4667, total=  30.5s\n",
      "[CV] mlp__activation=identity, mlp__alpha=0.012738113231864785, mlp__hidden_layer_sizes=(451,), mlp__solver=adam, mlp__learning_rate=constant, mlp__max_iter=944 \n",
      "[CV]  mlp__activation=identity, mlp__alpha=0.012738113231864785, mlp__hidden_layer_sizes=(451,), mlp__solver=adam, mlp__learning_rate=constant, mlp__max_iter=944, total=  40.3s\n",
      "[CV] mlp__activation=logistic, mlp__alpha=1.2080421346773289e-05, mlp__hidden_layer_sizes=(451,), mlp__solver=sgd, mlp__learning_rate=constant, mlp__max_iter=1530 \n",
      "[CV]  mlp__activation=logistic, mlp__alpha=1.2080421346773289e-05, mlp__hidden_layer_sizes=(451,), mlp__solver=sgd, mlp__learning_rate=constant, mlp__max_iter=1530, total=   6.5s\n",
      "[CV] mlp__activation=logistic, mlp__alpha=1.2080421346773289e-05, mlp__hidden_layer_sizes=(451,), mlp__solver=sgd, mlp__learning_rate=constant, mlp__max_iter=1530 \n",
      "[CV]  mlp__activation=identity, mlp__alpha=0.012738113231864785, mlp__hidden_layer_sizes=(451,), mlp__solver=adam, mlp__learning_rate=constant, mlp__max_iter=944, total= 1.2min\n",
      "[CV]  mlp__activation=logistic, mlp__alpha=1.2080421346773289e-05, mlp__hidden_layer_sizes=(451,), mlp__solver=sgd, mlp__learning_rate=constant, mlp__max_iter=1530, total=   5.6s\n",
      "[CV]  mlp__activation=logistic, mlp__alpha=7.9049276226964205, mlp__hidden_layer_sizes=(126, 397, 56, 315, 256), mlp__solver=sgd, mlp__learning_rate=adaptive, mlp__max_iter=4242, total= 8.1min\n",
      "[CV]  mlp__activation=logistic, mlp__alpha=7.9049276226964205, mlp__hidden_layer_sizes=(126, 397, 56, 315, 256), mlp__solver=sgd, mlp__learning_rate=adaptive, mlp__max_iter=4242, total= 8.2min\n"
     ]
    },
    {
     "name": "stderr",
     "output_type": "stream",
     "text": [
      "[Parallel(n_jobs=-1)]: Done  50 out of  50 | elapsed: 23.8min finished\n"
     ]
    },
    {
     "name": "stdout",
     "output_type": "stream",
     "text": [
      "Fitting 2 folds for each of 25 candidates, totalling 50 fits\n"
     ]
    },
    {
     "name": "stderr",
     "output_type": "stream",
     "text": [
      "[Parallel(n_jobs=-1)]: Done  42 tasks      | elapsed:   24.8s\n",
      "[Parallel(n_jobs=-1)]: Done  50 out of  50 | elapsed:   45.9s finished\n"
     ]
    },
    {
     "name": "stdout",
     "output_type": "stream",
     "text": [
      "\n",
      "Score[mean]: 0.859154929577\n",
      "From Baseline: 0.0%\n",
      "From LOG: -1.40845070423%\n",
      "{'mlp__activation': 'tanh', 'mlp__alpha': 0.0006820776732865685, 'mlp__hidden_layer_sizes': (451,), 'mlp__solver': 'sgd', 'mlp__learning_rate': 'constant', 'mlp__max_iter': 3576}\n",
      "LOG Params:{'log__solver': 'newton-cg', 'log__class_weight': None, 'log__max_iter': 2894, 'log__C': 17.307655341957275}\n",
      "\n",
      "3-5_15\n",
      "Median Baseline: 0.506849315068\n",
      "Mean Baseline: 0.876712328767\n",
      "\n",
      "Fitting 2 folds for each of 25 candidates, totalling 50 fits\n",
      "[CV] mlp__activation=tanh, mlp__alpha=0.0009203731996618221, mlp__hidden_layer_sizes=(126, 397, 56, 315, 256), mlp__solver=adam, mlp__learning_rate=invscaling, mlp__max_iter=1151 \n",
      "[CV] mlp__activation=tanh, mlp__alpha=0.0009203731996618221, mlp__hidden_layer_sizes=(126, 397, 56, 315, 256), mlp__solver=adam, mlp__learning_rate=invscaling, mlp__max_iter=1151 \n",
      "[CV] mlp__activation=tanh, mlp__alpha=0.3361449000108769, mlp__hidden_layer_sizes=(451,), mlp__solver=lbfgs, mlp__learning_rate=constant, mlp__max_iter=2515 \n",
      "[CV] mlp__activation=tanh, mlp__alpha=0.3361449000108769, mlp__hidden_layer_sizes=(451,), mlp__solver=lbfgs, mlp__learning_rate=constant, mlp__max_iter=2515 \n",
      "[CV]  mlp__activation=tanh, mlp__alpha=0.0009203731996618221, mlp__hidden_layer_sizes=(126, 397, 56, 315, 256), mlp__solver=adam, mlp__learning_rate=invscaling, mlp__max_iter=1151, total=   6.1s\n",
      "[CV] mlp__activation=relu, mlp__alpha=213.46630333242456, mlp__hidden_layer_sizes=(244, 159, 198), mlp__solver=lbfgs, mlp__learning_rate=constant, mlp__max_iter=574 \n",
      "[CV]  mlp__activation=relu, mlp__alpha=213.46630333242456, mlp__hidden_layer_sizes=(244, 159, 198), mlp__solver=lbfgs, mlp__learning_rate=constant, mlp__max_iter=574, total=   5.8s\n",
      "[CV] mlp__activation=relu, mlp__alpha=213.46630333242456, mlp__hidden_layer_sizes=(244, 159, 198), mlp__solver=lbfgs, mlp__learning_rate=constant, mlp__max_iter=574 \n",
      "[CV]  mlp__activation=tanh, mlp__alpha=0.0009203731996618221, mlp__hidden_layer_sizes=(126, 397, 56, 315, 256), mlp__solver=adam, mlp__learning_rate=invscaling, mlp__max_iter=1151, total=  12.6s\n",
      "[CV] mlp__activation=identity, mlp__alpha=1.6225952870780872e-07, mlp__hidden_layer_sizes=(279, 231), mlp__solver=adam, mlp__learning_rate=adaptive, mlp__max_iter=4775 \n",
      "[CV]  mlp__activation=relu, mlp__alpha=213.46630333242456, mlp__hidden_layer_sizes=(244, 159, 198), mlp__solver=lbfgs, mlp__learning_rate=constant, mlp__max_iter=574, total=   6.2s\n",
      "[CV] mlp__activation=identity, mlp__alpha=1.6225952870780872e-07, mlp__hidden_layer_sizes=(279, 231), mlp__solver=adam, mlp__learning_rate=adaptive, mlp__max_iter=4775 \n",
      "[CV]  mlp__activation=identity, mlp__alpha=1.6225952870780872e-07, mlp__hidden_layer_sizes=(279, 231), mlp__solver=adam, mlp__learning_rate=adaptive, mlp__max_iter=4775, total=  16.3s\n",
      "[CV] mlp__activation=identity, mlp__alpha=57.3797641421414, mlp__hidden_layer_sizes=(126, 397, 56, 315, 256), mlp__solver=lbfgs, mlp__learning_rate=invscaling, mlp__max_iter=798 \n",
      "[CV]  mlp__activation=tanh, mlp__alpha=0.3361449000108769, mlp__hidden_layer_sizes=(451,), mlp__solver=lbfgs, mlp__learning_rate=constant, mlp__max_iter=2515, total=  42.8s\n",
      "[CV] mlp__activation=identity, mlp__alpha=57.3797641421414, mlp__hidden_layer_sizes=(126, 397, 56, 315, 256), mlp__solver=lbfgs, mlp__learning_rate=invscaling, mlp__max_iter=798 \n",
      "[CV]  mlp__activation=identity, mlp__alpha=1.6225952870780872e-07, mlp__hidden_layer_sizes=(279, 231), mlp__solver=adam, mlp__learning_rate=adaptive, mlp__max_iter=4775, total=  25.0s\n",
      "[CV] mlp__activation=identity, mlp__alpha=6.727099135712336, mlp__hidden_layer_sizes=(126, 397, 56, 315, 256), mlp__solver=sgd, mlp__learning_rate=adaptive, mlp__max_iter=3006 \n",
      "[CV]  mlp__activation=identity, mlp__alpha=57.3797641421414, mlp__hidden_layer_sizes=(126, 397, 56, 315, 256), mlp__solver=lbfgs, mlp__learning_rate=invscaling, mlp__max_iter=798, total=  15.0s\n",
      "[CV] mlp__activation=identity, mlp__alpha=6.727099135712336, mlp__hidden_layer_sizes=(126, 397, 56, 315, 256), mlp__solver=sgd, mlp__learning_rate=adaptive, mlp__max_iter=3006 \n",
      "[CV]  mlp__activation=tanh, mlp__alpha=0.3361449000108769, mlp__hidden_layer_sizes=(451,), mlp__solver=lbfgs, mlp__learning_rate=constant, mlp__max_iter=2515, total=  50.8s\n",
      "[CV] mlp__activation=tanh, mlp__alpha=0.7192118872221193, mlp__hidden_layer_sizes=(126, 397, 56, 315, 256), mlp__solver=lbfgs, mlp__learning_rate=invscaling, mlp__max_iter=4547 \n",
      "[CV]  mlp__activation=identity, mlp__alpha=57.3797641421414, mlp__hidden_layer_sizes=(126, 397, 56, 315, 256), mlp__solver=lbfgs, mlp__learning_rate=invscaling, mlp__max_iter=798, total=  15.0s\n",
      "[CV] mlp__activation=tanh, mlp__alpha=0.7192118872221193, mlp__hidden_layer_sizes=(126, 397, 56, 315, 256), mlp__solver=lbfgs, mlp__learning_rate=invscaling, mlp__max_iter=4547 \n",
      "[CV]  mlp__activation=tanh, mlp__alpha=0.7192118872221193, mlp__hidden_layer_sizes=(126, 397, 56, 315, 256), mlp__solver=lbfgs, mlp__learning_rate=invscaling, mlp__max_iter=4547, total= 2.0min\n",
      "[CV] mlp__activation=logistic, mlp__alpha=2.1004982416539152e-05, mlp__hidden_layer_sizes=(244, 159, 198), mlp__solver=lbfgs, mlp__learning_rate=adaptive, mlp__max_iter=2043 \n",
      "[CV]  mlp__activation=logistic, mlp__alpha=2.1004982416539152e-05, mlp__hidden_layer_sizes=(244, 159, 198), mlp__solver=lbfgs, mlp__learning_rate=adaptive, mlp__max_iter=2043, total=   5.9s\n",
      "[CV] mlp__activation=logistic, mlp__alpha=2.1004982416539152e-05, mlp__hidden_layer_sizes=(244, 159, 198), mlp__solver=lbfgs, mlp__learning_rate=adaptive, mlp__max_iter=2043 \n",
      "[CV]  mlp__activation=logistic, mlp__alpha=2.1004982416539152e-05, mlp__hidden_layer_sizes=(244, 159, 198), mlp__solver=lbfgs, mlp__learning_rate=adaptive, mlp__max_iter=2043, total=   5.7s\n",
      "[CV] mlp__activation=identity, mlp__alpha=6.1914417559778475e-06, mlp__hidden_layer_sizes=(451,), mlp__solver=adam, mlp__learning_rate=invscaling, mlp__max_iter=3660 \n",
      "[CV]  mlp__activation=tanh, mlp__alpha=0.7192118872221193, mlp__hidden_layer_sizes=(126, 397, 56, 315, 256), mlp__solver=lbfgs, mlp__learning_rate=invscaling, mlp__max_iter=4547, total= 3.6min\n",
      "[CV] mlp__activation=identity, mlp__alpha=6.1914417559778475e-06, mlp__hidden_layer_sizes=(451,), mlp__solver=adam, mlp__learning_rate=invscaling, mlp__max_iter=3660 \n",
      "[CV]  mlp__activation=identity, mlp__alpha=6.1914417559778475e-06, mlp__hidden_layer_sizes=(451,), mlp__solver=adam, mlp__learning_rate=invscaling, mlp__max_iter=3660, total= 1.3min\n",
      "[CV] mlp__activation=tanh, mlp__alpha=4.174655289253135e-07, mlp__hidden_layer_sizes=(54, 182, 222, 442), mlp__solver=lbfgs, mlp__learning_rate=constant, mlp__max_iter=3861 \n",
      "[CV]  mlp__activation=tanh, mlp__alpha=4.174655289253135e-07, mlp__hidden_layer_sizes=(54, 182, 222, 442), mlp__solver=lbfgs, mlp__learning_rate=constant, mlp__max_iter=3861, total=  11.6s\n",
      "[CV] mlp__activation=tanh, mlp__alpha=4.174655289253135e-07, mlp__hidden_layer_sizes=(54, 182, 222, 442), mlp__solver=lbfgs, mlp__learning_rate=constant, mlp__max_iter=3861 \n",
      "[CV]  mlp__activation=tanh, mlp__alpha=4.174655289253135e-07, mlp__hidden_layer_sizes=(54, 182, 222, 442), mlp__solver=lbfgs, mlp__learning_rate=constant, mlp__max_iter=3861, total=  11.0s\n",
      "[CV] mlp__activation=tanh, mlp__alpha=8.183006815867389e-05, mlp__hidden_layer_sizes=(244, 159, 198), mlp__solver=adam, mlp__learning_rate=invscaling, mlp__max_iter=2546 \n",
      "[CV]  mlp__activation=tanh, mlp__alpha=8.183006815867389e-05, mlp__hidden_layer_sizes=(244, 159, 198), mlp__solver=adam, mlp__learning_rate=invscaling, mlp__max_iter=2546, total=  16.5s\n",
      "[CV] mlp__activation=tanh, mlp__alpha=8.183006815867389e-05, mlp__hidden_layer_sizes=(244, 159, 198), mlp__solver=adam, mlp__learning_rate=invscaling, mlp__max_iter=2546 \n",
      "[CV]  mlp__activation=tanh, mlp__alpha=8.183006815867389e-05, mlp__hidden_layer_sizes=(244, 159, 198), mlp__solver=adam, mlp__learning_rate=invscaling, mlp__max_iter=2546, total=  24.3s\n",
      "[CV] mlp__activation=tanh, mlp__alpha=0.017188391428171457, mlp__hidden_layer_sizes=(54, 182, 222, 442), mlp__solver=sgd, mlp__learning_rate=constant, mlp__max_iter=1729 \n",
      "[CV]  mlp__activation=identity, mlp__alpha=6.1914417559778475e-06, mlp__hidden_layer_sizes=(451,), mlp__solver=adam, mlp__learning_rate=invscaling, mlp__max_iter=3660, total= 1.7min\n"
     ]
    },
    {
     "name": "stdout",
     "output_type": "stream",
     "text": [
      "[CV] mlp__activation=tanh, mlp__alpha=0.017188391428171457, mlp__hidden_layer_sizes=(54, 182, 222, 442), mlp__solver=sgd, mlp__learning_rate=constant, mlp__max_iter=1729 \n",
      "[CV]  mlp__activation=tanh, mlp__alpha=0.017188391428171457, mlp__hidden_layer_sizes=(54, 182, 222, 442), mlp__solver=sgd, mlp__learning_rate=constant, mlp__max_iter=1729, total= 2.8min\n",
      "[CV] mlp__activation=relu, mlp__alpha=1.2052609368708414e-06, mlp__hidden_layer_sizes=(279, 231), mlp__solver=adam, mlp__learning_rate=constant, mlp__max_iter=691 \n",
      "[CV]  mlp__activation=relu, mlp__alpha=1.2052609368708414e-06, mlp__hidden_layer_sizes=(279, 231), mlp__solver=adam, mlp__learning_rate=constant, mlp__max_iter=691, total=  16.2s\n",
      "[CV] mlp__activation=relu, mlp__alpha=1.2052609368708414e-06, mlp__hidden_layer_sizes=(279, 231), mlp__solver=adam, mlp__learning_rate=constant, mlp__max_iter=691 \n",
      "[CV]  mlp__activation=tanh, mlp__alpha=0.017188391428171457, mlp__hidden_layer_sizes=(54, 182, 222, 442), mlp__solver=sgd, mlp__learning_rate=constant, mlp__max_iter=1729, total= 3.0min\n",
      "[CV] mlp__activation=tanh, mlp__alpha=0.04962444877628913, mlp__hidden_layer_sizes=(244, 159, 198), mlp__solver=lbfgs, mlp__learning_rate=constant, mlp__max_iter=3080 \n",
      "[CV]  mlp__activation=relu, mlp__alpha=1.2052609368708414e-06, mlp__hidden_layer_sizes=(279, 231), mlp__solver=adam, mlp__learning_rate=constant, mlp__max_iter=691, total=  40.9s\n",
      "[CV] mlp__activation=tanh, mlp__alpha=0.04962444877628913, mlp__hidden_layer_sizes=(244, 159, 198), mlp__solver=lbfgs, mlp__learning_rate=constant, mlp__max_iter=3080 \n",
      "[CV]  mlp__activation=tanh, mlp__alpha=0.04962444877628913, mlp__hidden_layer_sizes=(244, 159, 198), mlp__solver=lbfgs, mlp__learning_rate=constant, mlp__max_iter=3080, total= 2.3min\n",
      "[CV] mlp__activation=logistic, mlp__alpha=0.00023086779941871696, mlp__hidden_layer_sizes=(451,), mlp__solver=adam, mlp__learning_rate=adaptive, mlp__max_iter=653 \n",
      "[CV]  mlp__activation=tanh, mlp__alpha=0.04962444877628913, mlp__hidden_layer_sizes=(244, 159, 198), mlp__solver=lbfgs, mlp__learning_rate=constant, mlp__max_iter=3080, total= 2.6min\n",
      "[CV] mlp__activation=logistic, mlp__alpha=0.00023086779941871696, mlp__hidden_layer_sizes=(451,), mlp__solver=adam, mlp__learning_rate=adaptive, mlp__max_iter=653 \n",
      "[CV]  mlp__activation=logistic, mlp__alpha=0.00023086779941871696, mlp__hidden_layer_sizes=(451,), mlp__solver=adam, mlp__learning_rate=adaptive, mlp__max_iter=653, total= 1.5min\n",
      "[CV] mlp__activation=relu, mlp__alpha=1.259215613694151e-07, mlp__hidden_layer_sizes=(126, 397, 56, 315, 256), mlp__solver=sgd, mlp__learning_rate=constant, mlp__max_iter=3283 \n",
      "[CV]  mlp__activation=relu, mlp__alpha=1.259215613694151e-07, mlp__hidden_layer_sizes=(126, 397, 56, 315, 256), mlp__solver=sgd, mlp__learning_rate=constant, mlp__max_iter=3283, total=  16.5s\n",
      "[CV] mlp__activation=relu, mlp__alpha=1.259215613694151e-07, mlp__hidden_layer_sizes=(126, 397, 56, 315, 256), mlp__solver=sgd, mlp__learning_rate=constant, mlp__max_iter=3283 \n",
      "[CV]  mlp__activation=relu, mlp__alpha=1.259215613694151e-07, mlp__hidden_layer_sizes=(126, 397, 56, 315, 256), mlp__solver=sgd, mlp__learning_rate=constant, mlp__max_iter=3283, total=   1.8s\n",
      "[CV] mlp__activation=tanh, mlp__alpha=0.5844761131633638, mlp__hidden_layer_sizes=(451,), mlp__solver=sgd, mlp__learning_rate=adaptive, mlp__max_iter=574 \n",
      "[CV]  mlp__activation=logistic, mlp__alpha=0.00023086779941871696, mlp__hidden_layer_sizes=(451,), mlp__solver=adam, mlp__learning_rate=adaptive, mlp__max_iter=653, total= 2.7min\n",
      "[CV] mlp__activation=tanh, mlp__alpha=0.5844761131633638, mlp__hidden_layer_sizes=(451,), mlp__solver=sgd, mlp__learning_rate=adaptive, mlp__max_iter=574 \n",
      "[CV]  mlp__activation=identity, mlp__alpha=6.727099135712336, mlp__hidden_layer_sizes=(126, 397, 56, 315, 256), mlp__solver=sgd, mlp__learning_rate=adaptive, mlp__max_iter=3006, total=14.4min\n",
      "[CV] mlp__activation=identity, mlp__alpha=0.09246257116405733, mlp__hidden_layer_sizes=(244, 159, 198), mlp__solver=sgd, mlp__learning_rate=invscaling, mlp__max_iter=3776 \n"
     ]
    },
    {
     "name": "stderr",
     "output_type": "stream",
     "text": [
      "/home/loki/.local/lib/python2.7/site-packages/sklearn/neural_network/multilayer_perceptron.py:564: ConvergenceWarning: Stochastic Optimizer: Maximum iterations (3006) reached and the optimization hasn't converged yet.\n",
      "  % self.max_iter, ConvergenceWarning)\n"
     ]
    },
    {
     "name": "stdout",
     "output_type": "stream",
     "text": [
      "[CV]  mlp__activation=identity, mlp__alpha=6.727099135712336, mlp__hidden_layer_sizes=(126, 397, 56, 315, 256), mlp__solver=sgd, mlp__learning_rate=adaptive, mlp__max_iter=3006, total=14.4min\n",
      "[CV] mlp__activation=identity, mlp__alpha=0.09246257116405733, mlp__hidden_layer_sizes=(244, 159, 198), mlp__solver=sgd, mlp__learning_rate=invscaling, mlp__max_iter=3776 \n",
      "[CV]  mlp__activation=identity, mlp__alpha=0.09246257116405733, mlp__hidden_layer_sizes=(244, 159, 198), mlp__solver=sgd, mlp__learning_rate=invscaling, mlp__max_iter=3776, total=   2.8s\n",
      "[CV] mlp__activation=identity, mlp__alpha=13.125568357718455, mlp__hidden_layer_sizes=(279, 231), mlp__solver=lbfgs, mlp__learning_rate=invscaling, mlp__max_iter=3172 \n"
     ]
    },
    {
     "name": "stderr",
     "output_type": "stream",
     "text": [
      "[Parallel(n_jobs=-1)]: Done  33 tasks      | elapsed: 15.1min\n"
     ]
    },
    {
     "name": "stdout",
     "output_type": "stream",
     "text": [
      "[CV]  mlp__activation=identity, mlp__alpha=0.09246257116405733, mlp__hidden_layer_sizes=(244, 159, 198), mlp__solver=sgd, mlp__learning_rate=invscaling, mlp__max_iter=3776, total=   4.7s\n",
      "[CV] mlp__activation=identity, mlp__alpha=13.125568357718455, mlp__hidden_layer_sizes=(279, 231), mlp__solver=lbfgs, mlp__learning_rate=invscaling, mlp__max_iter=3172 \n",
      "[CV]  mlp__activation=identity, mlp__alpha=13.125568357718455, mlp__hidden_layer_sizes=(279, 231), mlp__solver=lbfgs, mlp__learning_rate=invscaling, mlp__max_iter=3172, total=  21.8s\n",
      "[CV] mlp__activation=logistic, mlp__alpha=30.093900344497243, mlp__hidden_layer_sizes=(54, 182, 222, 442), mlp__solver=lbfgs, mlp__learning_rate=constant, mlp__max_iter=4028 \n",
      "[CV]  mlp__activation=identity, mlp__alpha=13.125568357718455, mlp__hidden_layer_sizes=(279, 231), mlp__solver=lbfgs, mlp__learning_rate=invscaling, mlp__max_iter=3172, total=  28.1s\n",
      "[CV] mlp__activation=logistic, mlp__alpha=30.093900344497243, mlp__hidden_layer_sizes=(54, 182, 222, 442), mlp__solver=lbfgs, mlp__learning_rate=constant, mlp__max_iter=4028 \n",
      "[CV]  mlp__activation=logistic, mlp__alpha=30.093900344497243, mlp__hidden_layer_sizes=(54, 182, 222, 442), mlp__solver=lbfgs, mlp__learning_rate=constant, mlp__max_iter=4028, total=   7.3s\n",
      "[CV] mlp__activation=identity, mlp__alpha=0.05831305113526219, mlp__hidden_layer_sizes=(126, 397, 56, 315, 256), mlp__solver=adam, mlp__learning_rate=constant, mlp__max_iter=1931 \n",
      "[CV]  mlp__activation=logistic, mlp__alpha=30.093900344497243, mlp__hidden_layer_sizes=(54, 182, 222, 442), mlp__solver=lbfgs, mlp__learning_rate=constant, mlp__max_iter=4028, total=  18.3s\n",
      "[CV] mlp__activation=identity, mlp__alpha=0.05831305113526219, mlp__hidden_layer_sizes=(126, 397, 56, 315, 256), mlp__solver=adam, mlp__learning_rate=constant, mlp__max_iter=1931 \n",
      "[CV]  mlp__activation=identity, mlp__alpha=0.05831305113526219, mlp__hidden_layer_sizes=(126, 397, 56, 315, 256), mlp__solver=adam, mlp__learning_rate=constant, mlp__max_iter=1931, total=   6.2s\n",
      "[CV] mlp__activation=tanh, mlp__alpha=0.12476595526308684, mlp__hidden_layer_sizes=(279, 231), mlp__solver=sgd, mlp__learning_rate=adaptive, mlp__max_iter=1017 \n",
      "[CV]  mlp__activation=identity, mlp__alpha=0.05831305113526219, mlp__hidden_layer_sizes=(126, 397, 56, 315, 256), mlp__solver=adam, mlp__learning_rate=constant, mlp__max_iter=1931, total= 1.7min\n",
      "[CV] mlp__activation=tanh, mlp__alpha=0.12476595526308684, mlp__hidden_layer_sizes=(279, 231), mlp__solver=sgd, mlp__learning_rate=adaptive, mlp__max_iter=1017 \n"
     ]
    },
    {
     "name": "stderr",
     "output_type": "stream",
     "text": [
      "/home/loki/.local/lib/python2.7/site-packages/sklearn/neural_network/multilayer_perceptron.py:564: ConvergenceWarning: Stochastic Optimizer: Maximum iterations (574) reached and the optimization hasn't converged yet.\n",
      "  % self.max_iter, ConvergenceWarning)\n"
     ]
    },
    {
     "name": "stdout",
     "output_type": "stream",
     "text": [
      "[CV]  mlp__activation=tanh, mlp__alpha=0.5844761131633638, mlp__hidden_layer_sizes=(451,), mlp__solver=sgd, mlp__learning_rate=adaptive, mlp__max_iter=574, total= 5.5min\n",
      "[CV] mlp__activation=relu, mlp__alpha=14.065272421052393, mlp__hidden_layer_sizes=(451,), mlp__solver=lbfgs, mlp__learning_rate=invscaling, mlp__max_iter=3192 \n",
      "[CV]  mlp__activation=relu, mlp__alpha=14.065272421052393, mlp__hidden_layer_sizes=(451,), mlp__solver=lbfgs, mlp__learning_rate=invscaling, mlp__max_iter=3192, total=  33.2s\n",
      "[CV] mlp__activation=relu, mlp__alpha=14.065272421052393, mlp__hidden_layer_sizes=(451,), mlp__solver=lbfgs, mlp__learning_rate=invscaling, mlp__max_iter=3192 \n"
     ]
    },
    {
     "name": "stderr",
     "output_type": "stream",
     "text": [
      "/home/loki/.local/lib/python2.7/site-packages/sklearn/neural_network/multilayer_perceptron.py:564: ConvergenceWarning: Stochastic Optimizer: Maximum iterations (574) reached and the optimization hasn't converged yet.\n",
      "  % self.max_iter, ConvergenceWarning)\n"
     ]
    },
    {
     "name": "stdout",
     "output_type": "stream",
     "text": [
      "[CV]  mlp__activation=tanh, mlp__alpha=0.5844761131633638, mlp__hidden_layer_sizes=(451,), mlp__solver=sgd, mlp__learning_rate=adaptive, mlp__max_iter=574, total= 5.3min\n",
      "[CV] mlp__activation=logistic, mlp__alpha=0.0005172657387216019, mlp__hidden_layer_sizes=(244, 159, 198), mlp__solver=sgd, mlp__learning_rate=invscaling, mlp__max_iter=4772 \n",
      "[CV]  mlp__activation=logistic, mlp__alpha=0.0005172657387216019, mlp__hidden_layer_sizes=(244, 159, 198), mlp__solver=sgd, mlp__learning_rate=invscaling, mlp__max_iter=4772, total=   3.4s\n",
      "[CV] mlp__activation=logistic, mlp__alpha=0.0005172657387216019, mlp__hidden_layer_sizes=(244, 159, 198), mlp__solver=sgd, mlp__learning_rate=invscaling, mlp__max_iter=4772 \n",
      "[CV]  mlp__activation=logistic, mlp__alpha=0.0005172657387216019, mlp__hidden_layer_sizes=(244, 159, 198), mlp__solver=sgd, mlp__learning_rate=invscaling, mlp__max_iter=4772, total=   7.8s\n",
      "[CV] mlp__activation=identity, mlp__alpha=0.0014593657991557576, mlp__hidden_layer_sizes=(451,), mlp__solver=lbfgs, mlp__learning_rate=invscaling, mlp__max_iter=3958 \n",
      "[CV]  mlp__activation=identity, mlp__alpha=0.0014593657991557576, mlp__hidden_layer_sizes=(451,), mlp__solver=lbfgs, mlp__learning_rate=invscaling, mlp__max_iter=3958, total=  20.0s\n",
      "[CV] mlp__activation=identity, mlp__alpha=0.0014593657991557576, mlp__hidden_layer_sizes=(451,), mlp__solver=lbfgs, mlp__learning_rate=invscaling, mlp__max_iter=3958 \n",
      "[CV]  mlp__activation=identity, mlp__alpha=0.0014593657991557576, mlp__hidden_layer_sizes=(451,), mlp__solver=lbfgs, mlp__learning_rate=invscaling, mlp__max_iter=3958, total=  21.8s\n",
      "[CV]  mlp__activation=relu, mlp__alpha=14.065272421052393, mlp__hidden_layer_sizes=(451,), mlp__solver=lbfgs, mlp__learning_rate=invscaling, mlp__max_iter=3192, total= 2.7min\n",
      "[CV]  mlp__activation=tanh, mlp__alpha=0.12476595526308684, mlp__hidden_layer_sizes=(279, 231), mlp__solver=sgd, mlp__learning_rate=adaptive, mlp__max_iter=1017, total= 6.1min\n"
     ]
    },
    {
     "name": "stderr",
     "output_type": "stream",
     "text": [
      "/home/loki/.local/lib/python2.7/site-packages/sklearn/neural_network/multilayer_perceptron.py:564: ConvergenceWarning: Stochastic Optimizer: Maximum iterations (1017) reached and the optimization hasn't converged yet.\n",
      "  % self.max_iter, ConvergenceWarning)\n"
     ]
    },
    {
     "name": "stdout",
     "output_type": "stream",
     "text": [
      "[CV]  mlp__activation=tanh, mlp__alpha=0.12476595526308684, mlp__hidden_layer_sizes=(279, 231), mlp__solver=sgd, mlp__learning_rate=adaptive, mlp__max_iter=1017, total= 5.0min\n"
     ]
    },
    {
     "name": "stderr",
     "output_type": "stream",
     "text": [
      "[Parallel(n_jobs=-1)]: Done  50 out of  50 | elapsed: 22.4min finished\n"
     ]
    },
    {
     "name": "stdout",
     "output_type": "stream",
     "text": [
      "Fitting 2 folds for each of 25 candidates, totalling 50 fits\n"
     ]
    },
    {
     "name": "stderr",
     "output_type": "stream",
     "text": [
      "[Parallel(n_jobs=-1)]: Done  42 tasks      | elapsed:    7.0s\n"
     ]
    },
    {
     "name": "stdout",
     "output_type": "stream",
     "text": [
      "\n",
      "Score[median]: 0.780821917808\n",
      "From Baseline: 27.397260274%\n",
      "From LOG: 0.0%\n",
      "{'mlp__activation': 'tanh', 'mlp__alpha': 0.12476595526308684, 'mlp__hidden_layer_sizes': (279, 231), 'mlp__solver': 'sgd', 'mlp__learning_rate': 'adaptive', 'mlp__max_iter': 1017}\n",
      "LOG Params:{'log__solver': 'liblinear', 'log__class_weight': None, 'log__max_iter': 757, 'log__C': 1.5746977146430867}\n",
      "Fitting 2 folds for each of 25 candidates, totalling 50 fits\n"
     ]
    },
    {
     "name": "stderr",
     "output_type": "stream",
     "text": [
      "[Parallel(n_jobs=-1)]: Done  50 out of  50 | elapsed:    8.4s finished\n"
     ]
    },
    {
     "name": "stdout",
     "output_type": "stream",
     "text": [
      "[CV] mlp__activation=identity, mlp__alpha=2.572825967447932e-07, mlp__hidden_layer_sizes=(54, 182, 222, 442), mlp__solver=sgd, mlp__learning_rate=adaptive, mlp__max_iter=1269 \n",
      "[CV] mlp__activation=identity, mlp__alpha=2.572825967447932e-07, mlp__hidden_layer_sizes=(54, 182, 222, 442), mlp__solver=sgd, mlp__learning_rate=adaptive, mlp__max_iter=1269 \n",
      "[CV] mlp__activation=tanh, mlp__alpha=0.0004609604486828434, mlp__hidden_layer_sizes=(126, 397, 56, 315, 256), mlp__solver=adam, mlp__learning_rate=constant, mlp__max_iter=2932 \n",
      "[CV] mlp__activation=tanh, mlp__alpha=0.0004609604486828434, mlp__hidden_layer_sizes=(126, 397, 56, 315, 256), mlp__solver=adam, mlp__learning_rate=constant, mlp__max_iter=2932 \n",
      "[CV]  mlp__activation=tanh, mlp__alpha=0.0004609604486828434, mlp__hidden_layer_sizes=(126, 397, 56, 315, 256), mlp__solver=adam, mlp__learning_rate=constant, mlp__max_iter=2932, total=   6.9s\n",
      "[CV] mlp__activation=tanh, mlp__alpha=49.96877453854889, mlp__hidden_layer_sizes=(451,), mlp__solver=lbfgs, mlp__learning_rate=adaptive, mlp__max_iter=4906 \n",
      "[CV]  mlp__activation=tanh, mlp__alpha=0.0004609604486828434, mlp__hidden_layer_sizes=(126, 397, 56, 315, 256), mlp__solver=adam, mlp__learning_rate=constant, mlp__max_iter=2932, total=   8.7s\n",
      "[CV] mlp__activation=tanh, mlp__alpha=49.96877453854889, mlp__hidden_layer_sizes=(451,), mlp__solver=lbfgs, mlp__learning_rate=adaptive, mlp__max_iter=4906 \n",
      "[CV]  mlp__activation=tanh, mlp__alpha=49.96877453854889, mlp__hidden_layer_sizes=(451,), mlp__solver=lbfgs, mlp__learning_rate=adaptive, mlp__max_iter=4906, total=  26.8s\n",
      "[CV] mlp__activation=relu, mlp__alpha=0.017589165903277325, mlp__hidden_layer_sizes=(244, 159, 198), mlp__solver=sgd, mlp__learning_rate=constant, mlp__max_iter=1572 \n",
      "[CV]  mlp__activation=tanh, mlp__alpha=49.96877453854889, mlp__hidden_layer_sizes=(451,), mlp__solver=lbfgs, mlp__learning_rate=adaptive, mlp__max_iter=4906, total=  26.9s\n",
      "[CV] mlp__activation=relu, mlp__alpha=0.017589165903277325, mlp__hidden_layer_sizes=(244, 159, 198), mlp__solver=sgd, mlp__learning_rate=constant, mlp__max_iter=1572 \n",
      "[CV]  mlp__activation=relu, mlp__alpha=0.017589165903277325, mlp__hidden_layer_sizes=(244, 159, 198), mlp__solver=sgd, mlp__learning_rate=constant, mlp__max_iter=1572, total= 1.3min\n",
      "[CV] mlp__activation=tanh, mlp__alpha=0.0003115254223555488, mlp__hidden_layer_sizes=(244, 159, 198), mlp__solver=adam, mlp__learning_rate=constant, mlp__max_iter=1091 \n",
      "[CV]  mlp__activation=identity, mlp__alpha=2.572825967447932e-07, mlp__hidden_layer_sizes=(54, 182, 222, 442), mlp__solver=sgd, mlp__learning_rate=adaptive, mlp__max_iter=1269, total= 2.2min\n",
      "[CV] mlp__activation=tanh, mlp__alpha=0.0003115254223555488, mlp__hidden_layer_sizes=(244, 159, 198), mlp__solver=adam, mlp__learning_rate=constant, mlp__max_iter=1091 \n",
      "[CV]  mlp__activation=identity, mlp__alpha=2.572825967447932e-07, mlp__hidden_layer_sizes=(54, 182, 222, 442), mlp__solver=sgd, mlp__learning_rate=adaptive, mlp__max_iter=1269, total= 2.2min\n",
      "[CV] mlp__activation=tanh, mlp__alpha=0.4973895958790068, mlp__hidden_layer_sizes=(451,), mlp__solver=sgd, mlp__learning_rate=invscaling, mlp__max_iter=3826 \n",
      "[CV]  mlp__activation=tanh, mlp__alpha=0.0003115254223555488, mlp__hidden_layer_sizes=(244, 159, 198), mlp__solver=adam, mlp__learning_rate=constant, mlp__max_iter=1091, total=  21.9s\n",
      "[CV] mlp__activation=tanh, mlp__alpha=0.4973895958790068, mlp__hidden_layer_sizes=(451,), mlp__solver=sgd, mlp__learning_rate=invscaling, mlp__max_iter=3826 \n",
      "[CV]  mlp__activation=tanh, mlp__alpha=0.0003115254223555488, mlp__hidden_layer_sizes=(244, 159, 198), mlp__solver=adam, mlp__learning_rate=constant, mlp__max_iter=1091, total=   9.8s\n",
      "[CV] mlp__activation=identity, mlp__alpha=1.0023075482838644e-06, mlp__hidden_layer_sizes=(279, 231), mlp__solver=adam, mlp__learning_rate=invscaling, mlp__max_iter=4939 \n",
      "[CV]  mlp__activation=identity, mlp__alpha=1.0023075482838644e-06, mlp__hidden_layer_sizes=(279, 231), mlp__solver=adam, mlp__learning_rate=invscaling, mlp__max_iter=4939, total=  12.3s\n",
      "[CV] mlp__activation=identity, mlp__alpha=1.0023075482838644e-06, mlp__hidden_layer_sizes=(279, 231), mlp__solver=adam, mlp__learning_rate=invscaling, mlp__max_iter=4939 \n",
      "[CV]  mlp__activation=tanh, mlp__alpha=0.4973895958790068, mlp__hidden_layer_sizes=(451,), mlp__solver=sgd, mlp__learning_rate=invscaling, mlp__max_iter=3826, total=  29.9s\n",
      "[CV] mlp__activation=tanh, mlp__alpha=0.017188391428171457, mlp__hidden_layer_sizes=(126, 397, 56, 315, 256), mlp__solver=lbfgs, mlp__learning_rate=constant, mlp__max_iter=768 \n",
      "[CV]  mlp__activation=identity, mlp__alpha=1.0023075482838644e-06, mlp__hidden_layer_sizes=(279, 231), mlp__solver=adam, mlp__learning_rate=invscaling, mlp__max_iter=4939, total=  11.0s\n",
      "[CV] mlp__activation=tanh, mlp__alpha=0.017188391428171457, mlp__hidden_layer_sizes=(126, 397, 56, 315, 256), mlp__solver=lbfgs, mlp__learning_rate=constant, mlp__max_iter=768 \n",
      "[CV]  mlp__activation=tanh, mlp__alpha=0.4973895958790068, mlp__hidden_layer_sizes=(451,), mlp__solver=sgd, mlp__learning_rate=invscaling, mlp__max_iter=3826, total=  30.2s\n",
      "[CV] mlp__activation=identity, mlp__alpha=0.0007142559285543127, mlp__hidden_layer_sizes=(244, 159, 198), mlp__solver=lbfgs, mlp__learning_rate=invscaling, mlp__max_iter=2645 \n",
      "[CV]  mlp__activation=identity, mlp__alpha=0.0007142559285543127, mlp__hidden_layer_sizes=(244, 159, 198), mlp__solver=lbfgs, mlp__learning_rate=invscaling, mlp__max_iter=2645, total=  14.1s\n",
      "[CV] mlp__activation=identity, mlp__alpha=0.0007142559285543127, mlp__hidden_layer_sizes=(244, 159, 198), mlp__solver=lbfgs, mlp__learning_rate=invscaling, mlp__max_iter=2645 \n",
      "[CV]  mlp__activation=identity, mlp__alpha=0.0007142559285543127, mlp__hidden_layer_sizes=(244, 159, 198), mlp__solver=lbfgs, mlp__learning_rate=invscaling, mlp__max_iter=2645, total=  14.0s\n",
      "[CV] mlp__activation=logistic, mlp__alpha=3.0372635797033114e-05, mlp__hidden_layer_sizes=(54, 182, 222, 442), mlp__solver=lbfgs, mlp__learning_rate=adaptive, mlp__max_iter=3923 \n",
      "[CV]  mlp__activation=logistic, mlp__alpha=3.0372635797033114e-05, mlp__hidden_layer_sizes=(54, 182, 222, 442), mlp__solver=lbfgs, mlp__learning_rate=adaptive, mlp__max_iter=3923, total=   4.5s\n",
      "[CV] mlp__activation=logistic, mlp__alpha=3.0372635797033114e-05, mlp__hidden_layer_sizes=(54, 182, 222, 442), mlp__solver=lbfgs, mlp__learning_rate=adaptive, mlp__max_iter=3923 \n",
      "[CV]  mlp__activation=logistic, mlp__alpha=3.0372635797033114e-05, mlp__hidden_layer_sizes=(54, 182, 222, 442), mlp__solver=lbfgs, mlp__learning_rate=adaptive, mlp__max_iter=3923, total=   4.0s\n",
      "[CV] mlp__activation=relu, mlp__alpha=0.051965572438276576, mlp__hidden_layer_sizes=(244, 159, 198), mlp__solver=adam, mlp__learning_rate=constant, mlp__max_iter=944 \n",
      "[CV]  mlp__activation=tanh, mlp__alpha=0.017188391428171457, mlp__hidden_layer_sizes=(126, 397, 56, 315, 256), mlp__solver=lbfgs, mlp__learning_rate=constant, mlp__max_iter=768, total=  46.9s\n",
      "[CV] mlp__activation=relu, mlp__alpha=0.051965572438276576, mlp__hidden_layer_sizes=(244, 159, 198), mlp__solver=adam, mlp__learning_rate=constant, mlp__max_iter=944 \n",
      "[CV]  mlp__activation=relu, mlp__alpha=0.051965572438276576, mlp__hidden_layer_sizes=(244, 159, 198), mlp__solver=adam, mlp__learning_rate=constant, mlp__max_iter=944, total= 1.4min\n",
      "[CV] mlp__activation=identity, mlp__alpha=8.145371766280737e-07, mlp__hidden_layer_sizes=(244, 159, 198), mlp__solver=sgd, mlp__learning_rate=invscaling, mlp__max_iter=646 \n",
      "[CV]  mlp__activation=relu, mlp__alpha=0.051965572438276576, mlp__hidden_layer_sizes=(244, 159, 198), mlp__solver=adam, mlp__learning_rate=constant, mlp__max_iter=944, total= 1.5min\n",
      "[CV] mlp__activation=identity, mlp__alpha=8.145371766280737e-07, mlp__hidden_layer_sizes=(244, 159, 198), mlp__solver=sgd, mlp__learning_rate=invscaling, mlp__max_iter=646 \n",
      "[CV]  mlp__activation=identity, mlp__alpha=8.145371766280737e-07, mlp__hidden_layer_sizes=(244, 159, 198), mlp__solver=sgd, mlp__learning_rate=invscaling, mlp__max_iter=646, total= 1.3min\n",
      "[CV] mlp__activation=identity, mlp__alpha=1.0890229622637304, mlp__hidden_layer_sizes=(279, 231), mlp__solver=lbfgs, mlp__learning_rate=invscaling, mlp__max_iter=4923 \n",
      "[CV]  mlp__activation=identity, mlp__alpha=8.145371766280737e-07, mlp__hidden_layer_sizes=(244, 159, 198), mlp__solver=sgd, mlp__learning_rate=invscaling, mlp__max_iter=646, total= 1.5min\n"
     ]
    },
    {
     "name": "stdout",
     "output_type": "stream",
     "text": [
      "[CV] mlp__activation=identity, mlp__alpha=1.0890229622637304, mlp__hidden_layer_sizes=(279, 231), mlp__solver=lbfgs, mlp__learning_rate=invscaling, mlp__max_iter=4923 \n",
      "[CV]  mlp__activation=identity, mlp__alpha=1.0890229622637304, mlp__hidden_layer_sizes=(279, 231), mlp__solver=lbfgs, mlp__learning_rate=invscaling, mlp__max_iter=4923, total=  41.6s\n",
      "[CV] mlp__activation=relu, mlp__alpha=11.696827039703871, mlp__hidden_layer_sizes=(244, 159, 198), mlp__solver=adam, mlp__learning_rate=invscaling, mlp__max_iter=3311 \n",
      "[CV]  mlp__activation=identity, mlp__alpha=1.0890229622637304, mlp__hidden_layer_sizes=(279, 231), mlp__solver=lbfgs, mlp__learning_rate=invscaling, mlp__max_iter=4923, total=  51.5s\n",
      "[CV] mlp__activation=relu, mlp__alpha=11.696827039703871, mlp__hidden_layer_sizes=(244, 159, 198), mlp__solver=adam, mlp__learning_rate=invscaling, mlp__max_iter=3311 \n",
      "[CV]  mlp__activation=relu, mlp__alpha=0.017589165903277325, mlp__hidden_layer_sizes=(244, 159, 198), mlp__solver=sgd, mlp__learning_rate=constant, mlp__max_iter=1572, total= 7.2min\n",
      "[CV] mlp__activation=tanh, mlp__alpha=24.456166834524492, mlp__hidden_layer_sizes=(279, 231), mlp__solver=lbfgs, mlp__learning_rate=adaptive, mlp__max_iter=4831 \n",
      "[CV]  mlp__activation=tanh, mlp__alpha=0.017188391428171457, mlp__hidden_layer_sizes=(126, 397, 56, 315, 256), mlp__solver=lbfgs, mlp__learning_rate=constant, mlp__max_iter=768, total= 5.5min\n",
      "[CV] mlp__activation=tanh, mlp__alpha=24.456166834524492, mlp__hidden_layer_sizes=(279, 231), mlp__solver=lbfgs, mlp__learning_rate=adaptive, mlp__max_iter=4831 \n",
      "[CV]  mlp__activation=tanh, mlp__alpha=24.456166834524492, mlp__hidden_layer_sizes=(279, 231), mlp__solver=lbfgs, mlp__learning_rate=adaptive, mlp__max_iter=4831, total=  25.0s\n",
      "[CV] mlp__activation=relu, mlp__alpha=18.124175473742394, mlp__hidden_layer_sizes=(126, 397, 56, 315, 256), mlp__solver=adam, mlp__learning_rate=constant, mlp__max_iter=3985 \n",
      "[CV]  mlp__activation=relu, mlp__alpha=11.696827039703871, mlp__hidden_layer_sizes=(244, 159, 198), mlp__solver=adam, mlp__learning_rate=invscaling, mlp__max_iter=3311, total= 1.3min\n",
      "[CV] mlp__activation=relu, mlp__alpha=18.124175473742394, mlp__hidden_layer_sizes=(126, 397, 56, 315, 256), mlp__solver=adam, mlp__learning_rate=constant, mlp__max_iter=3985 \n",
      "[CV]  mlp__activation=relu, mlp__alpha=11.696827039703871, mlp__hidden_layer_sizes=(244, 159, 198), mlp__solver=adam, mlp__learning_rate=invscaling, mlp__max_iter=3311, total= 1.6min\n",
      "[CV] mlp__activation=relu, mlp__alpha=1.2080421346773289e-05, mlp__hidden_layer_sizes=(279, 231), mlp__solver=adam, mlp__learning_rate=constant, mlp__max_iter=3548 \n",
      "[CV]  mlp__activation=tanh, mlp__alpha=24.456166834524492, mlp__hidden_layer_sizes=(279, 231), mlp__solver=lbfgs, mlp__learning_rate=adaptive, mlp__max_iter=4831, total=  30.2s\n",
      "[CV] mlp__activation=relu, mlp__alpha=1.2080421346773289e-05, mlp__hidden_layer_sizes=(279, 231), mlp__solver=adam, mlp__learning_rate=constant, mlp__max_iter=3548 \n",
      "[CV]  mlp__activation=relu, mlp__alpha=1.2080421346773289e-05, mlp__hidden_layer_sizes=(279, 231), mlp__solver=adam, mlp__learning_rate=constant, mlp__max_iter=3548, total=  26.6s\n",
      "[CV] mlp__activation=tanh, mlp__alpha=4.695390010680063e-06, mlp__hidden_layer_sizes=(244, 159, 198), mlp__solver=sgd, mlp__learning_rate=invscaling, mlp__max_iter=2645 \n",
      "[CV]  mlp__activation=relu, mlp__alpha=1.2080421346773289e-05, mlp__hidden_layer_sizes=(279, 231), mlp__solver=adam, mlp__learning_rate=constant, mlp__max_iter=3548, total=  29.4s\n",
      "[CV] mlp__activation=tanh, mlp__alpha=4.695390010680063e-06, mlp__hidden_layer_sizes=(244, 159, 198), mlp__solver=sgd, mlp__learning_rate=invscaling, mlp__max_iter=2645 \n",
      "[CV]  mlp__activation=relu, mlp__alpha=18.124175473742394, mlp__hidden_layer_sizes=(126, 397, 56, 315, 256), mlp__solver=adam, mlp__learning_rate=constant, mlp__max_iter=3985, total= 1.3min\n",
      "[CV] mlp__activation=tanh, mlp__alpha=0.02543345761304648, mlp__hidden_layer_sizes=(451,), mlp__solver=sgd, mlp__learning_rate=constant, mlp__max_iter=4116 \n"
     ]
    },
    {
     "name": "stderr",
     "output_type": "stream",
     "text": [
      "[Parallel(n_jobs=-1)]: Done  33 tasks      | elapsed:  9.6min\n"
     ]
    },
    {
     "name": "stdout",
     "output_type": "stream",
     "text": [
      "[CV]  mlp__activation=relu, mlp__alpha=18.124175473742394, mlp__hidden_layer_sizes=(126, 397, 56, 315, 256), mlp__solver=adam, mlp__learning_rate=constant, mlp__max_iter=3985, total= 1.5min\n",
      "[CV] mlp__activation=tanh, mlp__alpha=0.02543345761304648, mlp__hidden_layer_sizes=(451,), mlp__solver=sgd, mlp__learning_rate=constant, mlp__max_iter=4116 \n",
      "[CV]  mlp__activation=tanh, mlp__alpha=4.695390010680063e-06, mlp__hidden_layer_sizes=(244, 159, 198), mlp__solver=sgd, mlp__learning_rate=invscaling, mlp__max_iter=2645, total= 1.1min\n",
      "[CV] mlp__activation=identity, mlp__alpha=0.15710723892474487, mlp__hidden_layer_sizes=(244, 159, 198), mlp__solver=sgd, mlp__learning_rate=invscaling, mlp__max_iter=3473 \n",
      "[CV]  mlp__activation=tanh, mlp__alpha=4.695390010680063e-06, mlp__hidden_layer_sizes=(244, 159, 198), mlp__solver=sgd, mlp__learning_rate=invscaling, mlp__max_iter=2645, total= 1.7min\n",
      "[CV] mlp__activation=identity, mlp__alpha=0.15710723892474487, mlp__hidden_layer_sizes=(244, 159, 198), mlp__solver=sgd, mlp__learning_rate=invscaling, mlp__max_iter=3473 \n",
      "[CV]  mlp__activation=identity, mlp__alpha=0.15710723892474487, mlp__hidden_layer_sizes=(244, 159, 198), mlp__solver=sgd, mlp__learning_rate=invscaling, mlp__max_iter=3473, total= 1.4min\n",
      "[CV] mlp__activation=identity, mlp__alpha=0.9483681866285928, mlp__hidden_layer_sizes=(451,), mlp__solver=lbfgs, mlp__learning_rate=adaptive, mlp__max_iter=782 \n",
      "[CV]  mlp__activation=identity, mlp__alpha=0.15710723892474487, mlp__hidden_layer_sizes=(244, 159, 198), mlp__solver=sgd, mlp__learning_rate=invscaling, mlp__max_iter=3473, total= 2.2min\n",
      "[CV] mlp__activation=identity, mlp__alpha=0.9483681866285928, mlp__hidden_layer_sizes=(451,), mlp__solver=lbfgs, mlp__learning_rate=adaptive, mlp__max_iter=782 \n",
      "[CV]  mlp__activation=identity, mlp__alpha=0.9483681866285928, mlp__hidden_layer_sizes=(451,), mlp__solver=lbfgs, mlp__learning_rate=adaptive, mlp__max_iter=782, total=  42.7s\n",
      "[CV] mlp__activation=logistic, mlp__alpha=0.0071590410859648885, mlp__hidden_layer_sizes=(451,), mlp__solver=lbfgs, mlp__learning_rate=adaptive, mlp__max_iter=711 \n",
      "[CV]  mlp__activation=identity, mlp__alpha=0.9483681866285928, mlp__hidden_layer_sizes=(451,), mlp__solver=lbfgs, mlp__learning_rate=adaptive, mlp__max_iter=782, total=  45.0s\n",
      "[CV] mlp__activation=logistic, mlp__alpha=0.0071590410859648885, mlp__hidden_layer_sizes=(451,), mlp__solver=lbfgs, mlp__learning_rate=adaptive, mlp__max_iter=711 \n",
      "[CV]  mlp__activation=logistic, mlp__alpha=0.0071590410859648885, mlp__hidden_layer_sizes=(451,), mlp__solver=lbfgs, mlp__learning_rate=adaptive, mlp__max_iter=711, total=  46.7s\n",
      "[CV] mlp__activation=logistic, mlp__alpha=0.4432478591240401, mlp__hidden_layer_sizes=(451,), mlp__solver=lbfgs, mlp__learning_rate=invscaling, mlp__max_iter=4532 \n",
      "[CV]  mlp__activation=logistic, mlp__alpha=0.0071590410859648885, mlp__hidden_layer_sizes=(451,), mlp__solver=lbfgs, mlp__learning_rate=adaptive, mlp__max_iter=711, total=  46.3s\n",
      "[CV] mlp__activation=logistic, mlp__alpha=0.4432478591240401, mlp__hidden_layer_sizes=(451,), mlp__solver=lbfgs, mlp__learning_rate=invscaling, mlp__max_iter=4532 \n",
      "[CV]  mlp__activation=logistic, mlp__alpha=0.4432478591240401, mlp__hidden_layer_sizes=(451,), mlp__solver=lbfgs, mlp__learning_rate=invscaling, mlp__max_iter=4532, total=  55.2s\n",
      "[CV] mlp__activation=relu, mlp__alpha=0.016414029711444664, mlp__hidden_layer_sizes=(126, 397, 56, 315, 256), mlp__solver=lbfgs, mlp__learning_rate=adaptive, mlp__max_iter=3178 \n",
      "[CV]  mlp__activation=logistic, mlp__alpha=0.4432478591240401, mlp__hidden_layer_sizes=(451,), mlp__solver=lbfgs, mlp__learning_rate=invscaling, mlp__max_iter=4532, total= 1.1min\n",
      "[CV] mlp__activation=relu, mlp__alpha=0.016414029711444664, mlp__hidden_layer_sizes=(126, 397, 56, 315, 256), mlp__solver=lbfgs, mlp__learning_rate=adaptive, mlp__max_iter=3178 \n",
      "[CV]  mlp__activation=relu, mlp__alpha=0.016414029711444664, mlp__hidden_layer_sizes=(126, 397, 56, 315, 256), mlp__solver=lbfgs, mlp__learning_rate=adaptive, mlp__max_iter=3178, total=  33.7s\n",
      "[CV] mlp__activation=logistic, mlp__alpha=371.1671819475767, mlp__hidden_layer_sizes=(451,), mlp__solver=sgd, mlp__learning_rate=constant, mlp__max_iter=4823 \n",
      "[CV]  mlp__activation=relu, mlp__alpha=0.016414029711444664, mlp__hidden_layer_sizes=(126, 397, 56, 315, 256), mlp__solver=lbfgs, mlp__learning_rate=adaptive, mlp__max_iter=3178, total=  35.6s\n",
      "[CV] mlp__activation=logistic, mlp__alpha=371.1671819475767, mlp__hidden_layer_sizes=(451,), mlp__solver=sgd, mlp__learning_rate=constant, mlp__max_iter=4823 \n",
      "[CV]  mlp__activation=logistic, mlp__alpha=371.1671819475767, mlp__hidden_layer_sizes=(451,), mlp__solver=sgd, mlp__learning_rate=constant, mlp__max_iter=4823, total=  49.6s\n",
      "[CV]  mlp__activation=logistic, mlp__alpha=371.1671819475767, mlp__hidden_layer_sizes=(451,), mlp__solver=sgd, mlp__learning_rate=constant, mlp__max_iter=4823, total=  43.0s\n",
      "[CV]  mlp__activation=tanh, mlp__alpha=0.02543345761304648, mlp__hidden_layer_sizes=(451,), mlp__solver=sgd, mlp__learning_rate=constant, mlp__max_iter=4116, total= 9.1min\n",
      "[CV]  mlp__activation=tanh, mlp__alpha=0.02543345761304648, mlp__hidden_layer_sizes=(451,), mlp__solver=sgd, mlp__learning_rate=constant, mlp__max_iter=4116, total= 9.0min\n"
     ]
    },
    {
     "name": "stderr",
     "output_type": "stream",
     "text": [
      "[Parallel(n_jobs=-1)]: Done  50 out of  50 | elapsed: 18.9min finished\n"
     ]
    },
    {
     "name": "stdout",
     "output_type": "stream",
     "text": [
      "Fitting 2 folds for each of 25 candidates, totalling 50 fits\n"
     ]
    },
    {
     "name": "stderr",
     "output_type": "stream",
     "text": [
      "[Parallel(n_jobs=-1)]: Done  42 tasks      | elapsed:   13.5s\n",
      "[Parallel(n_jobs=-1)]: Done  50 out of  50 | elapsed:   48.9s finished\n"
     ]
    },
    {
     "name": "stdout",
     "output_type": "stream",
     "text": [
      "\n",
      "Score[mean]: 0.931506849315\n",
      "From Baseline: 5.47945205479%\n",
      "From LOG: 0.0%\n",
      "{'mlp__activation': 'identity', 'mlp__alpha': 0.9483681866285928, 'mlp__hidden_layer_sizes': (451,), 'mlp__solver': 'lbfgs', 'mlp__learning_rate': 'adaptive', 'mlp__max_iter': 782}\n",
      "LOG Params:{'log__solver': 'liblinear', 'log__class_weight': None, 'log__max_iter': 4800, 'log__C': 1.5037553212997383}\n",
      "\n",
      "3-6_2\n",
      "Median Baseline: 0.5\n",
      "Mean Baseline: 0.86170212766\n",
      "\n",
      "Fitting 2 folds for each of 25 candidates, totalling 50 fits\n",
      "[CV] mlp__activation=relu, mlp__alpha=5.25679112201842e-07, mlp__hidden_layer_sizes=(244, 159, 198), mlp__solver=adam, mlp__learning_rate=constant, mlp__max_iter=3482 \n",
      "[CV] mlp__activation=relu, mlp__alpha=5.25679112201842e-07, mlp__hidden_layer_sizes=(244, 159, 198), mlp__solver=adam, mlp__learning_rate=constant, mlp__max_iter=3482 \n",
      "[CV] mlp__activation=relu, mlp__alpha=0.5981040962380945, mlp__hidden_layer_sizes=(451,), mlp__solver=sgd, mlp__learning_rate=constant, mlp__max_iter=1279 \n",
      "[CV] mlp__activation=relu, mlp__alpha=0.5981040962380945, mlp__hidden_layer_sizes=(451,), mlp__solver=sgd, mlp__learning_rate=constant, mlp__max_iter=1279 \n",
      "[CV]  mlp__activation=relu, mlp__alpha=5.25679112201842e-07, mlp__hidden_layer_sizes=(244, 159, 198), mlp__solver=adam, mlp__learning_rate=constant, mlp__max_iter=3482, total=  17.2s\n",
      "[CV] mlp__activation=identity, mlp__alpha=0.0014593657991557576, mlp__hidden_layer_sizes=(279, 231), mlp__solver=sgd, mlp__learning_rate=constant, mlp__max_iter=2838 \n",
      "[CV]  mlp__activation=relu, mlp__alpha=5.25679112201842e-07, mlp__hidden_layer_sizes=(244, 159, 198), mlp__solver=adam, mlp__learning_rate=constant, mlp__max_iter=3482, total=  28.0s\n",
      "[CV] mlp__activation=identity, mlp__alpha=0.0014593657991557576, mlp__hidden_layer_sizes=(279, 231), mlp__solver=sgd, mlp__learning_rate=constant, mlp__max_iter=2838 \n",
      "[CV]  mlp__activation=identity, mlp__alpha=0.0014593657991557576, mlp__hidden_layer_sizes=(279, 231), mlp__solver=sgd, mlp__learning_rate=constant, mlp__max_iter=2838, total= 7.2min\n",
      "[CV] mlp__activation=identity, mlp__alpha=1.630092360979741e-05, mlp__hidden_layer_sizes=(451,), mlp__solver=adam, mlp__learning_rate=adaptive, mlp__max_iter=2657 \n",
      "[CV]  mlp__activation=identity, mlp__alpha=0.0014593657991557576, mlp__hidden_layer_sizes=(279, 231), mlp__solver=sgd, mlp__learning_rate=constant, mlp__max_iter=2838, total= 7.6min\n",
      "[CV] mlp__activation=identity, mlp__alpha=1.630092360979741e-05, mlp__hidden_layer_sizes=(451,), mlp__solver=adam, mlp__learning_rate=adaptive, mlp__max_iter=2657 \n",
      "[CV]  mlp__activation=identity, mlp__alpha=1.630092360979741e-05, mlp__hidden_layer_sizes=(451,), mlp__solver=adam, mlp__learning_rate=adaptive, mlp__max_iter=2657, total= 1.3min\n",
      "[CV] mlp__activation=identity, mlp__alpha=301.6334347259197, mlp__hidden_layer_sizes=(451,), mlp__solver=sgd, mlp__learning_rate=constant, mlp__max_iter=3508 \n",
      "[CV]  mlp__activation=identity, mlp__alpha=1.630092360979741e-05, mlp__hidden_layer_sizes=(451,), mlp__solver=adam, mlp__learning_rate=adaptive, mlp__max_iter=2657, total= 1.5min\n",
      "[CV] mlp__activation=identity, mlp__alpha=301.6334347259197, mlp__hidden_layer_sizes=(451,), mlp__solver=sgd, mlp__learning_rate=constant, mlp__max_iter=3508 \n",
      "[CV]  mlp__activation=identity, mlp__alpha=301.6334347259197, mlp__hidden_layer_sizes=(451,), mlp__solver=sgd, mlp__learning_rate=constant, mlp__max_iter=3508, total= 1.5min\n",
      "[CV] mlp__activation=tanh, mlp__alpha=0.00028408836901833043, mlp__hidden_layer_sizes=(126, 397, 56, 315, 256), mlp__solver=adam, mlp__learning_rate=invscaling, mlp__max_iter=2521 \n",
      "[CV]  mlp__activation=identity, mlp__alpha=301.6334347259197, mlp__hidden_layer_sizes=(451,), mlp__solver=sgd, mlp__learning_rate=constant, mlp__max_iter=3508, total= 1.5min\n",
      "[CV] mlp__activation=tanh, mlp__alpha=0.00028408836901833043, mlp__hidden_layer_sizes=(126, 397, 56, 315, 256), mlp__solver=adam, mlp__learning_rate=invscaling, mlp__max_iter=2521 \n",
      "[CV]  mlp__activation=tanh, mlp__alpha=0.00028408836901833043, mlp__hidden_layer_sizes=(126, 397, 56, 315, 256), mlp__solver=adam, mlp__learning_rate=invscaling, mlp__max_iter=2521, total=   6.6s\n",
      "[CV] mlp__activation=relu, mlp__alpha=0.010115911122238298, mlp__hidden_layer_sizes=(126, 397, 56, 315, 256), mlp__solver=sgd, mlp__learning_rate=adaptive, mlp__max_iter=4573 \n",
      "[CV]  mlp__activation=tanh, mlp__alpha=0.00028408836901833043, mlp__hidden_layer_sizes=(126, 397, 56, 315, 256), mlp__solver=adam, mlp__learning_rate=invscaling, mlp__max_iter=2521, total=  18.9s\n",
      "[CV] mlp__activation=relu, mlp__alpha=0.010115911122238298, mlp__hidden_layer_sizes=(126, 397, 56, 315, 256), mlp__solver=sgd, mlp__learning_rate=adaptive, mlp__max_iter=4573 \n",
      "[CV]  mlp__activation=relu, mlp__alpha=0.010115911122238298, mlp__hidden_layer_sizes=(126, 397, 56, 315, 256), mlp__solver=sgd, mlp__learning_rate=adaptive, mlp__max_iter=4573, total=   7.4s\n",
      "[CV] mlp__activation=tanh, mlp__alpha=0.0003746050032748993, mlp__hidden_layer_sizes=(244, 159, 198), mlp__solver=adam, mlp__learning_rate=invscaling, mlp__max_iter=3465 \n",
      "[CV]  mlp__activation=relu, mlp__alpha=0.010115911122238298, mlp__hidden_layer_sizes=(126, 397, 56, 315, 256), mlp__solver=sgd, mlp__learning_rate=adaptive, mlp__max_iter=4573, total=   7.3s\n",
      "[CV] mlp__activation=tanh, mlp__alpha=0.0003746050032748993, mlp__hidden_layer_sizes=(244, 159, 198), mlp__solver=adam, mlp__learning_rate=invscaling, mlp__max_iter=3465 \n",
      "[CV]  mlp__activation=tanh, mlp__alpha=0.0003746050032748993, mlp__hidden_layer_sizes=(244, 159, 198), mlp__solver=adam, mlp__learning_rate=invscaling, mlp__max_iter=3465, total=  14.3s\n",
      "[CV] mlp__activation=identity, mlp__alpha=88.90965989529167, mlp__hidden_layer_sizes=(244, 159, 198), mlp__solver=sgd, mlp__learning_rate=adaptive, mlp__max_iter=3741 \n",
      "[CV]  mlp__activation=tanh, mlp__alpha=0.0003746050032748993, mlp__hidden_layer_sizes=(244, 159, 198), mlp__solver=adam, mlp__learning_rate=invscaling, mlp__max_iter=3465, total=  23.2s\n",
      "[CV] mlp__activation=identity, mlp__alpha=88.90965989529167, mlp__hidden_layer_sizes=(244, 159, 198), mlp__solver=sgd, mlp__learning_rate=adaptive, mlp__max_iter=3741 \n"
     ]
    },
    {
     "name": "stderr",
     "output_type": "stream",
     "text": [
      "/home/loki/.local/lib/python2.7/site-packages/sklearn/neural_network/multilayer_perceptron.py:564: ConvergenceWarning: Stochastic Optimizer: Maximum iterations (1279) reached and the optimization hasn't converged yet.\n",
      "  % self.max_iter, ConvergenceWarning)\n"
     ]
    },
    {
     "name": "stdout",
     "output_type": "stream",
     "text": [
      "[CV]  mlp__activation=relu, mlp__alpha=0.5981040962380945, mlp__hidden_layer_sizes=(451,), mlp__solver=sgd, mlp__learning_rate=constant, mlp__max_iter=1279, total=12.7min\n",
      "[CV] mlp__activation=relu, mlp__alpha=228.7490817355704, mlp__hidden_layer_sizes=(54, 182, 222, 442), mlp__solver=lbfgs, mlp__learning_rate=constant, mlp__max_iter=892 \n"
     ]
    },
    {
     "name": "stderr",
     "output_type": "stream",
     "text": [
      "/home/loki/.local/lib/python2.7/site-packages/sklearn/neural_network/multilayer_perceptron.py:564: ConvergenceWarning: Stochastic Optimizer: Maximum iterations (1279) reached and the optimization hasn't converged yet.\n",
      "  % self.max_iter, ConvergenceWarning)\n"
     ]
    },
    {
     "name": "stdout",
     "output_type": "stream",
     "text": [
      "[CV]  mlp__activation=relu, mlp__alpha=0.5981040962380945, mlp__hidden_layer_sizes=(451,), mlp__solver=sgd, mlp__learning_rate=constant, mlp__max_iter=1279, total=12.8min\n",
      "[CV] mlp__activation=relu, mlp__alpha=228.7490817355704, mlp__hidden_layer_sizes=(54, 182, 222, 442), mlp__solver=lbfgs, mlp__learning_rate=constant, mlp__max_iter=892 \n",
      "[CV]  mlp__activation=relu, mlp__alpha=228.7490817355704, mlp__hidden_layer_sizes=(54, 182, 222, 442), mlp__solver=lbfgs, mlp__learning_rate=constant, mlp__max_iter=892, total=   4.7s\n",
      "[CV] mlp__activation=identity, mlp__alpha=4.371602248248502e-07, mlp__hidden_layer_sizes=(244, 159, 198), mlp__solver=lbfgs, mlp__learning_rate=invscaling, mlp__max_iter=3089 \n",
      "[CV]  mlp__activation=relu, mlp__alpha=228.7490817355704, mlp__hidden_layer_sizes=(54, 182, 222, 442), mlp__solver=lbfgs, mlp__learning_rate=constant, mlp__max_iter=892, total=   3.7s\n",
      "[CV] mlp__activation=identity, mlp__alpha=4.371602248248502e-07, mlp__hidden_layer_sizes=(244, 159, 198), mlp__solver=lbfgs, mlp__learning_rate=invscaling, mlp__max_iter=3089 \n",
      "[CV]  mlp__activation=identity, mlp__alpha=4.371602248248502e-07, mlp__hidden_layer_sizes=(244, 159, 198), mlp__solver=lbfgs, mlp__learning_rate=invscaling, mlp__max_iter=3089, total=  14.9s\n",
      "[CV] mlp__activation=identity, mlp__alpha=1.955650715865947e-06, mlp__hidden_layer_sizes=(126, 397, 56, 315, 256), mlp__solver=lbfgs, mlp__learning_rate=adaptive, mlp__max_iter=2573 \n",
      "[CV]  mlp__activation=identity, mlp__alpha=4.371602248248502e-07, mlp__hidden_layer_sizes=(244, 159, 198), mlp__solver=lbfgs, mlp__learning_rate=invscaling, mlp__max_iter=3089, total=  19.3s\n",
      "[CV] mlp__activation=identity, mlp__alpha=1.955650715865947e-06, mlp__hidden_layer_sizes=(126, 397, 56, 315, 256), mlp__solver=lbfgs, mlp__learning_rate=adaptive, mlp__max_iter=2573 \n",
      "[CV]  mlp__activation=identity, mlp__alpha=1.955650715865947e-06, mlp__hidden_layer_sizes=(126, 397, 56, 315, 256), mlp__solver=lbfgs, mlp__learning_rate=adaptive, mlp__max_iter=2573, total=  13.5s\n",
      "[CV] mlp__activation=logistic, mlp__alpha=0.006379766808606282, mlp__hidden_layer_sizes=(451,), mlp__solver=sgd, mlp__learning_rate=adaptive, mlp__max_iter=4446 \n",
      "[CV]  mlp__activation=logistic, mlp__alpha=0.006379766808606282, mlp__hidden_layer_sizes=(451,), mlp__solver=sgd, mlp__learning_rate=adaptive, mlp__max_iter=4446, total=  13.9s\n",
      "[CV] mlp__activation=logistic, mlp__alpha=0.006379766808606282, mlp__hidden_layer_sizes=(451,), mlp__solver=sgd, mlp__learning_rate=adaptive, mlp__max_iter=4446 \n",
      "[CV]  mlp__activation=identity, mlp__alpha=1.955650715865947e-06, mlp__hidden_layer_sizes=(126, 397, 56, 315, 256), mlp__solver=lbfgs, mlp__learning_rate=adaptive, mlp__max_iter=2573, total=  20.0s\n",
      "[CV] mlp__activation=identity, mlp__alpha=0.05831305113526219, mlp__hidden_layer_sizes=(279, 231), mlp__solver=lbfgs, mlp__learning_rate=constant, mlp__max_iter=2371 \n",
      "[CV]  mlp__activation=logistic, mlp__alpha=0.006379766808606282, mlp__hidden_layer_sizes=(451,), mlp__solver=sgd, mlp__learning_rate=adaptive, mlp__max_iter=4446, total=  13.5s\n",
      "[CV] mlp__activation=identity, mlp__alpha=0.05831305113526219, mlp__hidden_layer_sizes=(279, 231), mlp__solver=lbfgs, mlp__learning_rate=constant, mlp__max_iter=2371 \n",
      "[CV]  mlp__activation=identity, mlp__alpha=88.90965989529167, mlp__hidden_layer_sizes=(244, 159, 198), mlp__solver=sgd, mlp__learning_rate=adaptive, mlp__max_iter=3741, total= 2.9min\n",
      "[CV] mlp__activation=tanh, mlp__alpha=1.5494950393146317e-07, mlp__hidden_layer_sizes=(54, 182, 222, 442), mlp__solver=sgd, mlp__learning_rate=constant, mlp__max_iter=2279 \n",
      "[CV]  mlp__activation=identity, mlp__alpha=88.90965989529167, mlp__hidden_layer_sizes=(244, 159, 198), mlp__solver=sgd, mlp__learning_rate=adaptive, mlp__max_iter=3741, total= 3.0min\n",
      "[CV] mlp__activation=tanh, mlp__alpha=1.5494950393146317e-07, mlp__hidden_layer_sizes=(54, 182, 222, 442), mlp__solver=sgd, mlp__learning_rate=constant, mlp__max_iter=2279 \n",
      "[CV]  mlp__activation=identity, mlp__alpha=0.05831305113526219, mlp__hidden_layer_sizes=(279, 231), mlp__solver=lbfgs, mlp__learning_rate=constant, mlp__max_iter=2371, total= 1.9min\n",
      "[CV] mlp__activation=relu, mlp__alpha=0.03277294849923382, mlp__hidden_layer_sizes=(54, 182, 222, 442), mlp__solver=lbfgs, mlp__learning_rate=invscaling, mlp__max_iter=1350 \n",
      "[CV]  mlp__activation=relu, mlp__alpha=0.03277294849923382, mlp__hidden_layer_sizes=(54, 182, 222, 442), mlp__solver=lbfgs, mlp__learning_rate=invscaling, mlp__max_iter=1350, total=  31.2s\n",
      "[CV] mlp__activation=relu, mlp__alpha=0.03277294849923382, mlp__hidden_layer_sizes=(54, 182, 222, 442), mlp__solver=lbfgs, mlp__learning_rate=invscaling, mlp__max_iter=1350 \n",
      "[CV]  mlp__activation=identity, mlp__alpha=0.05831305113526219, mlp__hidden_layer_sizes=(279, 231), mlp__solver=lbfgs, mlp__learning_rate=constant, mlp__max_iter=2371, total= 2.9min\n",
      "[CV] mlp__activation=logistic, mlp__alpha=0.0002907123377272578, mlp__hidden_layer_sizes=(451,), mlp__solver=sgd, mlp__learning_rate=constant, mlp__max_iter=690 \n",
      "[CV]  mlp__activation=logistic, mlp__alpha=0.0002907123377272578, mlp__hidden_layer_sizes=(451,), mlp__solver=sgd, mlp__learning_rate=constant, mlp__max_iter=690, total=   6.2s\n",
      "[CV] mlp__activation=logistic, mlp__alpha=0.0002907123377272578, mlp__hidden_layer_sizes=(451,), mlp__solver=sgd, mlp__learning_rate=constant, mlp__max_iter=690 \n",
      "[CV]  mlp__activation=logistic, mlp__alpha=0.0002907123377272578, mlp__hidden_layer_sizes=(451,), mlp__solver=sgd, mlp__learning_rate=constant, mlp__max_iter=690, total=   5.7s\n",
      "[CV] mlp__activation=relu, mlp__alpha=1.1750871309048075e-07, mlp__hidden_layer_sizes=(54, 182, 222, 442), mlp__solver=sgd, mlp__learning_rate=constant, mlp__max_iter=2043 \n",
      "[CV]  mlp__activation=relu, mlp__alpha=1.1750871309048075e-07, mlp__hidden_layer_sizes=(54, 182, 222, 442), mlp__solver=sgd, mlp__learning_rate=constant, mlp__max_iter=2043, total=   1.5s\n",
      "[CV] mlp__activation=relu, mlp__alpha=1.1750871309048075e-07, mlp__hidden_layer_sizes=(54, 182, 222, 442), mlp__solver=sgd, mlp__learning_rate=constant, mlp__max_iter=2043 \n",
      "[CV]  mlp__activation=tanh, mlp__alpha=1.5494950393146317e-07, mlp__hidden_layer_sizes=(54, 182, 222, 442), mlp__solver=sgd, mlp__learning_rate=constant, mlp__max_iter=2279, total= 2.5min\n",
      "[CV] mlp__activation=identity, mlp__alpha=125.63166024741214, mlp__hidden_layer_sizes=(279, 231), mlp__solver=sgd, mlp__learning_rate=invscaling, mlp__max_iter=3640 \n",
      "[CV]  mlp__activation=tanh, mlp__alpha=1.5494950393146317e-07, mlp__hidden_layer_sizes=(54, 182, 222, 442), mlp__solver=sgd, mlp__learning_rate=constant, mlp__max_iter=2279, total= 2.6min\n",
      "[CV] mlp__activation=identity, mlp__alpha=125.63166024741214, mlp__hidden_layer_sizes=(279, 231), mlp__solver=sgd, mlp__learning_rate=invscaling, mlp__max_iter=3640 \n"
     ]
    },
    {
     "name": "stderr",
     "output_type": "stream",
     "text": [
      "[Parallel(n_jobs=-1)]: Done  33 tasks      | elapsed: 16.9min\n"
     ]
    },
    {
     "name": "stdout",
     "output_type": "stream",
     "text": [
      "[CV]  mlp__activation=relu, mlp__alpha=1.1750871309048075e-07, mlp__hidden_layer_sizes=(54, 182, 222, 442), mlp__solver=sgd, mlp__learning_rate=constant, mlp__max_iter=2043, total=   1.5s\n",
      "[CV] mlp__activation=tanh, mlp__alpha=1.8718552949655793e-05, mlp__hidden_layer_sizes=(244, 159, 198), mlp__solver=sgd, mlp__learning_rate=constant, mlp__max_iter=3420 \n",
      "[CV]  mlp__activation=relu, mlp__alpha=0.03277294849923382, mlp__hidden_layer_sizes=(54, 182, 222, 442), mlp__solver=lbfgs, mlp__learning_rate=invscaling, mlp__max_iter=1350, total= 1.3min\n",
      "[CV] mlp__activation=tanh, mlp__alpha=1.8718552949655793e-05, mlp__hidden_layer_sizes=(244, 159, 198), mlp__solver=sgd, mlp__learning_rate=constant, mlp__max_iter=3420 \n",
      "[CV]  mlp__activation=tanh, mlp__alpha=1.8718552949655793e-05, mlp__hidden_layer_sizes=(244, 159, 198), mlp__solver=sgd, mlp__learning_rate=constant, mlp__max_iter=3420, total= 5.2min\n",
      "[CV] mlp__activation=relu, mlp__alpha=0.0002907123377272578, mlp__hidden_layer_sizes=(279, 231), mlp__solver=sgd, mlp__learning_rate=invscaling, mlp__max_iter=4195 \n",
      "[CV]  mlp__activation=relu, mlp__alpha=0.0002907123377272578, mlp__hidden_layer_sizes=(279, 231), mlp__solver=sgd, mlp__learning_rate=invscaling, mlp__max_iter=4195, total=   2.1s\n",
      "[CV] mlp__activation=relu, mlp__alpha=0.0002907123377272578, mlp__hidden_layer_sizes=(279, 231), mlp__solver=sgd, mlp__learning_rate=invscaling, mlp__max_iter=4195 \n",
      "[CV]  mlp__activation=relu, mlp__alpha=0.0002907123377272578, mlp__hidden_layer_sizes=(279, 231), mlp__solver=sgd, mlp__learning_rate=invscaling, mlp__max_iter=4195, total=   2.4s\n",
      "[CV] mlp__activation=logistic, mlp__alpha=4.5778405383766164e-07, mlp__hidden_layer_sizes=(451,), mlp__solver=sgd, mlp__learning_rate=constant, mlp__max_iter=1575 \n",
      "[CV]  mlp__activation=logistic, mlp__alpha=4.5778405383766164e-07, mlp__hidden_layer_sizes=(451,), mlp__solver=sgd, mlp__learning_rate=constant, mlp__max_iter=1575, total=   6.9s\n",
      "[CV] mlp__activation=logistic, mlp__alpha=4.5778405383766164e-07, mlp__hidden_layer_sizes=(451,), mlp__solver=sgd, mlp__learning_rate=constant, mlp__max_iter=1575 \n",
      "[CV]  mlp__activation=tanh, mlp__alpha=1.8718552949655793e-05, mlp__hidden_layer_sizes=(244, 159, 198), mlp__solver=sgd, mlp__learning_rate=constant, mlp__max_iter=3420, total= 5.1min\n",
      "[CV] mlp__activation=tanh, mlp__alpha=0.1607704421673822, mlp__hidden_layer_sizes=(126, 397, 56, 315, 256), mlp__solver=adam, mlp__learning_rate=invscaling, mlp__max_iter=2845 \n",
      "[CV]  mlp__activation=logistic, mlp__alpha=4.5778405383766164e-07, mlp__hidden_layer_sizes=(451,), mlp__solver=sgd, mlp__learning_rate=constant, mlp__max_iter=1575, total=   6.6s\n",
      "[CV] mlp__activation=tanh, mlp__alpha=0.1607704421673822, mlp__hidden_layer_sizes=(126, 397, 56, 315, 256), mlp__solver=adam, mlp__learning_rate=invscaling, mlp__max_iter=2845 \n",
      "[CV]  mlp__activation=tanh, mlp__alpha=0.1607704421673822, mlp__hidden_layer_sizes=(126, 397, 56, 315, 256), mlp__solver=adam, mlp__learning_rate=invscaling, mlp__max_iter=2845, total= 1.5min\n",
      "[CV] mlp__activation=identity, mlp__alpha=3.824569722466999e-05, mlp__hidden_layer_sizes=(279, 231), mlp__solver=sgd, mlp__learning_rate=adaptive, mlp__max_iter=4790 \n",
      "[CV]  mlp__activation=tanh, mlp__alpha=0.1607704421673822, mlp__hidden_layer_sizes=(126, 397, 56, 315, 256), mlp__solver=adam, mlp__learning_rate=invscaling, mlp__max_iter=2845, total= 1.9min\n",
      "[CV] mlp__activation=identity, mlp__alpha=3.824569722466999e-05, mlp__hidden_layer_sizes=(279, 231), mlp__solver=sgd, mlp__learning_rate=adaptive, mlp__max_iter=4790 \n",
      "[CV]  mlp__activation=identity, mlp__alpha=3.824569722466999e-05, mlp__hidden_layer_sizes=(279, 231), mlp__solver=sgd, mlp__learning_rate=adaptive, mlp__max_iter=4790, total= 6.7min\n",
      "[CV] mlp__activation=relu, mlp__alpha=0.9056428379445294, mlp__hidden_layer_sizes=(279, 231), mlp__solver=adam, mlp__learning_rate=adaptive, mlp__max_iter=2105 \n",
      "[CV]  mlp__activation=identity, mlp__alpha=3.824569722466999e-05, mlp__hidden_layer_sizes=(279, 231), mlp__solver=sgd, mlp__learning_rate=adaptive, mlp__max_iter=4790, total= 6.9min\n",
      "[CV] mlp__activation=relu, mlp__alpha=0.9056428379445294, mlp__hidden_layer_sizes=(279, 231), mlp__solver=adam, mlp__learning_rate=adaptive, mlp__max_iter=2105 \n",
      "[CV]  mlp__activation=relu, mlp__alpha=0.9056428379445294, mlp__hidden_layer_sizes=(279, 231), mlp__solver=adam, mlp__learning_rate=adaptive, mlp__max_iter=2105, total= 1.3min\n",
      "[CV]  mlp__activation=relu, mlp__alpha=0.9056428379445294, mlp__hidden_layer_sizes=(279, 231), mlp__solver=adam, mlp__learning_rate=adaptive, mlp__max_iter=2105, total=  52.9s\n"
     ]
    },
    {
     "name": "stderr",
     "output_type": "stream",
     "text": [
      "/home/loki/.local/lib/python2.7/site-packages/sklearn/neural_network/multilayer_perceptron.py:564: ConvergenceWarning: Stochastic Optimizer: Maximum iterations (3640) reached and the optimization hasn't converged yet.\n",
      "  % self.max_iter, ConvergenceWarning)\n"
     ]
    },
    {
     "name": "stdout",
     "output_type": "stream",
     "text": [
      "[CV]  mlp__activation=identity, mlp__alpha=125.63166024741214, mlp__hidden_layer_sizes=(279, 231), mlp__solver=sgd, mlp__learning_rate=invscaling, mlp__max_iter=3640, total=19.5min\n"
     ]
    },
    {
     "name": "stderr",
     "output_type": "stream",
     "text": [
      "/home/loki/.local/lib/python2.7/site-packages/sklearn/neural_network/multilayer_perceptron.py:564: ConvergenceWarning: Stochastic Optimizer: Maximum iterations (3640) reached and the optimization hasn't converged yet.\n",
      "  % self.max_iter, ConvergenceWarning)\n"
     ]
    },
    {
     "name": "stdout",
     "output_type": "stream",
     "text": [
      "[CV]  mlp__activation=identity, mlp__alpha=125.63166024741214, mlp__hidden_layer_sizes=(279, 231), mlp__solver=sgd, mlp__learning_rate=invscaling, mlp__max_iter=3640, total=19.5min\n"
     ]
    },
    {
     "name": "stderr",
     "output_type": "stream",
     "text": [
      "[Parallel(n_jobs=-1)]: Done  50 out of  50 | elapsed: 36.4min finished\n"
     ]
    },
    {
     "name": "stdout",
     "output_type": "stream",
     "text": [
      "Fitting 2 folds for each of 25 candidates, totalling 50 fits\n"
     ]
    },
    {
     "name": "stderr",
     "output_type": "stream",
     "text": [
      "[Parallel(n_jobs=-1)]: Done  42 tasks      | elapsed:    8.8s\n",
      "[Parallel(n_jobs=-1)]: Done  50 out of  50 | elapsed:   23.9s finished\n"
     ]
    },
    {
     "name": "stdout",
     "output_type": "stream",
     "text": [
      "\n",
      "Score[median]: 0.712765957447\n",
      "From Baseline: 21.2765957447%\n",
      "From LOG: 4.25531914894%\n",
      "{'mlp__activation': 'identity', 'mlp__alpha': 1.955650715865947e-06, 'mlp__hidden_layer_sizes': (126, 397, 56, 315, 256), 'mlp__solver': 'lbfgs', 'mlp__learning_rate': 'adaptive', 'mlp__max_iter': 2573}\n",
      "\n",
      "Fitting 2 folds for each of 25 candidates, totalling 50 fits\n",
      "[CV] mlp__activation=identity, mlp__alpha=185.89566796356883, mlp__hidden_layer_sizes=(279, 231), mlp__solver=lbfgs, mlp__learning_rate=adaptive, mlp__max_iter=2260 \n",
      "[CV] mlp__activation=identity, mlp__alpha=185.89566796356883, mlp__hidden_layer_sizes=(279, 231), mlp__solver=lbfgs, mlp__learning_rate=adaptive, mlp__max_iter=2260 \n",
      "[CV] mlp__activation=identity, mlp__alpha=0.18461469463245456, mlp__hidden_layer_sizes=(279, 231), mlp__solver=sgd, mlp__learning_rate=constant, mlp__max_iter=3080 \n",
      "[CV] mlp__activation=identity, mlp__alpha=0.18461469463245456, mlp__hidden_layer_sizes=(279, 231), mlp__solver=sgd, mlp__learning_rate=constant, mlp__max_iter=3080 \n",
      "[CV]  mlp__activation=identity, mlp__alpha=185.89566796356883, mlp__hidden_layer_sizes=(279, 231), mlp__solver=lbfgs, mlp__learning_rate=adaptive, mlp__max_iter=2260, total=  14.7s\n",
      "[CV] mlp__activation=tanh, mlp__alpha=0.001330834724654076, mlp__hidden_layer_sizes=(244, 159, 198), mlp__solver=adam, mlp__learning_rate=adaptive, mlp__max_iter=1305 \n",
      "[CV]  mlp__activation=identity, mlp__alpha=185.89566796356883, mlp__hidden_layer_sizes=(279, 231), mlp__solver=lbfgs, mlp__learning_rate=adaptive, mlp__max_iter=2260, total=  14.9s\n",
      "[CV] mlp__activation=tanh, mlp__alpha=0.001330834724654076, mlp__hidden_layer_sizes=(244, 159, 198), mlp__solver=adam, mlp__learning_rate=adaptive, mlp__max_iter=1305 \n",
      "[CV]  mlp__activation=tanh, mlp__alpha=0.001330834724654076, mlp__hidden_layer_sizes=(244, 159, 198), mlp__solver=adam, mlp__learning_rate=adaptive, mlp__max_iter=1305, total=  23.2s\n",
      "[CV] mlp__activation=logistic, mlp__alpha=0.8850074914473438, mlp__hidden_layer_sizes=(279, 231), mlp__solver=sgd, mlp__learning_rate=invscaling, mlp__max_iter=1032 \n",
      "[CV]  mlp__activation=tanh, mlp__alpha=0.001330834724654076, mlp__hidden_layer_sizes=(244, 159, 198), mlp__solver=adam, mlp__learning_rate=adaptive, mlp__max_iter=1305, total=  40.7s\n",
      "[CV] mlp__activation=logistic, mlp__alpha=0.8850074914473438, mlp__hidden_layer_sizes=(279, 231), mlp__solver=sgd, mlp__learning_rate=invscaling, mlp__max_iter=1032 \n",
      "[CV]  mlp__activation=logistic, mlp__alpha=0.8850074914473438, mlp__hidden_layer_sizes=(279, 231), mlp__solver=sgd, mlp__learning_rate=invscaling, mlp__max_iter=1032, total= 1.2min\n",
      "[CV] mlp__activation=logistic, mlp__alpha=0.0018805040551285834, mlp__hidden_layer_sizes=(451,), mlp__solver=adam, mlp__learning_rate=adaptive, mlp__max_iter=4420 \n",
      "[CV]  mlp__activation=logistic, mlp__alpha=0.8850074914473438, mlp__hidden_layer_sizes=(279, 231), mlp__solver=sgd, mlp__learning_rate=invscaling, mlp__max_iter=1032, total= 3.5min\n",
      "[CV] mlp__activation=logistic, mlp__alpha=0.0018805040551285834, mlp__hidden_layer_sizes=(451,), mlp__solver=adam, mlp__learning_rate=adaptive, mlp__max_iter=4420 \n",
      "[CV]  mlp__activation=logistic, mlp__alpha=0.0018805040551285834, mlp__hidden_layer_sizes=(451,), mlp__solver=adam, mlp__learning_rate=adaptive, mlp__max_iter=4420, total= 2.7min\n",
      "[CV] mlp__activation=identity, mlp__alpha=0.0009637934799615786, mlp__hidden_layer_sizes=(451,), mlp__solver=lbfgs, mlp__learning_rate=invscaling, mlp__max_iter=2515 \n",
      "[CV]  mlp__activation=identity, mlp__alpha=0.0009637934799615786, mlp__hidden_layer_sizes=(451,), mlp__solver=lbfgs, mlp__learning_rate=invscaling, mlp__max_iter=2515, total=  19.4s\n",
      "[CV] mlp__activation=identity, mlp__alpha=0.0009637934799615786, mlp__hidden_layer_sizes=(451,), mlp__solver=lbfgs, mlp__learning_rate=invscaling, mlp__max_iter=2515 \n",
      "[CV]  mlp__activation=identity, mlp__alpha=0.0009637934799615786, mlp__hidden_layer_sizes=(451,), mlp__solver=lbfgs, mlp__learning_rate=invscaling, mlp__max_iter=2515, total=  20.7s\n",
      "[CV] mlp__activation=logistic, mlp__alpha=0.0022612800663372795, mlp__hidden_layer_sizes=(126, 397, 56, 315, 256), mlp__solver=lbfgs, mlp__learning_rate=adaptive, mlp__max_iter=1816 \n",
      "[CV]  mlp__activation=logistic, mlp__alpha=0.0022612800663372795, mlp__hidden_layer_sizes=(126, 397, 56, 315, 256), mlp__solver=lbfgs, mlp__learning_rate=adaptive, mlp__max_iter=1816, total=   6.8s\n",
      "[CV] mlp__activation=logistic, mlp__alpha=0.0022612800663372795, mlp__hidden_layer_sizes=(126, 397, 56, 315, 256), mlp__solver=lbfgs, mlp__learning_rate=adaptive, mlp__max_iter=1816 \n",
      "[CV]  mlp__activation=logistic, mlp__alpha=0.0022612800663372795, mlp__hidden_layer_sizes=(126, 397, 56, 315, 256), mlp__solver=lbfgs, mlp__learning_rate=adaptive, mlp__max_iter=1816, total=   7.2s\n",
      "[CV] mlp__activation=identity, mlp__alpha=2.144526075971665e-06, mlp__hidden_layer_sizes=(244, 159, 198), mlp__solver=sgd, mlp__learning_rate=adaptive, mlp__max_iter=3202 \n",
      "[CV]  mlp__activation=logistic, mlp__alpha=0.0018805040551285834, mlp__hidden_layer_sizes=(451,), mlp__solver=adam, mlp__learning_rate=adaptive, mlp__max_iter=4420, total= 1.9min\n",
      "[CV] mlp__activation=identity, mlp__alpha=2.144526075971665e-06, mlp__hidden_layer_sizes=(244, 159, 198), mlp__solver=sgd, mlp__learning_rate=adaptive, mlp__max_iter=3202 \n",
      "[CV]  mlp__activation=identity, mlp__alpha=0.18461469463245456, mlp__hidden_layer_sizes=(279, 231), mlp__solver=sgd, mlp__learning_rate=constant, mlp__max_iter=3080, total= 6.8min\n",
      "[CV] mlp__activation=logistic, mlp__alpha=5.7911226476417584e-05, mlp__hidden_layer_sizes=(126, 397, 56, 315, 256), mlp__solver=adam, mlp__learning_rate=adaptive, mlp__max_iter=2913 \n",
      "[CV]  mlp__activation=logistic, mlp__alpha=5.7911226476417584e-05, mlp__hidden_layer_sizes=(126, 397, 56, 315, 256), mlp__solver=adam, mlp__learning_rate=adaptive, mlp__max_iter=2913, total=   3.7s\n",
      "[CV] mlp__activation=logistic, mlp__alpha=5.7911226476417584e-05, mlp__hidden_layer_sizes=(126, 397, 56, 315, 256), mlp__solver=adam, mlp__learning_rate=adaptive, mlp__max_iter=2913 \n",
      "[CV]  mlp__activation=logistic, mlp__alpha=5.7911226476417584e-05, mlp__hidden_layer_sizes=(126, 397, 56, 315, 256), mlp__solver=adam, mlp__learning_rate=adaptive, mlp__max_iter=2913, total=   3.8s\n",
      "[CV] mlp__activation=tanh, mlp__alpha=158.19734815786015, mlp__hidden_layer_sizes=(126, 397, 56, 315, 256), mlp__solver=adam, mlp__learning_rate=invscaling, mlp__max_iter=4860 \n",
      "[CV]  mlp__activation=identity, mlp__alpha=0.18461469463245456, mlp__hidden_layer_sizes=(279, 231), mlp__solver=sgd, mlp__learning_rate=constant, mlp__max_iter=3080, total= 7.0min\n",
      "[CV] mlp__activation=tanh, mlp__alpha=158.19734815786015, mlp__hidden_layer_sizes=(126, 397, 56, 315, 256), mlp__solver=adam, mlp__learning_rate=invscaling, mlp__max_iter=4860 \n",
      "[CV]  mlp__activation=tanh, mlp__alpha=158.19734815786015, mlp__hidden_layer_sizes=(126, 397, 56, 315, 256), mlp__solver=adam, mlp__learning_rate=invscaling, mlp__max_iter=4860, total= 2.7min\n",
      "[CV] mlp__activation=logistic, mlp__alpha=0.0006365079081295571, mlp__hidden_layer_sizes=(244, 159, 198), mlp__solver=sgd, mlp__learning_rate=constant, mlp__max_iter=3988 \n",
      "[CV]  mlp__activation=logistic, mlp__alpha=0.0006365079081295571, mlp__hidden_layer_sizes=(244, 159, 198), mlp__solver=sgd, mlp__learning_rate=constant, mlp__max_iter=3988, total=   8.0s\n",
      "[CV] mlp__activation=logistic, mlp__alpha=0.0006365079081295571, mlp__hidden_layer_sizes=(244, 159, 198), mlp__solver=sgd, mlp__learning_rate=constant, mlp__max_iter=3988 \n",
      "[CV]  mlp__activation=logistic, mlp__alpha=0.0006365079081295571, mlp__hidden_layer_sizes=(244, 159, 198), mlp__solver=sgd, mlp__learning_rate=constant, mlp__max_iter=3988, total=   8.2s\n",
      "[CV] mlp__activation=tanh, mlp__alpha=26.207066964838553, mlp__hidden_layer_sizes=(54, 182, 222, 442), mlp__solver=adam, mlp__learning_rate=invscaling, mlp__max_iter=2185 \n",
      "[CV]  mlp__activation=tanh, mlp__alpha=158.19734815786015, mlp__hidden_layer_sizes=(126, 397, 56, 315, 256), mlp__solver=adam, mlp__learning_rate=invscaling, mlp__max_iter=4860, total= 3.2min\n",
      "[CV] mlp__activation=tanh, mlp__alpha=26.207066964838553, mlp__hidden_layer_sizes=(54, 182, 222, 442), mlp__solver=adam, mlp__learning_rate=invscaling, mlp__max_iter=2185 \n",
      "[CV]  mlp__activation=identity, mlp__alpha=2.144526075971665e-06, mlp__hidden_layer_sizes=(244, 159, 198), mlp__solver=sgd, mlp__learning_rate=adaptive, mlp__max_iter=3202, total= 4.6min\n"
     ]
    },
    {
     "name": "stdout",
     "output_type": "stream",
     "text": [
      "[CV] mlp__activation=relu, mlp__alpha=0.0009203731996618221, mlp__hidden_layer_sizes=(451,), mlp__solver=sgd, mlp__learning_rate=constant, mlp__max_iter=4713 \n",
      "[CV]  mlp__activation=identity, mlp__alpha=2.144526075971665e-06, mlp__hidden_layer_sizes=(244, 159, 198), mlp__solver=sgd, mlp__learning_rate=adaptive, mlp__max_iter=3202, total= 4.5min\n",
      "[CV] mlp__activation=relu, mlp__alpha=0.0009203731996618221, mlp__hidden_layer_sizes=(451,), mlp__solver=sgd, mlp__learning_rate=constant, mlp__max_iter=4713 \n",
      "[CV]  mlp__activation=tanh, mlp__alpha=26.207066964838553, mlp__hidden_layer_sizes=(54, 182, 222, 442), mlp__solver=adam, mlp__learning_rate=invscaling, mlp__max_iter=2185, total= 1.1min\n",
      "[CV] mlp__activation=tanh, mlp__alpha=7.636298261282242e-05, mlp__hidden_layer_sizes=(54, 182, 222, 442), mlp__solver=lbfgs, mlp__learning_rate=invscaling, mlp__max_iter=4656 \n",
      "[CV]  mlp__activation=tanh, mlp__alpha=26.207066964838553, mlp__hidden_layer_sizes=(54, 182, 222, 442), mlp__solver=adam, mlp__learning_rate=invscaling, mlp__max_iter=2185, total= 1.1min\n",
      "[CV] mlp__activation=tanh, mlp__alpha=7.636298261282242e-05, mlp__hidden_layer_sizes=(54, 182, 222, 442), mlp__solver=lbfgs, mlp__learning_rate=invscaling, mlp__max_iter=4656 \n",
      "[CV]  mlp__activation=tanh, mlp__alpha=7.636298261282242e-05, mlp__hidden_layer_sizes=(54, 182, 222, 442), mlp__solver=lbfgs, mlp__learning_rate=invscaling, mlp__max_iter=4656, total=  12.5s\n",
      "[CV] mlp__activation=tanh, mlp__alpha=0.0008015006961565405, mlp__hidden_layer_sizes=(451,), mlp__solver=lbfgs, mlp__learning_rate=adaptive, mlp__max_iter=4122 \n",
      "[CV]  mlp__activation=tanh, mlp__alpha=7.636298261282242e-05, mlp__hidden_layer_sizes=(54, 182, 222, 442), mlp__solver=lbfgs, mlp__learning_rate=invscaling, mlp__max_iter=4656, total=  10.8s\n",
      "[CV] mlp__activation=tanh, mlp__alpha=0.0008015006961565405, mlp__hidden_layer_sizes=(451,), mlp__solver=lbfgs, mlp__learning_rate=adaptive, mlp__max_iter=4122 \n",
      "[CV]  mlp__activation=tanh, mlp__alpha=0.0008015006961565405, mlp__hidden_layer_sizes=(451,), mlp__solver=lbfgs, mlp__learning_rate=adaptive, mlp__max_iter=4122, total=  17.8s\n",
      "[CV] mlp__activation=logistic, mlp__alpha=1.7875255259042355e-05, mlp__hidden_layer_sizes=(244, 159, 198), mlp__solver=lbfgs, mlp__learning_rate=constant, mlp__max_iter=4685 \n",
      "[CV]  mlp__activation=logistic, mlp__alpha=1.7875255259042355e-05, mlp__hidden_layer_sizes=(244, 159, 198), mlp__solver=lbfgs, mlp__learning_rate=constant, mlp__max_iter=4685, total=   7.4s\n",
      "[CV] mlp__activation=logistic, mlp__alpha=1.7875255259042355e-05, mlp__hidden_layer_sizes=(244, 159, 198), mlp__solver=lbfgs, mlp__learning_rate=constant, mlp__max_iter=4685 \n",
      "[CV]  mlp__activation=tanh, mlp__alpha=0.0008015006961565405, mlp__hidden_layer_sizes=(451,), mlp__solver=lbfgs, mlp__learning_rate=adaptive, mlp__max_iter=4122, total=  18.1s\n",
      "[CV] mlp__activation=relu, mlp__alpha=1.023316578330245e-07, mlp__hidden_layer_sizes=(54, 182, 222, 442), mlp__solver=sgd, mlp__learning_rate=constant, mlp__max_iter=3206 \n",
      "[CV]  mlp__activation=logistic, mlp__alpha=1.7875255259042355e-05, mlp__hidden_layer_sizes=(244, 159, 198), mlp__solver=lbfgs, mlp__learning_rate=constant, mlp__max_iter=4685, total=   7.1s\n",
      "[CV] mlp__activation=relu, mlp__alpha=1.023316578330245e-07, mlp__hidden_layer_sizes=(54, 182, 222, 442), mlp__solver=sgd, mlp__learning_rate=constant, mlp__max_iter=3206 \n",
      "[CV]  mlp__activation=relu, mlp__alpha=1.023316578330245e-07, mlp__hidden_layer_sizes=(54, 182, 222, 442), mlp__solver=sgd, mlp__learning_rate=constant, mlp__max_iter=3206, total=  31.5s\n",
      "[CV] mlp__activation=relu, mlp__alpha=165.66059589499153, mlp__hidden_layer_sizes=(54, 182, 222, 442), mlp__solver=adam, mlp__learning_rate=constant, mlp__max_iter=2881 \n",
      "[CV]  mlp__activation=relu, mlp__alpha=1.023316578330245e-07, mlp__hidden_layer_sizes=(54, 182, 222, 442), mlp__solver=sgd, mlp__learning_rate=constant, mlp__max_iter=3206, total=  29.7s\n",
      "[CV] mlp__activation=relu, mlp__alpha=165.66059589499153, mlp__hidden_layer_sizes=(54, 182, 222, 442), mlp__solver=adam, mlp__learning_rate=constant, mlp__max_iter=2881 \n",
      "[CV]  mlp__activation=relu, mlp__alpha=165.66059589499153, mlp__hidden_layer_sizes=(54, 182, 222, 442), mlp__solver=adam, mlp__learning_rate=constant, mlp__max_iter=2881, total= 1.6min\n",
      "[CV] mlp__activation=identity, mlp__alpha=2.8213076759394705e-07, mlp__hidden_layer_sizes=(54, 182, 222, 442), mlp__solver=adam, mlp__learning_rate=adaptive, mlp__max_iter=1479 \n"
     ]
    },
    {
     "name": "stderr",
     "output_type": "stream",
     "text": [
      "[Parallel(n_jobs=-1)]: Done  33 tasks      | elapsed: 13.9min\n"
     ]
    },
    {
     "name": "stdout",
     "output_type": "stream",
     "text": [
      "[CV]  mlp__activation=identity, mlp__alpha=2.8213076759394705e-07, mlp__hidden_layer_sizes=(54, 182, 222, 442), mlp__solver=adam, mlp__learning_rate=adaptive, mlp__max_iter=1479, total=   4.9s\n",
      "[CV] mlp__activation=identity, mlp__alpha=2.8213076759394705e-07, mlp__hidden_layer_sizes=(54, 182, 222, 442), mlp__solver=adam, mlp__learning_rate=adaptive, mlp__max_iter=1479 \n",
      "[CV]  mlp__activation=relu, mlp__alpha=165.66059589499153, mlp__hidden_layer_sizes=(54, 182, 222, 442), mlp__solver=adam, mlp__learning_rate=constant, mlp__max_iter=2881, total= 1.9min\n",
      "[CV] mlp__activation=relu, mlp__alpha=0.05831305113526219, mlp__hidden_layer_sizes=(451,), mlp__solver=adam, mlp__learning_rate=adaptive, mlp__max_iter=2991 \n",
      "[CV]  mlp__activation=identity, mlp__alpha=2.8213076759394705e-07, mlp__hidden_layer_sizes=(54, 182, 222, 442), mlp__solver=adam, mlp__learning_rate=adaptive, mlp__max_iter=1479, total=   4.9s\n",
      "[CV] mlp__activation=relu, mlp__alpha=0.05831305113526219, mlp__hidden_layer_sizes=(451,), mlp__solver=adam, mlp__learning_rate=adaptive, mlp__max_iter=2991 \n",
      "[CV]  mlp__activation=relu, mlp__alpha=0.05831305113526219, mlp__hidden_layer_sizes=(451,), mlp__solver=adam, mlp__learning_rate=adaptive, mlp__max_iter=2991, total= 1.8min\n",
      "[CV] mlp__activation=logistic, mlp__alpha=0.00732596542821523, mlp__hidden_layer_sizes=(54, 182, 222, 442), mlp__solver=adam, mlp__learning_rate=invscaling, mlp__max_iter=1575 \n",
      "[CV]  mlp__activation=logistic, mlp__alpha=0.00732596542821523, mlp__hidden_layer_sizes=(54, 182, 222, 442), mlp__solver=adam, mlp__learning_rate=invscaling, mlp__max_iter=1575, total=   2.2s\n",
      "[CV] mlp__activation=logistic, mlp__alpha=0.00732596542821523, mlp__hidden_layer_sizes=(54, 182, 222, 442), mlp__solver=adam, mlp__learning_rate=invscaling, mlp__max_iter=1575 \n",
      "[CV]  mlp__activation=logistic, mlp__alpha=0.00732596542821523, mlp__hidden_layer_sizes=(54, 182, 222, 442), mlp__solver=adam, mlp__learning_rate=invscaling, mlp__max_iter=1575, total=   2.0s\n",
      "[CV] mlp__activation=tanh, mlp__alpha=1.3400688963639507, mlp__hidden_layer_sizes=(54, 182, 222, 442), mlp__solver=lbfgs, mlp__learning_rate=constant, mlp__max_iter=1464 \n",
      "[CV]  mlp__activation=relu, mlp__alpha=0.05831305113526219, mlp__hidden_layer_sizes=(451,), mlp__solver=adam, mlp__learning_rate=adaptive, mlp__max_iter=2991, total= 2.4min\n",
      "[CV] mlp__activation=tanh, mlp__alpha=1.3400688963639507, mlp__hidden_layer_sizes=(54, 182, 222, 442), mlp__solver=lbfgs, mlp__learning_rate=constant, mlp__max_iter=1464 \n",
      "[CV]  mlp__activation=tanh, mlp__alpha=1.3400688963639507, mlp__hidden_layer_sizes=(54, 182, 222, 442), mlp__solver=lbfgs, mlp__learning_rate=constant, mlp__max_iter=1464, total=  51.3s\n",
      "[CV] mlp__activation=tanh, mlp__alpha=0.09682466119303114, mlp__hidden_layer_sizes=(451,), mlp__solver=adam, mlp__learning_rate=invscaling, mlp__max_iter=1688 \n",
      "[CV]  mlp__activation=tanh, mlp__alpha=1.3400688963639507, mlp__hidden_layer_sizes=(54, 182, 222, 442), mlp__solver=lbfgs, mlp__learning_rate=constant, mlp__max_iter=1464, total=  58.7s\n",
      "[CV] mlp__activation=tanh, mlp__alpha=0.09682466119303114, mlp__hidden_layer_sizes=(451,), mlp__solver=adam, mlp__learning_rate=invscaling, mlp__max_iter=1688 \n",
      "[CV]  mlp__activation=tanh, mlp__alpha=0.09682466119303114, mlp__hidden_layer_sizes=(451,), mlp__solver=adam, mlp__learning_rate=invscaling, mlp__max_iter=1688, total= 1.4min\n",
      "[CV] mlp__activation=tanh, mlp__alpha=17.711210643450904, mlp__hidden_layer_sizes=(451,), mlp__solver=adam, mlp__learning_rate=invscaling, mlp__max_iter=4241 \n",
      "[CV]  mlp__activation=tanh, mlp__alpha=0.09682466119303114, mlp__hidden_layer_sizes=(451,), mlp__solver=adam, mlp__learning_rate=invscaling, mlp__max_iter=1688, total= 2.3min\n",
      "[CV] mlp__activation=tanh, mlp__alpha=17.711210643450904, mlp__hidden_layer_sizes=(451,), mlp__solver=adam, mlp__learning_rate=invscaling, mlp__max_iter=4241 \n",
      "[CV]  mlp__activation=tanh, mlp__alpha=17.711210643450904, mlp__hidden_layer_sizes=(451,), mlp__solver=adam, mlp__learning_rate=invscaling, mlp__max_iter=4241, total= 2.0min\n",
      "[CV] mlp__activation=logistic, mlp__alpha=3.002461709085549, mlp__hidden_layer_sizes=(244, 159, 198), mlp__solver=adam, mlp__learning_rate=invscaling, mlp__max_iter=1182 \n",
      "[CV]  mlp__activation=tanh, mlp__alpha=17.711210643450904, mlp__hidden_layer_sizes=(451,), mlp__solver=adam, mlp__learning_rate=invscaling, mlp__max_iter=4241, total= 1.9min\n",
      "[CV] mlp__activation=logistic, mlp__alpha=3.002461709085549, mlp__hidden_layer_sizes=(244, 159, 198), mlp__solver=adam, mlp__learning_rate=invscaling, mlp__max_iter=1182 \n",
      "[CV]  mlp__activation=logistic, mlp__alpha=3.002461709085549, mlp__hidden_layer_sizes=(244, 159, 198), mlp__solver=adam, mlp__learning_rate=invscaling, mlp__max_iter=1182, total=  42.8s\n",
      "[CV]  mlp__activation=logistic, mlp__alpha=3.002461709085549, mlp__hidden_layer_sizes=(244, 159, 198), mlp__solver=adam, mlp__learning_rate=invscaling, mlp__max_iter=1182, total=  43.6s\n",
      "[CV]  mlp__activation=relu, mlp__alpha=0.0009203731996618221, mlp__hidden_layer_sizes=(451,), mlp__solver=sgd, mlp__learning_rate=constant, mlp__max_iter=4713, total=13.4min\n",
      "[CV]  mlp__activation=relu, mlp__alpha=0.0009203731996618221, mlp__hidden_layer_sizes=(451,), mlp__solver=sgd, mlp__learning_rate=constant, mlp__max_iter=4713, total=13.4min\n"
     ]
    },
    {
     "name": "stderr",
     "output_type": "stream",
     "text": [
      "[Parallel(n_jobs=-1)]: Done  50 out of  50 | elapsed: 24.0min finished\n"
     ]
    },
    {
     "name": "stdout",
     "output_type": "stream",
     "text": [
      "Fitting 2 folds for each of 25 candidates, totalling 50 fits\n"
     ]
    },
    {
     "name": "stderr",
     "output_type": "stream",
     "text": [
      "[Parallel(n_jobs=-1)]: Done  42 tasks      | elapsed:  1.1min\n",
      "[Parallel(n_jobs=-1)]: Done  50 out of  50 | elapsed:  1.4min finished\n"
     ]
    },
    {
     "name": "stdout",
     "output_type": "stream",
     "text": [
      "\n",
      "Score[mean]: 0.872340425532\n",
      "From Baseline: 1.06382978723%\n",
      "From LOG: 2.12765957447%\n",
      "{'mlp__activation': 'identity', 'mlp__alpha': 0.18461469463245456, 'mlp__hidden_layer_sizes': (279, 231), 'mlp__solver': 'sgd', 'mlp__learning_rate': 'constant', 'mlp__max_iter': 3080}\n",
      "\n",
      "\n",
      "3-6_14\n",
      "Median Baseline: 0.51\n",
      "Mean Baseline: 0.88\n",
      "\n",
      "Fitting 2 folds for each of 25 candidates, totalling 50 fits\n",
      "[CV] mlp__activation=logistic, mlp__alpha=109.40547072057436, mlp__hidden_layer_sizes=(279, 231), mlp__solver=lbfgs, mlp__learning_rate=constant, mlp__max_iter=3332 \n",
      "[CV] mlp__activation=logistic, mlp__alpha=109.40547072057436, mlp__hidden_layer_sizes=(279, 231), mlp__solver=lbfgs, mlp__learning_rate=constant, mlp__max_iter=3332 \n",
      "[CV] mlp__activation=relu, mlp__alpha=8.870496889654403, mlp__hidden_layer_sizes=(126, 397, 56, 315, 256), mlp__solver=sgd, mlp__learning_rate=adaptive, mlp__max_iter=4942 \n",
      "[CV] mlp__activation=relu, mlp__alpha=8.870496889654403, mlp__hidden_layer_sizes=(126, 397, 56, 315, 256), mlp__solver=sgd, mlp__learning_rate=adaptive, mlp__max_iter=4942 \n",
      "[CV]  mlp__activation=logistic, mlp__alpha=109.40547072057436, mlp__hidden_layer_sizes=(279, 231), mlp__solver=lbfgs, mlp__learning_rate=constant, mlp__max_iter=3332, total=  15.1s\n",
      "[CV] mlp__activation=tanh, mlp__alpha=9.615746001432095e-05, mlp__hidden_layer_sizes=(244, 159, 198), mlp__solver=lbfgs, mlp__learning_rate=invscaling, mlp__max_iter=1762 \n",
      "[CV]  mlp__activation=logistic, mlp__alpha=109.40547072057436, mlp__hidden_layer_sizes=(279, 231), mlp__solver=lbfgs, mlp__learning_rate=constant, mlp__max_iter=3332, total=  15.9s\n",
      "[CV] mlp__activation=tanh, mlp__alpha=9.615746001432095e-05, mlp__hidden_layer_sizes=(244, 159, 198), mlp__solver=lbfgs, mlp__learning_rate=invscaling, mlp__max_iter=1762 \n",
      "[CV]  mlp__activation=tanh, mlp__alpha=9.615746001432095e-05, mlp__hidden_layer_sizes=(244, 159, 198), mlp__solver=lbfgs, mlp__learning_rate=invscaling, mlp__max_iter=1762, total=  19.4s\n",
      "[CV] mlp__activation=identity, mlp__alpha=4.684580115873045e-07, mlp__hidden_layer_sizes=(126, 397, 56, 315, 256), mlp__solver=sgd, mlp__learning_rate=adaptive, mlp__max_iter=733 \n",
      "[CV]  mlp__activation=tanh, mlp__alpha=9.615746001432095e-05, mlp__hidden_layer_sizes=(244, 159, 198), mlp__solver=lbfgs, mlp__learning_rate=invscaling, mlp__max_iter=1762, total=  33.2s\n",
      "[CV] mlp__activation=identity, mlp__alpha=4.684580115873045e-07, mlp__hidden_layer_sizes=(126, 397, 56, 315, 256), mlp__solver=sgd, mlp__learning_rate=adaptive, mlp__max_iter=733 \n",
      "[CV]  mlp__activation=identity, mlp__alpha=4.684580115873045e-07, mlp__hidden_layer_sizes=(126, 397, 56, 315, 256), mlp__solver=sgd, mlp__learning_rate=adaptive, mlp__max_iter=733, total= 3.3min\n",
      "[CV] mlp__activation=identity, mlp__alpha=5.1607487103859075e-05, mlp__hidden_layer_sizes=(451,), mlp__solver=sgd, mlp__learning_rate=constant, mlp__max_iter=4860 \n",
      "[CV]  mlp__activation=identity, mlp__alpha=4.684580115873045e-07, mlp__hidden_layer_sizes=(126, 397, 56, 315, 256), mlp__solver=sgd, mlp__learning_rate=adaptive, mlp__max_iter=733, total= 3.4min\n",
      "[CV] mlp__activation=identity, mlp__alpha=5.1607487103859075e-05, mlp__hidden_layer_sizes=(451,), mlp__solver=sgd, mlp__learning_rate=constant, mlp__max_iter=4860 \n",
      "[CV]  mlp__activation=relu, mlp__alpha=8.870496889654403, mlp__hidden_layer_sizes=(126, 397, 56, 315, 256), mlp__solver=sgd, mlp__learning_rate=adaptive, mlp__max_iter=4942, total=21.3min\n",
      "[CV] mlp__activation=tanh, mlp__alpha=2.763385290053167e-06, mlp__hidden_layer_sizes=(279, 231), mlp__solver=sgd, mlp__learning_rate=constant, mlp__max_iter=4933 \n",
      "[CV]  mlp__activation=relu, mlp__alpha=8.870496889654403, mlp__hidden_layer_sizes=(126, 397, 56, 315, 256), mlp__solver=sgd, mlp__learning_rate=adaptive, mlp__max_iter=4942, total=21.6min\n",
      "[CV] mlp__activation=tanh, mlp__alpha=2.763385290053167e-06, mlp__hidden_layer_sizes=(279, 231), mlp__solver=sgd, mlp__learning_rate=constant, mlp__max_iter=4933 \n",
      "[CV]  mlp__activation=identity, mlp__alpha=5.1607487103859075e-05, mlp__hidden_layer_sizes=(451,), mlp__solver=sgd, mlp__learning_rate=constant, mlp__max_iter=4860, total=20.2min\n",
      "[CV] mlp__activation=identity, mlp__alpha=0.09461848194721992, mlp__hidden_layer_sizes=(126, 397, 56, 315, 256), mlp__solver=sgd, mlp__learning_rate=constant, mlp__max_iter=2743 \n",
      "[CV]  mlp__activation=identity, mlp__alpha=5.1607487103859075e-05, mlp__hidden_layer_sizes=(451,), mlp__solver=sgd, mlp__learning_rate=constant, mlp__max_iter=4860, total=20.6min\n",
      "[CV] mlp__activation=identity, mlp__alpha=0.09461848194721992, mlp__hidden_layer_sizes=(126, 397, 56, 315, 256), mlp__solver=sgd, mlp__learning_rate=constant, mlp__max_iter=2743 \n",
      "[CV]  mlp__activation=identity, mlp__alpha=0.09461848194721992, mlp__hidden_layer_sizes=(126, 397, 56, 315, 256), mlp__solver=sgd, mlp__learning_rate=constant, mlp__max_iter=2743, total= 3.4min\n",
      "[CV] mlp__activation=relu, mlp__alpha=0.00010544427935261685, mlp__hidden_layer_sizes=(244, 159, 198), mlp__solver=sgd, mlp__learning_rate=constant, mlp__max_iter=2525 \n",
      "[CV]  mlp__activation=relu, mlp__alpha=0.00010544427935261685, mlp__hidden_layer_sizes=(244, 159, 198), mlp__solver=sgd, mlp__learning_rate=constant, mlp__max_iter=2525, total=   2.5s\n",
      "[CV] mlp__activation=relu, mlp__alpha=0.00010544427935261685, mlp__hidden_layer_sizes=(244, 159, 198), mlp__solver=sgd, mlp__learning_rate=constant, mlp__max_iter=2525 \n",
      "[CV]  mlp__activation=relu, mlp__alpha=0.00010544427935261685, mlp__hidden_layer_sizes=(244, 159, 198), mlp__solver=sgd, mlp__learning_rate=constant, mlp__max_iter=2525, total=   2.4s\n",
      "[CV] mlp__activation=tanh, mlp__alpha=1.0399609139541204, mlp__hidden_layer_sizes=(126, 397, 56, 315, 256), mlp__solver=lbfgs, mlp__learning_rate=adaptive, mlp__max_iter=4667 \n",
      "[CV]  mlp__activation=identity, mlp__alpha=0.09461848194721992, mlp__hidden_layer_sizes=(126, 397, 56, 315, 256), mlp__solver=sgd, mlp__learning_rate=constant, mlp__max_iter=2743, total= 3.0min\n",
      "[CV] mlp__activation=tanh, mlp__alpha=1.0399609139541204, mlp__hidden_layer_sizes=(126, 397, 56, 315, 256), mlp__solver=lbfgs, mlp__learning_rate=adaptive, mlp__max_iter=4667 \n",
      "[CV]  mlp__activation=tanh, mlp__alpha=2.763385290053167e-06, mlp__hidden_layer_sizes=(279, 231), mlp__solver=sgd, mlp__learning_rate=constant, mlp__max_iter=4933, total= 9.1min\n",
      "[CV] mlp__activation=logistic, mlp__alpha=0.2169383518385182, mlp__hidden_layer_sizes=(244, 159, 198), mlp__solver=adam, mlp__learning_rate=adaptive, mlp__max_iter=1294 \n",
      "[CV]  mlp__activation=tanh, mlp__alpha=2.763385290053167e-06, mlp__hidden_layer_sizes=(279, 231), mlp__solver=sgd, mlp__learning_rate=constant, mlp__max_iter=4933, total= 8.9min\n",
      "[CV] mlp__activation=logistic, mlp__alpha=0.2169383518385182, mlp__hidden_layer_sizes=(244, 159, 198), mlp__solver=adam, mlp__learning_rate=adaptive, mlp__max_iter=1294 \n",
      "[CV]  mlp__activation=logistic, mlp__alpha=0.2169383518385182, mlp__hidden_layer_sizes=(244, 159, 198), mlp__solver=adam, mlp__learning_rate=adaptive, mlp__max_iter=1294, total=  36.3s\n",
      "[CV] mlp__activation=identity, mlp__alpha=27.443433032283682, mlp__hidden_layer_sizes=(126, 397, 56, 315, 256), mlp__solver=lbfgs, mlp__learning_rate=adaptive, mlp__max_iter=1084 \n",
      "[CV]  mlp__activation=logistic, mlp__alpha=0.2169383518385182, mlp__hidden_layer_sizes=(244, 159, 198), mlp__solver=adam, mlp__learning_rate=adaptive, mlp__max_iter=1294, total=  35.1s\n",
      "[CV] mlp__activation=identity, mlp__alpha=27.443433032283682, mlp__hidden_layer_sizes=(126, 397, 56, 315, 256), mlp__solver=lbfgs, mlp__learning_rate=adaptive, mlp__max_iter=1084 \n",
      "[CV]  mlp__activation=tanh, mlp__alpha=1.0399609139541204, mlp__hidden_layer_sizes=(126, 397, 56, 315, 256), mlp__solver=lbfgs, mlp__learning_rate=adaptive, mlp__max_iter=4667, total= 3.3min\n",
      "[CV] mlp__activation=logistic, mlp__alpha=4.494202662119142e-05, mlp__hidden_layer_sizes=(126, 397, 56, 315, 256), mlp__solver=adam, mlp__learning_rate=constant, mlp__max_iter=3498 \n",
      "[CV]  mlp__activation=tanh, mlp__alpha=1.0399609139541204, mlp__hidden_layer_sizes=(126, 397, 56, 315, 256), mlp__solver=lbfgs, mlp__learning_rate=adaptive, mlp__max_iter=4667, total= 3.6min\n",
      "[CV] mlp__activation=logistic, mlp__alpha=4.494202662119142e-05, mlp__hidden_layer_sizes=(126, 397, 56, 315, 256), mlp__solver=adam, mlp__learning_rate=constant, mlp__max_iter=3498 \n"
     ]
    },
    {
     "name": "stdout",
     "output_type": "stream",
     "text": [
      "[CV]  mlp__activation=logistic, mlp__alpha=4.494202662119142e-05, mlp__hidden_layer_sizes=(126, 397, 56, 315, 256), mlp__solver=adam, mlp__learning_rate=constant, mlp__max_iter=3498, total=   2.6s\n",
      "[CV] mlp__activation=logistic, mlp__alpha=73.93819919175873, mlp__hidden_layer_sizes=(126, 397, 56, 315, 256), mlp__solver=sgd, mlp__learning_rate=constant, mlp__max_iter=1729 \n",
      "[CV]  mlp__activation=logistic, mlp__alpha=4.494202662119142e-05, mlp__hidden_layer_sizes=(126, 397, 56, 315, 256), mlp__solver=adam, mlp__learning_rate=constant, mlp__max_iter=3498, total=   2.9s\n",
      "[CV] mlp__activation=logistic, mlp__alpha=73.93819919175873, mlp__hidden_layer_sizes=(126, 397, 56, 315, 256), mlp__solver=sgd, mlp__learning_rate=constant, mlp__max_iter=1729 \n",
      "[CV]  mlp__activation=identity, mlp__alpha=27.443433032283682, mlp__hidden_layer_sizes=(126, 397, 56, 315, 256), mlp__solver=lbfgs, mlp__learning_rate=adaptive, mlp__max_iter=1084, total=  16.8s\n",
      "[CV] mlp__activation=relu, mlp__alpha=8.870496889654403, mlp__hidden_layer_sizes=(126, 397, 56, 315, 256), mlp__solver=sgd, mlp__learning_rate=constant, mlp__max_iter=3338 \n",
      "[CV]  mlp__activation=identity, mlp__alpha=27.443433032283682, mlp__hidden_layer_sizes=(126, 397, 56, 315, 256), mlp__solver=lbfgs, mlp__learning_rate=adaptive, mlp__max_iter=1084, total=  16.7s\n",
      "[CV] mlp__activation=relu, mlp__alpha=8.870496889654403, mlp__hidden_layer_sizes=(126, 397, 56, 315, 256), mlp__solver=sgd, mlp__learning_rate=constant, mlp__max_iter=3338 \n",
      "[CV]  mlp__activation=logistic, mlp__alpha=73.93819919175873, mlp__hidden_layer_sizes=(126, 397, 56, 315, 256), mlp__solver=sgd, mlp__learning_rate=constant, mlp__max_iter=1729, total= 4.4min\n",
      "[CV] mlp__activation=identity, mlp__alpha=4.684580115873045e-07, mlp__hidden_layer_sizes=(244, 159, 198), mlp__solver=lbfgs, mlp__learning_rate=invscaling, mlp__max_iter=2552 \n",
      "[CV]  mlp__activation=logistic, mlp__alpha=73.93819919175873, mlp__hidden_layer_sizes=(126, 397, 56, 315, 256), mlp__solver=sgd, mlp__learning_rate=constant, mlp__max_iter=1729, total= 4.5min\n",
      "[CV] mlp__activation=identity, mlp__alpha=4.684580115873045e-07, mlp__hidden_layer_sizes=(244, 159, 198), mlp__solver=lbfgs, mlp__learning_rate=invscaling, mlp__max_iter=2552 \n",
      "[CV]  mlp__activation=identity, mlp__alpha=4.684580115873045e-07, mlp__hidden_layer_sizes=(244, 159, 198), mlp__solver=lbfgs, mlp__learning_rate=invscaling, mlp__max_iter=2552, total=  16.6s\n",
      "[CV] mlp__activation=identity, mlp__alpha=0.023193450592744275, mlp__hidden_layer_sizes=(451,), mlp__solver=adam, mlp__learning_rate=adaptive, mlp__max_iter=2264 \n",
      "[CV]  mlp__activation=identity, mlp__alpha=4.684580115873045e-07, mlp__hidden_layer_sizes=(244, 159, 198), mlp__solver=lbfgs, mlp__learning_rate=invscaling, mlp__max_iter=2552, total=  22.9s\n",
      "[CV] mlp__activation=identity, mlp__alpha=0.023193450592744275, mlp__hidden_layer_sizes=(451,), mlp__solver=adam, mlp__learning_rate=adaptive, mlp__max_iter=2264 \n",
      "[CV]  mlp__activation=identity, mlp__alpha=0.023193450592744275, mlp__hidden_layer_sizes=(451,), mlp__solver=adam, mlp__learning_rate=adaptive, mlp__max_iter=2264, total= 2.2min\n",
      "[CV] mlp__activation=tanh, mlp__alpha=0.007496781874966877, mlp__hidden_layer_sizes=(244, 159, 198), mlp__solver=sgd, mlp__learning_rate=constant, mlp__max_iter=3101 \n",
      "[CV]  mlp__activation=identity, mlp__alpha=0.023193450592744275, mlp__hidden_layer_sizes=(451,), mlp__solver=adam, mlp__learning_rate=adaptive, mlp__max_iter=2264, total= 2.7min\n",
      "[CV] mlp__activation=tanh, mlp__alpha=0.007496781874966877, mlp__hidden_layer_sizes=(244, 159, 198), mlp__solver=sgd, mlp__learning_rate=constant, mlp__max_iter=3101 \n",
      "[CV]  mlp__activation=tanh, mlp__alpha=0.007496781874966877, mlp__hidden_layer_sizes=(244, 159, 198), mlp__solver=sgd, mlp__learning_rate=constant, mlp__max_iter=3101, total= 6.2min\n",
      "[CV] mlp__activation=logistic, mlp__alpha=6.350425168595962e-05, mlp__hidden_layer_sizes=(54, 182, 222, 442), mlp__solver=sgd, mlp__learning_rate=adaptive, mlp__max_iter=2967 \n",
      "[CV]  mlp__activation=logistic, mlp__alpha=6.350425168595962e-05, mlp__hidden_layer_sizes=(54, 182, 222, 442), mlp__solver=sgd, mlp__learning_rate=adaptive, mlp__max_iter=2967, total=   8.4s\n",
      "[CV] mlp__activation=logistic, mlp__alpha=6.350425168595962e-05, mlp__hidden_layer_sizes=(54, 182, 222, 442), mlp__solver=sgd, mlp__learning_rate=adaptive, mlp__max_iter=2967 \n",
      "[CV]  mlp__activation=tanh, mlp__alpha=0.007496781874966877, mlp__hidden_layer_sizes=(244, 159, 198), mlp__solver=sgd, mlp__learning_rate=constant, mlp__max_iter=3101, total= 6.2min\n",
      "[CV] mlp__activation=relu, mlp__alpha=0.001056875971184805, mlp__hidden_layer_sizes=(279, 231), mlp__solver=adam, mlp__learning_rate=constant, mlp__max_iter=3699 \n"
     ]
    },
    {
     "name": "stderr",
     "output_type": "stream",
     "text": [
      "[Parallel(n_jobs=-1)]: Done  33 tasks      | elapsed: 44.8min\n"
     ]
    },
    {
     "name": "stdout",
     "output_type": "stream",
     "text": [
      "[CV]  mlp__activation=logistic, mlp__alpha=6.350425168595962e-05, mlp__hidden_layer_sizes=(54, 182, 222, 442), mlp__solver=sgd, mlp__learning_rate=adaptive, mlp__max_iter=2967, total=   7.9s\n",
      "[CV] mlp__activation=relu, mlp__alpha=0.001056875971184805, mlp__hidden_layer_sizes=(279, 231), mlp__solver=adam, mlp__learning_rate=constant, mlp__max_iter=3699 \n",
      "[CV]  mlp__activation=relu, mlp__alpha=0.001056875971184805, mlp__hidden_layer_sizes=(279, 231), mlp__solver=adam, mlp__learning_rate=constant, mlp__max_iter=3699, total=  45.1s\n",
      "[CV] mlp__activation=tanh, mlp__alpha=73.93819919175873, mlp__hidden_layer_sizes=(126, 397, 56, 315, 256), mlp__solver=lbfgs, mlp__learning_rate=invscaling, mlp__max_iter=4829 \n",
      "[CV]  mlp__activation=relu, mlp__alpha=0.001056875971184805, mlp__hidden_layer_sizes=(279, 231), mlp__solver=adam, mlp__learning_rate=constant, mlp__max_iter=3699, total=  47.9s\n",
      "[CV] mlp__activation=tanh, mlp__alpha=73.93819919175873, mlp__hidden_layer_sizes=(126, 397, 56, 315, 256), mlp__solver=lbfgs, mlp__learning_rate=invscaling, mlp__max_iter=4829 \n",
      "[CV]  mlp__activation=tanh, mlp__alpha=73.93819919175873, mlp__hidden_layer_sizes=(126, 397, 56, 315, 256), mlp__solver=lbfgs, mlp__learning_rate=invscaling, mlp__max_iter=4829, total=  21.3s\n",
      "[CV] mlp__activation=identity, mlp__alpha=933.1897715733239, mlp__hidden_layer_sizes=(54, 182, 222, 442), mlp__solver=adam, mlp__learning_rate=adaptive, mlp__max_iter=4465 \n",
      "[CV]  mlp__activation=tanh, mlp__alpha=73.93819919175873, mlp__hidden_layer_sizes=(126, 397, 56, 315, 256), mlp__solver=lbfgs, mlp__learning_rate=invscaling, mlp__max_iter=4829, total=  19.4s\n",
      "[CV] mlp__activation=identity, mlp__alpha=933.1897715733239, mlp__hidden_layer_sizes=(54, 182, 222, 442), mlp__solver=adam, mlp__learning_rate=adaptive, mlp__max_iter=4465 \n",
      "[CV]  mlp__activation=identity, mlp__alpha=933.1897715733239, mlp__hidden_layer_sizes=(54, 182, 222, 442), mlp__solver=adam, mlp__learning_rate=adaptive, mlp__max_iter=4465, total=  53.3s\n",
      "[CV] mlp__activation=logistic, mlp__alpha=0.051965572438276576, mlp__hidden_layer_sizes=(279, 231), mlp__solver=sgd, mlp__learning_rate=constant, mlp__max_iter=4701 \n",
      "[CV]  mlp__activation=identity, mlp__alpha=933.1897715733239, mlp__hidden_layer_sizes=(54, 182, 222, 442), mlp__solver=adam, mlp__learning_rate=adaptive, mlp__max_iter=4465, total=  54.9s\n",
      "[CV] mlp__activation=logistic, mlp__alpha=0.051965572438276576, mlp__hidden_layer_sizes=(279, 231), mlp__solver=sgd, mlp__learning_rate=constant, mlp__max_iter=4701 \n",
      "[CV]  mlp__activation=logistic, mlp__alpha=0.051965572438276576, mlp__hidden_layer_sizes=(279, 231), mlp__solver=sgd, mlp__learning_rate=constant, mlp__max_iter=4701, total=   6.8s\n",
      "[CV] mlp__activation=identity, mlp__alpha=250.84150592775413, mlp__hidden_layer_sizes=(126, 397, 56, 315, 256), mlp__solver=adam, mlp__learning_rate=constant, mlp__max_iter=1872 \n",
      "[CV]  mlp__activation=logistic, mlp__alpha=0.051965572438276576, mlp__hidden_layer_sizes=(279, 231), mlp__solver=sgd, mlp__learning_rate=constant, mlp__max_iter=4701, total=   7.2s\n",
      "[CV] mlp__activation=identity, mlp__alpha=250.84150592775413, mlp__hidden_layer_sizes=(126, 397, 56, 315, 256), mlp__solver=adam, mlp__learning_rate=constant, mlp__max_iter=1872 \n",
      "[CV]  mlp__activation=identity, mlp__alpha=250.84150592775413, mlp__hidden_layer_sizes=(126, 397, 56, 315, 256), mlp__solver=adam, mlp__learning_rate=constant, mlp__max_iter=1872, total= 1.1min\n",
      "[CV] mlp__activation=identity, mlp__alpha=2.351642884494346e-06, mlp__hidden_layer_sizes=(54, 182, 222, 442), mlp__solver=sgd, mlp__learning_rate=constant, mlp__max_iter=2744 \n",
      "[CV]  mlp__activation=identity, mlp__alpha=250.84150592775413, mlp__hidden_layer_sizes=(126, 397, 56, 315, 256), mlp__solver=adam, mlp__learning_rate=constant, mlp__max_iter=1872, total= 1.0min\n",
      "[CV] mlp__activation=identity, mlp__alpha=2.351642884494346e-06, mlp__hidden_layer_sizes=(54, 182, 222, 442), mlp__solver=sgd, mlp__learning_rate=constant, mlp__max_iter=2744 \n",
      "[CV]  mlp__activation=identity, mlp__alpha=2.351642884494346e-06, mlp__hidden_layer_sizes=(54, 182, 222, 442), mlp__solver=sgd, mlp__learning_rate=constant, mlp__max_iter=2744, total= 2.4min\n",
      "[CV] mlp__activation=tanh, mlp__alpha=0.010351779556301762, mlp__hidden_layer_sizes=(244, 159, 198), mlp__solver=sgd, mlp__learning_rate=constant, mlp__max_iter=2840 \n",
      "[CV]  mlp__activation=identity, mlp__alpha=2.351642884494346e-06, mlp__hidden_layer_sizes=(54, 182, 222, 442), mlp__solver=sgd, mlp__learning_rate=constant, mlp__max_iter=2744, total= 2.7min\n",
      "[CV] mlp__activation=tanh, mlp__alpha=0.010351779556301762, mlp__hidden_layer_sizes=(244, 159, 198), mlp__solver=sgd, mlp__learning_rate=constant, mlp__max_iter=2840 \n",
      "[CV]  mlp__activation=relu, mlp__alpha=8.870496889654403, mlp__hidden_layer_sizes=(126, 397, 56, 315, 256), mlp__solver=sgd, mlp__learning_rate=constant, mlp__max_iter=3338, total=20.4min\n",
      "[CV]  mlp__activation=relu, mlp__alpha=8.870496889654403, mlp__hidden_layer_sizes=(126, 397, 56, 315, 256), mlp__solver=sgd, mlp__learning_rate=constant, mlp__max_iter=3338, total=20.4min\n",
      "[CV]  mlp__activation=tanh, mlp__alpha=0.010351779556301762, mlp__hidden_layer_sizes=(244, 159, 198), mlp__solver=sgd, mlp__learning_rate=constant, mlp__max_iter=2840, total= 3.6min\n",
      "[CV]  mlp__activation=tanh, mlp__alpha=0.010351779556301762, mlp__hidden_layer_sizes=(244, 159, 198), mlp__solver=sgd, mlp__learning_rate=constant, mlp__max_iter=2840, total= 3.4min\n"
     ]
    },
    {
     "name": "stderr",
     "output_type": "stream",
     "text": [
      "[Parallel(n_jobs=-1)]: Done  50 out of  50 | elapsed: 54.1min finished\n"
     ]
    },
    {
     "name": "stdout",
     "output_type": "stream",
     "text": [
      "Fitting 2 folds for each of 25 candidates, totalling 50 fits\n"
     ]
    },
    {
     "name": "stderr",
     "output_type": "stream",
     "text": [
      "[Parallel(n_jobs=-1)]: Done  42 tasks      | elapsed:    8.3s\n",
      "[Parallel(n_jobs=-1)]: Done  50 out of  50 | elapsed:   11.8s finished\n"
     ]
    },
    {
     "name": "stdout",
     "output_type": "stream",
     "text": [
      "\n",
      "Score[median]: 0.85\n",
      "From Baseline: 34.0%\n",
      "From LOG: 6.0%\n",
      "{'mlp__activation': 'identity', 'mlp__alpha': 2.351642884494346e-06, 'mlp__hidden_layer_sizes': (54, 182, 222, 442), 'mlp__solver': 'sgd', 'mlp__learning_rate': 'constant', 'mlp__max_iter': 2744}\n",
      "\n",
      "Fitting 2 folds for each of 25 candidates, totalling 50 fits\n",
      "[CV] mlp__activation=tanh, mlp__alpha=1.0765446128423159e-05, mlp__hidden_layer_sizes=(451,), mlp__solver=lbfgs, mlp__learning_rate=constant, mlp__max_iter=3727 \n",
      "[CV] mlp__activation=tanh, mlp__alpha=1.0765446128423159e-05, mlp__hidden_layer_sizes=(451,), mlp__solver=lbfgs, mlp__learning_rate=constant, mlp__max_iter=3727 \n",
      "[CV] mlp__activation=logistic, mlp__alpha=4.371602248248502e-07, mlp__hidden_layer_sizes=(126, 397, 56, 315, 256), mlp__solver=sgd, mlp__learning_rate=constant, mlp__max_iter=798 \n",
      "[CV] mlp__activation=logistic, mlp__alpha=4.371602248248502e-07, mlp__hidden_layer_sizes=(126, 397, 56, 315, 256), mlp__solver=sgd, mlp__learning_rate=constant, mlp__max_iter=798 \n",
      "[CV]  mlp__activation=logistic, mlp__alpha=4.371602248248502e-07, mlp__hidden_layer_sizes=(126, 397, 56, 315, 256), mlp__solver=sgd, mlp__learning_rate=constant, mlp__max_iter=798, total=   5.0s\n",
      "[CV] mlp__activation=relu, mlp__alpha=5.926151812475552e-05, mlp__hidden_layer_sizes=(279, 231), mlp__solver=lbfgs, mlp__learning_rate=constant, mlp__max_iter=2832 \n",
      "[CV]  mlp__activation=logistic, mlp__alpha=4.371602248248502e-07, mlp__hidden_layer_sizes=(126, 397, 56, 315, 256), mlp__solver=sgd, mlp__learning_rate=constant, mlp__max_iter=798, total=   5.7s\n",
      "[CV] mlp__activation=relu, mlp__alpha=5.926151812475552e-05, mlp__hidden_layer_sizes=(279, 231), mlp__solver=lbfgs, mlp__learning_rate=constant, mlp__max_iter=2832 \n",
      "[CV]  mlp__activation=tanh, mlp__alpha=1.0765446128423159e-05, mlp__hidden_layer_sizes=(451,), mlp__solver=lbfgs, mlp__learning_rate=constant, mlp__max_iter=3727, total=  17.7s\n",
      "[CV] mlp__activation=tanh, mlp__alpha=0.0002907123377272578, mlp__hidden_layer_sizes=(451,), mlp__solver=lbfgs, mlp__learning_rate=constant, mlp__max_iter=3080 \n",
      "[CV]  mlp__activation=tanh, mlp__alpha=1.0765446128423159e-05, mlp__hidden_layer_sizes=(451,), mlp__solver=lbfgs, mlp__learning_rate=constant, mlp__max_iter=3727, total=  19.4s\n",
      "[CV] mlp__activation=tanh, mlp__alpha=0.0002907123377272578, mlp__hidden_layer_sizes=(451,), mlp__solver=lbfgs, mlp__learning_rate=constant, mlp__max_iter=3080 \n",
      "[CV]  mlp__activation=relu, mlp__alpha=5.926151812475552e-05, mlp__hidden_layer_sizes=(279, 231), mlp__solver=lbfgs, mlp__learning_rate=constant, mlp__max_iter=2832, total=  16.7s\n",
      "[CV] mlp__activation=relu, mlp__alpha=3.9047352368855556e-06, mlp__hidden_layer_sizes=(244, 159, 198), mlp__solver=adam, mlp__learning_rate=constant, mlp__max_iter=4603 \n",
      "[CV]  mlp__activation=relu, mlp__alpha=5.926151812475552e-05, mlp__hidden_layer_sizes=(279, 231), mlp__solver=lbfgs, mlp__learning_rate=constant, mlp__max_iter=2832, total=  16.7s\n",
      "[CV] mlp__activation=relu, mlp__alpha=3.9047352368855556e-06, mlp__hidden_layer_sizes=(244, 159, 198), mlp__solver=adam, mlp__learning_rate=constant, mlp__max_iter=4603 \n",
      "[CV]  mlp__activation=tanh, mlp__alpha=0.0002907123377272578, mlp__hidden_layer_sizes=(451,), mlp__solver=lbfgs, mlp__learning_rate=constant, mlp__max_iter=3080, total=  18.6s\n",
      "[CV] mlp__activation=tanh, mlp__alpha=0.0010327947319189526, mlp__hidden_layer_sizes=(126, 397, 56, 315, 256), mlp__solver=sgd, mlp__learning_rate=adaptive, mlp__max_iter=3101 \n",
      "[CV]  mlp__activation=tanh, mlp__alpha=0.0002907123377272578, mlp__hidden_layer_sizes=(451,), mlp__solver=lbfgs, mlp__learning_rate=constant, mlp__max_iter=3080, total=  22.8s\n",
      "[CV] mlp__activation=tanh, mlp__alpha=0.0010327947319189526, mlp__hidden_layer_sizes=(126, 397, 56, 315, 256), mlp__solver=sgd, mlp__learning_rate=adaptive, mlp__max_iter=3101 \n",
      "[CV]  mlp__activation=relu, mlp__alpha=3.9047352368855556e-06, mlp__hidden_layer_sizes=(244, 159, 198), mlp__solver=adam, mlp__learning_rate=constant, mlp__max_iter=4603, total=  48.6s\n",
      "[CV] mlp__activation=relu, mlp__alpha=9.794696670695385e-07, mlp__hidden_layer_sizes=(244, 159, 198), mlp__solver=lbfgs, mlp__learning_rate=invscaling, mlp__max_iter=2197 \n",
      "[CV]  mlp__activation=relu, mlp__alpha=3.9047352368855556e-06, mlp__hidden_layer_sizes=(244, 159, 198), mlp__solver=adam, mlp__learning_rate=constant, mlp__max_iter=4603, total=  52.4s\n",
      "[CV] mlp__activation=relu, mlp__alpha=9.794696670695385e-07, mlp__hidden_layer_sizes=(244, 159, 198), mlp__solver=lbfgs, mlp__learning_rate=invscaling, mlp__max_iter=2197 \n",
      "[CV]  mlp__activation=relu, mlp__alpha=9.794696670695385e-07, mlp__hidden_layer_sizes=(244, 159, 198), mlp__solver=lbfgs, mlp__learning_rate=invscaling, mlp__max_iter=2197, total=  23.3s\n",
      "[CV] mlp__activation=tanh, mlp__alpha=0.306539529505653, mlp__hidden_layer_sizes=(451,), mlp__solver=sgd, mlp__learning_rate=constant, mlp__max_iter=4789 \n",
      "[CV]  mlp__activation=relu, mlp__alpha=9.794696670695385e-07, mlp__hidden_layer_sizes=(244, 159, 198), mlp__solver=lbfgs, mlp__learning_rate=invscaling, mlp__max_iter=2197, total=  23.4s\n",
      "[CV] mlp__activation=tanh, mlp__alpha=0.306539529505653, mlp__hidden_layer_sizes=(451,), mlp__solver=sgd, mlp__learning_rate=constant, mlp__max_iter=4789 \n",
      "[CV]  mlp__activation=tanh, mlp__alpha=0.0010327947319189526, mlp__hidden_layer_sizes=(126, 397, 56, 315, 256), mlp__solver=sgd, mlp__learning_rate=adaptive, mlp__max_iter=3101, total= 4.8min\n",
      "[CV] mlp__activation=relu, mlp__alpha=0.005685317913873753, mlp__hidden_layer_sizes=(126, 397, 56, 315, 256), mlp__solver=sgd, mlp__learning_rate=invscaling, mlp__max_iter=3530 \n",
      "[CV]  mlp__activation=tanh, mlp__alpha=0.0010327947319189526, mlp__hidden_layer_sizes=(126, 397, 56, 315, 256), mlp__solver=sgd, mlp__learning_rate=adaptive, mlp__max_iter=3101, total= 4.9min\n",
      "[CV] mlp__activation=relu, mlp__alpha=0.005685317913873753, mlp__hidden_layer_sizes=(126, 397, 56, 315, 256), mlp__solver=sgd, mlp__learning_rate=invscaling, mlp__max_iter=3530 \n",
      "[CV]  mlp__activation=relu, mlp__alpha=0.005685317913873753, mlp__hidden_layer_sizes=(126, 397, 56, 315, 256), mlp__solver=sgd, mlp__learning_rate=invscaling, mlp__max_iter=3530, total=  26.3s\n",
      "[CV] mlp__activation=logistic, mlp__alpha=5.994842503189409, mlp__hidden_layer_sizes=(279, 231), mlp__solver=lbfgs, mlp__learning_rate=invscaling, mlp__max_iter=983 \n",
      "[CV]  mlp__activation=relu, mlp__alpha=0.005685317913873753, mlp__hidden_layer_sizes=(126, 397, 56, 315, 256), mlp__solver=sgd, mlp__learning_rate=invscaling, mlp__max_iter=3530, total=  26.0s\n",
      "[CV] mlp__activation=logistic, mlp__alpha=5.994842503189409, mlp__hidden_layer_sizes=(279, 231), mlp__solver=lbfgs, mlp__learning_rate=invscaling, mlp__max_iter=983 \n",
      "[CV]  mlp__activation=logistic, mlp__alpha=5.994842503189409, mlp__hidden_layer_sizes=(279, 231), mlp__solver=lbfgs, mlp__learning_rate=invscaling, mlp__max_iter=983, total=  18.8s\n",
      "[CV] mlp__activation=logistic, mlp__alpha=1.5746977146430867, mlp__hidden_layer_sizes=(244, 159, 198), mlp__solver=adam, mlp__learning_rate=invscaling, mlp__max_iter=4854 \n",
      "[CV]  mlp__activation=logistic, mlp__alpha=5.994842503189409, mlp__hidden_layer_sizes=(279, 231), mlp__solver=lbfgs, mlp__learning_rate=invscaling, mlp__max_iter=983, total=  37.4s\n",
      "[CV] mlp__activation=logistic, mlp__alpha=1.5746977146430867, mlp__hidden_layer_sizes=(244, 159, 198), mlp__solver=adam, mlp__learning_rate=invscaling, mlp__max_iter=4854 \n",
      "[CV]  mlp__activation=logistic, mlp__alpha=1.5746977146430867, mlp__hidden_layer_sizes=(244, 159, 198), mlp__solver=adam, mlp__learning_rate=invscaling, mlp__max_iter=4854, total=  50.3s\n",
      "[CV] mlp__activation=relu, mlp__alpha=2.199593068030075e-05, mlp__hidden_layer_sizes=(244, 159, 198), mlp__solver=lbfgs, mlp__learning_rate=invscaling, mlp__max_iter=1592 \n",
      "[CV]  mlp__activation=relu, mlp__alpha=2.199593068030075e-05, mlp__hidden_layer_sizes=(244, 159, 198), mlp__solver=lbfgs, mlp__learning_rate=invscaling, mlp__max_iter=1592, total=  24.0s\n",
      "[CV] mlp__activation=relu, mlp__alpha=2.199593068030075e-05, mlp__hidden_layer_sizes=(244, 159, 198), mlp__solver=lbfgs, mlp__learning_rate=invscaling, mlp__max_iter=1592 \n",
      "[CV]  mlp__activation=logistic, mlp__alpha=1.5746977146430867, mlp__hidden_layer_sizes=(244, 159, 198), mlp__solver=adam, mlp__learning_rate=invscaling, mlp__max_iter=4854, total= 1.0min\n"
     ]
    },
    {
     "name": "stdout",
     "output_type": "stream",
     "text": [
      "[CV] mlp__activation=logistic, mlp__alpha=6.468607661546321e-07, mlp__hidden_layer_sizes=(244, 159, 198), mlp__solver=lbfgs, mlp__learning_rate=adaptive, mlp__max_iter=4322 \n",
      "[CV]  mlp__activation=logistic, mlp__alpha=6.468607661546321e-07, mlp__hidden_layer_sizes=(244, 159, 198), mlp__solver=lbfgs, mlp__learning_rate=adaptive, mlp__max_iter=4322, total=   6.7s\n",
      "[CV] mlp__activation=logistic, mlp__alpha=6.468607661546321e-07, mlp__hidden_layer_sizes=(244, 159, 198), mlp__solver=lbfgs, mlp__learning_rate=adaptive, mlp__max_iter=4322 \n",
      "[CV]  mlp__activation=logistic, mlp__alpha=6.468607661546321e-07, mlp__hidden_layer_sizes=(244, 159, 198), mlp__solver=lbfgs, mlp__learning_rate=adaptive, mlp__max_iter=4322, total=   6.7s\n",
      "[CV] mlp__activation=tanh, mlp__alpha=0.2995549334359816, mlp__hidden_layer_sizes=(451,), mlp__solver=sgd, mlp__learning_rate=constant, mlp__max_iter=2105 \n",
      "[CV]  mlp__activation=relu, mlp__alpha=2.199593068030075e-05, mlp__hidden_layer_sizes=(244, 159, 198), mlp__solver=lbfgs, mlp__learning_rate=invscaling, mlp__max_iter=1592, total=  26.2s\n",
      "[CV] mlp__activation=tanh, mlp__alpha=0.2995549334359816, mlp__hidden_layer_sizes=(451,), mlp__solver=sgd, mlp__learning_rate=constant, mlp__max_iter=2105 \n",
      "[CV]  mlp__activation=tanh, mlp__alpha=0.306539529505653, mlp__hidden_layer_sizes=(451,), mlp__solver=sgd, mlp__learning_rate=constant, mlp__max_iter=4789, total=20.3min\n",
      "[CV] mlp__activation=logistic, mlp__alpha=5.517492376129129e-06, mlp__hidden_layer_sizes=(126, 397, 56, 315, 256), mlp__solver=sgd, mlp__learning_rate=constant, mlp__max_iter=4491 \n",
      "[CV]  mlp__activation=logistic, mlp__alpha=5.517492376129129e-06, mlp__hidden_layer_sizes=(126, 397, 56, 315, 256), mlp__solver=sgd, mlp__learning_rate=constant, mlp__max_iter=4491, total=   8.2s\n",
      "[CV] mlp__activation=logistic, mlp__alpha=5.517492376129129e-06, mlp__hidden_layer_sizes=(126, 397, 56, 315, 256), mlp__solver=sgd, mlp__learning_rate=constant, mlp__max_iter=4491 \n",
      "[CV]  mlp__activation=logistic, mlp__alpha=5.517492376129129e-06, mlp__hidden_layer_sizes=(126, 397, 56, 315, 256), mlp__solver=sgd, mlp__learning_rate=constant, mlp__max_iter=4491, total=   7.3s\n",
      "[CV] mlp__activation=tanh, mlp__alpha=7.1097094323124385e-06, mlp__hidden_layer_sizes=(126, 397, 56, 315, 256), mlp__solver=lbfgs, mlp__learning_rate=constant, mlp__max_iter=4265 \n",
      "[CV]  mlp__activation=tanh, mlp__alpha=0.306539529505653, mlp__hidden_layer_sizes=(451,), mlp__solver=sgd, mlp__learning_rate=constant, mlp__max_iter=4789, total=20.7min\n",
      "[CV] mlp__activation=tanh, mlp__alpha=7.1097094323124385e-06, mlp__hidden_layer_sizes=(126, 397, 56, 315, 256), mlp__solver=lbfgs, mlp__learning_rate=constant, mlp__max_iter=4265 \n",
      "[CV]  mlp__activation=tanh, mlp__alpha=7.1097094323124385e-06, mlp__hidden_layer_sizes=(126, 397, 56, 315, 256), mlp__solver=lbfgs, mlp__learning_rate=constant, mlp__max_iter=4265, total=  17.4s\n",
      "[CV] mlp__activation=relu, mlp__alpha=5.019965133110079e-07, mlp__hidden_layer_sizes=(244, 159, 198), mlp__solver=lbfgs, mlp__learning_rate=constant, mlp__max_iter=3276 \n",
      "[CV]  mlp__activation=tanh, mlp__alpha=7.1097094323124385e-06, mlp__hidden_layer_sizes=(126, 397, 56, 315, 256), mlp__solver=lbfgs, mlp__learning_rate=constant, mlp__max_iter=4265, total=  19.3s\n",
      "[CV] mlp__activation=relu, mlp__alpha=5.019965133110079e-07, mlp__hidden_layer_sizes=(244, 159, 198), mlp__solver=lbfgs, mlp__learning_rate=constant, mlp__max_iter=3276 \n",
      "[CV]  mlp__activation=relu, mlp__alpha=5.019965133110079e-07, mlp__hidden_layer_sizes=(244, 159, 198), mlp__solver=lbfgs, mlp__learning_rate=constant, mlp__max_iter=3276, total=  22.5s\n",
      "[CV] mlp__activation=tanh, mlp__alpha=0.11118496048192698, mlp__hidden_layer_sizes=(244, 159, 198), mlp__solver=sgd, mlp__learning_rate=invscaling, mlp__max_iter=4501 \n",
      "[CV]  mlp__activation=relu, mlp__alpha=5.019965133110079e-07, mlp__hidden_layer_sizes=(244, 159, 198), mlp__solver=lbfgs, mlp__learning_rate=constant, mlp__max_iter=3276, total=  24.9s\n",
      "[CV] mlp__activation=tanh, mlp__alpha=0.11118496048192698, mlp__hidden_layer_sizes=(244, 159, 198), mlp__solver=sgd, mlp__learning_rate=invscaling, mlp__max_iter=4501 \n",
      "[CV]  mlp__activation=tanh, mlp__alpha=0.11118496048192698, mlp__hidden_layer_sizes=(244, 159, 198), mlp__solver=sgd, mlp__learning_rate=invscaling, mlp__max_iter=4501, total=  46.0s\n",
      "[CV] mlp__activation=tanh, mlp__alpha=3.18055201533292e-05, mlp__hidden_layer_sizes=(244, 159, 198), mlp__solver=sgd, mlp__learning_rate=adaptive, mlp__max_iter=4113 \n"
     ]
    },
    {
     "name": "stderr",
     "output_type": "stream",
     "text": [
      "[Parallel(n_jobs=-1)]: Done  33 tasks      | elapsed: 23.8min\n"
     ]
    },
    {
     "name": "stdout",
     "output_type": "stream",
     "text": [
      "[CV]  mlp__activation=tanh, mlp__alpha=0.11118496048192698, mlp__hidden_layer_sizes=(244, 159, 198), mlp__solver=sgd, mlp__learning_rate=invscaling, mlp__max_iter=4501, total= 1.3min\n",
      "[CV] mlp__activation=tanh, mlp__alpha=3.18055201533292e-05, mlp__hidden_layer_sizes=(244, 159, 198), mlp__solver=sgd, mlp__learning_rate=adaptive, mlp__max_iter=4113 \n",
      "[CV]  mlp__activation=tanh, mlp__alpha=0.2995549334359816, mlp__hidden_layer_sizes=(451,), mlp__solver=sgd, mlp__learning_rate=constant, mlp__max_iter=2105, total=20.2min\n",
      "[CV] mlp__activation=logistic, mlp__alpha=5.404216420705915e-05, mlp__hidden_layer_sizes=(279, 231), mlp__solver=sgd, mlp__learning_rate=constant, mlp__max_iter=2136 \n",
      "[CV]  mlp__activation=logistic, mlp__alpha=5.404216420705915e-05, mlp__hidden_layer_sizes=(279, 231), mlp__solver=sgd, mlp__learning_rate=constant, mlp__max_iter=2136, total=   9.1s\n",
      "[CV] mlp__activation=logistic, mlp__alpha=5.404216420705915e-05, mlp__hidden_layer_sizes=(279, 231), mlp__solver=sgd, mlp__learning_rate=constant, mlp__max_iter=2136 \n",
      "[CV]  mlp__activation=logistic, mlp__alpha=5.404216420705915e-05, mlp__hidden_layer_sizes=(279, 231), mlp__solver=sgd, mlp__learning_rate=constant, mlp__max_iter=2136, total=   8.5s\n",
      "[CV] mlp__activation=tanh, mlp__alpha=1.556654359271062e-05, mlp__hidden_layer_sizes=(451,), mlp__solver=sgd, mlp__learning_rate=invscaling, mlp__max_iter=1857 \n",
      "[CV]  mlp__activation=tanh, mlp__alpha=0.2995549334359816, mlp__hidden_layer_sizes=(451,), mlp__solver=sgd, mlp__learning_rate=constant, mlp__max_iter=2105, total=21.0min\n",
      "[CV] mlp__activation=tanh, mlp__alpha=1.556654359271062e-05, mlp__hidden_layer_sizes=(451,), mlp__solver=sgd, mlp__learning_rate=invscaling, mlp__max_iter=1857 \n",
      "[CV]  mlp__activation=tanh, mlp__alpha=1.556654359271062e-05, mlp__hidden_layer_sizes=(451,), mlp__solver=sgd, mlp__learning_rate=invscaling, mlp__max_iter=1857, total=  32.6s\n",
      "[CV] mlp__activation=logistic, mlp__alpha=9.615746001432095e-05, mlp__hidden_layer_sizes=(279, 231), mlp__solver=adam, mlp__learning_rate=adaptive, mlp__max_iter=3118 \n",
      "[CV]  mlp__activation=logistic, mlp__alpha=9.615746001432095e-05, mlp__hidden_layer_sizes=(279, 231), mlp__solver=adam, mlp__learning_rate=adaptive, mlp__max_iter=3118, total=   4.8s\n",
      "[CV] mlp__activation=logistic, mlp__alpha=9.615746001432095e-05, mlp__hidden_layer_sizes=(279, 231), mlp__solver=adam, mlp__learning_rate=adaptive, mlp__max_iter=3118 \n",
      "[CV]  mlp__activation=logistic, mlp__alpha=9.615746001432095e-05, mlp__hidden_layer_sizes=(279, 231), mlp__solver=adam, mlp__learning_rate=adaptive, mlp__max_iter=3118, total=   5.8s\n",
      "[CV] mlp__activation=relu, mlp__alpha=0.0004939621743878321, mlp__hidden_layer_sizes=(54, 182, 222, 442), mlp__solver=lbfgs, mlp__learning_rate=adaptive, mlp__max_iter=3135 \n",
      "[CV]  mlp__activation=tanh, mlp__alpha=1.556654359271062e-05, mlp__hidden_layer_sizes=(451,), mlp__solver=sgd, mlp__learning_rate=invscaling, mlp__max_iter=1857, total=  44.6s\n",
      "[CV] mlp__activation=relu, mlp__alpha=0.0004939621743878321, mlp__hidden_layer_sizes=(54, 182, 222, 442), mlp__solver=lbfgs, mlp__learning_rate=adaptive, mlp__max_iter=3135 \n",
      "[CV]  mlp__activation=relu, mlp__alpha=0.0004939621743878321, mlp__hidden_layer_sizes=(54, 182, 222, 442), mlp__solver=lbfgs, mlp__learning_rate=adaptive, mlp__max_iter=3135, total=  28.5s\n",
      "[CV] mlp__activation=identity, mlp__alpha=7.6187177023229996e-06, mlp__hidden_layer_sizes=(54, 182, 222, 442), mlp__solver=sgd, mlp__learning_rate=adaptive, mlp__max_iter=3473 \n",
      "[CV]  mlp__activation=identity, mlp__alpha=7.6187177023229996e-06, mlp__hidden_layer_sizes=(54, 182, 222, 442), mlp__solver=sgd, mlp__learning_rate=adaptive, mlp__max_iter=3473, total=  18.1s\n",
      "[CV] mlp__activation=identity, mlp__alpha=7.6187177023229996e-06, mlp__hidden_layer_sizes=(54, 182, 222, 442), mlp__solver=sgd, mlp__learning_rate=adaptive, mlp__max_iter=3473 \n",
      "[CV]  mlp__activation=tanh, mlp__alpha=3.18055201533292e-05, mlp__hidden_layer_sizes=(244, 159, 198), mlp__solver=sgd, mlp__learning_rate=adaptive, mlp__max_iter=4113, total= 6.7min\n",
      "[CV] mlp__activation=logistic, mlp__alpha=223.53696459097966, mlp__hidden_layer_sizes=(126, 397, 56, 315, 256), mlp__solver=lbfgs, mlp__learning_rate=adaptive, mlp__max_iter=2485 \n",
      "[CV]  mlp__activation=relu, mlp__alpha=0.0004939621743878321, mlp__hidden_layer_sizes=(54, 182, 222, 442), mlp__solver=lbfgs, mlp__learning_rate=adaptive, mlp__max_iter=3135, total=  55.0s\n",
      "[CV] mlp__activation=logistic, mlp__alpha=223.53696459097966, mlp__hidden_layer_sizes=(126, 397, 56, 315, 256), mlp__solver=lbfgs, mlp__learning_rate=adaptive, mlp__max_iter=2485 \n",
      "[CV]  mlp__activation=tanh, mlp__alpha=3.18055201533292e-05, mlp__hidden_layer_sizes=(244, 159, 198), mlp__solver=sgd, mlp__learning_rate=adaptive, mlp__max_iter=4113, total= 6.3min\n",
      "[CV]  mlp__activation=logistic, mlp__alpha=223.53696459097966, mlp__hidden_layer_sizes=(126, 397, 56, 315, 256), mlp__solver=lbfgs, mlp__learning_rate=adaptive, mlp__max_iter=2485, total=  14.5s\n",
      "[CV]  mlp__activation=logistic, mlp__alpha=223.53696459097966, mlp__hidden_layer_sizes=(126, 397, 56, 315, 256), mlp__solver=lbfgs, mlp__learning_rate=adaptive, mlp__max_iter=2485, total=  16.6s\n",
      "[CV]  mlp__activation=identity, mlp__alpha=7.6187177023229996e-06, mlp__hidden_layer_sizes=(54, 182, 222, 442), mlp__solver=sgd, mlp__learning_rate=adaptive, mlp__max_iter=3473, total= 1.1min\n"
     ]
    },
    {
     "name": "stderr",
     "output_type": "stream",
     "text": [
      "[Parallel(n_jobs=-1)]: Done  50 out of  50 | elapsed: 31.2min finished\n"
     ]
    },
    {
     "name": "stdout",
     "output_type": "stream",
     "text": [
      "Fitting 2 folds for each of 25 candidates, totalling 50 fits\n"
     ]
    },
    {
     "name": "stderr",
     "output_type": "stream",
     "text": [
      "[Parallel(n_jobs=-1)]: Done  42 tasks      | elapsed:  1.1min\n",
      "[Parallel(n_jobs=-1)]: Done  50 out of  50 | elapsed:  1.2min finished\n"
     ]
    },
    {
     "name": "stdout",
     "output_type": "stream",
     "text": [
      "\n",
      "Score[mean]: 0.95\n",
      "From Baseline: 7.0%\n",
      "From LOG: 0.0%\n",
      "{'mlp__activation': 'tanh', 'mlp__alpha': 0.2995549334359816, 'mlp__hidden_layer_sizes': (451,), 'mlp__solver': 'sgd', 'mlp__learning_rate': 'constant', 'mlp__max_iter': 2105}\n",
      "LOG Params:{'log__solver': 'saga', 'log__class_weight': None, 'log__max_iter': 1759, 'log__C': 37.03126675869931}\n",
      "\n",
      "3-7_2\n",
      "Median Baseline: 0.51\n",
      "Mean Baseline: 0.92\n",
      "\n",
      "Fitting 2 folds for each of 25 candidates, totalling 50 fits\n",
      "[CV] mlp__activation=logistic, mlp__alpha=0.010351779556301762, mlp__hidden_layer_sizes=(451,), mlp__solver=adam, mlp__learning_rate=adaptive, mlp__max_iter=1032 \n",
      "[CV] mlp__activation=logistic, mlp__alpha=0.010351779556301762, mlp__hidden_layer_sizes=(451,), mlp__solver=adam, mlp__learning_rate=adaptive, mlp__max_iter=1032 \n",
      "[CV] mlp__activation=relu, mlp__alpha=1.6225952870780872e-07, mlp__hidden_layer_sizes=(54, 182, 222, 442), mlp__solver=lbfgs, mlp__learning_rate=invscaling, mlp__max_iter=3277 \n",
      "[CV] mlp__activation=relu, mlp__alpha=1.6225952870780872e-07, mlp__hidden_layer_sizes=(54, 182, 222, 442), mlp__solver=lbfgs, mlp__learning_rate=invscaling, mlp__max_iter=3277 \n",
      "[CV]  mlp__activation=relu, mlp__alpha=1.6225952870780872e-07, mlp__hidden_layer_sizes=(54, 182, 222, 442), mlp__solver=lbfgs, mlp__learning_rate=invscaling, mlp__max_iter=3277, total=  14.8s\n",
      "[CV] mlp__activation=tanh, mlp__alpha=1.0280447320933097e-05, mlp__hidden_layer_sizes=(451,), mlp__solver=lbfgs, mlp__learning_rate=invscaling, mlp__max_iter=2645 \n",
      "[CV]  mlp__activation=relu, mlp__alpha=1.6225952870780872e-07, mlp__hidden_layer_sizes=(54, 182, 222, 442), mlp__solver=lbfgs, mlp__learning_rate=invscaling, mlp__max_iter=3277, total=  16.1s\n",
      "[CV] mlp__activation=tanh, mlp__alpha=1.0280447320933097e-05, mlp__hidden_layer_sizes=(451,), mlp__solver=lbfgs, mlp__learning_rate=invscaling, mlp__max_iter=2645 \n",
      "[CV]  mlp__activation=tanh, mlp__alpha=1.0280447320933097e-05, mlp__hidden_layer_sizes=(451,), mlp__solver=lbfgs, mlp__learning_rate=invscaling, mlp__max_iter=2645, total=  20.3s\n",
      "[CV] mlp__activation=logistic, mlp__alpha=0.0003746050032748993, mlp__hidden_layer_sizes=(279, 231), mlp__solver=adam, mlp__learning_rate=adaptive, mlp__max_iter=3814 \n",
      "[CV]  mlp__activation=tanh, mlp__alpha=1.0280447320933097e-05, mlp__hidden_layer_sizes=(451,), mlp__solver=lbfgs, mlp__learning_rate=invscaling, mlp__max_iter=2645, total=  20.9s\n",
      "[CV] mlp__activation=logistic, mlp__alpha=0.0003746050032748993, mlp__hidden_layer_sizes=(279, 231), mlp__solver=adam, mlp__learning_rate=adaptive, mlp__max_iter=3814 \n",
      "[CV]  mlp__activation=logistic, mlp__alpha=0.0003746050032748993, mlp__hidden_layer_sizes=(279, 231), mlp__solver=adam, mlp__learning_rate=adaptive, mlp__max_iter=3814, total= 1.1min\n",
      "[CV] mlp__activation=identity, mlp__alpha=19.421746814890284, mlp__hidden_layer_sizes=(244, 159, 198), mlp__solver=sgd, mlp__learning_rate=invscaling, mlp__max_iter=2047 \n",
      "[CV]  mlp__activation=logistic, mlp__alpha=0.0003746050032748993, mlp__hidden_layer_sizes=(279, 231), mlp__solver=adam, mlp__learning_rate=adaptive, mlp__max_iter=3814, total= 1.4min\n",
      "[CV] mlp__activation=identity, mlp__alpha=19.421746814890284, mlp__hidden_layer_sizes=(244, 159, 198), mlp__solver=sgd, mlp__learning_rate=invscaling, mlp__max_iter=2047 \n",
      "[CV]  mlp__activation=logistic, mlp__alpha=0.010351779556301762, mlp__hidden_layer_sizes=(451,), mlp__solver=adam, mlp__learning_rate=adaptive, mlp__max_iter=1032, total= 2.4min\n",
      "[CV] mlp__activation=identity, mlp__alpha=0.006379766808606282, mlp__hidden_layer_sizes=(451,), mlp__solver=sgd, mlp__learning_rate=invscaling, mlp__max_iter=3118 \n",
      "[CV]  mlp__activation=identity, mlp__alpha=0.006379766808606282, mlp__hidden_layer_sizes=(451,), mlp__solver=sgd, mlp__learning_rate=invscaling, mlp__max_iter=3118, total=   6.8s\n",
      "[CV] mlp__activation=identity, mlp__alpha=0.006379766808606282, mlp__hidden_layer_sizes=(451,), mlp__solver=sgd, mlp__learning_rate=invscaling, mlp__max_iter=3118 \n",
      "[CV]  mlp__activation=identity, mlp__alpha=0.006379766808606282, mlp__hidden_layer_sizes=(451,), mlp__solver=sgd, mlp__learning_rate=invscaling, mlp__max_iter=3118, total=   6.8s\n",
      "[CV] mlp__activation=identity, mlp__alpha=0.0001327770829355429, mlp__hidden_layer_sizes=(126, 397, 56, 315, 256), mlp__solver=adam, mlp__learning_rate=constant, mlp__max_iter=1609 \n",
      "[CV]  mlp__activation=identity, mlp__alpha=0.0001327770829355429, mlp__hidden_layer_sizes=(126, 397, 56, 315, 256), mlp__solver=adam, mlp__learning_rate=constant, mlp__max_iter=1609, total=   8.3s\n",
      "[CV] mlp__activation=identity, mlp__alpha=0.0001327770829355429, mlp__hidden_layer_sizes=(126, 397, 56, 315, 256), mlp__solver=adam, mlp__learning_rate=constant, mlp__max_iter=1609 \n",
      "[CV]  mlp__activation=identity, mlp__alpha=0.0001327770829355429, mlp__hidden_layer_sizes=(126, 397, 56, 315, 256), mlp__solver=adam, mlp__learning_rate=constant, mlp__max_iter=1609, total=   6.6s\n",
      "[CV] mlp__activation=relu, mlp__alpha=0.02543345761304648, mlp__hidden_layer_sizes=(54, 182, 222, 442), mlp__solver=sgd, mlp__learning_rate=invscaling, mlp__max_iter=2696 \n",
      "[CV]  mlp__activation=relu, mlp__alpha=0.02543345761304648, mlp__hidden_layer_sizes=(54, 182, 222, 442), mlp__solver=sgd, mlp__learning_rate=invscaling, mlp__max_iter=2696, total=   2.1s\n",
      "[CV] mlp__activation=relu, mlp__alpha=0.02543345761304648, mlp__hidden_layer_sizes=(54, 182, 222, 442), mlp__solver=sgd, mlp__learning_rate=invscaling, mlp__max_iter=2696 \n",
      "[CV]  mlp__activation=relu, mlp__alpha=0.02543345761304648, mlp__hidden_layer_sizes=(54, 182, 222, 442), mlp__solver=sgd, mlp__learning_rate=invscaling, mlp__max_iter=2696, total=   2.3s\n",
      "[CV] mlp__activation=identity, mlp__alpha=7.462302891391108e-05, mlp__hidden_layer_sizes=(54, 182, 222, 442), mlp__solver=sgd, mlp__learning_rate=constant, mlp__max_iter=1408 \n",
      "[CV]  mlp__activation=identity, mlp__alpha=7.462302891391108e-05, mlp__hidden_layer_sizes=(54, 182, 222, 442), mlp__solver=sgd, mlp__learning_rate=constant, mlp__max_iter=1408, total=   2.1s\n",
      "[CV] mlp__activation=identity, mlp__alpha=7.462302891391108e-05, mlp__hidden_layer_sizes=(54, 182, 222, 442), mlp__solver=sgd, mlp__learning_rate=constant, mlp__max_iter=1408 \n",
      "[CV]  mlp__activation=identity, mlp__alpha=7.462302891391108e-05, mlp__hidden_layer_sizes=(54, 182, 222, 442), mlp__solver=sgd, mlp__learning_rate=constant, mlp__max_iter=1408, total=   2.1s\n",
      "[CV] mlp__activation=tanh, mlp__alpha=2.5787628875937984e-06, mlp__hidden_layer_sizes=(279, 231), mlp__solver=lbfgs, mlp__learning_rate=invscaling, mlp__max_iter=2840 \n",
      "[CV]  mlp__activation=logistic, mlp__alpha=0.010351779556301762, mlp__hidden_layer_sizes=(451,), mlp__solver=adam, mlp__learning_rate=adaptive, mlp__max_iter=1032, total= 3.3min\n",
      "[CV] mlp__activation=tanh, mlp__alpha=2.5787628875937984e-06, mlp__hidden_layer_sizes=(279, 231), mlp__solver=lbfgs, mlp__learning_rate=invscaling, mlp__max_iter=2840 \n",
      "[CV]  mlp__activation=tanh, mlp__alpha=2.5787628875937984e-06, mlp__hidden_layer_sizes=(279, 231), mlp__solver=lbfgs, mlp__learning_rate=invscaling, mlp__max_iter=2840, total=  18.2s\n",
      "[CV] mlp__activation=tanh, mlp__alpha=0.13369837418249453, mlp__hidden_layer_sizes=(244, 159, 198), mlp__solver=lbfgs, mlp__learning_rate=constant, mlp__max_iter=2782 \n",
      "[CV]  mlp__activation=tanh, mlp__alpha=2.5787628875937984e-06, mlp__hidden_layer_sizes=(279, 231), mlp__solver=lbfgs, mlp__learning_rate=invscaling, mlp__max_iter=2840, total=  19.4s\n",
      "[CV] mlp__activation=tanh, mlp__alpha=0.13369837418249453, mlp__hidden_layer_sizes=(244, 159, 198), mlp__solver=lbfgs, mlp__learning_rate=constant, mlp__max_iter=2782 \n",
      "[CV]  mlp__activation=tanh, mlp__alpha=0.13369837418249453, mlp__hidden_layer_sizes=(244, 159, 198), mlp__solver=lbfgs, mlp__learning_rate=constant, mlp__max_iter=2782, total= 4.1min\n",
      "[CV] mlp__activation=identity, mlp__alpha=0.3284857366030047, mlp__hidden_layer_sizes=(279, 231), mlp__solver=lbfgs, mlp__learning_rate=invscaling, mlp__max_iter=2697 \n",
      "[CV]  mlp__activation=tanh, mlp__alpha=0.13369837418249453, mlp__hidden_layer_sizes=(244, 159, 198), mlp__solver=lbfgs, mlp__learning_rate=constant, mlp__max_iter=2782, total= 5.1min\n",
      "[CV] mlp__activation=identity, mlp__alpha=0.3284857366030047, mlp__hidden_layer_sizes=(279, 231), mlp__solver=lbfgs, mlp__learning_rate=invscaling, mlp__max_iter=2697 \n"
     ]
    },
    {
     "name": "stdout",
     "output_type": "stream",
     "text": [
      "[CV]  mlp__activation=identity, mlp__alpha=0.3284857366030047, mlp__hidden_layer_sizes=(279, 231), mlp__solver=lbfgs, mlp__learning_rate=invscaling, mlp__max_iter=2697, total= 1.7min\n",
      "[CV] mlp__activation=tanh, mlp__alpha=0.11643031329208756, mlp__hidden_layer_sizes=(244, 159, 198), mlp__solver=sgd, mlp__learning_rate=invscaling, mlp__max_iter=3516 \n",
      "[CV]  mlp__activation=tanh, mlp__alpha=0.11643031329208756, mlp__hidden_layer_sizes=(244, 159, 198), mlp__solver=sgd, mlp__learning_rate=invscaling, mlp__max_iter=3516, total=   7.3s\n",
      "[CV] mlp__activation=tanh, mlp__alpha=0.11643031329208756, mlp__hidden_layer_sizes=(244, 159, 198), mlp__solver=sgd, mlp__learning_rate=invscaling, mlp__max_iter=3516 \n",
      "[CV]  mlp__activation=tanh, mlp__alpha=0.11643031329208756, mlp__hidden_layer_sizes=(244, 159, 198), mlp__solver=sgd, mlp__learning_rate=invscaling, mlp__max_iter=3516, total=   5.2s\n",
      "[CV] mlp__activation=tanh, mlp__alpha=0.00039227767589277194, mlp__hidden_layer_sizes=(451,), mlp__solver=adam, mlp__learning_rate=adaptive, mlp__max_iter=4064 \n",
      "[CV]  mlp__activation=identity, mlp__alpha=0.3284857366030047, mlp__hidden_layer_sizes=(279, 231), mlp__solver=lbfgs, mlp__learning_rate=invscaling, mlp__max_iter=2697, total= 1.9min\n",
      "[CV] mlp__activation=tanh, mlp__alpha=0.00039227767589277194, mlp__hidden_layer_sizes=(451,), mlp__solver=adam, mlp__learning_rate=adaptive, mlp__max_iter=4064 \n",
      "[CV]  mlp__activation=tanh, mlp__alpha=0.00039227767589277194, mlp__hidden_layer_sizes=(451,), mlp__solver=adam, mlp__learning_rate=adaptive, mlp__max_iter=4064, total=  42.3s\n",
      "[CV] mlp__activation=logistic, mlp__alpha=165.66059589499153, mlp__hidden_layer_sizes=(451,), mlp__solver=sgd, mlp__learning_rate=constant, mlp__max_iter=944 \n",
      "[CV]  mlp__activation=logistic, mlp__alpha=165.66059589499153, mlp__hidden_layer_sizes=(451,), mlp__solver=sgd, mlp__learning_rate=constant, mlp__max_iter=944, total= 1.2min\n",
      "[CV] mlp__activation=logistic, mlp__alpha=165.66059589499153, mlp__hidden_layer_sizes=(451,), mlp__solver=sgd, mlp__learning_rate=constant, mlp__max_iter=944 \n",
      "[CV]  mlp__activation=tanh, mlp__alpha=0.00039227767589277194, mlp__hidden_layer_sizes=(451,), mlp__solver=adam, mlp__learning_rate=adaptive, mlp__max_iter=4064, total= 1.5min\n",
      "[CV] mlp__activation=relu, mlp__alpha=16.527920614648973, mlp__hidden_layer_sizes=(54, 182, 222, 442), mlp__solver=lbfgs, mlp__learning_rate=constant, mlp__max_iter=822 \n",
      "[CV]  mlp__activation=relu, mlp__alpha=16.527920614648973, mlp__hidden_layer_sizes=(54, 182, 222, 442), mlp__solver=lbfgs, mlp__learning_rate=constant, mlp__max_iter=822, total=  16.1s\n",
      "[CV] mlp__activation=relu, mlp__alpha=16.527920614648973, mlp__hidden_layer_sizes=(54, 182, 222, 442), mlp__solver=lbfgs, mlp__learning_rate=constant, mlp__max_iter=822 \n",
      "[CV]  mlp__activation=relu, mlp__alpha=16.527920614648973, mlp__hidden_layer_sizes=(54, 182, 222, 442), mlp__solver=lbfgs, mlp__learning_rate=constant, mlp__max_iter=822, total=  11.9s\n",
      "[CV] mlp__activation=logistic, mlp__alpha=5.1607487103859075e-05, mlp__hidden_layer_sizes=(279, 231), mlp__solver=lbfgs, mlp__learning_rate=adaptive, mlp__max_iter=2198 \n",
      "[CV]  mlp__activation=logistic, mlp__alpha=165.66059589499153, mlp__hidden_layer_sizes=(451,), mlp__solver=sgd, mlp__learning_rate=constant, mlp__max_iter=944, total= 1.3min\n",
      "[CV] mlp__activation=logistic, mlp__alpha=5.1607487103859075e-05, mlp__hidden_layer_sizes=(279, 231), mlp__solver=lbfgs, mlp__learning_rate=adaptive, mlp__max_iter=2198 \n",
      "[CV]  mlp__activation=logistic, mlp__alpha=5.1607487103859075e-05, mlp__hidden_layer_sizes=(279, 231), mlp__solver=lbfgs, mlp__learning_rate=adaptive, mlp__max_iter=2198, total=  59.7s\n",
      "[CV] mlp__activation=relu, mlp__alpha=9.140310748756223e-07, mlp__hidden_layer_sizes=(54, 182, 222, 442), mlp__solver=adam, mlp__learning_rate=invscaling, mlp__max_iter=2932 \n",
      "[CV]  mlp__activation=relu, mlp__alpha=9.140310748756223e-07, mlp__hidden_layer_sizes=(54, 182, 222, 442), mlp__solver=adam, mlp__learning_rate=invscaling, mlp__max_iter=2932, total=   6.9s\n",
      "[CV] mlp__activation=relu, mlp__alpha=9.140310748756223e-07, mlp__hidden_layer_sizes=(54, 182, 222, 442), mlp__solver=adam, mlp__learning_rate=invscaling, mlp__max_iter=2932 \n",
      "[CV]  mlp__activation=relu, mlp__alpha=9.140310748756223e-07, mlp__hidden_layer_sizes=(54, 182, 222, 442), mlp__solver=adam, mlp__learning_rate=invscaling, mlp__max_iter=2932, total=   7.9s\n",
      "[CV] mlp__activation=relu, mlp__alpha=1.1247371783647508e-06, mlp__hidden_layer_sizes=(126, 397, 56, 315, 256), mlp__solver=sgd, mlp__learning_rate=constant, mlp__max_iter=3909 \n"
     ]
    },
    {
     "name": "stderr",
     "output_type": "stream",
     "text": [
      "[Parallel(n_jobs=-1)]: Done  33 tasks      | elapsed: 13.6min\n"
     ]
    },
    {
     "name": "stdout",
     "output_type": "stream",
     "text": [
      "[CV]  mlp__activation=relu, mlp__alpha=1.1247371783647508e-06, mlp__hidden_layer_sizes=(126, 397, 56, 315, 256), mlp__solver=sgd, mlp__learning_rate=constant, mlp__max_iter=3909, total=   2.7s\n",
      "[CV] mlp__activation=relu, mlp__alpha=1.1247371783647508e-06, mlp__hidden_layer_sizes=(126, 397, 56, 315, 256), mlp__solver=sgd, mlp__learning_rate=constant, mlp__max_iter=3909 \n",
      "[CV]  mlp__activation=relu, mlp__alpha=1.1247371783647508e-06, mlp__hidden_layer_sizes=(126, 397, 56, 315, 256), mlp__solver=sgd, mlp__learning_rate=constant, mlp__max_iter=3909, total=  10.4s\n",
      "[CV] mlp__activation=identity, mlp__alpha=0.06248788072006888, mlp__hidden_layer_sizes=(279, 231), mlp__solver=lbfgs, mlp__learning_rate=adaptive, mlp__max_iter=970 \n",
      "[CV]  mlp__activation=logistic, mlp__alpha=5.1607487103859075e-05, mlp__hidden_layer_sizes=(279, 231), mlp__solver=lbfgs, mlp__learning_rate=adaptive, mlp__max_iter=2198, total=  54.8s\n",
      "[CV] mlp__activation=identity, mlp__alpha=0.06248788072006888, mlp__hidden_layer_sizes=(279, 231), mlp__solver=lbfgs, mlp__learning_rate=adaptive, mlp__max_iter=970 \n",
      "[CV]  mlp__activation=identity, mlp__alpha=0.06248788072006888, mlp__hidden_layer_sizes=(279, 231), mlp__solver=lbfgs, mlp__learning_rate=adaptive, mlp__max_iter=970, total= 1.9min\n",
      "[CV] mlp__activation=identity, mlp__alpha=0.0028474391664672478, mlp__hidden_layer_sizes=(451,), mlp__solver=lbfgs, mlp__learning_rate=constant, mlp__max_iter=3364 \n",
      "[CV]  mlp__activation=identity, mlp__alpha=0.06248788072006888, mlp__hidden_layer_sizes=(279, 231), mlp__solver=lbfgs, mlp__learning_rate=adaptive, mlp__max_iter=970, total= 1.9min\n",
      "[CV] mlp__activation=identity, mlp__alpha=0.0028474391664672478, mlp__hidden_layer_sizes=(451,), mlp__solver=lbfgs, mlp__learning_rate=constant, mlp__max_iter=3364 \n",
      "[CV]  mlp__activation=identity, mlp__alpha=0.0028474391664672478, mlp__hidden_layer_sizes=(451,), mlp__solver=lbfgs, mlp__learning_rate=constant, mlp__max_iter=3364, total=  23.6s\n",
      "[CV] mlp__activation=identity, mlp__alpha=0.22199661191199524, mlp__hidden_layer_sizes=(451,), mlp__solver=lbfgs, mlp__learning_rate=constant, mlp__max_iter=4719 \n",
      "[CV]  mlp__activation=identity, mlp__alpha=0.0028474391664672478, mlp__hidden_layer_sizes=(451,), mlp__solver=lbfgs, mlp__learning_rate=constant, mlp__max_iter=3364, total=  22.1s\n",
      "[CV] mlp__activation=identity, mlp__alpha=0.22199661191199524, mlp__hidden_layer_sizes=(451,), mlp__solver=lbfgs, mlp__learning_rate=constant, mlp__max_iter=4719 \n",
      "[CV]  mlp__activation=identity, mlp__alpha=0.22199661191199524, mlp__hidden_layer_sizes=(451,), mlp__solver=lbfgs, mlp__learning_rate=constant, mlp__max_iter=4719, total= 1.2min\n",
      "[CV] mlp__activation=tanh, mlp__alpha=4.174655289253135e-07, mlp__hidden_layer_sizes=(126, 397, 56, 315, 256), mlp__solver=lbfgs, mlp__learning_rate=adaptive, mlp__max_iter=2964 \n",
      "[CV]  mlp__activation=identity, mlp__alpha=0.22199661191199524, mlp__hidden_layer_sizes=(451,), mlp__solver=lbfgs, mlp__learning_rate=constant, mlp__max_iter=4719, total= 1.3min\n",
      "[CV] mlp__activation=tanh, mlp__alpha=4.174655289253135e-07, mlp__hidden_layer_sizes=(126, 397, 56, 315, 256), mlp__solver=lbfgs, mlp__learning_rate=adaptive, mlp__max_iter=2964 \n",
      "[CV]  mlp__activation=tanh, mlp__alpha=4.174655289253135e-07, mlp__hidden_layer_sizes=(126, 397, 56, 315, 256), mlp__solver=lbfgs, mlp__learning_rate=adaptive, mlp__max_iter=2964, total=  21.8s\n",
      "[CV] mlp__activation=identity, mlp__alpha=9.39664831495469e-05, mlp__hidden_layer_sizes=(451,), mlp__solver=lbfgs, mlp__learning_rate=constant, mlp__max_iter=1405 \n",
      "[CV]  mlp__activation=tanh, mlp__alpha=4.174655289253135e-07, mlp__hidden_layer_sizes=(126, 397, 56, 315, 256), mlp__solver=lbfgs, mlp__learning_rate=adaptive, mlp__max_iter=2964, total=  17.6s\n",
      "[CV] mlp__activation=identity, mlp__alpha=9.39664831495469e-05, mlp__hidden_layer_sizes=(451,), mlp__solver=lbfgs, mlp__learning_rate=constant, mlp__max_iter=1405 \n",
      "[CV]  mlp__activation=identity, mlp__alpha=9.39664831495469e-05, mlp__hidden_layer_sizes=(451,), mlp__solver=lbfgs, mlp__learning_rate=constant, mlp__max_iter=1405, total=  25.2s\n",
      "[CV] mlp__activation=logistic, mlp__alpha=27.443433032283682, mlp__hidden_layer_sizes=(244, 159, 198), mlp__solver=sgd, mlp__learning_rate=adaptive, mlp__max_iter=2191 \n",
      "[CV]  mlp__activation=identity, mlp__alpha=9.39664831495469e-05, mlp__hidden_layer_sizes=(451,), mlp__solver=lbfgs, mlp__learning_rate=constant, mlp__max_iter=1405, total=  26.0s\n",
      "[CV] mlp__activation=logistic, mlp__alpha=27.443433032283682, mlp__hidden_layer_sizes=(244, 159, 198), mlp__solver=sgd, mlp__learning_rate=adaptive, mlp__max_iter=2191 \n"
     ]
    },
    {
     "name": "stderr",
     "output_type": "stream",
     "text": [
      "/home/loki/.local/lib/python2.7/site-packages/sklearn/neural_network/multilayer_perceptron.py:564: ConvergenceWarning: Stochastic Optimizer: Maximum iterations (2047) reached and the optimization hasn't converged yet.\n",
      "  % self.max_iter, ConvergenceWarning)\n"
     ]
    },
    {
     "name": "stdout",
     "output_type": "stream",
     "text": [
      "[CV]  mlp__activation=identity, mlp__alpha=19.421746814890284, mlp__hidden_layer_sizes=(244, 159, 198), mlp__solver=sgd, mlp__learning_rate=invscaling, mlp__max_iter=2047, total=18.7min\n"
     ]
    },
    {
     "name": "stderr",
     "output_type": "stream",
     "text": [
      "/home/loki/.local/lib/python2.7/site-packages/sklearn/neural_network/multilayer_perceptron.py:564: ConvergenceWarning: Stochastic Optimizer: Maximum iterations (2047) reached and the optimization hasn't converged yet.\n",
      "  % self.max_iter, ConvergenceWarning)\n"
     ]
    },
    {
     "name": "stdout",
     "output_type": "stream",
     "text": [
      "[CV]  mlp__activation=identity, mlp__alpha=19.421746814890284, mlp__hidden_layer_sizes=(244, 159, 198), mlp__solver=sgd, mlp__learning_rate=invscaling, mlp__max_iter=2047, total=18.7min\n",
      "[CV]  mlp__activation=logistic, mlp__alpha=27.443433032283682, mlp__hidden_layer_sizes=(244, 159, 198), mlp__solver=sgd, mlp__learning_rate=adaptive, mlp__max_iter=2191, total= 3.3min\n",
      "[CV]  mlp__activation=logistic, mlp__alpha=27.443433032283682, mlp__hidden_layer_sizes=(244, 159, 198), mlp__solver=sgd, mlp__learning_rate=adaptive, mlp__max_iter=2191, total= 3.2min\n"
     ]
    },
    {
     "name": "stderr",
     "output_type": "stream",
     "text": [
      "[Parallel(n_jobs=-1)]: Done  50 out of  50 | elapsed: 21.4min finished\n"
     ]
    },
    {
     "name": "stdout",
     "output_type": "stream",
     "text": [
      "Fitting 2 folds for each of 25 candidates, totalling 50 fits\n"
     ]
    },
    {
     "name": "stderr",
     "output_type": "stream",
     "text": [
      "[Parallel(n_jobs=-1)]: Done  42 tasks      | elapsed:   19.0s\n",
      "[Parallel(n_jobs=-1)]: Done  50 out of  50 | elapsed:   37.3s finished\n"
     ]
    },
    {
     "name": "stdout",
     "output_type": "stream",
     "text": [
      "\n",
      "Score[median]: 0.59\n",
      "From Baseline: 8.0%\n",
      "From LOG: -3.0%\n",
      "{'mlp__activation': 'identity', 'mlp__alpha': 9.39664831495469e-05, 'mlp__hidden_layer_sizes': (451,), 'mlp__solver': 'lbfgs', 'mlp__learning_rate': 'constant', 'mlp__max_iter': 1405}\n",
      "LOG Params:{'log__solver': 'sag', 'log__class_weight': None, 'log__max_iter': 2233, 'log__C': 3.2174181506763717}\n",
      "Fitting 2 folds for each of 25 candidates, totalling 50 fits\n",
      "[CV] mlp__activation=logistic, mlp__alpha=0.23246970599856456, mlp__hidden_layer_sizes=(244, 159, 198), mlp__solver=adam, mlp__learning_rate=adaptive, mlp__max_iter=3560 \n",
      "[CV] mlp__activation=logistic, mlp__alpha=0.23246970599856456, mlp__hidden_layer_sizes=(244, 159, 198), mlp__solver=adam, mlp__learning_rate=adaptive, mlp__max_iter=3560 \n",
      "[CV] mlp__activation=relu, mlp__alpha=0.006234401888627864, mlp__hidden_layer_sizes=(244, 159, 198), mlp__solver=sgd, mlp__learning_rate=adaptive, mlp__max_iter=4242 \n",
      "[CV] mlp__activation=relu, mlp__alpha=0.006234401888627864, mlp__hidden_layer_sizes=(244, 159, 198), mlp__solver=sgd, mlp__learning_rate=adaptive, mlp__max_iter=4242 \n",
      "[CV]  mlp__activation=logistic, mlp__alpha=0.23246970599856456, mlp__hidden_layer_sizes=(244, 159, 198), mlp__solver=adam, mlp__learning_rate=adaptive, mlp__max_iter=3560, total=  43.0s\n",
      "[CV] mlp__activation=relu, mlp__alpha=2.1945290862033114e-06, mlp__hidden_layer_sizes=(279, 231), mlp__solver=adam, mlp__learning_rate=adaptive, mlp__max_iter=2232 \n",
      "[CV]  mlp__activation=logistic, mlp__alpha=0.23246970599856456, mlp__hidden_layer_sizes=(244, 159, 198), mlp__solver=adam, mlp__learning_rate=adaptive, mlp__max_iter=3560, total=  47.6s\n",
      "[CV] mlp__activation=relu, mlp__alpha=2.1945290862033114e-06, mlp__hidden_layer_sizes=(279, 231), mlp__solver=adam, mlp__learning_rate=adaptive, mlp__max_iter=2232 \n",
      "[CV]  mlp__activation=relu, mlp__alpha=2.1945290862033114e-06, mlp__hidden_layer_sizes=(279, 231), mlp__solver=adam, mlp__learning_rate=adaptive, mlp__max_iter=2232, total=  28.6s\n",
      "[CV] mlp__activation=logistic, mlp__alpha=0.0024231727942376005, mlp__hidden_layer_sizes=(279, 231), mlp__solver=lbfgs, mlp__learning_rate=invscaling, mlp__max_iter=4740 \n",
      "[CV]  mlp__activation=relu, mlp__alpha=2.1945290862033114e-06, mlp__hidden_layer_sizes=(279, 231), mlp__solver=adam, mlp__learning_rate=adaptive, mlp__max_iter=2232, total=  29.7s\n",
      "[CV] mlp__activation=logistic, mlp__alpha=0.0024231727942376005, mlp__hidden_layer_sizes=(279, 231), mlp__solver=lbfgs, mlp__learning_rate=invscaling, mlp__max_iter=4740 \n",
      "[CV]  mlp__activation=logistic, mlp__alpha=0.0024231727942376005, mlp__hidden_layer_sizes=(279, 231), mlp__solver=lbfgs, mlp__learning_rate=invscaling, mlp__max_iter=4740, total= 1.0min\n",
      "[CV] mlp__activation=tanh, mlp__alpha=1.288576213185518e-07, mlp__hidden_layer_sizes=(451,), mlp__solver=lbfgs, mlp__learning_rate=adaptive, mlp__max_iter=834 \n",
      "[CV]  mlp__activation=logistic, mlp__alpha=0.0024231727942376005, mlp__hidden_layer_sizes=(279, 231), mlp__solver=lbfgs, mlp__learning_rate=invscaling, mlp__max_iter=4740, total= 1.2min\n",
      "[CV] mlp__activation=tanh, mlp__alpha=1.288576213185518e-07, mlp__hidden_layer_sizes=(451,), mlp__solver=lbfgs, mlp__learning_rate=adaptive, mlp__max_iter=834 \n",
      "[CV]  mlp__activation=tanh, mlp__alpha=1.288576213185518e-07, mlp__hidden_layer_sizes=(451,), mlp__solver=lbfgs, mlp__learning_rate=adaptive, mlp__max_iter=834, total=  21.3s\n",
      "[CV] mlp__activation=tanh, mlp__alpha=7.959777002314978e-07, mlp__hidden_layer_sizes=(451,), mlp__solver=adam, mlp__learning_rate=invscaling, mlp__max_iter=1932 \n",
      "[CV]  mlp__activation=tanh, mlp__alpha=1.288576213185518e-07, mlp__hidden_layer_sizes=(451,), mlp__solver=lbfgs, mlp__learning_rate=adaptive, mlp__max_iter=834, total=  26.3s\n",
      "[CV] mlp__activation=tanh, mlp__alpha=7.959777002314978e-07, mlp__hidden_layer_sizes=(451,), mlp__solver=adam, mlp__learning_rate=invscaling, mlp__max_iter=1932 \n",
      "[CV]  mlp__activation=tanh, mlp__alpha=7.959777002314978e-07, mlp__hidden_layer_sizes=(451,), mlp__solver=adam, mlp__learning_rate=invscaling, mlp__max_iter=1932, total=  43.4s\n",
      "[CV] mlp__activation=identity, mlp__alpha=51.133875384143316, mlp__hidden_layer_sizes=(279, 231), mlp__solver=lbfgs, mlp__learning_rate=constant, mlp__max_iter=1762 \n",
      "[CV]  mlp__activation=tanh, mlp__alpha=7.959777002314978e-07, mlp__hidden_layer_sizes=(451,), mlp__solver=adam, mlp__learning_rate=invscaling, mlp__max_iter=1932, total=  31.6s\n",
      "[CV] mlp__activation=identity, mlp__alpha=51.133875384143316, mlp__hidden_layer_sizes=(279, 231), mlp__solver=lbfgs, mlp__learning_rate=constant, mlp__max_iter=1762 \n",
      "[CV]  mlp__activation=identity, mlp__alpha=51.133875384143316, mlp__hidden_layer_sizes=(279, 231), mlp__solver=lbfgs, mlp__learning_rate=constant, mlp__max_iter=1762, total=  16.0s\n",
      "[CV] mlp__activation=tanh, mlp__alpha=5.404216420705915e-05, mlp__hidden_layer_sizes=(54, 182, 222, 442), mlp__solver=lbfgs, mlp__learning_rate=constant, mlp__max_iter=4591 \n",
      "[CV]  mlp__activation=tanh, mlp__alpha=5.404216420705915e-05, mlp__hidden_layer_sizes=(54, 182, 222, 442), mlp__solver=lbfgs, mlp__learning_rate=constant, mlp__max_iter=4591, total=  13.5s\n",
      "[CV] mlp__activation=tanh, mlp__alpha=5.404216420705915e-05, mlp__hidden_layer_sizes=(54, 182, 222, 442), mlp__solver=lbfgs, mlp__learning_rate=constant, mlp__max_iter=4591 \n",
      "[CV]  mlp__activation=identity, mlp__alpha=51.133875384143316, mlp__hidden_layer_sizes=(279, 231), mlp__solver=lbfgs, mlp__learning_rate=constant, mlp__max_iter=1762, total=  20.8s\n",
      "[CV] mlp__activation=identity, mlp__alpha=3.369205705980267, mlp__hidden_layer_sizes=(279, 231), mlp__solver=lbfgs, mlp__learning_rate=adaptive, mlp__max_iter=3719 \n",
      "[CV]  mlp__activation=tanh, mlp__alpha=5.404216420705915e-05, mlp__hidden_layer_sizes=(54, 182, 222, 442), mlp__solver=lbfgs, mlp__learning_rate=constant, mlp__max_iter=4591, total=  12.4s\n",
      "[CV] mlp__activation=identity, mlp__alpha=3.369205705980267, mlp__hidden_layer_sizes=(279, 231), mlp__solver=lbfgs, mlp__learning_rate=adaptive, mlp__max_iter=3719 \n",
      "[CV]  mlp__activation=identity, mlp__alpha=3.369205705980267, mlp__hidden_layer_sizes=(279, 231), mlp__solver=lbfgs, mlp__learning_rate=adaptive, mlp__max_iter=3719, total=  38.4s\n",
      "[CV] mlp__activation=identity, mlp__alpha=0.047388796097176514, mlp__hidden_layer_sizes=(54, 182, 222, 442), mlp__solver=adam, mlp__learning_rate=adaptive, mlp__max_iter=4311 \n",
      "[CV]  mlp__activation=identity, mlp__alpha=0.047388796097176514, mlp__hidden_layer_sizes=(54, 182, 222, 442), mlp__solver=adam, mlp__learning_rate=adaptive, mlp__max_iter=4311, total=  14.7s\n",
      "[CV] mlp__activation=identity, mlp__alpha=0.047388796097176514, mlp__hidden_layer_sizes=(54, 182, 222, 442), mlp__solver=adam, mlp__learning_rate=adaptive, mlp__max_iter=4311 \n",
      "[CV]  mlp__activation=identity, mlp__alpha=3.369205705980267, mlp__hidden_layer_sizes=(279, 231), mlp__solver=lbfgs, mlp__learning_rate=adaptive, mlp__max_iter=3719, total=  46.7s\n",
      "[CV] mlp__activation=logistic, mlp__alpha=0.006528521141127847, mlp__hidden_layer_sizes=(451,), mlp__solver=adam, mlp__learning_rate=invscaling, mlp__max_iter=4799 \n",
      "[CV]  mlp__activation=identity, mlp__alpha=0.047388796097176514, mlp__hidden_layer_sizes=(54, 182, 222, 442), mlp__solver=adam, mlp__learning_rate=adaptive, mlp__max_iter=4311, total=   8.8s\n",
      "[CV] mlp__activation=logistic, mlp__alpha=0.006528521141127847, mlp__hidden_layer_sizes=(451,), mlp__solver=adam, mlp__learning_rate=invscaling, mlp__max_iter=4799 \n",
      "[CV]  mlp__activation=logistic, mlp__alpha=0.006528521141127847, mlp__hidden_layer_sizes=(451,), mlp__solver=adam, mlp__learning_rate=invscaling, mlp__max_iter=4799, total=  10.1s\n",
      "[CV] mlp__activation=tanh, mlp__alpha=8.354528058382872e-06, mlp__hidden_layer_sizes=(244, 159, 198), mlp__solver=adam, mlp__learning_rate=adaptive, mlp__max_iter=4532 \n",
      "[CV]  mlp__activation=tanh, mlp__alpha=8.354528058382872e-06, mlp__hidden_layer_sizes=(244, 159, 198), mlp__solver=adam, mlp__learning_rate=adaptive, mlp__max_iter=4532, total=  19.5s\n",
      "[CV] mlp__activation=tanh, mlp__alpha=8.354528058382872e-06, mlp__hidden_layer_sizes=(244, 159, 198), mlp__solver=adam, mlp__learning_rate=adaptive, mlp__max_iter=4532 \n",
      "[CV]  mlp__activation=tanh, mlp__alpha=8.354528058382872e-06, mlp__hidden_layer_sizes=(244, 159, 198), mlp__solver=adam, mlp__learning_rate=adaptive, mlp__max_iter=4532, total=  20.2s\n"
     ]
    },
    {
     "name": "stdout",
     "output_type": "stream",
     "text": [
      "[CV] mlp__activation=relu, mlp__alpha=2.6388908144575077e-06, mlp__hidden_layer_sizes=(451,), mlp__solver=sgd, mlp__learning_rate=adaptive, mlp__max_iter=3640 \n",
      "[CV]  mlp__activation=logistic, mlp__alpha=0.006528521141127847, mlp__hidden_layer_sizes=(451,), mlp__solver=adam, mlp__learning_rate=invscaling, mlp__max_iter=4799, total= 2.7min\n",
      "[CV] mlp__activation=relu, mlp__alpha=2.6388908144575077e-06, mlp__hidden_layer_sizes=(451,), mlp__solver=sgd, mlp__learning_rate=adaptive, mlp__max_iter=3640 \n",
      "[CV]  mlp__activation=relu, mlp__alpha=0.006234401888627864, mlp__hidden_layer_sizes=(244, 159, 198), mlp__solver=sgd, mlp__learning_rate=adaptive, mlp__max_iter=4242, total=10.2min\n",
      "[CV] mlp__activation=relu, mlp__alpha=0.04525386278170167, mlp__hidden_layer_sizes=(126, 397, 56, 315, 256), mlp__solver=lbfgs, mlp__learning_rate=invscaling, mlp__max_iter=2275 \n",
      "[CV]  mlp__activation=relu, mlp__alpha=0.006234401888627864, mlp__hidden_layer_sizes=(244, 159, 198), mlp__solver=sgd, mlp__learning_rate=adaptive, mlp__max_iter=4242, total=10.5min\n",
      "[CV] mlp__activation=relu, mlp__alpha=0.04525386278170167, mlp__hidden_layer_sizes=(126, 397, 56, 315, 256), mlp__solver=lbfgs, mlp__learning_rate=invscaling, mlp__max_iter=2275 \n",
      "[CV]  mlp__activation=relu, mlp__alpha=0.04525386278170167, mlp__hidden_layer_sizes=(126, 397, 56, 315, 256), mlp__solver=lbfgs, mlp__learning_rate=invscaling, mlp__max_iter=2275, total=  47.8s\n",
      "[CV] mlp__activation=tanh, mlp__alpha=3.1659241119835205e-07, mlp__hidden_layer_sizes=(126, 397, 56, 315, 256), mlp__solver=lbfgs, mlp__learning_rate=invscaling, mlp__max_iter=2444 \n",
      "[CV]  mlp__activation=relu, mlp__alpha=0.04525386278170167, mlp__hidden_layer_sizes=(126, 397, 56, 315, 256), mlp__solver=lbfgs, mlp__learning_rate=invscaling, mlp__max_iter=2275, total=  45.2s\n",
      "[CV] mlp__activation=tanh, mlp__alpha=3.1659241119835205e-07, mlp__hidden_layer_sizes=(126, 397, 56, 315, 256), mlp__solver=lbfgs, mlp__learning_rate=invscaling, mlp__max_iter=2444 \n",
      "[CV]  mlp__activation=tanh, mlp__alpha=3.1659241119835205e-07, mlp__hidden_layer_sizes=(126, 397, 56, 315, 256), mlp__solver=lbfgs, mlp__learning_rate=invscaling, mlp__max_iter=2444, total=  20.2s\n",
      "[CV] mlp__activation=tanh, mlp__alpha=0.1933242287555043, mlp__hidden_layer_sizes=(126, 397, 56, 315, 256), mlp__solver=lbfgs, mlp__learning_rate=adaptive, mlp__max_iter=2827 \n",
      "[CV]  mlp__activation=tanh, mlp__alpha=3.1659241119835205e-07, mlp__hidden_layer_sizes=(126, 397, 56, 315, 256), mlp__solver=lbfgs, mlp__learning_rate=invscaling, mlp__max_iter=2444, total=  19.8s\n",
      "[CV] mlp__activation=tanh, mlp__alpha=0.1933242287555043, mlp__hidden_layer_sizes=(126, 397, 56, 315, 256), mlp__solver=lbfgs, mlp__learning_rate=adaptive, mlp__max_iter=2827 \n",
      "[CV]  mlp__activation=tanh, mlp__alpha=0.1933242287555043, mlp__hidden_layer_sizes=(126, 397, 56, 315, 256), mlp__solver=lbfgs, mlp__learning_rate=adaptive, mlp__max_iter=2827, total= 3.2min\n",
      "[CV] mlp__activation=logistic, mlp__alpha=1.1509622008850312e-06, mlp__hidden_layer_sizes=(126, 397, 56, 315, 256), mlp__solver=sgd, mlp__learning_rate=constant, mlp__max_iter=3435 \n",
      "[CV]  mlp__activation=logistic, mlp__alpha=1.1509622008850312e-06, mlp__hidden_layer_sizes=(126, 397, 56, 315, 256), mlp__solver=sgd, mlp__learning_rate=constant, mlp__max_iter=3435, total=   8.5s\n",
      "[CV] mlp__activation=logistic, mlp__alpha=1.1509622008850312e-06, mlp__hidden_layer_sizes=(126, 397, 56, 315, 256), mlp__solver=sgd, mlp__learning_rate=constant, mlp__max_iter=3435 \n",
      "[CV]  mlp__activation=logistic, mlp__alpha=1.1509622008850312e-06, mlp__hidden_layer_sizes=(126, 397, 56, 315, 256), mlp__solver=sgd, mlp__learning_rate=constant, mlp__max_iter=3435, total=   7.8s\n",
      "[CV] mlp__activation=identity, mlp__alpha=0.008412497049736118, mlp__hidden_layer_sizes=(54, 182, 222, 442), mlp__solver=lbfgs, mlp__learning_rate=adaptive, mlp__max_iter=2312 \n",
      "[CV]  mlp__activation=identity, mlp__alpha=0.008412497049736118, mlp__hidden_layer_sizes=(54, 182, 222, 442), mlp__solver=lbfgs, mlp__learning_rate=adaptive, mlp__max_iter=2312, total=  10.5s\n",
      "[CV] mlp__activation=identity, mlp__alpha=0.008412497049736118, mlp__hidden_layer_sizes=(54, 182, 222, 442), mlp__solver=lbfgs, mlp__learning_rate=adaptive, mlp__max_iter=2312 \n",
      "[CV]  mlp__activation=tanh, mlp__alpha=0.1933242287555043, mlp__hidden_layer_sizes=(126, 397, 56, 315, 256), mlp__solver=lbfgs, mlp__learning_rate=adaptive, mlp__max_iter=2827, total= 3.9min\n",
      "[CV] mlp__activation=relu, mlp__alpha=1.585623961771137e-07, mlp__hidden_layer_sizes=(451,), mlp__solver=adam, mlp__learning_rate=adaptive, mlp__max_iter=4942 \n"
     ]
    },
    {
     "name": "stderr",
     "output_type": "stream",
     "text": [
      "[Parallel(n_jobs=-1)]: Done  33 tasks      | elapsed: 15.3min\n"
     ]
    },
    {
     "name": "stdout",
     "output_type": "stream",
     "text": [
      "[CV]  mlp__activation=identity, mlp__alpha=0.008412497049736118, mlp__hidden_layer_sizes=(54, 182, 222, 442), mlp__solver=lbfgs, mlp__learning_rate=adaptive, mlp__max_iter=2312, total=  10.4s\n",
      "[CV] mlp__activation=relu, mlp__alpha=1.585623961771137e-07, mlp__hidden_layer_sizes=(451,), mlp__solver=adam, mlp__learning_rate=adaptive, mlp__max_iter=4942 \n",
      "[CV]  mlp__activation=relu, mlp__alpha=1.585623961771137e-07, mlp__hidden_layer_sizes=(451,), mlp__solver=adam, mlp__learning_rate=adaptive, mlp__max_iter=4942, total=  45.9s\n",
      "[CV] mlp__activation=tanh, mlp__alpha=0.2169383518385182, mlp__hidden_layer_sizes=(244, 159, 198), mlp__solver=sgd, mlp__learning_rate=adaptive, mlp__max_iter=4193 \n",
      "[CV]  mlp__activation=relu, mlp__alpha=1.585623961771137e-07, mlp__hidden_layer_sizes=(451,), mlp__solver=adam, mlp__learning_rate=adaptive, mlp__max_iter=4942, total= 1.1min\n",
      "[CV] mlp__activation=tanh, mlp__alpha=0.2169383518385182, mlp__hidden_layer_sizes=(244, 159, 198), mlp__solver=sgd, mlp__learning_rate=adaptive, mlp__max_iter=4193 \n",
      "[CV]  mlp__activation=tanh, mlp__alpha=0.2169383518385182, mlp__hidden_layer_sizes=(244, 159, 198), mlp__solver=sgd, mlp__learning_rate=adaptive, mlp__max_iter=4193, total=10.8min\n",
      "[CV] mlp__activation=logistic, mlp__alpha=5.646141419303673e-06, mlp__hidden_layer_sizes=(244, 159, 198), mlp__solver=adam, mlp__learning_rate=invscaling, mlp__max_iter=2444 \n",
      "[CV]  mlp__activation=logistic, mlp__alpha=5.646141419303673e-06, mlp__hidden_layer_sizes=(244, 159, 198), mlp__solver=adam, mlp__learning_rate=invscaling, mlp__max_iter=2444, total=   6.2s\n",
      "[CV] mlp__activation=logistic, mlp__alpha=5.646141419303673e-06, mlp__hidden_layer_sizes=(244, 159, 198), mlp__solver=adam, mlp__learning_rate=invscaling, mlp__max_iter=2444 \n",
      "[CV]  mlp__activation=logistic, mlp__alpha=5.646141419303673e-06, mlp__hidden_layer_sizes=(244, 159, 198), mlp__solver=adam, mlp__learning_rate=invscaling, mlp__max_iter=2444, total=   5.8s\n",
      "[CV] mlp__activation=tanh, mlp__alpha=0.31368698245668797, mlp__hidden_layer_sizes=(451,), mlp__solver=adam, mlp__learning_rate=constant, mlp__max_iter=3364 \n",
      "[CV]  mlp__activation=tanh, mlp__alpha=0.2169383518385182, mlp__hidden_layer_sizes=(244, 159, 198), mlp__solver=sgd, mlp__learning_rate=adaptive, mlp__max_iter=4193, total=11.2min\n",
      "[CV] mlp__activation=tanh, mlp__alpha=0.31368698245668797, mlp__hidden_layer_sizes=(451,), mlp__solver=adam, mlp__learning_rate=constant, mlp__max_iter=3364 \n",
      "[CV]  mlp__activation=tanh, mlp__alpha=0.31368698245668797, mlp__hidden_layer_sizes=(451,), mlp__solver=adam, mlp__learning_rate=constant, mlp__max_iter=3364, total=  49.1s\n",
      "[CV] mlp__activation=logistic, mlp__alpha=0.15002933220192166, mlp__hidden_layer_sizes=(279, 231), mlp__solver=lbfgs, mlp__learning_rate=adaptive, mlp__max_iter=3661 \n",
      "[CV]  mlp__activation=tanh, mlp__alpha=0.31368698245668797, mlp__hidden_layer_sizes=(451,), mlp__solver=adam, mlp__learning_rate=constant, mlp__max_iter=3364, total=  38.3s\n",
      "[CV] mlp__activation=logistic, mlp__alpha=0.15002933220192166, mlp__hidden_layer_sizes=(279, 231), mlp__solver=lbfgs, mlp__learning_rate=adaptive, mlp__max_iter=3661 \n",
      "[CV]  mlp__activation=logistic, mlp__alpha=0.15002933220192166, mlp__hidden_layer_sizes=(279, 231), mlp__solver=lbfgs, mlp__learning_rate=adaptive, mlp__max_iter=3661, total= 1.2min\n",
      "[CV] mlp__activation=relu, mlp__alpha=144.26439512181588, mlp__hidden_layer_sizes=(126, 397, 56, 315, 256), mlp__solver=adam, mlp__learning_rate=adaptive, mlp__max_iter=1974 \n",
      "[CV]  mlp__activation=logistic, mlp__alpha=0.15002933220192166, mlp__hidden_layer_sizes=(279, 231), mlp__solver=lbfgs, mlp__learning_rate=adaptive, mlp__max_iter=3661, total= 1.1min\n",
      "[CV] mlp__activation=relu, mlp__alpha=144.26439512181588, mlp__hidden_layer_sizes=(126, 397, 56, 315, 256), mlp__solver=adam, mlp__learning_rate=adaptive, mlp__max_iter=1974 \n",
      "[CV]  mlp__activation=relu, mlp__alpha=2.6388908144575077e-06, mlp__hidden_layer_sizes=(451,), mlp__solver=sgd, mlp__learning_rate=adaptive, mlp__max_iter=3640, total=23.9min\n",
      "[CV] mlp__activation=identity, mlp__alpha=0.07175560918936921, mlp__hidden_layer_sizes=(451,), mlp__solver=lbfgs, mlp__learning_rate=invscaling, mlp__max_iter=782 \n",
      "[CV]  mlp__activation=identity, mlp__alpha=0.07175560918936921, mlp__hidden_layer_sizes=(451,), mlp__solver=lbfgs, mlp__learning_rate=invscaling, mlp__max_iter=782, total= 1.1min\n",
      "[CV] mlp__activation=identity, mlp__alpha=0.07175560918936921, mlp__hidden_layer_sizes=(451,), mlp__solver=lbfgs, mlp__learning_rate=invscaling, mlp__max_iter=782 \n",
      "[CV]  mlp__activation=relu, mlp__alpha=144.26439512181588, mlp__hidden_layer_sizes=(126, 397, 56, 315, 256), mlp__solver=adam, mlp__learning_rate=adaptive, mlp__max_iter=1974, total= 1.8min\n",
      "[CV]  mlp__activation=relu, mlp__alpha=144.26439512181588, mlp__hidden_layer_sizes=(126, 397, 56, 315, 256), mlp__solver=adam, mlp__learning_rate=adaptive, mlp__max_iter=1974, total= 1.7min\n",
      "[CV]  mlp__activation=relu, mlp__alpha=2.6388908144575077e-06, mlp__hidden_layer_sizes=(451,), mlp__solver=sgd, mlp__learning_rate=adaptive, mlp__max_iter=3640, total=23.6min\n",
      "[CV]  mlp__activation=identity, mlp__alpha=0.07175560918936921, mlp__hidden_layer_sizes=(451,), mlp__solver=lbfgs, mlp__learning_rate=invscaling, mlp__max_iter=782, total=  33.5s\n"
     ]
    },
    {
     "name": "stderr",
     "output_type": "stream",
     "text": [
      "[Parallel(n_jobs=-1)]: Done  50 out of  50 | elapsed: 31.3min finished\n"
     ]
    },
    {
     "name": "stdout",
     "output_type": "stream",
     "text": [
      "Fitting 2 folds for each of 25 candidates, totalling 50 fits\n"
     ]
    },
    {
     "name": "stderr",
     "output_type": "stream",
     "text": [
      "[Parallel(n_jobs=-1)]: Done  42 tasks      | elapsed:  1.1min\n",
      "[Parallel(n_jobs=-1)]: Done  50 out of  50 | elapsed:  1.3min finished\n"
     ]
    },
    {
     "name": "stdout",
     "output_type": "stream",
     "text": [
      "\n",
      "Score[mean]: 0.9\n",
      "From Baseline: -2.0%\n",
      "From LOG: -2.0%\n",
      "{'mlp__activation': 'identity', 'mlp__alpha': 3.369205705980267, 'mlp__hidden_layer_sizes': (279, 231), 'mlp__solver': 'lbfgs', 'mlp__learning_rate': 'adaptive', 'mlp__max_iter': 3719}\n",
      "LOG Params:{'log__solver': 'lbfgs', 'log__class_weight': None, 'log__max_iter': 1307, 'log__C': 2.2250887981283696}\n",
      "\n",
      "3-7_16\n",
      "Median Baseline: 0.52\n",
      "Mean Baseline: 0.89\n",
      "\n",
      "Fitting 2 folds for each of 25 candidates, totalling 50 fits\n",
      "[CV] mlp__activation=tanh, mlp__alpha=158.19734815786015, mlp__hidden_layer_sizes=(279, 231), mlp__solver=adam, mlp__learning_rate=adaptive, mlp__max_iter=4119 \n",
      "[CV] mlp__activation=tanh, mlp__alpha=158.19734815786015, mlp__hidden_layer_sizes=(279, 231), mlp__solver=adam, mlp__learning_rate=adaptive, mlp__max_iter=4119 \n",
      "[CV] mlp__activation=relu, mlp__alpha=0.0016758078645307687, mlp__hidden_layer_sizes=(126, 397, 56, 315, 256), mlp__solver=lbfgs, mlp__learning_rate=invscaling, mlp__max_iter=3124 \n",
      "[CV] mlp__activation=relu, mlp__alpha=0.0016758078645307687, mlp__hidden_layer_sizes=(126, 397, 56, 315, 256), mlp__solver=lbfgs, mlp__learning_rate=invscaling, mlp__max_iter=3124 \n",
      "[CV]  mlp__activation=relu, mlp__alpha=0.0016758078645307687, mlp__hidden_layer_sizes=(126, 397, 56, 315, 256), mlp__solver=lbfgs, mlp__learning_rate=invscaling, mlp__max_iter=3124, total=  24.4s\n",
      "[CV] mlp__activation=relu, mlp__alpha=1.2305240043592615e-07, mlp__hidden_layer_sizes=(126, 397, 56, 315, 256), mlp__solver=lbfgs, mlp__learning_rate=constant, mlp__max_iter=4713 \n",
      "[CV]  mlp__activation=relu, mlp__alpha=0.0016758078645307687, mlp__hidden_layer_sizes=(126, 397, 56, 315, 256), mlp__solver=lbfgs, mlp__learning_rate=invscaling, mlp__max_iter=3124, total=  24.6s\n",
      "[CV] mlp__activation=relu, mlp__alpha=1.2305240043592615e-07, mlp__hidden_layer_sizes=(126, 397, 56, 315, 256), mlp__solver=lbfgs, mlp__learning_rate=constant, mlp__max_iter=4713 \n",
      "[CV]  mlp__activation=relu, mlp__alpha=1.2305240043592615e-07, mlp__hidden_layer_sizes=(126, 397, 56, 315, 256), mlp__solver=lbfgs, mlp__learning_rate=constant, mlp__max_iter=4713, total=  23.1s\n",
      "[CV] mlp__activation=identity, mlp__alpha=1.6114142772530198, mlp__hidden_layer_sizes=(279, 231), mlp__solver=adam, mlp__learning_rate=adaptive, mlp__max_iter=4420 \n",
      "[CV]  mlp__activation=relu, mlp__alpha=1.2305240043592615e-07, mlp__hidden_layer_sizes=(126, 397, 56, 315, 256), mlp__solver=lbfgs, mlp__learning_rate=constant, mlp__max_iter=4713, total=  32.2s\n",
      "[CV] mlp__activation=identity, mlp__alpha=1.6114142772530198, mlp__hidden_layer_sizes=(279, 231), mlp__solver=adam, mlp__learning_rate=adaptive, mlp__max_iter=4420 \n",
      "[CV]  mlp__activation=tanh, mlp__alpha=158.19734815786015, mlp__hidden_layer_sizes=(279, 231), mlp__solver=adam, mlp__learning_rate=adaptive, mlp__max_iter=4119, total= 1.6min\n",
      "[CV] mlp__activation=logistic, mlp__alpha=0.12767507043192644, mlp__hidden_layer_sizes=(126, 397, 56, 315, 256), mlp__solver=adam, mlp__learning_rate=constant, mlp__max_iter=1061 \n",
      "[CV]  mlp__activation=tanh, mlp__alpha=158.19734815786015, mlp__hidden_layer_sizes=(279, 231), mlp__solver=adam, mlp__learning_rate=adaptive, mlp__max_iter=4119, total= 1.6min\n",
      "[CV] mlp__activation=logistic, mlp__alpha=0.12767507043192644, mlp__hidden_layer_sizes=(126, 397, 56, 315, 256), mlp__solver=adam, mlp__learning_rate=constant, mlp__max_iter=1061 \n",
      "[CV]  mlp__activation=identity, mlp__alpha=1.6114142772530198, mlp__hidden_layer_sizes=(279, 231), mlp__solver=adam, mlp__learning_rate=adaptive, mlp__max_iter=4420, total=  58.6s\n",
      "[CV] mlp__activation=logistic, mlp__alpha=8.354528058382872e-06, mlp__hidden_layer_sizes=(451,), mlp__solver=sgd, mlp__learning_rate=constant, mlp__max_iter=3465 \n",
      "[CV]  mlp__activation=logistic, mlp__alpha=8.354528058382872e-06, mlp__hidden_layer_sizes=(451,), mlp__solver=sgd, mlp__learning_rate=constant, mlp__max_iter=3465, total=   8.5s\n",
      "[CV] mlp__activation=logistic, mlp__alpha=8.354528058382872e-06, mlp__hidden_layer_sizes=(451,), mlp__solver=sgd, mlp__learning_rate=constant, mlp__max_iter=3465 \n",
      "[CV]  mlp__activation=logistic, mlp__alpha=0.12767507043192644, mlp__hidden_layer_sizes=(126, 397, 56, 315, 256), mlp__solver=adam, mlp__learning_rate=constant, mlp__max_iter=1061, total=  24.1s\n",
      "[CV] mlp__activation=relu, mlp__alpha=30.093900344497243, mlp__hidden_layer_sizes=(54, 182, 222, 442), mlp__solver=adam, mlp__learning_rate=invscaling, mlp__max_iter=1231 \n",
      "[CV]  mlp__activation=identity, mlp__alpha=1.6114142772530198, mlp__hidden_layer_sizes=(279, 231), mlp__solver=adam, mlp__learning_rate=adaptive, mlp__max_iter=4420, total= 1.1min\n",
      "[CV] mlp__activation=relu, mlp__alpha=30.093900344497243, mlp__hidden_layer_sizes=(54, 182, 222, 442), mlp__solver=adam, mlp__learning_rate=invscaling, mlp__max_iter=1231 \n",
      "[CV]  mlp__activation=logistic, mlp__alpha=8.354528058382872e-06, mlp__hidden_layer_sizes=(451,), mlp__solver=sgd, mlp__learning_rate=constant, mlp__max_iter=3465, total=   8.7s\n",
      "[CV] mlp__activation=identity, mlp__alpha=0.0012708787092020595, mlp__hidden_layer_sizes=(126, 397, 56, 315, 256), mlp__solver=sgd, mlp__learning_rate=invscaling, mlp__max_iter=2833 \n",
      "[CV]  mlp__activation=identity, mlp__alpha=0.0012708787092020595, mlp__hidden_layer_sizes=(126, 397, 56, 315, 256), mlp__solver=sgd, mlp__learning_rate=invscaling, mlp__max_iter=2833, total=   3.3s\n",
      "[CV] mlp__activation=identity, mlp__alpha=0.0012708787092020595, mlp__hidden_layer_sizes=(126, 397, 56, 315, 256), mlp__solver=sgd, mlp__learning_rate=invscaling, mlp__max_iter=2833 \n",
      "[CV]  mlp__activation=identity, mlp__alpha=0.0012708787092020595, mlp__hidden_layer_sizes=(126, 397, 56, 315, 256), mlp__solver=sgd, mlp__learning_rate=invscaling, mlp__max_iter=2833, total=   3.3s\n",
      "[CV] mlp__activation=identity, mlp__alpha=0.130652016212472, mlp__hidden_layer_sizes=(126, 397, 56, 315, 256), mlp__solver=adam, mlp__learning_rate=constant, mlp__max_iter=3992 \n",
      "[CV]  mlp__activation=logistic, mlp__alpha=0.12767507043192644, mlp__hidden_layer_sizes=(126, 397, 56, 315, 256), mlp__solver=adam, mlp__learning_rate=constant, mlp__max_iter=1061, total=  41.3s\n",
      "[CV] mlp__activation=identity, mlp__alpha=0.130652016212472, mlp__hidden_layer_sizes=(126, 397, 56, 315, 256), mlp__solver=adam, mlp__learning_rate=constant, mlp__max_iter=3992 \n",
      "[CV]  mlp__activation=relu, mlp__alpha=30.093900344497243, mlp__hidden_layer_sizes=(54, 182, 222, 442), mlp__solver=adam, mlp__learning_rate=invscaling, mlp__max_iter=1231, total=  53.1s\n",
      "[CV] mlp__activation=relu, mlp__alpha=0.00019646866461804464, mlp__hidden_layer_sizes=(54, 182, 222, 442), mlp__solver=adam, mlp__learning_rate=invscaling, mlp__max_iter=815 \n",
      "[CV]  mlp__activation=relu, mlp__alpha=30.093900344497243, mlp__hidden_layer_sizes=(54, 182, 222, 442), mlp__solver=adam, mlp__learning_rate=invscaling, mlp__max_iter=1231, total=  51.8s\n",
      "[CV] mlp__activation=relu, mlp__alpha=0.00019646866461804464, mlp__hidden_layer_sizes=(54, 182, 222, 442), mlp__solver=adam, mlp__learning_rate=invscaling, mlp__max_iter=815 \n",
      "[CV]  mlp__activation=relu, mlp__alpha=0.00019646866461804464, mlp__hidden_layer_sizes=(54, 182, 222, 442), mlp__solver=adam, mlp__learning_rate=invscaling, mlp__max_iter=815, total=  16.7s\n",
      "[CV] mlp__activation=logistic, mlp__alpha=562.0173848083188, mlp__hidden_layer_sizes=(126, 397, 56, 315, 256), mlp__solver=adam, mlp__learning_rate=invscaling, mlp__max_iter=1956 \n",
      "[CV]  mlp__activation=relu, mlp__alpha=0.00019646866461804464, mlp__hidden_layer_sizes=(54, 182, 222, 442), mlp__solver=adam, mlp__learning_rate=invscaling, mlp__max_iter=815, total=  19.5s\n",
      "[CV] mlp__activation=logistic, mlp__alpha=562.0173848083188, mlp__hidden_layer_sizes=(126, 397, 56, 315, 256), mlp__solver=adam, mlp__learning_rate=invscaling, mlp__max_iter=1956 \n",
      "[CV]  mlp__activation=logistic, mlp__alpha=562.0173848083188, mlp__hidden_layer_sizes=(126, 397, 56, 315, 256), mlp__solver=adam, mlp__learning_rate=invscaling, mlp__max_iter=1956, total=  45.9s\n",
      "[CV] mlp__activation=tanh, mlp__alpha=0.13681576279674704, mlp__hidden_layer_sizes=(279, 231), mlp__solver=lbfgs, mlp__learning_rate=constant, mlp__max_iter=4311 \n",
      "[CV]  mlp__activation=logistic, mlp__alpha=562.0173848083188, mlp__hidden_layer_sizes=(126, 397, 56, 315, 256), mlp__solver=adam, mlp__learning_rate=invscaling, mlp__max_iter=1956, total=  49.1s\n"
     ]
    },
    {
     "name": "stdout",
     "output_type": "stream",
     "text": [
      "[CV] mlp__activation=tanh, mlp__alpha=0.13681576279674704, mlp__hidden_layer_sizes=(279, 231), mlp__solver=lbfgs, mlp__learning_rate=constant, mlp__max_iter=4311 \n",
      "[CV]  mlp__activation=identity, mlp__alpha=0.130652016212472, mlp__hidden_layer_sizes=(126, 397, 56, 315, 256), mlp__solver=adam, mlp__learning_rate=constant, mlp__max_iter=3992, total= 2.0min\n",
      "[CV] mlp__activation=relu, mlp__alpha=0.0023679600678330787, mlp__hidden_layer_sizes=(244, 159, 198), mlp__solver=lbfgs, mlp__learning_rate=adaptive, mlp__max_iter=4573 \n",
      "[CV]  mlp__activation=identity, mlp__alpha=0.130652016212472, mlp__hidden_layer_sizes=(126, 397, 56, 315, 256), mlp__solver=adam, mlp__learning_rate=constant, mlp__max_iter=3992, total= 1.9min\n",
      "[CV] mlp__activation=relu, mlp__alpha=0.0023679600678330787, mlp__hidden_layer_sizes=(244, 159, 198), mlp__solver=lbfgs, mlp__learning_rate=adaptive, mlp__max_iter=4573 \n",
      "[CV]  mlp__activation=relu, mlp__alpha=0.0023679600678330787, mlp__hidden_layer_sizes=(244, 159, 198), mlp__solver=lbfgs, mlp__learning_rate=adaptive, mlp__max_iter=4573, total=  19.5s\n",
      "[CV] mlp__activation=tanh, mlp__alpha=0.5981040962380945, mlp__hidden_layer_sizes=(279, 231), mlp__solver=sgd, mlp__learning_rate=invscaling, mlp__max_iter=4570 \n",
      "[CV]  mlp__activation=tanh, mlp__alpha=0.5981040962380945, mlp__hidden_layer_sizes=(279, 231), mlp__solver=sgd, mlp__learning_rate=invscaling, mlp__max_iter=4570, total=   5.2s\n",
      "[CV] mlp__activation=tanh, mlp__alpha=0.5981040962380945, mlp__hidden_layer_sizes=(279, 231), mlp__solver=sgd, mlp__learning_rate=invscaling, mlp__max_iter=4570 \n",
      "[CV]  mlp__activation=relu, mlp__alpha=0.0023679600678330787, mlp__hidden_layer_sizes=(244, 159, 198), mlp__solver=lbfgs, mlp__learning_rate=adaptive, mlp__max_iter=4573, total=  21.6s\n",
      "[CV] mlp__activation=identity, mlp__alpha=95.275004724273, mlp__hidden_layer_sizes=(244, 159, 198), mlp__solver=sgd, mlp__learning_rate=invscaling, mlp__max_iter=2899 \n",
      "[CV]  mlp__activation=tanh, mlp__alpha=0.5981040962380945, mlp__hidden_layer_sizes=(279, 231), mlp__solver=sgd, mlp__learning_rate=invscaling, mlp__max_iter=4570, total=   6.3s\n",
      "[CV] mlp__activation=identity, mlp__alpha=95.275004724273, mlp__hidden_layer_sizes=(244, 159, 198), mlp__solver=sgd, mlp__learning_rate=invscaling, mlp__max_iter=2899 \n",
      "[CV]  mlp__activation=tanh, mlp__alpha=0.13681576279674704, mlp__hidden_layer_sizes=(279, 231), mlp__solver=lbfgs, mlp__learning_rate=constant, mlp__max_iter=4311, total= 2.6min\n",
      "[CV] mlp__activation=logistic, mlp__alpha=6.634708121092351e-06, mlp__hidden_layer_sizes=(244, 159, 198), mlp__solver=adam, mlp__learning_rate=invscaling, mlp__max_iter=4832 \n",
      "[CV]  mlp__activation=tanh, mlp__alpha=0.13681576279674704, mlp__hidden_layer_sizes=(279, 231), mlp__solver=lbfgs, mlp__learning_rate=constant, mlp__max_iter=4311, total= 2.7min\n",
      "[CV] mlp__activation=logistic, mlp__alpha=6.634708121092351e-06, mlp__hidden_layer_sizes=(244, 159, 198), mlp__solver=adam, mlp__learning_rate=invscaling, mlp__max_iter=4832 \n",
      "[CV]  mlp__activation=logistic, mlp__alpha=6.634708121092351e-06, mlp__hidden_layer_sizes=(244, 159, 198), mlp__solver=adam, mlp__learning_rate=invscaling, mlp__max_iter=4832, total= 2.0min\n",
      "[CV] mlp__activation=relu, mlp__alpha=17.307655341957275, mlp__hidden_layer_sizes=(244, 159, 198), mlp__solver=lbfgs, mlp__learning_rate=adaptive, mlp__max_iter=965 \n",
      "[CV]  mlp__activation=logistic, mlp__alpha=6.634708121092351e-06, mlp__hidden_layer_sizes=(244, 159, 198), mlp__solver=adam, mlp__learning_rate=invscaling, mlp__max_iter=4832, total= 1.9min\n",
      "[CV] mlp__activation=relu, mlp__alpha=17.307655341957275, mlp__hidden_layer_sizes=(244, 159, 198), mlp__solver=lbfgs, mlp__learning_rate=adaptive, mlp__max_iter=965 \n",
      "[CV]  mlp__activation=relu, mlp__alpha=17.307655341957275, mlp__hidden_layer_sizes=(244, 159, 198), mlp__solver=lbfgs, mlp__learning_rate=adaptive, mlp__max_iter=965, total=  31.3s\n",
      "[CV] mlp__activation=tanh, mlp__alpha=0.001754867149648152, mlp__hidden_layer_sizes=(244, 159, 198), mlp__solver=lbfgs, mlp__learning_rate=invscaling, mlp__max_iter=3231 \n",
      "[CV]  mlp__activation=relu, mlp__alpha=17.307655341957275, mlp__hidden_layer_sizes=(244, 159, 198), mlp__solver=lbfgs, mlp__learning_rate=adaptive, mlp__max_iter=965, total=  25.6s\n",
      "[CV] mlp__activation=tanh, mlp__alpha=0.001754867149648152, mlp__hidden_layer_sizes=(244, 159, 198), mlp__solver=lbfgs, mlp__learning_rate=invscaling, mlp__max_iter=3231 \n",
      "[CV]  mlp__activation=tanh, mlp__alpha=0.001754867149648152, mlp__hidden_layer_sizes=(244, 159, 198), mlp__solver=lbfgs, mlp__learning_rate=invscaling, mlp__max_iter=3231, total=  20.5s\n",
      "[CV] mlp__activation=logistic, mlp__alpha=5.633142670601352e-07, mlp__hidden_layer_sizes=(54, 182, 222, 442), mlp__solver=lbfgs, mlp__learning_rate=constant, mlp__max_iter=2971 \n"
     ]
    },
    {
     "name": "stderr",
     "output_type": "stream",
     "text": [
      "[Parallel(n_jobs=-1)]: Done  33 tasks      | elapsed:  9.5min\n"
     ]
    },
    {
     "name": "stdout",
     "output_type": "stream",
     "text": [
      "[CV]  mlp__activation=tanh, mlp__alpha=0.001754867149648152, mlp__hidden_layer_sizes=(244, 159, 198), mlp__solver=lbfgs, mlp__learning_rate=invscaling, mlp__max_iter=3231, total=  25.1s\n",
      "[CV] mlp__activation=logistic, mlp__alpha=5.633142670601352e-07, mlp__hidden_layer_sizes=(54, 182, 222, 442), mlp__solver=lbfgs, mlp__learning_rate=constant, mlp__max_iter=2971 \n",
      "[CV]  mlp__activation=logistic, mlp__alpha=5.633142670601352e-07, mlp__hidden_layer_sizes=(54, 182, 222, 442), mlp__solver=lbfgs, mlp__learning_rate=constant, mlp__max_iter=2971, total=   4.1s\n",
      "[CV] mlp__activation=logistic, mlp__alpha=0.0011859710123376707, mlp__hidden_layer_sizes=(54, 182, 222, 442), mlp__solver=lbfgs, mlp__learning_rate=adaptive, mlp__max_iter=1004 \n",
      "[CV]  mlp__activation=logistic, mlp__alpha=5.633142670601352e-07, mlp__hidden_layer_sizes=(54, 182, 222, 442), mlp__solver=lbfgs, mlp__learning_rate=constant, mlp__max_iter=2971, total=   4.0s\n",
      "[CV] mlp__activation=logistic, mlp__alpha=0.0011859710123376707, mlp__hidden_layer_sizes=(54, 182, 222, 442), mlp__solver=lbfgs, mlp__learning_rate=adaptive, mlp__max_iter=1004 \n",
      "[CV]  mlp__activation=logistic, mlp__alpha=0.0011859710123376707, mlp__hidden_layer_sizes=(54, 182, 222, 442), mlp__solver=lbfgs, mlp__learning_rate=adaptive, mlp__max_iter=1004, total=   4.1s\n",
      "[CV] mlp__activation=tanh, mlp__alpha=31.513634848664825, mlp__hidden_layer_sizes=(279, 231), mlp__solver=lbfgs, mlp__learning_rate=constant, mlp__max_iter=4928 \n",
      "[CV]  mlp__activation=logistic, mlp__alpha=0.0011859710123376707, mlp__hidden_layer_sizes=(54, 182, 222, 442), mlp__solver=lbfgs, mlp__learning_rate=adaptive, mlp__max_iter=1004, total=   3.6s\n",
      "[CV] mlp__activation=tanh, mlp__alpha=31.513634848664825, mlp__hidden_layer_sizes=(279, 231), mlp__solver=lbfgs, mlp__learning_rate=constant, mlp__max_iter=4928 \n",
      "[CV]  mlp__activation=tanh, mlp__alpha=31.513634848664825, mlp__hidden_layer_sizes=(279, 231), mlp__solver=lbfgs, mlp__learning_rate=constant, mlp__max_iter=4928, total=  41.3s\n",
      "[CV] mlp__activation=tanh, mlp__alpha=0.15002933220192166, mlp__hidden_layer_sizes=(279, 231), mlp__solver=lbfgs, mlp__learning_rate=adaptive, mlp__max_iter=635 \n",
      "[CV]  mlp__activation=tanh, mlp__alpha=31.513634848664825, mlp__hidden_layer_sizes=(279, 231), mlp__solver=lbfgs, mlp__learning_rate=constant, mlp__max_iter=4928, total=  47.2s\n",
      "[CV] mlp__activation=tanh, mlp__alpha=0.15002933220192166, mlp__hidden_layer_sizes=(279, 231), mlp__solver=lbfgs, mlp__learning_rate=adaptive, mlp__max_iter=635 \n",
      "[CV]  mlp__activation=tanh, mlp__alpha=0.15002933220192166, mlp__hidden_layer_sizes=(279, 231), mlp__solver=lbfgs, mlp__learning_rate=adaptive, mlp__max_iter=635, total= 1.9min\n",
      "[CV] mlp__activation=tanh, mlp__alpha=147.6281471909391, mlp__hidden_layer_sizes=(451,), mlp__solver=lbfgs, mlp__learning_rate=constant, mlp__max_iter=2371 \n",
      "[CV]  mlp__activation=tanh, mlp__alpha=0.15002933220192166, mlp__hidden_layer_sizes=(279, 231), mlp__solver=lbfgs, mlp__learning_rate=adaptive, mlp__max_iter=635, total= 2.3min\n",
      "[CV] mlp__activation=tanh, mlp__alpha=147.6281471909391, mlp__hidden_layer_sizes=(451,), mlp__solver=lbfgs, mlp__learning_rate=constant, mlp__max_iter=2371 \n",
      "[CV]  mlp__activation=tanh, mlp__alpha=147.6281471909391, mlp__hidden_layer_sizes=(451,), mlp__solver=lbfgs, mlp__learning_rate=constant, mlp__max_iter=2371, total=  16.7s\n",
      "[CV] mlp__activation=logistic, mlp__alpha=0.13681576279674704, mlp__hidden_layer_sizes=(451,), mlp__solver=adam, mlp__learning_rate=adaptive, mlp__max_iter=3497 \n",
      "[CV]  mlp__activation=tanh, mlp__alpha=147.6281471909391, mlp__hidden_layer_sizes=(451,), mlp__solver=lbfgs, mlp__learning_rate=constant, mlp__max_iter=2371, total=  18.6s\n",
      "[CV] mlp__activation=logistic, mlp__alpha=0.13681576279674704, mlp__hidden_layer_sizes=(451,), mlp__solver=adam, mlp__learning_rate=adaptive, mlp__max_iter=3497 \n",
      "[CV]  mlp__activation=logistic, mlp__alpha=0.13681576279674704, mlp__hidden_layer_sizes=(451,), mlp__solver=adam, mlp__learning_rate=adaptive, mlp__max_iter=3497, total= 7.4min\n",
      "[CV] mlp__activation=logistic, mlp__alpha=0.0001633853877809862, mlp__hidden_layer_sizes=(54, 182, 222, 442), mlp__solver=sgd, mlp__learning_rate=adaptive, mlp__max_iter=4778 \n",
      "[CV]  mlp__activation=logistic, mlp__alpha=0.0001633853877809862, mlp__hidden_layer_sizes=(54, 182, 222, 442), mlp__solver=sgd, mlp__learning_rate=adaptive, mlp__max_iter=4778, total=  13.3s\n",
      "[CV] mlp__activation=logistic, mlp__alpha=0.0001633853877809862, mlp__hidden_layer_sizes=(54, 182, 222, 442), mlp__solver=sgd, mlp__learning_rate=adaptive, mlp__max_iter=4778 \n",
      "[CV]  mlp__activation=logistic, mlp__alpha=0.13681576279674704, mlp__hidden_layer_sizes=(451,), mlp__solver=adam, mlp__learning_rate=adaptive, mlp__max_iter=3497, total= 8.0min\n",
      "[CV]  mlp__activation=logistic, mlp__alpha=0.0001633853877809862, mlp__hidden_layer_sizes=(54, 182, 222, 442), mlp__solver=sgd, mlp__learning_rate=adaptive, mlp__max_iter=4778, total=  12.4s\n"
     ]
    },
    {
     "name": "stderr",
     "output_type": "stream",
     "text": [
      "/home/loki/.local/lib/python2.7/site-packages/sklearn/neural_network/multilayer_perceptron.py:564: ConvergenceWarning: Stochastic Optimizer: Maximum iterations (2899) reached and the optimization hasn't converged yet.\n",
      "  % self.max_iter, ConvergenceWarning)\n"
     ]
    },
    {
     "name": "stdout",
     "output_type": "stream",
     "text": [
      "[CV]  mlp__activation=identity, mlp__alpha=95.275004724273, mlp__hidden_layer_sizes=(244, 159, 198), mlp__solver=sgd, mlp__learning_rate=invscaling, mlp__max_iter=2899, total=23.6min\n"
     ]
    },
    {
     "name": "stderr",
     "output_type": "stream",
     "text": [
      "/home/loki/.local/lib/python2.7/site-packages/sklearn/neural_network/multilayer_perceptron.py:564: ConvergenceWarning: Stochastic Optimizer: Maximum iterations (2899) reached and the optimization hasn't converged yet.\n",
      "  % self.max_iter, ConvergenceWarning)\n"
     ]
    },
    {
     "name": "stdout",
     "output_type": "stream",
     "text": [
      "[CV]  mlp__activation=identity, mlp__alpha=95.275004724273, mlp__hidden_layer_sizes=(244, 159, 198), mlp__solver=sgd, mlp__learning_rate=invscaling, mlp__max_iter=2899, total=23.5min\n"
     ]
    },
    {
     "name": "stderr",
     "output_type": "stream",
     "text": [
      "[Parallel(n_jobs=-1)]: Done  50 out of  50 | elapsed: 28.3min finished\n"
     ]
    },
    {
     "name": "stdout",
     "output_type": "stream",
     "text": [
      "Fitting 2 folds for each of 25 candidates, totalling 50 fits\n"
     ]
    },
    {
     "name": "stderr",
     "output_type": "stream",
     "text": [
      "[Parallel(n_jobs=-1)]: Done  42 tasks      | elapsed:   48.3s\n",
      "[Parallel(n_jobs=-1)]: Done  50 out of  50 | elapsed:  1.4min finished\n"
     ]
    },
    {
     "name": "stdout",
     "output_type": "stream",
     "text": [
      "\n",
      "Score[median]: 0.64\n",
      "From Baseline: 12.0%\n",
      "From LOG: -1.0%\n",
      "{'mlp__activation': 'identity', 'mlp__alpha': 1.6114142772530198, 'mlp__hidden_layer_sizes': (279, 231), 'mlp__solver': 'adam', 'mlp__learning_rate': 'adaptive', 'mlp__max_iter': 4420}\n",
      "LOG Params:{'log__solver': 'lbfgs', 'log__class_weight': None, 'log__max_iter': 1210, 'log__C': 4.985373463873894}\n",
      "Fitting 2 folds for each of 25 candidates, totalling 50 fits\n",
      "[CV] mlp__activation=identity, mlp__alpha=0.0002776153294436801, mlp__hidden_layer_sizes=(126, 397, 56, 315, 256), mlp__solver=lbfgs, mlp__learning_rate=invscaling, mlp__max_iter=3424 \n",
      "[CV] mlp__activation=identity, mlp__alpha=0.0002776153294436801, mlp__hidden_layer_sizes=(126, 397, 56, 315, 256), mlp__solver=lbfgs, mlp__learning_rate=invscaling, mlp__max_iter=3424 \n",
      "[CV] mlp__activation=identity, mlp__alpha=15.783314056521197, mlp__hidden_layer_sizes=(279, 231), mlp__solver=adam, mlp__learning_rate=invscaling, mlp__max_iter=2741 \n",
      "[CV] mlp__activation=identity, mlp__alpha=15.783314056521197, mlp__hidden_layer_sizes=(279, 231), mlp__solver=adam, mlp__learning_rate=invscaling, mlp__max_iter=2741 \n",
      "[CV]  mlp__activation=identity, mlp__alpha=0.0002776153294436801, mlp__hidden_layer_sizes=(126, 397, 56, 315, 256), mlp__solver=lbfgs, mlp__learning_rate=invscaling, mlp__max_iter=3424, total=  16.1s\n",
      "[CV] mlp__activation=identity, mlp__alpha=7.959777002314978e-07, mlp__hidden_layer_sizes=(126, 397, 56, 315, 256), mlp__solver=sgd, mlp__learning_rate=constant, mlp__max_iter=3118 \n",
      "[CV]  mlp__activation=identity, mlp__alpha=0.0002776153294436801, mlp__hidden_layer_sizes=(126, 397, 56, 315, 256), mlp__solver=lbfgs, mlp__learning_rate=invscaling, mlp__max_iter=3424, total=  17.0s\n",
      "[CV] mlp__activation=identity, mlp__alpha=7.959777002314978e-07, mlp__hidden_layer_sizes=(126, 397, 56, 315, 256), mlp__solver=sgd, mlp__learning_rate=constant, mlp__max_iter=3118 \n",
      "[CV]  mlp__activation=identity, mlp__alpha=15.783314056521197, mlp__hidden_layer_sizes=(279, 231), mlp__solver=adam, mlp__learning_rate=invscaling, mlp__max_iter=2741, total= 1.9min\n",
      "[CV] mlp__activation=logistic, mlp__alpha=6.573820143409585, mlp__hidden_layer_sizes=(451,), mlp__solver=sgd, mlp__learning_rate=adaptive, mlp__max_iter=2932 \n",
      "[CV]  mlp__activation=identity, mlp__alpha=15.783314056521197, mlp__hidden_layer_sizes=(279, 231), mlp__solver=adam, mlp__learning_rate=invscaling, mlp__max_iter=2741, total= 2.4min\n",
      "[CV] mlp__activation=logistic, mlp__alpha=6.573820143409585, mlp__hidden_layer_sizes=(451,), mlp__solver=sgd, mlp__learning_rate=adaptive, mlp__max_iter=2932 \n",
      "[CV]  mlp__activation=identity, mlp__alpha=7.959777002314978e-07, mlp__hidden_layer_sizes=(126, 397, 56, 315, 256), mlp__solver=sgd, mlp__learning_rate=constant, mlp__max_iter=3118, total= 3.9min\n",
      "[CV] mlp__activation=logistic, mlp__alpha=65.88989550799957, mlp__hidden_layer_sizes=(451,), mlp__solver=lbfgs, mlp__learning_rate=invscaling, mlp__max_iter=1321 \n",
      "[CV]  mlp__activation=identity, mlp__alpha=7.959777002314978e-07, mlp__hidden_layer_sizes=(126, 397, 56, 315, 256), mlp__solver=sgd, mlp__learning_rate=constant, mlp__max_iter=3118, total= 4.2min\n",
      "[CV] mlp__activation=logistic, mlp__alpha=65.88989550799957, mlp__hidden_layer_sizes=(451,), mlp__solver=lbfgs, mlp__learning_rate=invscaling, mlp__max_iter=1321 \n",
      "[CV]  mlp__activation=logistic, mlp__alpha=65.88989550799957, mlp__hidden_layer_sizes=(451,), mlp__solver=lbfgs, mlp__learning_rate=invscaling, mlp__max_iter=1321, total=  40.0s\n",
      "[CV]  mlp__activation=logistic, mlp__alpha=65.88989550799957, mlp__hidden_layer_sizes=(451,), mlp__solver=lbfgs, mlp__learning_rate=invscaling, mlp__max_iter=1321, total=  53.4s\n",
      "[CV] mlp__activation=tanh, mlp__alpha=0.018848434090337953, mlp__hidden_layer_sizes=(451,), mlp__solver=sgd, mlp__learning_rate=constant, mlp__max_iter=3988 \n",
      "[CV] mlp__activation=tanh, mlp__alpha=0.018848434090337953, mlp__hidden_layer_sizes=(451,), mlp__solver=sgd, mlp__learning_rate=constant, mlp__max_iter=3988 \n",
      "[CV]  mlp__activation=tanh, mlp__alpha=0.018848434090337953, mlp__hidden_layer_sizes=(451,), mlp__solver=sgd, mlp__learning_rate=constant, mlp__max_iter=3988, total=21.8min\n",
      "[CV] mlp__activation=relu, mlp__alpha=3.1009266359319234e-06, mlp__hidden_layer_sizes=(54, 182, 222, 442), mlp__solver=lbfgs, mlp__learning_rate=adaptive, mlp__max_iter=3420 \n",
      "[CV]  mlp__activation=relu, mlp__alpha=3.1009266359319234e-06, mlp__hidden_layer_sizes=(54, 182, 222, 442), mlp__solver=lbfgs, mlp__learning_rate=adaptive, mlp__max_iter=3420, total=  17.1s\n",
      "[CV] mlp__activation=relu, mlp__alpha=3.1009266359319234e-06, mlp__hidden_layer_sizes=(54, 182, 222, 442), mlp__solver=lbfgs, mlp__learning_rate=adaptive, mlp__max_iter=3420 \n",
      "[CV]  mlp__activation=tanh, mlp__alpha=0.018848434090337953, mlp__hidden_layer_sizes=(451,), mlp__solver=sgd, mlp__learning_rate=constant, mlp__max_iter=3988, total=22.3min\n",
      "[CV] mlp__activation=tanh, mlp__alpha=245.126006203334, mlp__hidden_layer_sizes=(126, 397, 56, 315, 256), mlp__solver=sgd, mlp__learning_rate=adaptive, mlp__max_iter=3596 \n",
      "[CV]  mlp__activation=relu, mlp__alpha=3.1009266359319234e-06, mlp__hidden_layer_sizes=(54, 182, 222, 442), mlp__solver=lbfgs, mlp__learning_rate=adaptive, mlp__max_iter=3420, total=  16.7s\n",
      "[CV] mlp__activation=tanh, mlp__alpha=245.126006203334, mlp__hidden_layer_sizes=(126, 397, 56, 315, 256), mlp__solver=sgd, mlp__learning_rate=adaptive, mlp__max_iter=3596 \n",
      "[CV]  mlp__activation=logistic, mlp__alpha=6.573820143409585, mlp__hidden_layer_sizes=(451,), mlp__solver=sgd, mlp__learning_rate=adaptive, mlp__max_iter=2932, total=29.1min\n",
      "[CV] mlp__activation=tanh, mlp__alpha=2.4682684522556925e-05, mlp__hidden_layer_sizes=(451,), mlp__solver=adam, mlp__learning_rate=constant, mlp__max_iter=4593 \n",
      "[CV]  mlp__activation=tanh, mlp__alpha=245.126006203334, mlp__hidden_layer_sizes=(126, 397, 56, 315, 256), mlp__solver=sgd, mlp__learning_rate=adaptive, mlp__max_iter=3596, total= 4.2min\n",
      "[CV] mlp__activation=tanh, mlp__alpha=2.4682684522556925e-05, mlp__hidden_layer_sizes=(451,), mlp__solver=adam, mlp__learning_rate=constant, mlp__max_iter=4593 \n",
      "[CV]  mlp__activation=tanh, mlp__alpha=245.126006203334, mlp__hidden_layer_sizes=(126, 397, 56, 315, 256), mlp__solver=sgd, mlp__learning_rate=adaptive, mlp__max_iter=3596, total= 4.2min\n",
      "[CV] mlp__activation=identity, mlp__alpha=8.164167604921471e-06, mlp__hidden_layer_sizes=(244, 159, 198), mlp__solver=sgd, mlp__learning_rate=invscaling, mlp__max_iter=2362 \n",
      "[CV]  mlp__activation=tanh, mlp__alpha=2.4682684522556925e-05, mlp__hidden_layer_sizes=(451,), mlp__solver=adam, mlp__learning_rate=constant, mlp__max_iter=4593, total=  42.1s\n",
      "[CV] mlp__activation=identity, mlp__alpha=8.164167604921471e-06, mlp__hidden_layer_sizes=(244, 159, 198), mlp__solver=sgd, mlp__learning_rate=invscaling, mlp__max_iter=2362 \n",
      "[CV]  mlp__activation=tanh, mlp__alpha=2.4682684522556925e-05, mlp__hidden_layer_sizes=(451,), mlp__solver=adam, mlp__learning_rate=constant, mlp__max_iter=4593, total=  40.0s\n",
      "[CV] mlp__activation=logistic, mlp__alpha=0.0033459891205499747, mlp__hidden_layer_sizes=(244, 159, 198), mlp__solver=sgd, mlp__learning_rate=constant, mlp__max_iter=858 \n",
      "[CV]  mlp__activation=logistic, mlp__alpha=0.0033459891205499747, mlp__hidden_layer_sizes=(244, 159, 198), mlp__solver=sgd, mlp__learning_rate=constant, mlp__max_iter=858, total=  11.7s\n",
      "[CV] mlp__activation=logistic, mlp__alpha=0.0033459891205499747, mlp__hidden_layer_sizes=(244, 159, 198), mlp__solver=sgd, mlp__learning_rate=constant, mlp__max_iter=858 \n",
      "[CV]  mlp__activation=logistic, mlp__alpha=0.0033459891205499747, mlp__hidden_layer_sizes=(244, 159, 198), mlp__solver=sgd, mlp__learning_rate=constant, mlp__max_iter=858, total=  11.3s\n",
      "[CV] mlp__activation=logistic, mlp__alpha=104.47659715608053, mlp__hidden_layer_sizes=(244, 159, 198), mlp__solver=adam, mlp__learning_rate=adaptive, mlp__max_iter=4532 \n",
      "[CV]  mlp__activation=logistic, mlp__alpha=104.47659715608053, mlp__hidden_layer_sizes=(244, 159, 198), mlp__solver=adam, mlp__learning_rate=adaptive, mlp__max_iter=4532, total= 1.6min\n",
      "[CV] mlp__activation=logistic, mlp__alpha=104.47659715608053, mlp__hidden_layer_sizes=(244, 159, 198), mlp__solver=adam, mlp__learning_rate=adaptive, mlp__max_iter=4532 \n",
      "[CV]  mlp__activation=logistic, mlp__alpha=6.573820143409585, mlp__hidden_layer_sizes=(451,), mlp__solver=sgd, mlp__learning_rate=adaptive, mlp__max_iter=2932, total=32.1min\n"
     ]
    },
    {
     "name": "stdout",
     "output_type": "stream",
     "text": [
      "[CV] mlp__activation=tanh, mlp__alpha=218.44360711494284, mlp__hidden_layer_sizes=(244, 159, 198), mlp__solver=sgd, mlp__learning_rate=adaptive, mlp__max_iter=1857 \n",
      "[CV]  mlp__activation=identity, mlp__alpha=8.164167604921471e-06, mlp__hidden_layer_sizes=(244, 159, 198), mlp__solver=sgd, mlp__learning_rate=invscaling, mlp__max_iter=2362, total= 3.1min\n",
      "[CV] mlp__activation=tanh, mlp__alpha=218.44360711494284, mlp__hidden_layer_sizes=(244, 159, 198), mlp__solver=sgd, mlp__learning_rate=adaptive, mlp__max_iter=1857 \n",
      "[CV]  mlp__activation=logistic, mlp__alpha=104.47659715608053, mlp__hidden_layer_sizes=(244, 159, 198), mlp__solver=adam, mlp__learning_rate=adaptive, mlp__max_iter=4532, total= 1.2min\n",
      "[CV] mlp__activation=identity, mlp__alpha=177.5208011717636, mlp__hidden_layer_sizes=(54, 182, 222, 442), mlp__solver=lbfgs, mlp__learning_rate=invscaling, mlp__max_iter=4920 \n",
      "[CV]  mlp__activation=identity, mlp__alpha=177.5208011717636, mlp__hidden_layer_sizes=(54, 182, 222, 442), mlp__solver=lbfgs, mlp__learning_rate=invscaling, mlp__max_iter=4920, total=  11.3s\n",
      "[CV] mlp__activation=identity, mlp__alpha=177.5208011717636, mlp__hidden_layer_sizes=(54, 182, 222, 442), mlp__solver=lbfgs, mlp__learning_rate=invscaling, mlp__max_iter=4920 \n",
      "[CV]  mlp__activation=identity, mlp__alpha=177.5208011717636, mlp__hidden_layer_sizes=(54, 182, 222, 442), mlp__solver=lbfgs, mlp__learning_rate=invscaling, mlp__max_iter=4920, total=  11.0s\n",
      "[CV] mlp__activation=logistic, mlp__alpha=0.00034161232685855285, mlp__hidden_layer_sizes=(244, 159, 198), mlp__solver=lbfgs, mlp__learning_rate=adaptive, mlp__max_iter=4685 \n",
      "[CV]  mlp__activation=identity, mlp__alpha=8.164167604921471e-06, mlp__hidden_layer_sizes=(244, 159, 198), mlp__solver=sgd, mlp__learning_rate=invscaling, mlp__max_iter=2362, total= 4.2min\n",
      "[CV] mlp__activation=logistic, mlp__alpha=0.00034161232685855285, mlp__hidden_layer_sizes=(244, 159, 198), mlp__solver=lbfgs, mlp__learning_rate=adaptive, mlp__max_iter=4685 \n",
      "[CV]  mlp__activation=logistic, mlp__alpha=0.00034161232685855285, mlp__hidden_layer_sizes=(244, 159, 198), mlp__solver=lbfgs, mlp__learning_rate=adaptive, mlp__max_iter=4685, total=   9.2s\n",
      "[CV] mlp__activation=relu, mlp__alpha=3.479697903887688e-06, mlp__hidden_layer_sizes=(279, 231), mlp__solver=adam, mlp__learning_rate=adaptive, mlp__max_iter=667 \n",
      "[CV]  mlp__activation=logistic, mlp__alpha=0.00034161232685855285, mlp__hidden_layer_sizes=(244, 159, 198), mlp__solver=lbfgs, mlp__learning_rate=adaptive, mlp__max_iter=4685, total=   9.4s\n",
      "[CV] mlp__activation=relu, mlp__alpha=3.479697903887688e-06, mlp__hidden_layer_sizes=(279, 231), mlp__solver=adam, mlp__learning_rate=adaptive, mlp__max_iter=667 \n",
      "[CV]  mlp__activation=relu, mlp__alpha=3.479697903887688e-06, mlp__hidden_layer_sizes=(279, 231), mlp__solver=adam, mlp__learning_rate=adaptive, mlp__max_iter=667, total=  37.3s\n",
      "[CV] mlp__activation=tanh, mlp__alpha=2.4682684522556925e-05, mlp__hidden_layer_sizes=(54, 182, 222, 442), mlp__solver=lbfgs, mlp__learning_rate=adaptive, mlp__max_iter=2573 \n",
      "[CV]  mlp__activation=tanh, mlp__alpha=2.4682684522556925e-05, mlp__hidden_layer_sizes=(54, 182, 222, 442), mlp__solver=lbfgs, mlp__learning_rate=adaptive, mlp__max_iter=2573, total=  16.9s\n",
      "[CV] mlp__activation=tanh, mlp__alpha=2.4682684522556925e-05, mlp__hidden_layer_sizes=(54, 182, 222, 442), mlp__solver=lbfgs, mlp__learning_rate=adaptive, mlp__max_iter=2573 \n",
      "[CV]  mlp__activation=tanh, mlp__alpha=2.4682684522556925e-05, mlp__hidden_layer_sizes=(54, 182, 222, 442), mlp__solver=lbfgs, mlp__learning_rate=adaptive, mlp__max_iter=2573, total=  16.9s\n",
      "[CV] mlp__activation=tanh, mlp__alpha=0.0004203621683844714, mlp__hidden_layer_sizes=(244, 159, 198), mlp__solver=adam, mlp__learning_rate=invscaling, mlp__max_iter=4736 \n",
      "[CV]  mlp__activation=tanh, mlp__alpha=0.0004203621683844714, mlp__hidden_layer_sizes=(244, 159, 198), mlp__solver=adam, mlp__learning_rate=invscaling, mlp__max_iter=4736, total=  18.0s\n",
      "[CV] mlp__activation=tanh, mlp__alpha=0.0004203621683844714, mlp__hidden_layer_sizes=(244, 159, 198), mlp__solver=adam, mlp__learning_rate=invscaling, mlp__max_iter=4736 \n",
      "[CV]  mlp__activation=relu, mlp__alpha=3.479697903887688e-06, mlp__hidden_layer_sizes=(279, 231), mlp__solver=adam, mlp__learning_rate=adaptive, mlp__max_iter=667, total= 1.6min\n",
      "[CV] mlp__activation=tanh, mlp__alpha=2.5142033481427967e-07, mlp__hidden_layer_sizes=(126, 397, 56, 315, 256), mlp__solver=adam, mlp__learning_rate=invscaling, mlp__max_iter=3277 \n"
     ]
    },
    {
     "name": "stderr",
     "output_type": "stream",
     "text": [
      "[Parallel(n_jobs=-1)]: Done  33 tasks      | elapsed: 37.7min\n"
     ]
    },
    {
     "name": "stdout",
     "output_type": "stream",
     "text": [
      "[CV]  mlp__activation=tanh, mlp__alpha=0.0004203621683844714, mlp__hidden_layer_sizes=(244, 159, 198), mlp__solver=adam, mlp__learning_rate=invscaling, mlp__max_iter=4736, total=  26.8s\n",
      "[CV] mlp__activation=tanh, mlp__alpha=2.5142033481427967e-07, mlp__hidden_layer_sizes=(126, 397, 56, 315, 256), mlp__solver=adam, mlp__learning_rate=invscaling, mlp__max_iter=3277 \n",
      "[CV]  mlp__activation=tanh, mlp__alpha=2.5142033481427967e-07, mlp__hidden_layer_sizes=(126, 397, 56, 315, 256), mlp__solver=adam, mlp__learning_rate=invscaling, mlp__max_iter=3277, total=  17.6s\n",
      "[CV] mlp__activation=relu, mlp__alpha=0.0008994022174092045, mlp__hidden_layer_sizes=(451,), mlp__solver=lbfgs, mlp__learning_rate=constant, mlp__max_iter=1113 \n",
      "[CV]  mlp__activation=tanh, mlp__alpha=2.5142033481427967e-07, mlp__hidden_layer_sizes=(126, 397, 56, 315, 256), mlp__solver=adam, mlp__learning_rate=invscaling, mlp__max_iter=3277, total=  13.9s\n",
      "[CV] mlp__activation=relu, mlp__alpha=0.0008994022174092045, mlp__hidden_layer_sizes=(451,), mlp__solver=lbfgs, mlp__learning_rate=constant, mlp__max_iter=1113 \n",
      "[CV]  mlp__activation=relu, mlp__alpha=0.0008994022174092045, mlp__hidden_layer_sizes=(451,), mlp__solver=lbfgs, mlp__learning_rate=constant, mlp__max_iter=1113, total=  32.3s\n",
      "[CV] mlp__activation=tanh, mlp__alpha=20.812215699863415, mlp__hidden_layer_sizes=(54, 182, 222, 442), mlp__solver=sgd, mlp__learning_rate=constant, mlp__max_iter=607 \n",
      "[CV]  mlp__activation=relu, mlp__alpha=0.0008994022174092045, mlp__hidden_layer_sizes=(451,), mlp__solver=lbfgs, mlp__learning_rate=constant, mlp__max_iter=1113, total=  33.5s\n",
      "[CV] mlp__activation=tanh, mlp__alpha=20.812215699863415, mlp__hidden_layer_sizes=(54, 182, 222, 442), mlp__solver=sgd, mlp__learning_rate=constant, mlp__max_iter=607 \n",
      "[CV]  mlp__activation=tanh, mlp__alpha=218.44360711494284, mlp__hidden_layer_sizes=(244, 159, 198), mlp__solver=sgd, mlp__learning_rate=adaptive, mlp__max_iter=1857, total= 4.7min\n",
      "[CV] mlp__activation=relu, mlp__alpha=0.04849374067335233, mlp__hidden_layer_sizes=(126, 397, 56, 315, 256), mlp__solver=sgd, mlp__learning_rate=constant, mlp__max_iter=4165 \n",
      "[CV]  mlp__activation=tanh, mlp__alpha=218.44360711494284, mlp__hidden_layer_sizes=(244, 159, 198), mlp__solver=sgd, mlp__learning_rate=adaptive, mlp__max_iter=1857, total= 4.5min\n",
      "[CV] mlp__activation=relu, mlp__alpha=0.04849374067335233, mlp__hidden_layer_sizes=(126, 397, 56, 315, 256), mlp__solver=sgd, mlp__learning_rate=constant, mlp__max_iter=4165 \n",
      "[CV]  mlp__activation=relu, mlp__alpha=0.04849374067335233, mlp__hidden_layer_sizes=(126, 397, 56, 315, 256), mlp__solver=sgd, mlp__learning_rate=constant, mlp__max_iter=4165, total= 1.0min\n",
      "[CV] mlp__activation=identity, mlp__alpha=1.556654359271062e-05, mlp__hidden_layer_sizes=(279, 231), mlp__solver=sgd, mlp__learning_rate=constant, mlp__max_iter=3213 \n",
      "[CV]  mlp__activation=relu, mlp__alpha=0.04849374067335233, mlp__hidden_layer_sizes=(126, 397, 56, 315, 256), mlp__solver=sgd, mlp__learning_rate=constant, mlp__max_iter=4165, total=  54.8s\n",
      "[CV] mlp__activation=identity, mlp__alpha=1.556654359271062e-05, mlp__hidden_layer_sizes=(279, 231), mlp__solver=sgd, mlp__learning_rate=constant, mlp__max_iter=3213 \n"
     ]
    },
    {
     "name": "stderr",
     "output_type": "stream",
     "text": [
      "/home/loki/.local/lib/python2.7/site-packages/sklearn/neural_network/multilayer_perceptron.py:564: ConvergenceWarning: Stochastic Optimizer: Maximum iterations (607) reached and the optimization hasn't converged yet.\n",
      "  % self.max_iter, ConvergenceWarning)\n"
     ]
    },
    {
     "name": "stdout",
     "output_type": "stream",
     "text": [
      "[CV]  mlp__activation=tanh, mlp__alpha=20.812215699863415, mlp__hidden_layer_sizes=(54, 182, 222, 442), mlp__solver=sgd, mlp__learning_rate=constant, mlp__max_iter=607, total= 4.5min\n",
      "[CV] mlp__activation=identity, mlp__alpha=97.49649183484097, mlp__hidden_layer_sizes=(279, 231), mlp__solver=adam, mlp__learning_rate=invscaling, mlp__max_iter=1282 \n"
     ]
    },
    {
     "name": "stderr",
     "output_type": "stream",
     "text": [
      "/home/loki/.local/lib/python2.7/site-packages/sklearn/neural_network/multilayer_perceptron.py:564: ConvergenceWarning: Stochastic Optimizer: Maximum iterations (607) reached and the optimization hasn't converged yet.\n",
      "  % self.max_iter, ConvergenceWarning)\n"
     ]
    },
    {
     "name": "stdout",
     "output_type": "stream",
     "text": [
      "[CV]  mlp__activation=tanh, mlp__alpha=20.812215699863415, mlp__hidden_layer_sizes=(54, 182, 222, 442), mlp__solver=sgd, mlp__learning_rate=constant, mlp__max_iter=607, total= 4.5min\n",
      "[CV] mlp__activation=identity, mlp__alpha=97.49649183484097, mlp__hidden_layer_sizes=(279, 231), mlp__solver=adam, mlp__learning_rate=invscaling, mlp__max_iter=1282 \n",
      "[CV]  mlp__activation=identity, mlp__alpha=97.49649183484097, mlp__hidden_layer_sizes=(279, 231), mlp__solver=adam, mlp__learning_rate=invscaling, mlp__max_iter=1282, total= 3.7min\n",
      "[CV] mlp__activation=relu, mlp__alpha=5.777790117970507e-06, mlp__hidden_layer_sizes=(244, 159, 198), mlp__solver=adam, mlp__learning_rate=adaptive, mlp__max_iter=1682 \n",
      "[CV]  mlp__activation=identity, mlp__alpha=97.49649183484097, mlp__hidden_layer_sizes=(279, 231), mlp__solver=adam, mlp__learning_rate=invscaling, mlp__max_iter=1282, total= 3.6min\n",
      "[CV] mlp__activation=relu, mlp__alpha=5.777790117970507e-06, mlp__hidden_layer_sizes=(244, 159, 198), mlp__solver=adam, mlp__learning_rate=adaptive, mlp__max_iter=1682 \n",
      "[CV]  mlp__activation=relu, mlp__alpha=5.777790117970507e-06, mlp__hidden_layer_sizes=(244, 159, 198), mlp__solver=adam, mlp__learning_rate=adaptive, mlp__max_iter=1682, total=  48.1s\n",
      "[CV]  mlp__activation=relu, mlp__alpha=5.777790117970507e-06, mlp__hidden_layer_sizes=(244, 159, 198), mlp__solver=adam, mlp__learning_rate=adaptive, mlp__max_iter=1682, total= 1.0min\n",
      "[CV]  mlp__activation=identity, mlp__alpha=1.556654359271062e-05, mlp__hidden_layer_sizes=(279, 231), mlp__solver=sgd, mlp__learning_rate=constant, mlp__max_iter=3213, total= 8.8min\n",
      "[CV]  mlp__activation=identity, mlp__alpha=1.556654359271062e-05, mlp__hidden_layer_sizes=(279, 231), mlp__solver=sgd, mlp__learning_rate=constant, mlp__max_iter=3213, total= 8.8min\n"
     ]
    },
    {
     "name": "stderr",
     "output_type": "stream",
     "text": [
      "[Parallel(n_jobs=-1)]: Done  50 out of  50 | elapsed: 49.0min finished\n"
     ]
    },
    {
     "name": "stdout",
     "output_type": "stream",
     "text": [
      "Fitting 2 folds for each of 25 candidates, totalling 50 fits\n"
     ]
    },
    {
     "name": "stderr",
     "output_type": "stream",
     "text": [
      "[Parallel(n_jobs=-1)]: Done  42 tasks      | elapsed:   59.3s\n",
      "[Parallel(n_jobs=-1)]: Done  50 out of  50 | elapsed:  2.0min finished\n"
     ]
    },
    {
     "name": "stdout",
     "output_type": "stream",
     "text": [
      "\n",
      "Score[mean]: 0.91\n",
      "From Baseline: 2.0%\n",
      "From LOG: 0.0%\n",
      "{'mlp__activation': 'tanh', 'mlp__alpha': 0.018848434090337953, 'mlp__hidden_layer_sizes': (451,), 'mlp__solver': 'sgd', 'mlp__learning_rate': 'constant', 'mlp__max_iter': 3988}\n",
      "LOG Params:{'log__solver': 'lbfgs', 'log__class_weight': None, 'log__max_iter': 2289, 'log__C': 0.8451366330684722}\n",
      "\n",
      "3-8_3\n",
      "Median Baseline: 0.51\n",
      "Mean Baseline: 0.9\n",
      "\n",
      "Fitting 2 folds for each of 25 candidates, totalling 50 fits\n",
      "[CV] mlp__activation=identity, mlp__alpha=0.0011859710123376707, mlp__hidden_layer_sizes=(126, 397, 56, 315, 256), mlp__solver=sgd, mlp__learning_rate=invscaling, mlp__max_iter=1107 \n",
      "[CV] mlp__activation=identity, mlp__alpha=0.0011859710123376707, mlp__hidden_layer_sizes=(126, 397, 56, 315, 256), mlp__solver=sgd, mlp__learning_rate=invscaling, mlp__max_iter=1107 \n",
      "[CV] mlp__activation=tanh, mlp__alpha=5.043159487171359e-05, mlp__hidden_layer_sizes=(451,), mlp__solver=sgd, mlp__learning_rate=invscaling, mlp__max_iter=4470 \n",
      "[CV] mlp__activation=tanh, mlp__alpha=5.043159487171359e-05, mlp__hidden_layer_sizes=(451,), mlp__solver=sgd, mlp__learning_rate=invscaling, mlp__max_iter=4470 \n",
      "[CV]  mlp__activation=identity, mlp__alpha=0.0011859710123376707, mlp__hidden_layer_sizes=(126, 397, 56, 315, 256), mlp__solver=sgd, mlp__learning_rate=invscaling, mlp__max_iter=1107, total=   3.3s\n",
      "[CV] mlp__activation=relu, mlp__alpha=933.1897715733239, mlp__hidden_layer_sizes=(244, 159, 198), mlp__solver=adam, mlp__learning_rate=invscaling, mlp__max_iter=1396 \n",
      "[CV]  mlp__activation=identity, mlp__alpha=0.0011859710123376707, mlp__hidden_layer_sizes=(126, 397, 56, 315, 256), mlp__solver=sgd, mlp__learning_rate=invscaling, mlp__max_iter=1107, total=   4.5s\n",
      "[CV] mlp__activation=relu, mlp__alpha=933.1897715733239, mlp__hidden_layer_sizes=(244, 159, 198), mlp__solver=adam, mlp__learning_rate=invscaling, mlp__max_iter=1396 \n",
      "[CV]  mlp__activation=tanh, mlp__alpha=5.043159487171359e-05, mlp__hidden_layer_sizes=(451,), mlp__solver=sgd, mlp__learning_rate=invscaling, mlp__max_iter=4470, total=   6.5s\n",
      "[CV] mlp__activation=identity, mlp__alpha=1.1016459496336568e-05, mlp__hidden_layer_sizes=(451,), mlp__solver=adam, mlp__learning_rate=constant, mlp__max_iter=3524 \n",
      "[CV]  mlp__activation=tanh, mlp__alpha=5.043159487171359e-05, mlp__hidden_layer_sizes=(451,), mlp__solver=sgd, mlp__learning_rate=invscaling, mlp__max_iter=4470, total=   6.9s\n",
      "[CV] mlp__activation=identity, mlp__alpha=1.1016459496336568e-05, mlp__hidden_layer_sizes=(451,), mlp__solver=adam, mlp__learning_rate=constant, mlp__max_iter=3524 \n",
      "[CV]  mlp__activation=relu, mlp__alpha=933.1897715733239, mlp__hidden_layer_sizes=(244, 159, 198), mlp__solver=adam, mlp__learning_rate=invscaling, mlp__max_iter=1396, total= 1.9min\n",
      "[CV] mlp__activation=logistic, mlp__alpha=1.0965792912678099e-07, mlp__hidden_layer_sizes=(54, 182, 222, 442), mlp__solver=adam, mlp__learning_rate=constant, mlp__max_iter=3646 \n",
      "[CV]  mlp__activation=relu, mlp__alpha=933.1897715733239, mlp__hidden_layer_sizes=(244, 159, 198), mlp__solver=adam, mlp__learning_rate=invscaling, mlp__max_iter=1396, total= 1.9min\n",
      "[CV] mlp__activation=logistic, mlp__alpha=1.0965792912678099e-07, mlp__hidden_layer_sizes=(54, 182, 222, 442), mlp__solver=adam, mlp__learning_rate=constant, mlp__max_iter=3646 \n",
      "[CV]  mlp__activation=logistic, mlp__alpha=1.0965792912678099e-07, mlp__hidden_layer_sizes=(54, 182, 222, 442), mlp__solver=adam, mlp__learning_rate=constant, mlp__max_iter=3646, total=   6.3s\n",
      "[CV]  mlp__activation=logistic, mlp__alpha=1.0965792912678099e-07, mlp__hidden_layer_sizes=(54, 182, 222, 442), mlp__solver=adam, mlp__learning_rate=constant, mlp__max_iter=3646, total=   7.1s\n",
      "[CV] mlp__activation=identity, mlp__alpha=1.8675458427610741e-06, mlp__hidden_layer_sizes=(126, 397, 56, 315, 256), mlp__solver=adam, mlp__learning_rate=adaptive, mlp__max_iter=4265 \n",
      "[CV] mlp__activation=identity, mlp__alpha=1.8675458427610741e-06, mlp__hidden_layer_sizes=(126, 397, 56, 315, 256), mlp__solver=adam, mlp__learning_rate=adaptive, mlp__max_iter=4265 \n",
      "[CV]  mlp__activation=identity, mlp__alpha=1.8675458427610741e-06, mlp__hidden_layer_sizes=(126, 397, 56, 315, 256), mlp__solver=adam, mlp__learning_rate=adaptive, mlp__max_iter=4265, total=  10.0s\n",
      "[CV] mlp__activation=relu, mlp__alpha=0.0029817722900196734, mlp__hidden_layer_sizes=(244, 159, 198), mlp__solver=sgd, mlp__learning_rate=constant, mlp__max_iter=940 \n",
      "[CV]  mlp__activation=relu, mlp__alpha=0.0029817722900196734, mlp__hidden_layer_sizes=(244, 159, 198), mlp__solver=sgd, mlp__learning_rate=constant, mlp__max_iter=940, total=   4.0s\n",
      "[CV] mlp__activation=relu, mlp__alpha=0.0029817722900196734, mlp__hidden_layer_sizes=(244, 159, 198), mlp__solver=sgd, mlp__learning_rate=constant, mlp__max_iter=940 \n",
      "[CV]  mlp__activation=identity, mlp__alpha=1.8675458427610741e-06, mlp__hidden_layer_sizes=(126, 397, 56, 315, 256), mlp__solver=adam, mlp__learning_rate=adaptive, mlp__max_iter=4265, total=  20.0s\n",
      "[CV] mlp__activation=relu, mlp__alpha=0.06106407542232036, mlp__hidden_layer_sizes=(244, 159, 198), mlp__solver=lbfgs, mlp__learning_rate=invscaling, mlp__max_iter=3445 \n",
      "[CV]  mlp__activation=identity, mlp__alpha=1.1016459496336568e-05, mlp__hidden_layer_sizes=(451,), mlp__solver=adam, mlp__learning_rate=constant, mlp__max_iter=3524, total= 2.3min\n",
      "[CV] mlp__activation=relu, mlp__alpha=0.06106407542232036, mlp__hidden_layer_sizes=(244, 159, 198), mlp__solver=lbfgs, mlp__learning_rate=invscaling, mlp__max_iter=3445 \n",
      "[CV]  mlp__activation=identity, mlp__alpha=1.1016459496336568e-05, mlp__hidden_layer_sizes=(451,), mlp__solver=adam, mlp__learning_rate=constant, mlp__max_iter=3524, total= 2.3min\n",
      "[CV] mlp__activation=logistic, mlp__alpha=0.002314005380130654, mlp__hidden_layer_sizes=(244, 159, 198), mlp__solver=adam, mlp__learning_rate=invscaling, mlp__max_iter=1706 \n",
      "[CV]  mlp__activation=logistic, mlp__alpha=0.002314005380130654, mlp__hidden_layer_sizes=(244, 159, 198), mlp__solver=adam, mlp__learning_rate=invscaling, mlp__max_iter=1706, total=   4.5s\n",
      "[CV] mlp__activation=logistic, mlp__alpha=0.002314005380130654, mlp__hidden_layer_sizes=(244, 159, 198), mlp__solver=adam, mlp__learning_rate=invscaling, mlp__max_iter=1706 \n",
      "[CV]  mlp__activation=logistic, mlp__alpha=0.002314005380130654, mlp__hidden_layer_sizes=(244, 159, 198), mlp__solver=adam, mlp__learning_rate=invscaling, mlp__max_iter=1706, total=   8.8s\n",
      "[CV] mlp__activation=tanh, mlp__alpha=0.009224970052592174, mlp__hidden_layer_sizes=(244, 159, 198), mlp__solver=lbfgs, mlp__learning_rate=adaptive, mlp__max_iter=1098 \n",
      "[CV]  mlp__activation=relu, mlp__alpha=0.0029817722900196734, mlp__hidden_layer_sizes=(244, 159, 198), mlp__solver=sgd, mlp__learning_rate=constant, mlp__max_iter=940, total=  26.7s\n",
      "[CV] mlp__activation=tanh, mlp__alpha=0.009224970052592174, mlp__hidden_layer_sizes=(244, 159, 198), mlp__solver=lbfgs, mlp__learning_rate=adaptive, mlp__max_iter=1098 \n",
      "[CV]  mlp__activation=tanh, mlp__alpha=0.009224970052592174, mlp__hidden_layer_sizes=(244, 159, 198), mlp__solver=lbfgs, mlp__learning_rate=adaptive, mlp__max_iter=1098, total=  18.9s\n",
      "[CV] mlp__activation=tanh, mlp__alpha=6.9317172761554e-07, mlp__hidden_layer_sizes=(244, 159, 198), mlp__solver=sgd, mlp__learning_rate=constant, mlp__max_iter=4841 \n",
      "[CV]  mlp__activation=tanh, mlp__alpha=0.009224970052592174, mlp__hidden_layer_sizes=(244, 159, 198), mlp__solver=lbfgs, mlp__learning_rate=adaptive, mlp__max_iter=1098, total=  32.0s\n",
      "[CV] mlp__activation=tanh, mlp__alpha=6.9317172761554e-07, mlp__hidden_layer_sizes=(244, 159, 198), mlp__solver=sgd, mlp__learning_rate=constant, mlp__max_iter=4841 \n",
      "[CV]  mlp__activation=relu, mlp__alpha=0.06106407542232036, mlp__hidden_layer_sizes=(244, 159, 198), mlp__solver=lbfgs, mlp__learning_rate=invscaling, mlp__max_iter=3445, total= 5.0min\n",
      "[CV] mlp__activation=logistic, mlp__alpha=0.0002776153294436801, mlp__hidden_layer_sizes=(244, 159, 198), mlp__solver=adam, mlp__learning_rate=adaptive, mlp__max_iter=928 \n",
      "[CV]  mlp__activation=relu, mlp__alpha=0.06106407542232036, mlp__hidden_layer_sizes=(244, 159, 198), mlp__solver=lbfgs, mlp__learning_rate=invscaling, mlp__max_iter=3445, total= 5.9min\n",
      "[CV] mlp__activation=logistic, mlp__alpha=0.0002776153294436801, mlp__hidden_layer_sizes=(244, 159, 198), mlp__solver=adam, mlp__learning_rate=adaptive, mlp__max_iter=928 \n"
     ]
    },
    {
     "name": "stdout",
     "output_type": "stream",
     "text": [
      "[CV]  mlp__activation=logistic, mlp__alpha=0.0002776153294436801, mlp__hidden_layer_sizes=(244, 159, 198), mlp__solver=adam, mlp__learning_rate=adaptive, mlp__max_iter=928, total= 1.9min\n",
      "[CV] mlp__activation=relu, mlp__alpha=4.2818517986524156e-06, mlp__hidden_layer_sizes=(126, 397, 56, 315, 256), mlp__solver=adam, mlp__learning_rate=adaptive, mlp__max_iter=2298 \n",
      "[CV]  mlp__activation=relu, mlp__alpha=4.2818517986524156e-06, mlp__hidden_layer_sizes=(126, 397, 56, 315, 256), mlp__solver=adam, mlp__learning_rate=adaptive, mlp__max_iter=2298, total=  23.5s\n",
      "[CV] mlp__activation=relu, mlp__alpha=4.2818517986524156e-06, mlp__hidden_layer_sizes=(126, 397, 56, 315, 256), mlp__solver=adam, mlp__learning_rate=adaptive, mlp__max_iter=2298 \n",
      "[CV]  mlp__activation=relu, mlp__alpha=4.2818517986524156e-06, mlp__hidden_layer_sizes=(126, 397, 56, 315, 256), mlp__solver=adam, mlp__learning_rate=adaptive, mlp__max_iter=2298, total=  12.3s\n",
      "[CV] mlp__activation=logistic, mlp__alpha=0.14000583824680962, mlp__hidden_layer_sizes=(451,), mlp__solver=adam, mlp__learning_rate=adaptive, mlp__max_iter=549 \n",
      "[CV]  mlp__activation=logistic, mlp__alpha=0.0002776153294436801, mlp__hidden_layer_sizes=(244, 159, 198), mlp__solver=adam, mlp__learning_rate=adaptive, mlp__max_iter=928, total= 1.9min\n",
      "[CV] mlp__activation=logistic, mlp__alpha=0.14000583824680962, mlp__hidden_layer_sizes=(451,), mlp__solver=adam, mlp__learning_rate=adaptive, mlp__max_iter=549 \n",
      "[CV]  mlp__activation=tanh, mlp__alpha=6.9317172761554e-07, mlp__hidden_layer_sizes=(244, 159, 198), mlp__solver=sgd, mlp__learning_rate=constant, mlp__max_iter=4841, total= 7.9min\n",
      "[CV] mlp__activation=identity, mlp__alpha=3.806979871402284e-07, mlp__hidden_layer_sizes=(126, 397, 56, 315, 256), mlp__solver=lbfgs, mlp__learning_rate=constant, mlp__max_iter=3435 \n",
      "[CV]  mlp__activation=identity, mlp__alpha=3.806979871402284e-07, mlp__hidden_layer_sizes=(126, 397, 56, 315, 256), mlp__solver=lbfgs, mlp__learning_rate=constant, mlp__max_iter=3435, total=  20.8s\n",
      "[CV] mlp__activation=identity, mlp__alpha=3.806979871402284e-07, mlp__hidden_layer_sizes=(126, 397, 56, 315, 256), mlp__solver=lbfgs, mlp__learning_rate=constant, mlp__max_iter=3435 \n",
      "[CV]  mlp__activation=tanh, mlp__alpha=6.9317172761554e-07, mlp__hidden_layer_sizes=(244, 159, 198), mlp__solver=sgd, mlp__learning_rate=constant, mlp__max_iter=4841, total= 8.0min\n",
      "[CV] mlp__activation=relu, mlp__alpha=0.024287643824604504, mlp__hidden_layer_sizes=(279, 231), mlp__solver=lbfgs, mlp__learning_rate=constant, mlp__max_iter=1552 \n",
      "[CV]  mlp__activation=identity, mlp__alpha=3.806979871402284e-07, mlp__hidden_layer_sizes=(126, 397, 56, 315, 256), mlp__solver=lbfgs, mlp__learning_rate=constant, mlp__max_iter=3435, total=  14.1s\n",
      "[CV] mlp__activation=relu, mlp__alpha=0.024287643824604504, mlp__hidden_layer_sizes=(279, 231), mlp__solver=lbfgs, mlp__learning_rate=constant, mlp__max_iter=1552 \n",
      "[CV]  mlp__activation=relu, mlp__alpha=0.024287643824604504, mlp__hidden_layer_sizes=(279, 231), mlp__solver=lbfgs, mlp__learning_rate=constant, mlp__max_iter=1552, total= 1.5min\n",
      "[CV] mlp__activation=relu, mlp__alpha=0.0004939621743878321, mlp__hidden_layer_sizes=(451,), mlp__solver=adam, mlp__learning_rate=constant, mlp__max_iter=1530 \n",
      "[CV]  mlp__activation=relu, mlp__alpha=0.024287643824604504, mlp__hidden_layer_sizes=(279, 231), mlp__solver=lbfgs, mlp__learning_rate=constant, mlp__max_iter=1552, total= 2.1min\n",
      "[CV] mlp__activation=relu, mlp__alpha=0.0004939621743878321, mlp__hidden_layer_sizes=(451,), mlp__solver=adam, mlp__learning_rate=constant, mlp__max_iter=1530 \n",
      "[CV]  mlp__activation=relu, mlp__alpha=0.0004939621743878321, mlp__hidden_layer_sizes=(451,), mlp__solver=adam, mlp__learning_rate=constant, mlp__max_iter=1530, total= 2.9min\n",
      "[CV] mlp__activation=tanh, mlp__alpha=36.18749812411284, mlp__hidden_layer_sizes=(451,), mlp__solver=adam, mlp__learning_rate=constant, mlp__max_iter=2933 \n",
      "[CV]  mlp__activation=relu, mlp__alpha=0.0004939621743878321, mlp__hidden_layer_sizes=(451,), mlp__solver=adam, mlp__learning_rate=constant, mlp__max_iter=1530, total= 2.5min\n",
      "[CV] mlp__activation=tanh, mlp__alpha=36.18749812411284, mlp__hidden_layer_sizes=(451,), mlp__solver=adam, mlp__learning_rate=constant, mlp__max_iter=2933 \n",
      "[CV]  mlp__activation=logistic, mlp__alpha=0.14000583824680962, mlp__hidden_layer_sizes=(451,), mlp__solver=adam, mlp__learning_rate=adaptive, mlp__max_iter=549, total= 6.2min\n",
      "[CV] mlp__activation=tanh, mlp__alpha=0.00030442722120643025, mlp__hidden_layer_sizes=(244, 159, 198), mlp__solver=adam, mlp__learning_rate=constant, mlp__max_iter=4873 \n"
     ]
    },
    {
     "name": "stderr",
     "output_type": "stream",
     "text": [
      "[Parallel(n_jobs=-1)]: Done  33 tasks      | elapsed: 16.5min\n"
     ]
    },
    {
     "name": "stdout",
     "output_type": "stream",
     "text": [
      "[CV]  mlp__activation=tanh, mlp__alpha=0.00030442722120643025, mlp__hidden_layer_sizes=(244, 159, 198), mlp__solver=adam, mlp__learning_rate=constant, mlp__max_iter=4873, total=  33.5s\n",
      "[CV] mlp__activation=tanh, mlp__alpha=0.00030442722120643025, mlp__hidden_layer_sizes=(244, 159, 198), mlp__solver=adam, mlp__learning_rate=constant, mlp__max_iter=4873 \n",
      "[CV]  mlp__activation=tanh, mlp__alpha=36.18749812411284, mlp__hidden_layer_sizes=(451,), mlp__solver=adam, mlp__learning_rate=constant, mlp__max_iter=2933, total= 1.3min\n",
      "[CV] mlp__activation=logistic, mlp__alpha=4.371602248248502e-07, mlp__hidden_layer_sizes=(54, 182, 222, 442), mlp__solver=sgd, mlp__learning_rate=invscaling, mlp__max_iter=3121 \n",
      "[CV]  mlp__activation=tanh, mlp__alpha=36.18749812411284, mlp__hidden_layer_sizes=(451,), mlp__solver=adam, mlp__learning_rate=constant, mlp__max_iter=2933, total= 1.3min\n",
      "[CV] mlp__activation=logistic, mlp__alpha=4.371602248248502e-07, mlp__hidden_layer_sizes=(54, 182, 222, 442), mlp__solver=sgd, mlp__learning_rate=invscaling, mlp__max_iter=3121 \n",
      "[CV]  mlp__activation=logistic, mlp__alpha=4.371602248248502e-07, mlp__hidden_layer_sizes=(54, 182, 222, 442), mlp__solver=sgd, mlp__learning_rate=invscaling, mlp__max_iter=3121, total=  10.3s\n",
      "[CV] mlp__activation=identity, mlp__alpha=19.421746814890284, mlp__hidden_layer_sizes=(54, 182, 222, 442), mlp__solver=sgd, mlp__learning_rate=adaptive, mlp__max_iter=2191 \n",
      "[CV]  mlp__activation=logistic, mlp__alpha=4.371602248248502e-07, mlp__hidden_layer_sizes=(54, 182, 222, 442), mlp__solver=sgd, mlp__learning_rate=invscaling, mlp__max_iter=3121, total=   9.7s\n",
      "[CV] mlp__activation=identity, mlp__alpha=19.421746814890284, mlp__hidden_layer_sizes=(54, 182, 222, 442), mlp__solver=sgd, mlp__learning_rate=adaptive, mlp__max_iter=2191 \n",
      "[CV]  mlp__activation=tanh, mlp__alpha=0.00030442722120643025, mlp__hidden_layer_sizes=(244, 159, 198), mlp__solver=adam, mlp__learning_rate=constant, mlp__max_iter=4873, total=  33.1s\n",
      "[CV] mlp__activation=relu, mlp__alpha=1.1805165285688056e-05, mlp__hidden_layer_sizes=(279, 231), mlp__solver=sgd, mlp__learning_rate=invscaling, mlp__max_iter=3047 \n",
      "[CV]  mlp__activation=relu, mlp__alpha=1.1805165285688056e-05, mlp__hidden_layer_sizes=(279, 231), mlp__solver=sgd, mlp__learning_rate=invscaling, mlp__max_iter=3047, total=   5.4s\n",
      "[CV] mlp__activation=relu, mlp__alpha=1.1805165285688056e-05, mlp__hidden_layer_sizes=(279, 231), mlp__solver=sgd, mlp__learning_rate=invscaling, mlp__max_iter=3047 \n",
      "[CV]  mlp__activation=relu, mlp__alpha=1.1805165285688056e-05, mlp__hidden_layer_sizes=(279, 231), mlp__solver=sgd, mlp__learning_rate=invscaling, mlp__max_iter=3047, total=   5.0s\n",
      "[CV] mlp__activation=identity, mlp__alpha=0.0843190929286625, mlp__hidden_layer_sizes=(126, 397, 56, 315, 256), mlp__solver=sgd, mlp__learning_rate=invscaling, mlp__max_iter=3646 \n",
      "[CV]  mlp__activation=identity, mlp__alpha=0.0843190929286625, mlp__hidden_layer_sizes=(126, 397, 56, 315, 256), mlp__solver=sgd, mlp__learning_rate=invscaling, mlp__max_iter=3646, total=   6.4s\n",
      "[CV] mlp__activation=identity, mlp__alpha=0.0843190929286625, mlp__hidden_layer_sizes=(126, 397, 56, 315, 256), mlp__solver=sgd, mlp__learning_rate=invscaling, mlp__max_iter=3646 \n",
      "[CV]  mlp__activation=identity, mlp__alpha=0.0843190929286625, mlp__hidden_layer_sizes=(126, 397, 56, 315, 256), mlp__solver=sgd, mlp__learning_rate=invscaling, mlp__max_iter=3646, total=   6.0s\n",
      "[CV] mlp__activation=relu, mlp__alpha=0.022148552337263594, mlp__hidden_layer_sizes=(451,), mlp__solver=sgd, mlp__learning_rate=adaptive, mlp__max_iter=1268 \n",
      "[CV]  mlp__activation=logistic, mlp__alpha=0.14000583824680962, mlp__hidden_layer_sizes=(451,), mlp__solver=adam, mlp__learning_rate=adaptive, mlp__max_iter=549, total= 8.2min\n",
      "[CV] mlp__activation=relu, mlp__alpha=0.022148552337263594, mlp__hidden_layer_sizes=(451,), mlp__solver=sgd, mlp__learning_rate=adaptive, mlp__max_iter=1268 \n",
      "[CV]  mlp__activation=identity, mlp__alpha=19.421746814890284, mlp__hidden_layer_sizes=(54, 182, 222, 442), mlp__solver=sgd, mlp__learning_rate=adaptive, mlp__max_iter=2191, total= 7.8min\n",
      "[CV] mlp__activation=identity, mlp__alpha=6.650018030431119e-05, mlp__hidden_layer_sizes=(451,), mlp__solver=sgd, mlp__learning_rate=constant, mlp__max_iter=1641 \n",
      "[CV]  mlp__activation=identity, mlp__alpha=19.421746814890284, mlp__hidden_layer_sizes=(54, 182, 222, 442), mlp__solver=sgd, mlp__learning_rate=adaptive, mlp__max_iter=2191, total= 7.9min\n",
      "[CV] mlp__activation=identity, mlp__alpha=6.650018030431119e-05, mlp__hidden_layer_sizes=(451,), mlp__solver=sgd, mlp__learning_rate=constant, mlp__max_iter=1641 \n"
     ]
    },
    {
     "name": "stderr",
     "output_type": "stream",
     "text": [
      "/home/loki/.local/lib/python2.7/site-packages/sklearn/neural_network/multilayer_perceptron.py:564: ConvergenceWarning: Stochastic Optimizer: Maximum iterations (1268) reached and the optimization hasn't converged yet.\n",
      "  % self.max_iter, ConvergenceWarning)\n"
     ]
    },
    {
     "name": "stdout",
     "output_type": "stream",
     "text": [
      "[CV]  mlp__activation=relu, mlp__alpha=0.022148552337263594, mlp__hidden_layer_sizes=(451,), mlp__solver=sgd, mlp__learning_rate=adaptive, mlp__max_iter=1268, total=23.7min\n"
     ]
    },
    {
     "name": "stderr",
     "output_type": "stream",
     "text": [
      "/home/loki/.local/lib/python2.7/site-packages/sklearn/neural_network/multilayer_perceptron.py:564: ConvergenceWarning: Stochastic Optimizer: Maximum iterations (1268) reached and the optimization hasn't converged yet.\n",
      "  % self.max_iter, ConvergenceWarning)\n"
     ]
    },
    {
     "name": "stdout",
     "output_type": "stream",
     "text": [
      "[CV]  mlp__activation=relu, mlp__alpha=0.022148552337263594, mlp__hidden_layer_sizes=(451,), mlp__solver=sgd, mlp__learning_rate=adaptive, mlp__max_iter=1268, total=23.9min\n",
      "[CV]  mlp__activation=identity, mlp__alpha=6.650018030431119e-05, mlp__hidden_layer_sizes=(451,), mlp__solver=sgd, mlp__learning_rate=constant, mlp__max_iter=1641, total=23.0min\n"
     ]
    },
    {
     "name": "stderr",
     "output_type": "stream",
     "text": [
      "/home/loki/.local/lib/python2.7/site-packages/sklearn/neural_network/multilayer_perceptron.py:564: ConvergenceWarning: Stochastic Optimizer: Maximum iterations (1641) reached and the optimization hasn't converged yet.\n",
      "  % self.max_iter, ConvergenceWarning)\n"
     ]
    },
    {
     "name": "stdout",
     "output_type": "stream",
     "text": [
      "[CV]  mlp__activation=identity, mlp__alpha=6.650018030431119e-05, mlp__hidden_layer_sizes=(451,), mlp__solver=sgd, mlp__learning_rate=constant, mlp__max_iter=1641, total=23.0min\n"
     ]
    },
    {
     "name": "stderr",
     "output_type": "stream",
     "text": [
      "[Parallel(n_jobs=-1)]: Done  50 out of  50 | elapsed: 48.3min finished\n"
     ]
    },
    {
     "name": "stdout",
     "output_type": "stream",
     "text": [
      "Fitting 2 folds for each of 25 candidates, totalling 50 fits\n"
     ]
    },
    {
     "name": "stderr",
     "output_type": "stream",
     "text": [
      "[Parallel(n_jobs=-1)]: Done  42 tasks      | elapsed:  2.0min\n",
      "[Parallel(n_jobs=-1)]: Done  50 out of  50 | elapsed:  2.7min finished\n"
     ]
    },
    {
     "name": "stdout",
     "output_type": "stream",
     "text": [
      "\n",
      "Score[median]: 0.67\n",
      "From Baseline: 16.0%\n",
      "From LOG: -1.0%\n",
      "{'mlp__activation': 'identity', 'mlp__alpha': 3.806979871402284e-07, 'mlp__hidden_layer_sizes': (126, 397, 56, 315, 256), 'mlp__solver': 'lbfgs', 'mlp__learning_rate': 'constant', 'mlp__max_iter': 3435}\n",
      "LOG Params:{'log__solver': 'newton-cg', 'log__class_weight': None, 'log__max_iter': 2387, 'log__C': 0.1607704421673822}\n",
      "Fitting 2 folds for each of 25 candidates, totalling 50 fits\n",
      "[CV] mlp__activation=identity, mlp__alpha=0.7707027114212304, mlp__hidden_layer_sizes=(279, 231), mlp__solver=adam, mlp__learning_rate=constant, mlp__max_iter=2275 \n",
      "[CV] mlp__activation=identity, mlp__alpha=0.7707027114212304, mlp__hidden_layer_sizes=(279, 231), mlp__solver=adam, mlp__learning_rate=constant, mlp__max_iter=2275 \n",
      "[CV] mlp__activation=tanh, mlp__alpha=2.1395888713434216e-07, mlp__hidden_layer_sizes=(54, 182, 222, 442), mlp__solver=sgd, mlp__learning_rate=invscaling, mlp__max_iter=4054 \n",
      "[CV] mlp__activation=tanh, mlp__alpha=2.1395888713434216e-07, mlp__hidden_layer_sizes=(54, 182, 222, 442), mlp__solver=sgd, mlp__learning_rate=invscaling, mlp__max_iter=4054 \n",
      "[CV]  mlp__activation=identity, mlp__alpha=0.7707027114212304, mlp__hidden_layer_sizes=(279, 231), mlp__solver=adam, mlp__learning_rate=constant, mlp__max_iter=2275, total= 1.4min\n",
      "[CV] mlp__activation=identity, mlp__alpha=9.727203192450537, mlp__hidden_layer_sizes=(244, 159, 198), mlp__solver=lbfgs, mlp__learning_rate=constant, mlp__max_iter=2335 \n",
      "[CV]  mlp__activation=identity, mlp__alpha=0.7707027114212304, mlp__hidden_layer_sizes=(279, 231), mlp__solver=adam, mlp__learning_rate=constant, mlp__max_iter=2275, total= 1.6min\n",
      "[CV] mlp__activation=identity, mlp__alpha=9.727203192450537, mlp__hidden_layer_sizes=(244, 159, 198), mlp__solver=lbfgs, mlp__learning_rate=constant, mlp__max_iter=2335 \n",
      "[CV]  mlp__activation=identity, mlp__alpha=9.727203192450537, mlp__hidden_layer_sizes=(244, 159, 198), mlp__solver=lbfgs, mlp__learning_rate=constant, mlp__max_iter=2335, total=  42.4s\n",
      "[CV] mlp__activation=identity, mlp__alpha=0.0031224428230928578, mlp__hidden_layer_sizes=(244, 159, 198), mlp__solver=lbfgs, mlp__learning_rate=adaptive, mlp__max_iter=4672 \n",
      "[CV]  mlp__activation=identity, mlp__alpha=9.727203192450537, mlp__hidden_layer_sizes=(244, 159, 198), mlp__solver=lbfgs, mlp__learning_rate=constant, mlp__max_iter=2335, total=  42.3s\n",
      "[CV] mlp__activation=identity, mlp__alpha=0.0031224428230928578, mlp__hidden_layer_sizes=(244, 159, 198), mlp__solver=lbfgs, mlp__learning_rate=adaptive, mlp__max_iter=4672 \n",
      "[CV]  mlp__activation=identity, mlp__alpha=0.0031224428230928578, mlp__hidden_layer_sizes=(244, 159, 198), mlp__solver=lbfgs, mlp__learning_rate=adaptive, mlp__max_iter=4672, total=  20.2s\n",
      "[CV] mlp__activation=relu, mlp__alpha=0.01303512244681509, mlp__hidden_layer_sizes=(126, 397, 56, 315, 256), mlp__solver=lbfgs, mlp__learning_rate=adaptive, mlp__max_iter=709 \n",
      "[CV]  mlp__activation=identity, mlp__alpha=0.0031224428230928578, mlp__hidden_layer_sizes=(244, 159, 198), mlp__solver=lbfgs, mlp__learning_rate=adaptive, mlp__max_iter=4672, total=  21.3s\n",
      "[CV] mlp__activation=relu, mlp__alpha=0.01303512244681509, mlp__hidden_layer_sizes=(126, 397, 56, 315, 256), mlp__solver=lbfgs, mlp__learning_rate=adaptive, mlp__max_iter=709 \n",
      "[CV]  mlp__activation=tanh, mlp__alpha=2.1395888713434216e-07, mlp__hidden_layer_sizes=(54, 182, 222, 442), mlp__solver=sgd, mlp__learning_rate=invscaling, mlp__max_iter=4054, total= 2.9min\n",
      "[CV] mlp__activation=relu, mlp__alpha=11.969557023590452, mlp__hidden_layer_sizes=(54, 182, 222, 442), mlp__solver=lbfgs, mlp__learning_rate=constant, mlp__max_iter=4511 \n",
      "[CV]  mlp__activation=tanh, mlp__alpha=2.1395888713434216e-07, mlp__hidden_layer_sizes=(54, 182, 222, 442), mlp__solver=sgd, mlp__learning_rate=invscaling, mlp__max_iter=4054, total= 2.9min\n",
      "[CV] mlp__activation=relu, mlp__alpha=11.969557023590452, mlp__hidden_layer_sizes=(54, 182, 222, 442), mlp__solver=lbfgs, mlp__learning_rate=constant, mlp__max_iter=4511 \n",
      "[CV]  mlp__activation=relu, mlp__alpha=11.969557023590452, mlp__hidden_layer_sizes=(54, 182, 222, 442), mlp__solver=lbfgs, mlp__learning_rate=constant, mlp__max_iter=4511, total=  22.5s\n",
      "[CV] mlp__activation=relu, mlp__alpha=5.724766239702179, mlp__hidden_layer_sizes=(54, 182, 222, 442), mlp__solver=adam, mlp__learning_rate=adaptive, mlp__max_iter=3031 \n",
      "[CV]  mlp__activation=relu, mlp__alpha=11.969557023590452, mlp__hidden_layer_sizes=(54, 182, 222, 442), mlp__solver=lbfgs, mlp__learning_rate=constant, mlp__max_iter=4511, total=  21.0s\n",
      "[CV] mlp__activation=relu, mlp__alpha=5.724766239702179, mlp__hidden_layer_sizes=(54, 182, 222, 442), mlp__solver=adam, mlp__learning_rate=adaptive, mlp__max_iter=3031 \n",
      "[CV]  mlp__activation=relu, mlp__alpha=0.01303512244681509, mlp__hidden_layer_sizes=(126, 397, 56, 315, 256), mlp__solver=lbfgs, mlp__learning_rate=adaptive, mlp__max_iter=709, total=  51.1s\n",
      "[CV] mlp__activation=identity, mlp__alpha=1.0495932305582266e-06, mlp__hidden_layer_sizes=(451,), mlp__solver=lbfgs, mlp__learning_rate=invscaling, mlp__max_iter=928 \n",
      "[CV]  mlp__activation=relu, mlp__alpha=0.01303512244681509, mlp__hidden_layer_sizes=(126, 397, 56, 315, 256), mlp__solver=lbfgs, mlp__learning_rate=adaptive, mlp__max_iter=709, total=  46.0s\n",
      "[CV] mlp__activation=identity, mlp__alpha=1.0495932305582266e-06, mlp__hidden_layer_sizes=(451,), mlp__solver=lbfgs, mlp__learning_rate=invscaling, mlp__max_iter=928 \n",
      "[CV]  mlp__activation=identity, mlp__alpha=1.0495932305582266e-06, mlp__hidden_layer_sizes=(451,), mlp__solver=lbfgs, mlp__learning_rate=invscaling, mlp__max_iter=928, total=  23.8s\n",
      "[CV] mlp__activation=logistic, mlp__alpha=0.12767507043192644, mlp__hidden_layer_sizes=(54, 182, 222, 442), mlp__solver=sgd, mlp__learning_rate=invscaling, mlp__max_iter=818 \n",
      "[CV]  mlp__activation=identity, mlp__alpha=1.0495932305582266e-06, mlp__hidden_layer_sizes=(451,), mlp__solver=lbfgs, mlp__learning_rate=invscaling, mlp__max_iter=928, total=  29.8s\n",
      "[CV] mlp__activation=logistic, mlp__alpha=0.12767507043192644, mlp__hidden_layer_sizes=(54, 182, 222, 442), mlp__solver=sgd, mlp__learning_rate=invscaling, mlp__max_iter=818 \n",
      "[CV]  mlp__activation=relu, mlp__alpha=5.724766239702179, mlp__hidden_layer_sizes=(54, 182, 222, 442), mlp__solver=adam, mlp__learning_rate=adaptive, mlp__max_iter=3031, total=  58.2s\n",
      "[CV] mlp__activation=relu, mlp__alpha=0.0009203731996618221, mlp__hidden_layer_sizes=(279, 231), mlp__solver=sgd, mlp__learning_rate=adaptive, mlp__max_iter=2298 \n",
      "[CV]  mlp__activation=logistic, mlp__alpha=0.12767507043192644, mlp__hidden_layer_sizes=(54, 182, 222, 442), mlp__solver=sgd, mlp__learning_rate=invscaling, mlp__max_iter=818, total=  36.4s\n",
      "[CV] mlp__activation=relu, mlp__alpha=0.0009203731996618221, mlp__hidden_layer_sizes=(279, 231), mlp__solver=sgd, mlp__learning_rate=adaptive, mlp__max_iter=2298 \n",
      "[CV]  mlp__activation=relu, mlp__alpha=5.724766239702179, mlp__hidden_layer_sizes=(54, 182, 222, 442), mlp__solver=adam, mlp__learning_rate=adaptive, mlp__max_iter=3031, total= 1.1min\n",
      "[CV] mlp__activation=logistic, mlp__alpha=660.4193962330305, mlp__hidden_layer_sizes=(279, 231), mlp__solver=adam, mlp__learning_rate=invscaling, mlp__max_iter=3426 \n",
      "[CV]  mlp__activation=logistic, mlp__alpha=0.12767507043192644, mlp__hidden_layer_sizes=(54, 182, 222, 442), mlp__solver=sgd, mlp__learning_rate=invscaling, mlp__max_iter=818, total=  38.6s\n",
      "[CV] mlp__activation=logistic, mlp__alpha=660.4193962330305, mlp__hidden_layer_sizes=(279, 231), mlp__solver=adam, mlp__learning_rate=invscaling, mlp__max_iter=3426 \n",
      "[CV]  mlp__activation=logistic, mlp__alpha=660.4193962330305, mlp__hidden_layer_sizes=(279, 231), mlp__solver=adam, mlp__learning_rate=invscaling, mlp__max_iter=3426, total= 4.3min\n",
      "[CV] mlp__activation=relu, mlp__alpha=1.0765446128423159e-05, mlp__hidden_layer_sizes=(451,), mlp__solver=lbfgs, mlp__learning_rate=invscaling, mlp__max_iter=1533 \n",
      "[CV]  mlp__activation=logistic, mlp__alpha=660.4193962330305, mlp__hidden_layer_sizes=(279, 231), mlp__solver=adam, mlp__learning_rate=invscaling, mlp__max_iter=3426, total= 5.0min\n",
      "[CV] mlp__activation=relu, mlp__alpha=1.0765446128423159e-05, mlp__hidden_layer_sizes=(451,), mlp__solver=lbfgs, mlp__learning_rate=invscaling, mlp__max_iter=1533 \n"
     ]
    },
    {
     "name": "stdout",
     "output_type": "stream",
     "text": [
      "[CV]  mlp__activation=relu, mlp__alpha=1.0765446128423159e-05, mlp__hidden_layer_sizes=(451,), mlp__solver=lbfgs, mlp__learning_rate=invscaling, mlp__max_iter=1533, total=  33.3s\n",
      "[CV] mlp__activation=identity, mlp__alpha=81.07909806731695, mlp__hidden_layer_sizes=(279, 231), mlp__solver=lbfgs, mlp__learning_rate=constant, mlp__max_iter=4054 \n",
      "[CV]  mlp__activation=identity, mlp__alpha=81.07909806731695, mlp__hidden_layer_sizes=(279, 231), mlp__solver=lbfgs, mlp__learning_rate=constant, mlp__max_iter=4054, total=  24.8s\n",
      "[CV] mlp__activation=identity, mlp__alpha=81.07909806731695, mlp__hidden_layer_sizes=(279, 231), mlp__solver=lbfgs, mlp__learning_rate=constant, mlp__max_iter=4054 \n",
      "[CV]  mlp__activation=relu, mlp__alpha=1.0765446128423159e-05, mlp__hidden_layer_sizes=(451,), mlp__solver=lbfgs, mlp__learning_rate=invscaling, mlp__max_iter=1533, total=  30.8s\n",
      "[CV] mlp__activation=logistic, mlp__alpha=26.207066964838553, mlp__hidden_layer_sizes=(279, 231), mlp__solver=sgd, mlp__learning_rate=invscaling, mlp__max_iter=587 \n",
      "[CV]  mlp__activation=identity, mlp__alpha=81.07909806731695, mlp__hidden_layer_sizes=(279, 231), mlp__solver=lbfgs, mlp__learning_rate=constant, mlp__max_iter=4054, total=  28.4s\n",
      "[CV] mlp__activation=logistic, mlp__alpha=26.207066964838553, mlp__hidden_layer_sizes=(279, 231), mlp__solver=sgd, mlp__learning_rate=invscaling, mlp__max_iter=587 \n"
     ]
    },
    {
     "name": "stderr",
     "output_type": "stream",
     "text": [
      "/home/loki/.local/lib/python2.7/site-packages/sklearn/neural_network/multilayer_perceptron.py:564: ConvergenceWarning: Stochastic Optimizer: Maximum iterations (587) reached and the optimization hasn't converged yet.\n",
      "  % self.max_iter, ConvergenceWarning)\n"
     ]
    },
    {
     "name": "stdout",
     "output_type": "stream",
     "text": [
      "[CV]  mlp__activation=logistic, mlp__alpha=26.207066964838553, mlp__hidden_layer_sizes=(279, 231), mlp__solver=sgd, mlp__learning_rate=invscaling, mlp__max_iter=587, total= 8.7min\n",
      "[CV] mlp__activation=logistic, mlp__alpha=0.0002907123377272578, mlp__hidden_layer_sizes=(451,), mlp__solver=sgd, mlp__learning_rate=invscaling, mlp__max_iter=915 \n"
     ]
    },
    {
     "name": "stderr",
     "output_type": "stream",
     "text": [
      "/home/loki/.local/lib/python2.7/site-packages/sklearn/neural_network/multilayer_perceptron.py:564: ConvergenceWarning: Stochastic Optimizer: Maximum iterations (587) reached and the optimization hasn't converged yet.\n",
      "  % self.max_iter, ConvergenceWarning)\n"
     ]
    },
    {
     "name": "stdout",
     "output_type": "stream",
     "text": [
      "[CV]  mlp__activation=logistic, mlp__alpha=26.207066964838553, mlp__hidden_layer_sizes=(279, 231), mlp__solver=sgd, mlp__learning_rate=invscaling, mlp__max_iter=587, total= 8.9min\n",
      "[CV] mlp__activation=logistic, mlp__alpha=0.0002907123377272578, mlp__hidden_layer_sizes=(451,), mlp__solver=sgd, mlp__learning_rate=invscaling, mlp__max_iter=915 \n",
      "[CV]  mlp__activation=logistic, mlp__alpha=0.0002907123377272578, mlp__hidden_layer_sizes=(451,), mlp__solver=sgd, mlp__learning_rate=invscaling, mlp__max_iter=915, total= 1.5min\n",
      "[CV] mlp__activation=relu, mlp__alpha=0.0001560246414366368, mlp__hidden_layer_sizes=(451,), mlp__solver=lbfgs, mlp__learning_rate=constant, mlp__max_iter=639 \n",
      "[CV]  mlp__activation=logistic, mlp__alpha=0.0002907123377272578, mlp__hidden_layer_sizes=(451,), mlp__solver=sgd, mlp__learning_rate=invscaling, mlp__max_iter=915, total= 1.4min\n",
      "[CV] mlp__activation=relu, mlp__alpha=0.0001560246414366368, mlp__hidden_layer_sizes=(451,), mlp__solver=lbfgs, mlp__learning_rate=constant, mlp__max_iter=639 \n",
      "[CV]  mlp__activation=relu, mlp__alpha=0.0001560246414366368, mlp__hidden_layer_sizes=(451,), mlp__solver=lbfgs, mlp__learning_rate=constant, mlp__max_iter=639, total=  34.5s\n",
      "[CV] mlp__activation=tanh, mlp__alpha=0.0012136237983442417, mlp__hidden_layer_sizes=(279, 231), mlp__solver=adam, mlp__learning_rate=invscaling, mlp__max_iter=4797 \n",
      "[CV]  mlp__activation=tanh, mlp__alpha=0.0012136237983442417, mlp__hidden_layer_sizes=(279, 231), mlp__solver=adam, mlp__learning_rate=invscaling, mlp__max_iter=4797, total=  25.7s\n",
      "[CV] mlp__activation=tanh, mlp__alpha=0.0012136237983442417, mlp__hidden_layer_sizes=(279, 231), mlp__solver=adam, mlp__learning_rate=invscaling, mlp__max_iter=4797 \n",
      "[CV]  mlp__activation=relu, mlp__alpha=0.0001560246414366368, mlp__hidden_layer_sizes=(451,), mlp__solver=lbfgs, mlp__learning_rate=constant, mlp__max_iter=639, total=  37.2s\n",
      "[CV] mlp__activation=relu, mlp__alpha=3.254711605531848e-05, mlp__hidden_layer_sizes=(451,), mlp__solver=adam, mlp__learning_rate=constant, mlp__max_iter=4719 \n",
      "[CV]  mlp__activation=relu, mlp__alpha=0.0009203731996618221, mlp__hidden_layer_sizes=(279, 231), mlp__solver=sgd, mlp__learning_rate=adaptive, mlp__max_iter=2298, total=17.9min\n",
      "[CV] mlp__activation=relu, mlp__alpha=3.254711605531848e-05, mlp__hidden_layer_sizes=(451,), mlp__solver=adam, mlp__learning_rate=constant, mlp__max_iter=4719 \n",
      "[CV]  mlp__activation=relu, mlp__alpha=0.0009203731996618221, mlp__hidden_layer_sizes=(279, 231), mlp__solver=sgd, mlp__learning_rate=adaptive, mlp__max_iter=2298, total=18.1min\n",
      "[CV] mlp__activation=logistic, mlp__alpha=0.0007479522515621821, mlp__hidden_layer_sizes=(244, 159, 198), mlp__solver=sgd, mlp__learning_rate=adaptive, mlp__max_iter=3086 \n"
     ]
    },
    {
     "name": "stderr",
     "output_type": "stream",
     "text": [
      "[Parallel(n_jobs=-1)]: Done  33 tasks      | elapsed: 22.4min\n"
     ]
    },
    {
     "name": "stdout",
     "output_type": "stream",
     "text": [
      "[CV]  mlp__activation=relu, mlp__alpha=3.254711605531848e-05, mlp__hidden_layer_sizes=(451,), mlp__solver=adam, mlp__learning_rate=constant, mlp__max_iter=4719, total= 1.3min\n",
      "[CV] mlp__activation=logistic, mlp__alpha=0.0007479522515621821, mlp__hidden_layer_sizes=(244, 159, 198), mlp__solver=sgd, mlp__learning_rate=adaptive, mlp__max_iter=3086 \n",
      "[CV]  mlp__activation=tanh, mlp__alpha=0.0012136237983442417, mlp__hidden_layer_sizes=(279, 231), mlp__solver=adam, mlp__learning_rate=invscaling, mlp__max_iter=4797, total= 1.5min\n",
      "[CV] mlp__activation=logistic, mlp__alpha=0.0071590410859648885, mlp__hidden_layer_sizes=(126, 397, 56, 315, 256), mlp__solver=lbfgs, mlp__learning_rate=invscaling, mlp__max_iter=2991 \n",
      "[CV]  mlp__activation=logistic, mlp__alpha=0.0071590410859648885, mlp__hidden_layer_sizes=(126, 397, 56, 315, 256), mlp__solver=lbfgs, mlp__learning_rate=invscaling, mlp__max_iter=2991, total=   8.5s\n",
      "[CV] mlp__activation=logistic, mlp__alpha=0.0071590410859648885, mlp__hidden_layer_sizes=(126, 397, 56, 315, 256), mlp__solver=lbfgs, mlp__learning_rate=invscaling, mlp__max_iter=2991 \n",
      "[CV]  mlp__activation=logistic, mlp__alpha=0.0007479522515621821, mlp__hidden_layer_sizes=(244, 159, 198), mlp__solver=sgd, mlp__learning_rate=adaptive, mlp__max_iter=3086, total=  23.5s\n",
      "[CV] mlp__activation=relu, mlp__alpha=0.00010069386314760271, mlp__hidden_layer_sizes=(54, 182, 222, 442), mlp__solver=lbfgs, mlp__learning_rate=constant, mlp__max_iter=4575 \n",
      "[CV]  mlp__activation=logistic, mlp__alpha=0.0071590410859648885, mlp__hidden_layer_sizes=(126, 397, 56, 315, 256), mlp__solver=lbfgs, mlp__learning_rate=invscaling, mlp__max_iter=2991, total=  11.3s\n",
      "[CV] mlp__activation=relu, mlp__alpha=0.00010069386314760271, mlp__hidden_layer_sizes=(54, 182, 222, 442), mlp__solver=lbfgs, mlp__learning_rate=constant, mlp__max_iter=4575 \n",
      "[CV]  mlp__activation=logistic, mlp__alpha=0.0007479522515621821, mlp__hidden_layer_sizes=(244, 159, 198), mlp__solver=sgd, mlp__learning_rate=adaptive, mlp__max_iter=3086, total=  23.6s\n",
      "[CV] mlp__activation=identity, mlp__alpha=5.898896425508493e-07, mlp__hidden_layer_sizes=(451,), mlp__solver=sgd, mlp__learning_rate=adaptive, mlp__max_iter=3237 \n",
      "[CV]  mlp__activation=relu, mlp__alpha=0.00010069386314760271, mlp__hidden_layer_sizes=(54, 182, 222, 442), mlp__solver=lbfgs, mlp__learning_rate=constant, mlp__max_iter=4575, total=  20.3s\n",
      "[CV] mlp__activation=identity, mlp__alpha=5.898896425508493e-07, mlp__hidden_layer_sizes=(451,), mlp__solver=sgd, mlp__learning_rate=adaptive, mlp__max_iter=3237 \n",
      "[CV]  mlp__activation=relu, mlp__alpha=0.00010069386314760271, mlp__hidden_layer_sizes=(54, 182, 222, 442), mlp__solver=lbfgs, mlp__learning_rate=constant, mlp__max_iter=4575, total=  23.3s\n",
      "[CV] mlp__activation=logistic, mlp__alpha=109.40547072057436, mlp__hidden_layer_sizes=(451,), mlp__solver=sgd, mlp__learning_rate=invscaling, mlp__max_iter=2833 \n",
      "[CV]  mlp__activation=relu, mlp__alpha=3.254711605531848e-05, mlp__hidden_layer_sizes=(451,), mlp__solver=adam, mlp__learning_rate=constant, mlp__max_iter=4719, total= 4.0min\n",
      "[CV] mlp__activation=logistic, mlp__alpha=109.40547072057436, mlp__hidden_layer_sizes=(451,), mlp__solver=sgd, mlp__learning_rate=invscaling, mlp__max_iter=2833 \n",
      "[CV]  mlp__activation=identity, mlp__alpha=5.898896425508493e-07, mlp__hidden_layer_sizes=(451,), mlp__solver=sgd, mlp__learning_rate=adaptive, mlp__max_iter=3237, total=23.5min\n",
      "[CV] mlp__activation=logistic, mlp__alpha=0.0031952475057592136, mlp__hidden_layer_sizes=(279, 231), mlp__solver=adam, mlp__learning_rate=adaptive, mlp__max_iter=3420 \n",
      "[CV]  mlp__activation=logistic, mlp__alpha=0.0031952475057592136, mlp__hidden_layer_sizes=(279, 231), mlp__solver=adam, mlp__learning_rate=adaptive, mlp__max_iter=3420, total=   5.3s\n",
      "[CV] mlp__activation=logistic, mlp__alpha=0.0031952475057592136, mlp__hidden_layer_sizes=(279, 231), mlp__solver=adam, mlp__learning_rate=adaptive, mlp__max_iter=3420 \n",
      "[CV]  mlp__activation=logistic, mlp__alpha=0.0031952475057592136, mlp__hidden_layer_sizes=(279, 231), mlp__solver=adam, mlp__learning_rate=adaptive, mlp__max_iter=3420, total=   7.4s\n",
      "[CV] mlp__activation=logistic, mlp__alpha=0.09908228099003788, mlp__hidden_layer_sizes=(451,), mlp__solver=sgd, mlp__learning_rate=constant, mlp__max_iter=4575 \n",
      "[CV]  mlp__activation=logistic, mlp__alpha=0.09908228099003788, mlp__hidden_layer_sizes=(451,), mlp__solver=sgd, mlp__learning_rate=constant, mlp__max_iter=4575, total=  11.6s\n",
      "[CV] mlp__activation=logistic, mlp__alpha=0.09908228099003788, mlp__hidden_layer_sizes=(451,), mlp__solver=sgd, mlp__learning_rate=constant, mlp__max_iter=4575 \n",
      "[CV]  mlp__activation=logistic, mlp__alpha=0.09908228099003788, mlp__hidden_layer_sizes=(451,), mlp__solver=sgd, mlp__learning_rate=constant, mlp__max_iter=4575, total=  12.6s\n",
      "[CV]  mlp__activation=identity, mlp__alpha=5.898896425508493e-07, mlp__hidden_layer_sizes=(451,), mlp__solver=sgd, mlp__learning_rate=adaptive, mlp__max_iter=3237, total=24.5min\n"
     ]
    },
    {
     "name": "stderr",
     "output_type": "stream",
     "text": [
      "/home/loki/.local/lib/python2.7/site-packages/sklearn/neural_network/multilayer_perceptron.py:564: ConvergenceWarning: Stochastic Optimizer: Maximum iterations (2833) reached and the optimization hasn't converged yet.\n",
      "  % self.max_iter, ConvergenceWarning)\n"
     ]
    },
    {
     "name": "stdout",
     "output_type": "stream",
     "text": [
      "[CV]  mlp__activation=logistic, mlp__alpha=109.40547072057436, mlp__hidden_layer_sizes=(451,), mlp__solver=sgd, mlp__learning_rate=invscaling, mlp__max_iter=2833, total=38.7min\n"
     ]
    },
    {
     "name": "stderr",
     "output_type": "stream",
     "text": [
      "/home/loki/.local/lib/python2.7/site-packages/sklearn/neural_network/multilayer_perceptron.py:564: ConvergenceWarning: Stochastic Optimizer: Maximum iterations (2833) reached and the optimization hasn't converged yet.\n",
      "  % self.max_iter, ConvergenceWarning)\n"
     ]
    },
    {
     "name": "stdout",
     "output_type": "stream",
     "text": [
      "[CV]  mlp__activation=logistic, mlp__alpha=109.40547072057436, mlp__hidden_layer_sizes=(451,), mlp__solver=sgd, mlp__learning_rate=invscaling, mlp__max_iter=2833, total=36.4min\n"
     ]
    },
    {
     "name": "stderr",
     "output_type": "stream",
     "text": [
      "[Parallel(n_jobs=-1)]: Done  50 out of  50 | elapsed: 62.6min finished\n"
     ]
    },
    {
     "name": "stdout",
     "output_type": "stream",
     "text": [
      "Fitting 2 folds for each of 25 candidates, totalling 50 fits\n"
     ]
    },
    {
     "name": "stderr",
     "output_type": "stream",
     "text": [
      "[Parallel(n_jobs=-1)]: Done  42 tasks      | elapsed:   27.7s\n",
      "[Parallel(n_jobs=-1)]: Done  50 out of  50 | elapsed:   56.5s finished\n"
     ]
    },
    {
     "name": "stdout",
     "output_type": "stream",
     "text": [
      "\n",
      "Score[mean]: 0.91\n",
      "From Baseline: 1.0%\n",
      "From LOG: 1.0%\n",
      "{'mlp__activation': 'identity', 'mlp__alpha': 9.727203192450537, 'mlp__hidden_layer_sizes': (244, 159, 198), 'mlp__solver': 'lbfgs', 'mlp__learning_rate': 'constant', 'mlp__max_iter': 2335}\n",
      "\n",
      "\n",
      "3-8_17\n",
      "Median Baseline: 0.5\n",
      "Mean Baseline: 0.92\n",
      "\n",
      "Fitting 2 folds for each of 25 candidates, totalling 50 fits\n",
      "[CV] mlp__activation=relu, mlp__alpha=239.54073587208794, mlp__hidden_layer_sizes=(126, 397, 56, 315, 256), mlp__solver=adam, mlp__learning_rate=invscaling, mlp__max_iter=2327 \n",
      "[CV] mlp__activation=relu, mlp__alpha=239.54073587208794, mlp__hidden_layer_sizes=(126, 397, 56, 315, 256), mlp__solver=adam, mlp__learning_rate=invscaling, mlp__max_iter=2327 \n",
      "[CV] mlp__activation=tanh, mlp__alpha=0.00010790287915161836, mlp__hidden_layer_sizes=(244, 159, 198), mlp__solver=adam, mlp__learning_rate=constant, mlp__max_iter=3511 \n",
      "[CV] mlp__activation=tanh, mlp__alpha=0.00010790287915161836, mlp__hidden_layer_sizes=(244, 159, 198), mlp__solver=adam, mlp__learning_rate=constant, mlp__max_iter=3511 \n",
      "[CV]  mlp__activation=tanh, mlp__alpha=0.00010790287915161836, mlp__hidden_layer_sizes=(244, 159, 198), mlp__solver=adam, mlp__learning_rate=constant, mlp__max_iter=3511, total=  37.4s\n",
      "[CV] mlp__activation=identity, mlp__alpha=1.202486142037412e-07, mlp__hidden_layer_sizes=(244, 159, 198), mlp__solver=sgd, mlp__learning_rate=adaptive, mlp__max_iter=2525 \n",
      "[CV]  mlp__activation=tanh, mlp__alpha=0.00010790287915161836, mlp__hidden_layer_sizes=(244, 159, 198), mlp__solver=adam, mlp__learning_rate=constant, mlp__max_iter=3511, total=  39.1s\n",
      "[CV] mlp__activation=identity, mlp__alpha=1.202486142037412e-07, mlp__hidden_layer_sizes=(244, 159, 198), mlp__solver=sgd, mlp__learning_rate=adaptive, mlp__max_iter=2525 \n",
      "[CV]  mlp__activation=relu, mlp__alpha=239.54073587208794, mlp__hidden_layer_sizes=(126, 397, 56, 315, 256), mlp__solver=adam, mlp__learning_rate=invscaling, mlp__max_iter=2327, total= 1.4min\n",
      "[CV] mlp__activation=tanh, mlp__alpha=379.8215306190736, mlp__hidden_layer_sizes=(244, 159, 198), mlp__solver=sgd, mlp__learning_rate=constant, mlp__max_iter=2721 \n",
      "[CV]  mlp__activation=relu, mlp__alpha=239.54073587208794, mlp__hidden_layer_sizes=(126, 397, 56, 315, 256), mlp__solver=adam, mlp__learning_rate=invscaling, mlp__max_iter=2327, total= 1.4min\n",
      "[CV] mlp__activation=tanh, mlp__alpha=379.8215306190736, mlp__hidden_layer_sizes=(244, 159, 198), mlp__solver=sgd, mlp__learning_rate=constant, mlp__max_iter=2721 \n",
      "[CV]  mlp__activation=tanh, mlp__alpha=379.8215306190736, mlp__hidden_layer_sizes=(244, 159, 198), mlp__solver=sgd, mlp__learning_rate=constant, mlp__max_iter=2721, total= 1.5min\n",
      "[CV] mlp__activation=logistic, mlp__alpha=3.610418597173337, mlp__hidden_layer_sizes=(279, 231), mlp__solver=lbfgs, mlp__learning_rate=invscaling, mlp__max_iter=4701 \n",
      "[CV]  mlp__activation=tanh, mlp__alpha=379.8215306190736, mlp__hidden_layer_sizes=(244, 159, 198), mlp__solver=sgd, mlp__learning_rate=constant, mlp__max_iter=2721, total= 1.6min\n",
      "[CV] mlp__activation=logistic, mlp__alpha=3.610418597173337, mlp__hidden_layer_sizes=(279, 231), mlp__solver=lbfgs, mlp__learning_rate=invscaling, mlp__max_iter=4701 \n",
      "[CV]  mlp__activation=logistic, mlp__alpha=3.610418597173337, mlp__hidden_layer_sizes=(279, 231), mlp__solver=lbfgs, mlp__learning_rate=invscaling, mlp__max_iter=4701, total=  45.3s\n",
      "[CV] mlp__activation=logistic, mlp__alpha=0.8850074914473438, mlp__hidden_layer_sizes=(279, 231), mlp__solver=lbfgs, mlp__learning_rate=invscaling, mlp__max_iter=4273 \n",
      "[CV]  mlp__activation=logistic, mlp__alpha=3.610418597173337, mlp__hidden_layer_sizes=(279, 231), mlp__solver=lbfgs, mlp__learning_rate=invscaling, mlp__max_iter=4701, total= 1.1min\n",
      "[CV] mlp__activation=logistic, mlp__alpha=0.8850074914473438, mlp__hidden_layer_sizes=(279, 231), mlp__solver=lbfgs, mlp__learning_rate=invscaling, mlp__max_iter=4273 \n",
      "[CV]  mlp__activation=logistic, mlp__alpha=0.8850074914473438, mlp__hidden_layer_sizes=(279, 231), mlp__solver=lbfgs, mlp__learning_rate=invscaling, mlp__max_iter=4273, total= 2.6min\n",
      "[CV] mlp__activation=logistic, mlp__alpha=0.0004717084690917017, mlp__hidden_layer_sizes=(244, 159, 198), mlp__solver=sgd, mlp__learning_rate=adaptive, mlp__max_iter=1631 \n",
      "[CV]  mlp__activation=logistic, mlp__alpha=0.0004717084690917017, mlp__hidden_layer_sizes=(244, 159, 198), mlp__solver=sgd, mlp__learning_rate=adaptive, mlp__max_iter=1631, total=  22.8s\n",
      "[CV] mlp__activation=logistic, mlp__alpha=0.0004717084690917017, mlp__hidden_layer_sizes=(244, 159, 198), mlp__solver=sgd, mlp__learning_rate=adaptive, mlp__max_iter=1631 \n",
      "[CV]  mlp__activation=logistic, mlp__alpha=0.8850074914473438, mlp__hidden_layer_sizes=(279, 231), mlp__solver=lbfgs, mlp__learning_rate=invscaling, mlp__max_iter=4273, total= 3.1min\n",
      "[CV] mlp__activation=relu, mlp__alpha=2.3570694139967276e-05, mlp__hidden_layer_sizes=(244, 159, 198), mlp__solver=sgd, mlp__learning_rate=constant, mlp__max_iter=1602 \n",
      "[CV]  mlp__activation=logistic, mlp__alpha=0.0004717084690917017, mlp__hidden_layer_sizes=(244, 159, 198), mlp__solver=sgd, mlp__learning_rate=adaptive, mlp__max_iter=1631, total=  22.3s\n",
      "[CV] mlp__activation=relu, mlp__alpha=2.3570694139967276e-05, mlp__hidden_layer_sizes=(244, 159, 198), mlp__solver=sgd, mlp__learning_rate=constant, mlp__max_iter=1602 \n",
      "[CV]  mlp__activation=relu, mlp__alpha=2.3570694139967276e-05, mlp__hidden_layer_sizes=(244, 159, 198), mlp__solver=sgd, mlp__learning_rate=constant, mlp__max_iter=1602, total=   4.4s\n",
      "[CV] mlp__activation=tanh, mlp__alpha=79.23168624866261, mlp__hidden_layer_sizes=(279, 231), mlp__solver=sgd, mlp__learning_rate=constant, mlp__max_iter=4083 \n",
      "[CV]  mlp__activation=identity, mlp__alpha=1.202486142037412e-07, mlp__hidden_layer_sizes=(244, 159, 198), mlp__solver=sgd, mlp__learning_rate=adaptive, mlp__max_iter=2525, total= 8.7min\n",
      "[CV] mlp__activation=tanh, mlp__alpha=79.23168624866261, mlp__hidden_layer_sizes=(279, 231), mlp__solver=sgd, mlp__learning_rate=constant, mlp__max_iter=4083 \n",
      "[CV]  mlp__activation=identity, mlp__alpha=1.202486142037412e-07, mlp__hidden_layer_sizes=(244, 159, 198), mlp__solver=sgd, mlp__learning_rate=adaptive, mlp__max_iter=2525, total= 8.9min\n",
      "[CV] mlp__activation=relu, mlp__alpha=323.2283978181381, mlp__hidden_layer_sizes=(244, 159, 198), mlp__solver=sgd, mlp__learning_rate=constant, mlp__max_iter=1042 \n",
      "[CV]  mlp__activation=relu, mlp__alpha=323.2283978181381, mlp__hidden_layer_sizes=(244, 159, 198), mlp__solver=sgd, mlp__learning_rate=constant, mlp__max_iter=1042, total= 1.7min\n",
      "[CV] mlp__activation=relu, mlp__alpha=323.2283978181381, mlp__hidden_layer_sizes=(244, 159, 198), mlp__solver=sgd, mlp__learning_rate=constant, mlp__max_iter=1042 \n",
      "[CV]  mlp__activation=relu, mlp__alpha=323.2283978181381, mlp__hidden_layer_sizes=(244, 159, 198), mlp__solver=sgd, mlp__learning_rate=constant, mlp__max_iter=1042, total= 1.7min\n",
      "[CV] mlp__activation=identity, mlp__alpha=7.462302891391108e-05, mlp__hidden_layer_sizes=(451,), mlp__solver=sgd, mlp__learning_rate=invscaling, mlp__max_iter=653 \n",
      "[CV]  mlp__activation=identity, mlp__alpha=7.462302891391108e-05, mlp__hidden_layer_sizes=(451,), mlp__solver=sgd, mlp__learning_rate=invscaling, mlp__max_iter=653, total=   7.4s\n",
      "[CV] mlp__activation=identity, mlp__alpha=7.462302891391108e-05, mlp__hidden_layer_sizes=(451,), mlp__solver=sgd, mlp__learning_rate=invscaling, mlp__max_iter=653 \n",
      "[CV]  mlp__activation=identity, mlp__alpha=7.462302891391108e-05, mlp__hidden_layer_sizes=(451,), mlp__solver=sgd, mlp__learning_rate=invscaling, mlp__max_iter=653, total=   7.5s\n",
      "[CV] mlp__activation=identity, mlp__alpha=8.668379930019775, mlp__hidden_layer_sizes=(279, 231), mlp__solver=sgd, mlp__learning_rate=constant, mlp__max_iter=3664 \n",
      "[CV]  mlp__activation=tanh, mlp__alpha=79.23168624866261, mlp__hidden_layer_sizes=(279, 231), mlp__solver=sgd, mlp__learning_rate=constant, mlp__max_iter=4083, total= 6.8min\n",
      "[CV] mlp__activation=identity, mlp__alpha=8.668379930019775, mlp__hidden_layer_sizes=(279, 231), mlp__solver=sgd, mlp__learning_rate=constant, mlp__max_iter=3664 \n",
      "[CV]  mlp__activation=tanh, mlp__alpha=79.23168624866261, mlp__hidden_layer_sizes=(279, 231), mlp__solver=sgd, mlp__learning_rate=constant, mlp__max_iter=4083, total= 6.9min\n"
     ]
    },
    {
     "name": "stdout",
     "output_type": "stream",
     "text": [
      "[CV] mlp__activation=tanh, mlp__alpha=977.2146969725725, mlp__hidden_layer_sizes=(54, 182, 222, 442), mlp__solver=lbfgs, mlp__learning_rate=adaptive, mlp__max_iter=2379 \n",
      "[CV]  mlp__activation=tanh, mlp__alpha=977.2146969725725, mlp__hidden_layer_sizes=(54, 182, 222, 442), mlp__solver=lbfgs, mlp__learning_rate=adaptive, mlp__max_iter=2379, total=   8.8s\n",
      "[CV] mlp__activation=tanh, mlp__alpha=977.2146969725725, mlp__hidden_layer_sizes=(54, 182, 222, 442), mlp__solver=lbfgs, mlp__learning_rate=adaptive, mlp__max_iter=2379 \n",
      "[CV]  mlp__activation=tanh, mlp__alpha=977.2146969725725, mlp__hidden_layer_sizes=(54, 182, 222, 442), mlp__solver=lbfgs, mlp__learning_rate=adaptive, mlp__max_iter=2379, total=   9.5s\n",
      "[CV] mlp__activation=tanh, mlp__alpha=0.028540097698292376, mlp__hidden_layer_sizes=(54, 182, 222, 442), mlp__solver=lbfgs, mlp__learning_rate=invscaling, mlp__max_iter=635 \n",
      "[CV]  mlp__activation=tanh, mlp__alpha=0.028540097698292376, mlp__hidden_layer_sizes=(54, 182, 222, 442), mlp__solver=lbfgs, mlp__learning_rate=invscaling, mlp__max_iter=635, total=  43.0s\n",
      "[CV] mlp__activation=tanh, mlp__alpha=0.028540097698292376, mlp__hidden_layer_sizes=(54, 182, 222, 442), mlp__solver=lbfgs, mlp__learning_rate=invscaling, mlp__max_iter=635 \n",
      "[CV]  mlp__activation=tanh, mlp__alpha=0.028540097698292376, mlp__hidden_layer_sizes=(54, 182, 222, 442), mlp__solver=lbfgs, mlp__learning_rate=invscaling, mlp__max_iter=635, total= 1.2min\n",
      "[CV] mlp__activation=identity, mlp__alpha=119.97177354358855, mlp__hidden_layer_sizes=(279, 231), mlp__solver=adam, mlp__learning_rate=invscaling, mlp__max_iter=4914 \n",
      "[CV]  mlp__activation=identity, mlp__alpha=119.97177354358855, mlp__hidden_layer_sizes=(279, 231), mlp__solver=adam, mlp__learning_rate=invscaling, mlp__max_iter=4914, total= 1.7min\n",
      "[CV] mlp__activation=identity, mlp__alpha=119.97177354358855, mlp__hidden_layer_sizes=(279, 231), mlp__solver=adam, mlp__learning_rate=invscaling, mlp__max_iter=4914 \n",
      "[CV]  mlp__activation=relu, mlp__alpha=2.3570694139967276e-05, mlp__hidden_layer_sizes=(244, 159, 198), mlp__solver=sgd, mlp__learning_rate=constant, mlp__max_iter=1602, total=13.5min\n",
      "[CV] mlp__activation=logistic, mlp__alpha=346.3694177371734, mlp__hidden_layer_sizes=(126, 397, 56, 315, 256), mlp__solver=lbfgs, mlp__learning_rate=invscaling, mlp__max_iter=2546 \n",
      "[CV]  mlp__activation=logistic, mlp__alpha=346.3694177371734, mlp__hidden_layer_sizes=(126, 397, 56, 315, 256), mlp__solver=lbfgs, mlp__learning_rate=invscaling, mlp__max_iter=2546, total=  35.5s\n",
      "[CV] mlp__activation=logistic, mlp__alpha=346.3694177371734, mlp__hidden_layer_sizes=(126, 397, 56, 315, 256), mlp__solver=lbfgs, mlp__learning_rate=invscaling, mlp__max_iter=2546 \n",
      "[CV]  mlp__activation=logistic, mlp__alpha=346.3694177371734, mlp__hidden_layer_sizes=(126, 397, 56, 315, 256), mlp__solver=lbfgs, mlp__learning_rate=invscaling, mlp__max_iter=2546, total=  29.4s\n",
      "[CV] mlp__activation=identity, mlp__alpha=4.804870439655134e-06, mlp__hidden_layer_sizes=(126, 397, 56, 315, 256), mlp__solver=adam, mlp__learning_rate=invscaling, mlp__max_iter=2650 \n",
      "[CV]  mlp__activation=identity, mlp__alpha=119.97177354358855, mlp__hidden_layer_sizes=(279, 231), mlp__solver=adam, mlp__learning_rate=invscaling, mlp__max_iter=4914, total= 1.6min\n",
      "[CV] mlp__activation=identity, mlp__alpha=4.804870439655134e-06, mlp__hidden_layer_sizes=(126, 397, 56, 315, 256), mlp__solver=adam, mlp__learning_rate=invscaling, mlp__max_iter=2650 \n",
      "[CV]  mlp__activation=identity, mlp__alpha=4.804870439655134e-06, mlp__hidden_layer_sizes=(126, 397, 56, 315, 256), mlp__solver=adam, mlp__learning_rate=invscaling, mlp__max_iter=2650, total=  20.4s\n",
      "[CV] mlp__activation=logistic, mlp__alpha=28.083319988231754, mlp__hidden_layer_sizes=(244, 159, 198), mlp__solver=sgd, mlp__learning_rate=invscaling, mlp__max_iter=770 \n",
      "[CV]  mlp__activation=identity, mlp__alpha=4.804870439655134e-06, mlp__hidden_layer_sizes=(126, 397, 56, 315, 256), mlp__solver=adam, mlp__learning_rate=invscaling, mlp__max_iter=2650, total=  24.2s\n",
      "[CV] mlp__activation=logistic, mlp__alpha=28.083319988231754, mlp__hidden_layer_sizes=(244, 159, 198), mlp__solver=sgd, mlp__learning_rate=invscaling, mlp__max_iter=770 \n"
     ]
    },
    {
     "name": "stderr",
     "output_type": "stream",
     "text": [
      "/home/loki/.local/lib/python2.7/site-packages/sklearn/neural_network/multilayer_perceptron.py:564: ConvergenceWarning: Stochastic Optimizer: Maximum iterations (770) reached and the optimization hasn't converged yet.\n",
      "  % self.max_iter, ConvergenceWarning)\n"
     ]
    },
    {
     "name": "stdout",
     "output_type": "stream",
     "text": [
      "[CV]  mlp__activation=logistic, mlp__alpha=28.083319988231754, mlp__hidden_layer_sizes=(244, 159, 198), mlp__solver=sgd, mlp__learning_rate=invscaling, mlp__max_iter=770, total=11.9min\n",
      "[CV] mlp__activation=tanh, mlp__alpha=2.2508800520954618e-05, mlp__hidden_layer_sizes=(54, 182, 222, 442), mlp__solver=adam, mlp__learning_rate=adaptive, mlp__max_iter=1042 \n"
     ]
    },
    {
     "name": "stderr",
     "output_type": "stream",
     "text": [
      "[Parallel(n_jobs=-1)]: Done  33 tasks      | elapsed: 33.9min\n",
      "/home/loki/.local/lib/python2.7/site-packages/sklearn/neural_network/multilayer_perceptron.py:564: ConvergenceWarning: Stochastic Optimizer: Maximum iterations (770) reached and the optimization hasn't converged yet.\n",
      "  % self.max_iter, ConvergenceWarning)\n"
     ]
    },
    {
     "name": "stdout",
     "output_type": "stream",
     "text": [
      "[CV]  mlp__activation=logistic, mlp__alpha=28.083319988231754, mlp__hidden_layer_sizes=(244, 159, 198), mlp__solver=sgd, mlp__learning_rate=invscaling, mlp__max_iter=770, total=11.8min\n",
      "[CV] mlp__activation=tanh, mlp__alpha=2.2508800520954618e-05, mlp__hidden_layer_sizes=(54, 182, 222, 442), mlp__solver=adam, mlp__learning_rate=adaptive, mlp__max_iter=1042 \n",
      "[CV]  mlp__activation=tanh, mlp__alpha=2.2508800520954618e-05, mlp__hidden_layer_sizes=(54, 182, 222, 442), mlp__solver=adam, mlp__learning_rate=adaptive, mlp__max_iter=1042, total=  21.5s\n",
      "[CV] mlp__activation=identity, mlp__alpha=1.355601785329369e-05, mlp__hidden_layer_sizes=(451,), mlp__solver=sgd, mlp__learning_rate=invscaling, mlp__max_iter=4039 \n",
      "[CV]  mlp__activation=tanh, mlp__alpha=2.2508800520954618e-05, mlp__hidden_layer_sizes=(54, 182, 222, 442), mlp__solver=adam, mlp__learning_rate=adaptive, mlp__max_iter=1042, total=  17.4s\n",
      "[CV] mlp__activation=identity, mlp__alpha=1.355601785329369e-05, mlp__hidden_layer_sizes=(451,), mlp__solver=sgd, mlp__learning_rate=invscaling, mlp__max_iter=4039 \n",
      "[CV]  mlp__activation=identity, mlp__alpha=1.355601785329369e-05, mlp__hidden_layer_sizes=(451,), mlp__solver=sgd, mlp__learning_rate=invscaling, mlp__max_iter=4039, total=   7.6s\n",
      "[CV] mlp__activation=relu, mlp__alpha=0.0010092621909870484, mlp__hidden_layer_sizes=(451,), mlp__solver=adam, mlp__learning_rate=adaptive, mlp__max_iter=2972 \n",
      "[CV]  mlp__activation=identity, mlp__alpha=1.355601785329369e-05, mlp__hidden_layer_sizes=(451,), mlp__solver=sgd, mlp__learning_rate=invscaling, mlp__max_iter=4039, total=   7.1s\n",
      "[CV] mlp__activation=relu, mlp__alpha=0.0010092621909870484, mlp__hidden_layer_sizes=(451,), mlp__solver=adam, mlp__learning_rate=adaptive, mlp__max_iter=2972 \n",
      "[CV]  mlp__activation=relu, mlp__alpha=0.0010092621909870484, mlp__hidden_layer_sizes=(451,), mlp__solver=adam, mlp__learning_rate=adaptive, mlp__max_iter=2972, total= 3.0min\n",
      "[CV] mlp__activation=identity, mlp__alpha=0.35200314727966825, mlp__hidden_layer_sizes=(126, 397, 56, 315, 256), mlp__solver=sgd, mlp__learning_rate=invscaling, mlp__max_iter=3426 \n",
      "[CV]  mlp__activation=identity, mlp__alpha=0.35200314727966825, mlp__hidden_layer_sizes=(126, 397, 56, 315, 256), mlp__solver=sgd, mlp__learning_rate=invscaling, mlp__max_iter=3426, total=   5.8s\n",
      "[CV] mlp__activation=identity, mlp__alpha=0.35200314727966825, mlp__hidden_layer_sizes=(126, 397, 56, 315, 256), mlp__solver=sgd, mlp__learning_rate=invscaling, mlp__max_iter=3426 \n",
      "[CV]  mlp__activation=identity, mlp__alpha=0.35200314727966825, mlp__hidden_layer_sizes=(126, 397, 56, 315, 256), mlp__solver=sgd, mlp__learning_rate=invscaling, mlp__max_iter=3426, total=   3.5s\n",
      "[CV] mlp__activation=logistic, mlp__alpha=4.916903577628031e-06, mlp__hidden_layer_sizes=(244, 159, 198), mlp__solver=lbfgs, mlp__learning_rate=invscaling, mlp__max_iter=2444 \n",
      "[CV]  mlp__activation=relu, mlp__alpha=0.0010092621909870484, mlp__hidden_layer_sizes=(451,), mlp__solver=adam, mlp__learning_rate=adaptive, mlp__max_iter=2972, total= 3.2min\n",
      "[CV] mlp__activation=logistic, mlp__alpha=4.916903577628031e-06, mlp__hidden_layer_sizes=(244, 159, 198), mlp__solver=lbfgs, mlp__learning_rate=invscaling, mlp__max_iter=2444 \n",
      "[CV]  mlp__activation=logistic, mlp__alpha=4.916903577628031e-06, mlp__hidden_layer_sizes=(244, 159, 198), mlp__solver=lbfgs, mlp__learning_rate=invscaling, mlp__max_iter=2444, total=   7.8s\n",
      "[CV] mlp__activation=identity, mlp__alpha=239.54073587208794, mlp__hidden_layer_sizes=(279, 231), mlp__solver=sgd, mlp__learning_rate=invscaling, mlp__max_iter=1859 \n",
      "[CV]  mlp__activation=logistic, mlp__alpha=4.916903577628031e-06, mlp__hidden_layer_sizes=(244, 159, 198), mlp__solver=lbfgs, mlp__learning_rate=invscaling, mlp__max_iter=2444, total=   8.3s\n",
      "[CV] mlp__activation=identity, mlp__alpha=239.54073587208794, mlp__hidden_layer_sizes=(279, 231), mlp__solver=sgd, mlp__learning_rate=invscaling, mlp__max_iter=1859 \n",
      "[CV]  mlp__activation=identity, mlp__alpha=8.668379930019775, mlp__hidden_layer_sizes=(279, 231), mlp__solver=sgd, mlp__learning_rate=constant, mlp__max_iter=3664, total=33.9min\n",
      "[CV] mlp__activation=tanh, mlp__alpha=5.777790117970507e-06, mlp__hidden_layer_sizes=(126, 397, 56, 315, 256), mlp__solver=adam, mlp__learning_rate=invscaling, mlp__max_iter=1493 \n",
      "[CV]  mlp__activation=tanh, mlp__alpha=5.777790117970507e-06, mlp__hidden_layer_sizes=(126, 397, 56, 315, 256), mlp__solver=adam, mlp__learning_rate=invscaling, mlp__max_iter=1493, total=  25.2s\n",
      "[CV] mlp__activation=tanh, mlp__alpha=5.777790117970507e-06, mlp__hidden_layer_sizes=(126, 397, 56, 315, 256), mlp__solver=adam, mlp__learning_rate=invscaling, mlp__max_iter=1493 \n",
      "[CV]  mlp__activation=tanh, mlp__alpha=5.777790117970507e-06, mlp__hidden_layer_sizes=(126, 397, 56, 315, 256), mlp__solver=adam, mlp__learning_rate=invscaling, mlp__max_iter=1493, total=  11.7s\n",
      "[CV]  mlp__activation=identity, mlp__alpha=8.668379930019775, mlp__hidden_layer_sizes=(279, 231), mlp__solver=sgd, mlp__learning_rate=constant, mlp__max_iter=3664, total=34.0min\n"
     ]
    },
    {
     "name": "stderr",
     "output_type": "stream",
     "text": [
      "/home/loki/.local/lib/python2.7/site-packages/sklearn/neural_network/multilayer_perceptron.py:564: ConvergenceWarning: Stochastic Optimizer: Maximum iterations (1859) reached and the optimization hasn't converged yet.\n",
      "  % self.max_iter, ConvergenceWarning)\n"
     ]
    },
    {
     "name": "stdout",
     "output_type": "stream",
     "text": [
      "[CV]  mlp__activation=identity, mlp__alpha=239.54073587208794, mlp__hidden_layer_sizes=(279, 231), mlp__solver=sgd, mlp__learning_rate=invscaling, mlp__max_iter=1859, total=18.4min\n"
     ]
    },
    {
     "name": "stderr",
     "output_type": "stream",
     "text": [
      "/home/loki/.local/lib/python2.7/site-packages/sklearn/neural_network/multilayer_perceptron.py:564: ConvergenceWarning: Stochastic Optimizer: Maximum iterations (1859) reached and the optimization hasn't converged yet.\n",
      "  % self.max_iter, ConvergenceWarning)\n"
     ]
    },
    {
     "name": "stdout",
     "output_type": "stream",
     "text": [
      "[CV]  mlp__activation=identity, mlp__alpha=239.54073587208794, mlp__hidden_layer_sizes=(279, 231), mlp__solver=sgd, mlp__learning_rate=invscaling, mlp__max_iter=1859, total=18.4min\n"
     ]
    },
    {
     "name": "stderr",
     "output_type": "stream",
     "text": [
      "[Parallel(n_jobs=-1)]: Done  50 out of  50 | elapsed: 56.2min finished\n"
     ]
    },
    {
     "name": "stdout",
     "output_type": "stream",
     "text": [
      "Fitting 2 folds for each of 25 candidates, totalling 50 fits\n"
     ]
    },
    {
     "name": "stderr",
     "output_type": "stream",
     "text": [
      "[Parallel(n_jobs=-1)]: Done  42 tasks      | elapsed:  1.2min\n",
      "[Parallel(n_jobs=-1)]: Done  50 out of  50 | elapsed:  1.3min finished\n"
     ]
    },
    {
     "name": "stdout",
     "output_type": "stream",
     "text": [
      "\n",
      "Score[median]: 0.67\n",
      "From Baseline: 17.0%\n",
      "From LOG: -6.0%\n",
      "{'mlp__activation': 'tanh', 'mlp__alpha': 5.777790117970507e-06, 'mlp__hidden_layer_sizes': (126, 397, 56, 315, 256), 'mlp__solver': 'adam', 'mlp__learning_rate': 'invscaling', 'mlp__max_iter': 1493}\n",
      "LOG Params:{'log__solver': 'sag', 'log__class_weight': None, 'log__max_iter': 832, 'log__C': 7.044462277299037}\n",
      "Fitting 2 folds for each of 25 candidates, totalling 50 fits\n",
      "[CV] mlp__activation=tanh, mlp__alpha=0.027254325312810277, mlp__hidden_layer_sizes=(244, 159, 198), mlp__solver=adam, mlp__learning_rate=adaptive, mlp__max_iter=1960 \n",
      "[CV] mlp__activation=tanh, mlp__alpha=0.027254325312810277, mlp__hidden_layer_sizes=(244, 159, 198), mlp__solver=adam, mlp__learning_rate=adaptive, mlp__max_iter=1960 \n",
      "[CV] mlp__activation=tanh, mlp__alpha=2.029118018046678, mlp__hidden_layer_sizes=(279, 231), mlp__solver=sgd, mlp__learning_rate=invscaling, mlp__max_iter=4277 \n",
      "[CV] mlp__activation=tanh, mlp__alpha=2.029118018046678, mlp__hidden_layer_sizes=(279, 231), mlp__solver=sgd, mlp__learning_rate=invscaling, mlp__max_iter=4277 \n",
      "[CV]  mlp__activation=tanh, mlp__alpha=0.027254325312810277, mlp__hidden_layer_sizes=(244, 159, 198), mlp__solver=adam, mlp__learning_rate=adaptive, mlp__max_iter=1960, total= 2.7min\n",
      "[CV] mlp__activation=tanh, mlp__alpha=2.199593068030075e-05, mlp__hidden_layer_sizes=(244, 159, 198), mlp__solver=adam, mlp__learning_rate=constant, mlp__max_iter=4393 \n",
      "[CV]  mlp__activation=tanh, mlp__alpha=2.029118018046678, mlp__hidden_layer_sizes=(279, 231), mlp__solver=sgd, mlp__learning_rate=invscaling, mlp__max_iter=4277, total= 2.7min\n",
      "[CV] mlp__activation=tanh, mlp__alpha=2.199593068030075e-05, mlp__hidden_layer_sizes=(244, 159, 198), mlp__solver=adam, mlp__learning_rate=constant, mlp__max_iter=4393 \n",
      "[CV]  mlp__activation=tanh, mlp__alpha=0.027254325312810277, mlp__hidden_layer_sizes=(244, 159, 198), mlp__solver=adam, mlp__learning_rate=adaptive, mlp__max_iter=1960, total= 2.8min\n",
      "[CV] mlp__activation=relu, mlp__alpha=0.0004827070965603183, mlp__hidden_layer_sizes=(126, 397, 56, 315, 256), mlp__solver=sgd, mlp__learning_rate=constant, mlp__max_iter=3596 \n",
      "[CV]  mlp__activation=tanh, mlp__alpha=2.029118018046678, mlp__hidden_layer_sizes=(279, 231), mlp__solver=sgd, mlp__learning_rate=invscaling, mlp__max_iter=4277, total= 2.8min\n",
      "[CV] mlp__activation=relu, mlp__alpha=0.0004827070965603183, mlp__hidden_layer_sizes=(126, 397, 56, 315, 256), mlp__solver=sgd, mlp__learning_rate=constant, mlp__max_iter=3596 \n",
      "[CV]  mlp__activation=tanh, mlp__alpha=2.199593068030075e-05, mlp__hidden_layer_sizes=(244, 159, 198), mlp__solver=adam, mlp__learning_rate=constant, mlp__max_iter=4393, total= 1.1min\n",
      "[CV] mlp__activation=tanh, mlp__alpha=0.006528521141127847, mlp__hidden_layer_sizes=(126, 397, 56, 315, 256), mlp__solver=adam, mlp__learning_rate=adaptive, mlp__max_iter=1467 \n",
      "[CV]  mlp__activation=relu, mlp__alpha=0.0004827070965603183, mlp__hidden_layer_sizes=(126, 397, 56, 315, 256), mlp__solver=sgd, mlp__learning_rate=constant, mlp__max_iter=3596, total= 1.0min\n",
      "[CV] mlp__activation=tanh, mlp__alpha=0.006528521141127847, mlp__hidden_layer_sizes=(126, 397, 56, 315, 256), mlp__solver=adam, mlp__learning_rate=adaptive, mlp__max_iter=1467 \n",
      "[CV]  mlp__activation=tanh, mlp__alpha=2.199593068030075e-05, mlp__hidden_layer_sizes=(244, 159, 198), mlp__solver=adam, mlp__learning_rate=constant, mlp__max_iter=4393, total= 1.2min\n",
      "[CV] mlp__activation=relu, mlp__alpha=0.0033459891205499747, mlp__hidden_layer_sizes=(244, 159, 198), mlp__solver=adam, mlp__learning_rate=constant, mlp__max_iter=2679 \n",
      "[CV]  mlp__activation=relu, mlp__alpha=0.0004827070965603183, mlp__hidden_layer_sizes=(126, 397, 56, 315, 256), mlp__solver=sgd, mlp__learning_rate=constant, mlp__max_iter=3596, total= 1.2min\n",
      "[CV] mlp__activation=relu, mlp__alpha=0.0033459891205499747, mlp__hidden_layer_sizes=(244, 159, 198), mlp__solver=adam, mlp__learning_rate=constant, mlp__max_iter=2679 \n",
      "[CV]  mlp__activation=tanh, mlp__alpha=0.006528521141127847, mlp__hidden_layer_sizes=(126, 397, 56, 315, 256), mlp__solver=adam, mlp__learning_rate=adaptive, mlp__max_iter=1467, total=  36.0s\n",
      "[CV] mlp__activation=identity, mlp__alpha=0.19783188827841622, mlp__hidden_layer_sizes=(279, 231), mlp__solver=sgd, mlp__learning_rate=adaptive, mlp__max_iter=4848 \n",
      "[CV]  mlp__activation=tanh, mlp__alpha=0.006528521141127847, mlp__hidden_layer_sizes=(126, 397, 56, 315, 256), mlp__solver=adam, mlp__learning_rate=adaptive, mlp__max_iter=1467, total=  42.6s\n",
      "[CV] mlp__activation=identity, mlp__alpha=0.19783188827841622, mlp__hidden_layer_sizes=(279, 231), mlp__solver=sgd, mlp__learning_rate=adaptive, mlp__max_iter=4848 \n",
      "[CV]  mlp__activation=relu, mlp__alpha=0.0033459891205499747, mlp__hidden_layer_sizes=(244, 159, 198), mlp__solver=adam, mlp__learning_rate=constant, mlp__max_iter=2679, total=  57.0s\n",
      "[CV] mlp__activation=identity, mlp__alpha=0.00020104964162604992, mlp__hidden_layer_sizes=(54, 182, 222, 442), mlp__solver=lbfgs, mlp__learning_rate=adaptive, mlp__max_iter=1017 \n",
      "[CV]  mlp__activation=relu, mlp__alpha=0.0033459891205499747, mlp__hidden_layer_sizes=(244, 159, 198), mlp__solver=adam, mlp__learning_rate=constant, mlp__max_iter=2679, total=  59.7s\n",
      "[CV] mlp__activation=identity, mlp__alpha=0.00020104964162604992, mlp__hidden_layer_sizes=(54, 182, 222, 442), mlp__solver=lbfgs, mlp__learning_rate=adaptive, mlp__max_iter=1017 \n",
      "[CV]  mlp__activation=identity, mlp__alpha=0.00020104964162604992, mlp__hidden_layer_sizes=(54, 182, 222, 442), mlp__solver=lbfgs, mlp__learning_rate=adaptive, mlp__max_iter=1017, total=  12.3s\n",
      "[CV] mlp__activation=relu, mlp__alpha=0.10139254075588143, mlp__hidden_layer_sizes=(126, 397, 56, 315, 256), mlp__solver=lbfgs, mlp__learning_rate=adaptive, mlp__max_iter=3210 \n",
      "[CV]  mlp__activation=identity, mlp__alpha=0.00020104964162604992, mlp__hidden_layer_sizes=(54, 182, 222, 442), mlp__solver=lbfgs, mlp__learning_rate=adaptive, mlp__max_iter=1017, total=  14.9s\n",
      "[CV] mlp__activation=relu, mlp__alpha=0.10139254075588143, mlp__hidden_layer_sizes=(126, 397, 56, 315, 256), mlp__solver=lbfgs, mlp__learning_rate=adaptive, mlp__max_iter=3210 \n",
      "[CV]  mlp__activation=relu, mlp__alpha=0.10139254075588143, mlp__hidden_layer_sizes=(126, 397, 56, 315, 256), mlp__solver=lbfgs, mlp__learning_rate=adaptive, mlp__max_iter=3210, total= 4.4min\n",
      "[CV] mlp__activation=tanh, mlp__alpha=1.0471768194855202e-07, mlp__hidden_layer_sizes=(451,), mlp__solver=sgd, mlp__learning_rate=adaptive, mlp__max_iter=4912 \n",
      "[CV]  mlp__activation=relu, mlp__alpha=0.10139254075588143, mlp__hidden_layer_sizes=(126, 397, 56, 315, 256), mlp__solver=lbfgs, mlp__learning_rate=adaptive, mlp__max_iter=3210, total= 5.3min\n",
      "[CV] mlp__activation=tanh, mlp__alpha=1.0471768194855202e-07, mlp__hidden_layer_sizes=(451,), mlp__solver=sgd, mlp__learning_rate=adaptive, mlp__max_iter=4912 \n",
      "[CV]  mlp__activation=identity, mlp__alpha=0.19783188827841622, mlp__hidden_layer_sizes=(279, 231), mlp__solver=sgd, mlp__learning_rate=adaptive, mlp__max_iter=4848, total=14.1min\n",
      "[CV] mlp__activation=identity, mlp__alpha=2.9612254379880313e-06, mlp__hidden_layer_sizes=(279, 231), mlp__solver=sgd, mlp__learning_rate=adaptive, mlp__max_iter=3987 \n",
      "[CV]  mlp__activation=identity, mlp__alpha=0.19783188827841622, mlp__hidden_layer_sizes=(279, 231), mlp__solver=sgd, mlp__learning_rate=adaptive, mlp__max_iter=4848, total=14.3min\n",
      "[CV] mlp__activation=identity, mlp__alpha=2.9612254379880313e-06, mlp__hidden_layer_sizes=(279, 231), mlp__solver=sgd, mlp__learning_rate=adaptive, mlp__max_iter=3987 \n",
      "[CV]  mlp__activation=identity, mlp__alpha=2.9612254379880313e-06, mlp__hidden_layer_sizes=(279, 231), mlp__solver=sgd, mlp__learning_rate=adaptive, mlp__max_iter=3987, total=14.1min\n",
      "[CV] mlp__activation=logistic, mlp__alpha=3.4477640547344643, mlp__hidden_layer_sizes=(126, 397, 56, 315, 256), mlp__solver=sgd, mlp__learning_rate=adaptive, mlp__max_iter=723 \n",
      "[CV]  mlp__activation=identity, mlp__alpha=2.9612254379880313e-06, mlp__hidden_layer_sizes=(279, 231), mlp__solver=sgd, mlp__learning_rate=adaptive, mlp__max_iter=3987, total=13.9min\n",
      "[CV] mlp__activation=logistic, mlp__alpha=3.4477640547344643, mlp__hidden_layer_sizes=(126, 397, 56, 315, 256), mlp__solver=sgd, mlp__learning_rate=adaptive, mlp__max_iter=723 \n"
     ]
    },
    {
     "name": "stdout",
     "output_type": "stream",
     "text": [
      "[CV]  mlp__activation=tanh, mlp__alpha=1.0471768194855202e-07, mlp__hidden_layer_sizes=(451,), mlp__solver=sgd, mlp__learning_rate=adaptive, mlp__max_iter=4912, total=29.6min\n",
      "[CV] mlp__activation=logistic, mlp__alpha=0.05698437059469136, mlp__hidden_layer_sizes=(126, 397, 56, 315, 256), mlp__solver=adam, mlp__learning_rate=constant, mlp__max_iter=3257 \n",
      "[CV]  mlp__activation=logistic, mlp__alpha=0.05698437059469136, mlp__hidden_layer_sizes=(126, 397, 56, 315, 256), mlp__solver=adam, mlp__learning_rate=constant, mlp__max_iter=3257, total=   5.9s\n",
      "[CV] mlp__activation=logistic, mlp__alpha=0.05698437059469136, mlp__hidden_layer_sizes=(126, 397, 56, 315, 256), mlp__solver=adam, mlp__learning_rate=constant, mlp__max_iter=3257 \n",
      "[CV]  mlp__activation=logistic, mlp__alpha=0.05698437059469136, mlp__hidden_layer_sizes=(126, 397, 56, 315, 256), mlp__solver=adam, mlp__learning_rate=constant, mlp__max_iter=3257, total=   5.5s\n",
      "[CV] mlp__activation=identity, mlp__alpha=97.49649183484097, mlp__hidden_layer_sizes=(126, 397, 56, 315, 256), mlp__solver=sgd, mlp__learning_rate=adaptive, mlp__max_iter=1653 \n",
      "[CV]  mlp__activation=tanh, mlp__alpha=1.0471768194855202e-07, mlp__hidden_layer_sizes=(451,), mlp__solver=sgd, mlp__learning_rate=adaptive, mlp__max_iter=4912, total=30.1min\n",
      "[CV] mlp__activation=identity, mlp__alpha=97.49649183484097, mlp__hidden_layer_sizes=(126, 397, 56, 315, 256), mlp__solver=sgd, mlp__learning_rate=adaptive, mlp__max_iter=1653 \n"
     ]
    },
    {
     "name": "stderr",
     "output_type": "stream",
     "text": [
      "/home/loki/.local/lib/python2.7/site-packages/sklearn/neural_network/multilayer_perceptron.py:564: ConvergenceWarning: Stochastic Optimizer: Maximum iterations (723) reached and the optimization hasn't converged yet.\n",
      "  % self.max_iter, ConvergenceWarning)\n"
     ]
    },
    {
     "name": "stdout",
     "output_type": "stream",
     "text": [
      "[CV]  mlp__activation=logistic, mlp__alpha=3.4477640547344643, mlp__hidden_layer_sizes=(126, 397, 56, 315, 256), mlp__solver=sgd, mlp__learning_rate=adaptive, mlp__max_iter=723, total= 9.8min\n",
      "[CV] mlp__activation=relu, mlp__alpha=2.2250887981283696, mlp__hidden_layer_sizes=(244, 159, 198), mlp__solver=adam, mlp__learning_rate=invscaling, mlp__max_iter=1332 \n"
     ]
    },
    {
     "name": "stderr",
     "output_type": "stream",
     "text": [
      "/home/loki/.local/lib/python2.7/site-packages/sklearn/neural_network/multilayer_perceptron.py:564: ConvergenceWarning: Stochastic Optimizer: Maximum iterations (723) reached and the optimization hasn't converged yet.\n",
      "  % self.max_iter, ConvergenceWarning)\n"
     ]
    },
    {
     "name": "stdout",
     "output_type": "stream",
     "text": [
      "[CV]  mlp__activation=logistic, mlp__alpha=3.4477640547344643, mlp__hidden_layer_sizes=(126, 397, 56, 315, 256), mlp__solver=sgd, mlp__learning_rate=adaptive, mlp__max_iter=723, total= 9.7min\n",
      "[CV] mlp__activation=relu, mlp__alpha=2.2250887981283696, mlp__hidden_layer_sizes=(244, 159, 198), mlp__solver=adam, mlp__learning_rate=invscaling, mlp__max_iter=1332 \n",
      "[CV]  mlp__activation=relu, mlp__alpha=2.2250887981283696, mlp__hidden_layer_sizes=(244, 159, 198), mlp__solver=adam, mlp__learning_rate=invscaling, mlp__max_iter=1332, total= 1.9min\n",
      "[CV] mlp__activation=relu, mlp__alpha=14.065272421052393, mlp__hidden_layer_sizes=(126, 397, 56, 315, 256), mlp__solver=sgd, mlp__learning_rate=adaptive, mlp__max_iter=3661 \n",
      "[CV]  mlp__activation=identity, mlp__alpha=97.49649183484097, mlp__hidden_layer_sizes=(126, 397, 56, 315, 256), mlp__solver=sgd, mlp__learning_rate=adaptive, mlp__max_iter=1653, total= 5.0min\n",
      "[CV] mlp__activation=relu, mlp__alpha=14.065272421052393, mlp__hidden_layer_sizes=(126, 397, 56, 315, 256), mlp__solver=sgd, mlp__learning_rate=adaptive, mlp__max_iter=3661 \n",
      "[CV]  mlp__activation=relu, mlp__alpha=2.2250887981283696, mlp__hidden_layer_sizes=(244, 159, 198), mlp__solver=adam, mlp__learning_rate=invscaling, mlp__max_iter=1332, total= 2.0min\n",
      "[CV] mlp__activation=logistic, mlp__alpha=0.023734242500238662, mlp__hidden_layer_sizes=(54, 182, 222, 442), mlp__solver=lbfgs, mlp__learning_rate=constant, mlp__max_iter=2303 \n",
      "[CV]  mlp__activation=logistic, mlp__alpha=0.023734242500238662, mlp__hidden_layer_sizes=(54, 182, 222, 442), mlp__solver=lbfgs, mlp__learning_rate=constant, mlp__max_iter=2303, total=   7.4s\n",
      "[CV] mlp__activation=logistic, mlp__alpha=0.023734242500238662, mlp__hidden_layer_sizes=(54, 182, 222, 442), mlp__solver=lbfgs, mlp__learning_rate=constant, mlp__max_iter=2303 \n",
      "[CV]  mlp__activation=logistic, mlp__alpha=0.023734242500238662, mlp__hidden_layer_sizes=(54, 182, 222, 442), mlp__solver=lbfgs, mlp__learning_rate=constant, mlp__max_iter=2303, total=   7.8s\n",
      "[CV] mlp__activation=relu, mlp__alpha=1.5211855179861049e-05, mlp__hidden_layer_sizes=(279, 231), mlp__solver=adam, mlp__learning_rate=invscaling, mlp__max_iter=3813 \n",
      "[CV]  mlp__activation=identity, mlp__alpha=97.49649183484097, mlp__hidden_layer_sizes=(126, 397, 56, 315, 256), mlp__solver=sgd, mlp__learning_rate=adaptive, mlp__max_iter=1653, total= 5.1min\n",
      "[CV] mlp__activation=relu, mlp__alpha=1.5211855179861049e-05, mlp__hidden_layer_sizes=(279, 231), mlp__solver=adam, mlp__learning_rate=invscaling, mlp__max_iter=3813 \n",
      "[CV]  mlp__activation=relu, mlp__alpha=1.5211855179861049e-05, mlp__hidden_layer_sizes=(279, 231), mlp__solver=adam, mlp__learning_rate=invscaling, mlp__max_iter=3813, total= 1.7min\n",
      "[CV] mlp__activation=tanh, mlp__alpha=794.145171902934, mlp__hidden_layer_sizes=(244, 159, 198), mlp__solver=lbfgs, mlp__learning_rate=adaptive, mlp__max_iter=3139 \n"
     ]
    },
    {
     "name": "stderr",
     "output_type": "stream",
     "text": [
      "[Parallel(n_jobs=-1)]: Done  33 tasks      | elapsed: 46.5min\n"
     ]
    },
    {
     "name": "stdout",
     "output_type": "stream",
     "text": [
      "[CV]  mlp__activation=tanh, mlp__alpha=794.145171902934, mlp__hidden_layer_sizes=(244, 159, 198), mlp__solver=lbfgs, mlp__learning_rate=adaptive, mlp__max_iter=3139, total=  18.2s\n",
      "[CV] mlp__activation=tanh, mlp__alpha=794.145171902934, mlp__hidden_layer_sizes=(244, 159, 198), mlp__solver=lbfgs, mlp__learning_rate=adaptive, mlp__max_iter=3139 \n",
      "[CV]  mlp__activation=tanh, mlp__alpha=794.145171902934, mlp__hidden_layer_sizes=(244, 159, 198), mlp__solver=lbfgs, mlp__learning_rate=adaptive, mlp__max_iter=3139, total=  20.3s\n",
      "[CV] mlp__activation=logistic, mlp__alpha=3.002461709085549, mlp__hidden_layer_sizes=(54, 182, 222, 442), mlp__solver=adam, mlp__learning_rate=invscaling, mlp__max_iter=3977 \n",
      "[CV]  mlp__activation=relu, mlp__alpha=1.5211855179861049e-05, mlp__hidden_layer_sizes=(279, 231), mlp__solver=adam, mlp__learning_rate=invscaling, mlp__max_iter=3813, total= 1.6min\n",
      "[CV] mlp__activation=logistic, mlp__alpha=3.002461709085549, mlp__hidden_layer_sizes=(54, 182, 222, 442), mlp__solver=adam, mlp__learning_rate=invscaling, mlp__max_iter=3977 \n",
      "[CV]  mlp__activation=logistic, mlp__alpha=3.002461709085549, mlp__hidden_layer_sizes=(54, 182, 222, 442), mlp__solver=adam, mlp__learning_rate=invscaling, mlp__max_iter=3977, total=  28.3s\n",
      "[CV] mlp__activation=tanh, mlp__alpha=0.06696160054853216, mlp__hidden_layer_sizes=(126, 397, 56, 315, 256), mlp__solver=lbfgs, mlp__learning_rate=invscaling, mlp__max_iter=1917 \n",
      "[CV]  mlp__activation=logistic, mlp__alpha=3.002461709085549, mlp__hidden_layer_sizes=(54, 182, 222, 442), mlp__solver=adam, mlp__learning_rate=invscaling, mlp__max_iter=3977, total=  33.5s\n",
      "[CV] mlp__activation=tanh, mlp__alpha=0.06696160054853216, mlp__hidden_layer_sizes=(126, 397, 56, 315, 256), mlp__solver=lbfgs, mlp__learning_rate=invscaling, mlp__max_iter=1917 \n",
      "[CV]  mlp__activation=tanh, mlp__alpha=0.06696160054853216, mlp__hidden_layer_sizes=(126, 397, 56, 315, 256), mlp__solver=lbfgs, mlp__learning_rate=invscaling, mlp__max_iter=1917, total=  30.4s\n",
      "[CV] mlp__activation=identity, mlp__alpha=0.04525386278170167, mlp__hidden_layer_sizes=(54, 182, 222, 442), mlp__solver=sgd, mlp__learning_rate=constant, mlp__max_iter=1388 \n",
      "[CV]  mlp__activation=identity, mlp__alpha=0.04525386278170167, mlp__hidden_layer_sizes=(54, 182, 222, 442), mlp__solver=sgd, mlp__learning_rate=constant, mlp__max_iter=1388, total= 4.0min\n",
      "[CV] mlp__activation=identity, mlp__alpha=0.04525386278170167, mlp__hidden_layer_sizes=(54, 182, 222, 442), mlp__solver=sgd, mlp__learning_rate=constant, mlp__max_iter=1388 \n",
      "[CV]  mlp__activation=identity, mlp__alpha=0.04525386278170167, mlp__hidden_layer_sizes=(54, 182, 222, 442), mlp__solver=sgd, mlp__learning_rate=constant, mlp__max_iter=1388, total= 4.2min\n",
      "[CV] mlp__activation=tanh, mlp__alpha=0.00012390621569479155, mlp__hidden_layer_sizes=(126, 397, 56, 315, 256), mlp__solver=lbfgs, mlp__learning_rate=adaptive, mlp__max_iter=1247 \n",
      "[CV]  mlp__activation=tanh, mlp__alpha=0.00012390621569479155, mlp__hidden_layer_sizes=(126, 397, 56, 315, 256), mlp__solver=lbfgs, mlp__learning_rate=adaptive, mlp__max_iter=1247, total=  21.5s\n",
      "[CV] mlp__activation=tanh, mlp__alpha=0.00012390621569479155, mlp__hidden_layer_sizes=(126, 397, 56, 315, 256), mlp__solver=lbfgs, mlp__learning_rate=adaptive, mlp__max_iter=1247 \n",
      "[CV]  mlp__activation=tanh, mlp__alpha=0.06696160054853216, mlp__hidden_layer_sizes=(126, 397, 56, 315, 256), mlp__solver=lbfgs, mlp__learning_rate=invscaling, mlp__max_iter=1917, total= 9.5min\n",
      "[CV] mlp__activation=identity, mlp__alpha=301.6334347259197, mlp__hidden_layer_sizes=(451,), mlp__solver=sgd, mlp__learning_rate=invscaling, mlp__max_iter=2827 \n",
      "[CV]  mlp__activation=tanh, mlp__alpha=0.00012390621569479155, mlp__hidden_layer_sizes=(126, 397, 56, 315, 256), mlp__solver=lbfgs, mlp__learning_rate=adaptive, mlp__max_iter=1247, total=  33.5s\n",
      "[CV] mlp__activation=identity, mlp__alpha=301.6334347259197, mlp__hidden_layer_sizes=(451,), mlp__solver=sgd, mlp__learning_rate=invscaling, mlp__max_iter=2827 \n",
      "[CV]  mlp__activation=relu, mlp__alpha=14.065272421052393, mlp__hidden_layer_sizes=(126, 397, 56, 315, 256), mlp__solver=sgd, mlp__learning_rate=adaptive, mlp__max_iter=3661, total=18.4min\n",
      "[CV] mlp__activation=logistic, mlp__alpha=5.379361503980697e-07, mlp__hidden_layer_sizes=(126, 397, 56, 315, 256), mlp__solver=lbfgs, mlp__learning_rate=invscaling, mlp__max_iter=4708 \n",
      "[CV]  mlp__activation=relu, mlp__alpha=14.065272421052393, mlp__hidden_layer_sizes=(126, 397, 56, 315, 256), mlp__solver=sgd, mlp__learning_rate=adaptive, mlp__max_iter=3661, total=18.6min\n",
      "[CV] mlp__activation=logistic, mlp__alpha=5.379361503980697e-07, mlp__hidden_layer_sizes=(126, 397, 56, 315, 256), mlp__solver=lbfgs, mlp__learning_rate=invscaling, mlp__max_iter=4708 \n",
      "[CV]  mlp__activation=logistic, mlp__alpha=5.379361503980697e-07, mlp__hidden_layer_sizes=(126, 397, 56, 315, 256), mlp__solver=lbfgs, mlp__learning_rate=invscaling, mlp__max_iter=4708, total=   9.1s\n",
      "[CV]  mlp__activation=logistic, mlp__alpha=5.379361503980697e-07, mlp__hidden_layer_sizes=(126, 397, 56, 315, 256), mlp__solver=lbfgs, mlp__learning_rate=invscaling, mlp__max_iter=4708, total=   9.3s\n"
     ]
    }
   ],
   "source": [
    "train_path = './data/TRAIN.csv'\n",
    "train = pd.read_csv('./data/3-1_19.csv', na_filter=False)\n",
    "\n",
    "dates = ['3-2_16', '3-3_2', '3-3_15', '3-4_5', '3-4_16',\n",
    "         '3-5_3', '3-5_15', '3-6_2', '3-6_14', '3-7_2', '3-7_16', '3-8_3', '3-8_17', '3-9_4', '3-9_16', '3-9_22', '3-10_16']\n",
    "\n",
    "mean_list = [train['upvotes'].mean()]\n",
    "\n",
    "track_path = './data/tracker.csv'\n",
    "tracker = pd.read_csv(track_path)\n",
    "\n",
    "meta_path = './data/meta_data.csv'\n",
    "meta_columns = ['time', 'samples', 'features', 'test_size',\n",
    "                'median', 'baseline', 'score', 'log_score',\n",
    "                'nodes', 'hidden_layers', 'complexity', 'alpha', 'solver', 'activation', 'max_iter',\n",
    "                'mean', 'mean_base', 'mean_score', 'mean_log_score',\n",
    "                'nodes_mean', 'hidden_layers_mean', 'complexity_mean', 'alpha_mean', 'solver_mean',\n",
    "                'activation_mean', 'max_iter_mean']\n",
    "meta_data = pd.DataFrame(columns=meta_columns)\n",
    "\n",
    "cv = StratifiedKFold(n_splits=2, shuffle=True, random_state=42)\n",
    "mm = MinMaxScaler()\n",
    "mlp = MLPClassifier()\n",
    "log = LogisticRegression()\n",
    "\n",
    "mlp_pipe = Pipeline(steps=[('mm', mm), ('mlp', mlp)])\n",
    "log_pipe = Pipeline(steps=[('mm', mm), ('log', log)])\n",
    "\n",
    "mlp_params = {'mlp__hidden_layer_sizes': [tuple(randint(50, 500).rvs(m)) for m in range(1, 6)],\n",
    "              'mlp__activation': ['identity', 'logistic', 'tanh', 'relu'],\n",
    "              'mlp__solver': ['lbfgs', 'sgd', 'adam'],\n",
    "              'mlp__learning_rate': ['constant', 'invscaling', 'adaptive'],\n",
    "              'mlp__alpha': np.logspace(-7, 3, 1000),\n",
    "              'mlp__max_iter': randint(500, 5000).rvs(1000)}\n",
    "\n",
    "log_params = {'log__C': np.logspace(-7, 3, 1000),\n",
    "              'log__solver': ['newton-cg', 'lbfgs', 'liblinear', 'sag', 'saga'],\n",
    "              'log__class_weight':[None, 'balanced'], \n",
    "              'log__max_iter': randint(500, 5000).rvs(1000)}\n",
    "\n",
    "ran_mlp = RandomizedSearchCV(mlp_pipe, param_distributions=mlp_params,\n",
    "                             cv=cv, n_iter=25, n_jobs=-1, verbose=2)\n",
    "ran_log = RandomizedSearchCV(log_pipe, param_distributions=log_params,\n",
    "                             cv=cv, n_iter=25, n_jobs=-1, verbose=1)\n",
    "\n",
    "c = 1\n",
    "for d in dates:\n",
    "    \n",
    "    test = pd.read_csv('./data/{}.csv'.format(d), na_filter=False)\n",
    "    \n",
    "    test_mean = test['upvotes'].mean()\n",
    "    mean_list.append(test_mean)\n",
    "    \n",
    "    X_train, y_train, X_test, y_test, y_train_mean, y_test_mean = reddit_data_process(train,\n",
    "                                                                                      test)\n",
    "    baseline = float(y_test.sum())/len(y_test)\n",
    "    if baseline < .5:\n",
    "        baseline = 1 - float(y_test.sum())/len(y_test)\n",
    "    alt_baseline = 1 - float(sum(y_test_mean))/len(y_test_mean)\n",
    "    \n",
    "    print '\\n{}\\nMedian Baseline: {}\\nMean Baseline: {}\\n'.format(d,\n",
    "                                                                  baseline,\n",
    "                                                                  alt_baseline)\n",
    "    ran_mlp.fit(X_train, y_train)\n",
    "    net_score = ran_mlp.score(X_test, y_test)\n",
    "    net_percent = (net_score - baseline) * 100\n",
    "    net_best_params = ran_mlp.best_params_\n",
    "    net_alpha = net_best_params['mlp__alpha']\n",
    "    net_solver = net_best_params['mlp__solver']\n",
    "    net_activation = net_best_params['mlp__activation']\n",
    "    net_max_iter = net_best_params['mlp__max_iter']\n",
    "    total_node = sum(net_best_params['mlp__hidden_layer_sizes'])\n",
    "    depth = len(net_best_params['mlp__hidden_layer_sizes'])\n",
    "    power_node = total_node * depth\n",
    "    \n",
    "    ran_log.fit(X_train, y_train)\n",
    "    log_score = ran_log.score(X_test, y_test)\n",
    "    net_log = (net_score - log_score) * 100\n",
    "    if net_log > 0:\n",
    "        log_p = ''\n",
    "    else:\n",
    "        log_p = 'LOG Params:{}'.format(ran_log.best_params_)\n",
    "    \n",
    "    print '\\nScore[median]: {}\\nFrom Baseline: {}%\\nFrom LOG: {}%\\n{}\\n{}'.format(net_score,\n",
    "                                                                                  net_percent,\n",
    "                                                                                  net_log,\n",
    "                                                                                  net_best_params,\n",
    "                                                                                  log_p)\n",
    "    ran_mlp.fit(X_train, y_train_mean)\n",
    "    net_score_mean = ran_mlp.score(X_test, y_test_mean)\n",
    "    net_percent = (net_score_mean - alt_baseline) * 100\n",
    "    net_best_params_mean = ran_mlp.best_params_\n",
    "    net_alpha_mean = net_best_params_mean['mlp__alpha']\n",
    "    net_solver_mean = net_best_params_mean['mlp__solver']\n",
    "    net_activation_mean = net_best_params_mean['mlp__activation']\n",
    "    net_max_iter_mean = net_best_params_mean['mlp__max_iter']\n",
    "    total_node_mean = sum(net_best_params_mean['mlp__hidden_layer_sizes'])\n",
    "    depth_mean = len(net_best_params_mean['mlp__hidden_layer_sizes'])\n",
    "    power_node_mean = total_node_mean * depth_mean\n",
    "    \n",
    "    ran_log.fit(X_train, y_train_mean)\n",
    "    log_score_mean = ran_log.score(X_test, y_test_mean)\n",
    "    net_log = (net_score_mean - log_score_mean) * 100\n",
    "    if net_log > 0:\n",
    "        log_p = ''\n",
    "    else:\n",
    "        log_p = 'LOG Params:{}'.format(ran_log.best_params_)\n",
    "\n",
    "    print '\\nScore[mean]: {}\\nFrom Baseline: {}%\\nFrom LOG: {}%\\n{}\\n{}'.format(net_score_mean,\n",
    "                                                                                net_percent,\n",
    "                                                                                net_log,\n",
    "                                                                                net_best_params_mean,\n",
    "                                                                                log_p)\n",
    "    \n",
    "    result = pd.DataFrame([[tracker['time'][c], len(X_train), len(X_train.columns), len(X_test),\n",
    "                            tracker['median'][c], baseline, net_score, log_score,\n",
    "                            total_node, depth, power_node, net_alpha, net_solver, net_activation, net_max_iter,\n",
    "                            test_mean, alt_baseline, net_score_mean, log_score_mean,\n",
    "                            total_node_mean, depth_mean, power_node_mean, net_alpha_mean, net_solver_mean,\n",
    "                            net_activation_mean, net_max_iter_mean]],\n",
    "                         columns=meta_columns)\n",
    "    \n",
    "    meta_data = meta_data.append(result, ignore_index=True)\n",
    "    train = train.append(test, ignore_index=True)\n",
    "    c = c + 1\n",
    "\n",
    "print 'Writing to .csv now...'\n",
    "train.to_csv(train_path, index=False)\n",
    "\n",
    "tracker['mean'] = mean_list\n",
    "tracker.to_csv('./data/tracker_mean.csv', index=False)\n",
    "\n",
    "meta_data.to_csv(meta_path, index=False)\n",
    "print 'All Done'"
   ]
  },
  {
   "cell_type": "code",
   "execution_count": null,
   "metadata": {},
   "outputs": [],
   "source": [
    "reset = pd.read_csv('./data/3-1_19.csv')\n",
    "train = reset\n",
    "train.to_csv('./data/TRAIN.csv', index=False)\n",
    "test = pd.read_csv('./data/3-2_16.csv', na_filter=False)"
   ]
  },
  {
   "cell_type": "code",
   "execution_count": null,
   "metadata": {},
   "outputs": [],
   "source": []
  },
  {
   "cell_type": "code",
   "execution_count": null,
   "metadata": {},
   "outputs": [],
   "source": [
    "test_path = './data/3-4_16.csv'\n",
    "test = pd.read_csv(test_path, na_filter=False)\n",
    "test.shape"
   ]
  },
  {
   "cell_type": "code",
   "execution_count": null,
   "metadata": {},
   "outputs": [],
   "source": [
    "sum([1, 3, 4])"
   ]
  },
  {
   "cell_type": "code",
   "execution_count": null,
   "metadata": {},
   "outputs": [],
   "source": []
  },
  {
   "cell_type": "code",
   "execution_count": null,
   "metadata": {},
   "outputs": [],
   "source": [
    "nets = [tuple(randint(100, 1000).rvs(m)) for m in range(1, 11)]\n",
    "print nets "
   ]
  },
  {
   "cell_type": "code",
   "execution_count": null,
   "metadata": {
    "scrolled": false
   },
   "outputs": [],
   "source": [
    "cv = KFold(n_splits=3, shuffle=True)\n",
    "mm = MinMaxScaler()\n",
    "mlp = MLPClassifier()\n",
    "\n",
    "mlp_pipe = Pipeline(steps=[('mm', mm), ('mlp', mlp)])\n",
    "\n",
    "mlp_params = {'mlp__hidden_layer_sizes':[tuple(randint(50, 500).rvs(m)) for m in range(1, 6)],\n",
    "              'mlp__activation':['identity', 'logistic', 'tanh', 'relu'], 'mlp__solver':['lbfgs', 'sgd', 'adam'],\n",
    "              'mlp__alpha':np.logspace(-7, 7, 10**7), 'mlp__max_iter':randint(1000, 5000).rvs(1000)}\n",
    "\n",
    "ran_mlp = RandomizedSearchCV(mlp_pipe, param_distributions=mlp_params, cv=cv, n_iter=10, n_jobs=-1, verbose=2)\n",
    "\n",
    "X_train, y_train, X_test, y_test = reddit_data_process(train, test)\n",
    "\n",
    "ran_mlp.fit(X_train, y_train)\n",
    "net_score = ran_mlp.score(X_test, y_test)\n",
    "\n",
    "print '\\n{}: {}\\n{}\\n'.format('NNET', net_score, ran_mlp.best_params_)"
   ]
  },
  {
   "cell_type": "code",
   "execution_count": null,
   "metadata": {},
   "outputs": [],
   "source": [
    "print 'Writing new TRAIN to .csv'\n",
    "df_TRAIN = train.append(test)\n",
    "df_TRAIN.to_csv('./data/TRAIN.csv', index=False)\n",
    "del df_TRAIN"
   ]
  },
  {
   "cell_type": "code",
   "execution_count": null,
   "metadata": {},
   "outputs": [],
   "source": [
    "10**0"
   ]
  },
  {
   "cell_type": "code",
   "execution_count": null,
   "metadata": {},
   "outputs": [],
   "source": [
    "tr = pd.read_csv('./data/tracker.csv')\n",
    "tr.head(3)"
   ]
  },
  {
   "cell_type": "code",
   "execution_count": null,
   "metadata": {},
   "outputs": [],
   "source": [
    "meta_data.to_csv(meta_path, index=False)"
   ]
  },
  {
   "cell_type": "code",
   "execution_count": null,
   "metadata": {},
   "outputs": [],
   "source": [
    "meta_data"
   ]
  },
  {
   "cell_type": "code",
   "execution_count": null,
   "metadata": {},
   "outputs": [],
   "source": []
  },
  {
   "cell_type": "code",
   "execution_count": null,
   "metadata": {},
   "outputs": [],
   "source": [
    "import pandas as pd\n",
    "import numpy as np\n",
    "import seaborn as sns\n",
    "import matplotlib.pyplot as plt\n",
    "\n",
    "%matplotlib inline\n",
    "\n",
    "plt.style.use('fivethirtyeight')"
   ]
  },
  {
   "cell_type": "code",
   "execution_count": null,
   "metadata": {},
   "outputs": [],
   "source": [
    "meta_data['params'][3]"
   ]
  },
  {
   "cell_type": "code",
   "execution_count": null,
   "metadata": {},
   "outputs": [],
   "source": [
    "train_set.shape"
   ]
  },
  {
   "cell_type": "code",
   "execution_count": null,
   "metadata": {},
   "outputs": [],
   "source": [
    "sns.boxplot(y=train_set['upvotes'])\n",
    "plt.title('A Distribution of the TOP 10% of articles in r/news')\n",
    "plt.xlabel('Articles in r/news')\n",
    "plt.ylabel('Up Votes')"
   ]
  },
  {
   "cell_type": "code",
   "execution_count": null,
   "metadata": {},
   "outputs": [],
   "source": [
    "plt.rcParams['figure.figsize'] = (8, 6)\n",
    "plt.rcParams['font.size'] = 14\n",
    "meta_data.plot(x='time', y='samples', legend=False)\n",
    "plt.title('Feature Space')\n",
    "plt.xlabel('Days in March')\n",
    "plt.ylabel('# of Features')"
   ]
  },
  {
   "cell_type": "code",
   "execution_count": null,
   "metadata": {},
   "outputs": [],
   "source": [
    "plt.rcParams['figure.figsize'] = (8, 6)\n",
    "plt.rcParams['font.size'] = 14\n",
    "meta_data.plot(x='time', y=['median', 'mean'], legend=True)\n",
    "plt.title('r/news Engagement')\n",
    "plt.xlabel('Days in March')\n",
    "plt.ylabel('# of UpVotes')"
   ]
  },
  {
   "cell_type": "code",
   "execution_count": null,
   "metadata": {},
   "outputs": [],
   "source": [
    "plt.rcParams['figure.figsize'] = (8, 6)\n",
    "plt.rcParams['font.size'] = 14\n",
    "\n",
    "plt.plot(meta_data['time'], meta_data['score'], label='Neural Net: Median')\n",
    "plt.plot(meta_data['time'], meta_data['baseline'], label='Median Baseline')\n",
    "plt.plot(meta_data['time'], meta_data['mean_score'], label='Neural Net: Mean')\n",
    "plt.plot(meta_data['time'], meta_data['mean_base'], label='Mean Baseline')\n",
    "plt.title('Model Performance Over Data')\n",
    "plt.xlabel('Time')\n",
    "plt.ylabel('Accuracy Score')\n",
    "plt.legend(loc='lower right')\n",
    "plt.show()"
   ]
  },
  {
   "cell_type": "code",
   "execution_count": null,
   "metadata": {},
   "outputs": [],
   "source": [
    "meta_data['best_params']"
   ]
  },
  {
   "cell_type": "code",
   "execution_count": null,
   "metadata": {},
   "outputs": [],
   "source": []
  },
  {
   "cell_type": "code",
   "execution_count": null,
   "metadata": {},
   "outputs": [],
   "source": []
  },
  {
   "cell_type": "code",
   "execution_count": null,
   "metadata": {},
   "outputs": [],
   "source": [
    "cv_a = CountVectorizer(lowercase=False, token_pattern='\\S+')\n",
    "cv_d = CountVectorizer(token_pattern='\\S+')\n",
    "cv_t = CountVectorizer(stop_words='english', preprocessor=no_num)\n",
    "\n",
    "cv = KFold(n_splits=3, shuffle=True)\n",
    "mm = MinMaxScaler()\n",
    "\n",
    "log = LogisticRegression()\n",
    "knn = KNeighborsClassifier()\n",
    "rfrst = RandomForestClassifier()\n",
    "mb = MultinomialNB()\n",
    "svm = LinearSVC()\n",
    "sgd = SGDClassifier(penalty='elasticnet')\n",
    "ada = AdaBoostClassifier(base_estimator=MultinomialNB(), n_estimators=2000)\n",
    "gb = GradientBoostingClassifier(n_estimators=2000)\n",
    "\n",
    "\n",
    "log_pipe = Pipeline(steps=[('mm', mm), ('log', log)])\n",
    "knn_pipe = Pipeline(steps=[('mm', mm), ('knn', knn)])\n",
    "rfrst_pipe = Pipeline(steps=[('mm', mm), ('rfrst', rfrst)])\n",
    "mb_pipe = Pipeline(steps=[('mm', mm), ('mb', mb)])\n",
    "svm_pipe = Pipeline(steps=[('mm', mm), ('svm', svm)])\n",
    "sgd_pipe = Pipeline(steps=[('mm', mm), ('sgd', sgd)])\n",
    "ada_pipe = Pipeline(steps=[('mm', mm), ('ada', ada)])\n",
    "gb_pipe = Pipeline(steps=[('mm', mm), ('gb', gb)])\n",
    "\n",
    "\n",
    "log_params = {'log__C': np.logspace(-7, 7, 10**7), 'log__penalty': ['l1', 'l2']}\n",
    "\n",
    "knn_params = {'knn__n_neighbors': randint(1, 100).rvs(10**3), 'knn__weights': ['uniform', 'distance'], 'knn__p': [1, 2]}\n",
    "\n",
    "rfrst_params = {'rfrst__criterion':['entropy', 'gini'], 'rfrst__max_features':[None, 'sqrt', 'log2'],\n",
    "                'rfrst__n_estimators':randint(1, 1000).rvs(100)}\n",
    "\n",
    "ada_params = {'ada__learning_rate':np.logspace(-7, 0, 10**4)}\n",
    "\n",
    "gb_params = {'gb__loss':['deviance', 'exponential'], 'gb__learning_rate':np.logspace(-7, 0, 10**4),\n",
    "             'gb__max_features':[None, 'sqrt', 'log2']}\n",
    "\n",
    "mb_params = {'mb__alpha': np.logspace(-7, 7, 10**7)}\n",
    "\n",
    "svm_params = {'svm__C': np.logspace(-7, 7, 10**7), 'svm__loss': ['hinge', 'squared_hinge']}\n",
    "\n",
    "sgd_params = {'sgd__loss': ['hinge', 'log', 'modified_huber', 'squared_hinge', 'perceptron'],\n",
    "              'sgd__alpha':np.logspace(-7, 7, 10**7), 'sgd__l1_ratio': np.linspace(0, 1, 10**7)}\n",
    "\n",
    "ran_log = RandomizedSearchCV(log_pipe, param_distributions=log_params, cv=cv, n_iter=10**3, n_jobs=-1, verbose=1)\n",
    "ran_knn = RandomizedSearchCV(knn_pipe, param_distributions=knn_params, cv=cv, n_iter=10**3, n_jobs=-1, verbose=1)\n",
    "ran_rfrst = RandomizedSearchCV(rfrst_pipe, param_distributions=rfrst_params, cv=cv, n_iter=100, n_jobs=-1, verbose=1)\n",
    "ran_mb = RandomizedSearchCV(mb_pipe, param_distributions=mb_params, cv=cv,  n_iter=10**5, n_jobs=-1, verbose=1)\n",
    "ran_svm = RandomizedSearchCV(svm_pipe, param_distributions=svm_params, cv=cv, n_iter=10**3, n_jobs=-1, verbose=1)\n",
    "ran_sgd = RandomizedSearchCV(sgd_pipe, param_distributions=sgd_params, cv=cv, n_iter=10**3, n_jobs=-1, verbose=1)\n",
    "ran_ada = RandomizedSearchCV(ada_pipe, param_distributions=ada_params, cv=cv, n_iter=100, n_jobs=-1, verbose=1)\n",
    "ran_gb = RandomizedSearchCV(gb_pipe, param_distributions=gb_params, cv=cv,  n_iter=100, n_jobs=-1, verbose=1)\n",
    "\n",
    "pipes = [('LOG', ran_log), ('KNN', ran_knn), ('RFRST', ran_rfrst), ('SVM', ran_svm),\n",
    "         ('SGD', ran_sgd), ('MB', ran_mb), ('ADA', ran_ada), ('GB', ran_gb)]\n",
    "\n",
    "y_train = train['target']\n",
    "y_test = test['target']\n",
    "\n",
    "# The author is sometimes deleated, so i need to account for that\n",
    "author_train = ['REDACTED' if x == None else x if isinstance(x, basestring) == True else x.name for x in train['author']]\n",
    "author_test = ['REDACTED' if x == None else x if isinstance(x, basestring) == True else x.name for x in test['author']]\n",
    "cv_a.fit(author_train)\n",
    "author_train = pd.DataFrame(cv_a.transform(author_train).todense(), columns=cv_a.get_feature_names())\n",
    "author_test = pd.DataFrame(cv_a.transform(author_test).todense(), columns=cv_a.get_feature_names())\n",
    "\n",
    "cv_d.fit(train['domain'])\n",
    "domain_train = pd.DataFrame(cv_d.transform(train['domain']).todense(), columns=cv_d.get_feature_names())\n",
    "domain_test = pd.DataFrame(cv_d.transform(test['domain']).todense(), columns=cv_d.get_feature_names())\n",
    "\n",
    "cv_t.fit(train['title'])\n",
    "title_train = pd.DataFrame(cv_t.transform(train['title']).todense(), columns=cv_t.get_feature_names())\n",
    "title_test = pd.DataFrame(cv_t.transform(test['title']).todense(), columns=cv_t.get_feature_names())\n",
    "\n",
    "ad_train = author_train.merge(domain_train, left_index=True, right_index=True)\n",
    "super_train = title_train.merge(ad_train, left_index=True, right_index=True)\n",
    "ad_test = author_test.merge(domain_test, left_index=True, right_index=True)\n",
    "super_test = title_test.merge(ad_test, left_index=True, right_index=True)\n",
    "\n",
    "super_train['up_seconds'] = train['up_seconds'].values\n",
    "title_train['up_seconds'] = train['up_seconds'].values\n",
    "domain_train['up_seconds'] = train['up_seconds'].values\n",
    "author_train['up_seconds'] = train['up_seconds'].values\n",
    "\n",
    "super_test['up_seconds'] = test['up_seconds'].values\n",
    "title_test['up_seconds'] = test['up_seconds'].values\n",
    "domain_test['up_seconds'] = test['up_seconds'].values\n",
    "author_test['up_seconds'] = test['up_seconds'].values\n",
    "\n",
    "del ad_test\n",
    "del cv_a\n",
    "del cv_d\n",
    "del cv_t\n",
    "\n",
    "sets = [('SUPER', super_test, super_train), ('Title', title_test, title_train),\n",
    "        ('Domain', domain_test, domain_train), ('Author', author_test, author_train)]\n",
    "spc = '------------------------------------------'\n",
    "for set_name, X_test, X_train in sets:\n",
    "    \n",
    "    print '{}\\n{} set\\n{}'.format(spc, set_name, spc)\n",
    "    \n",
    "    for name, pipe in pipes:\n",
    "        print '{}\\nStarting {}...'.format(spc, name)\n",
    "        pipe.fit(X_train, y_train)\n",
    "        mod_score = pipe.score(X_test, y_test)\n",
    "        print '\\n{}: {}\\n{}\\n{}'.format(name, mod_score, pipe.best_params_, spc)"
   ]
  },
  {
   "cell_type": "code",
   "execution_count": null,
   "metadata": {},
   "outputs": [],
   "source": []
  },
  {
   "cell_type": "code",
   "execution_count": null,
   "metadata": {},
   "outputs": [],
   "source": []
  },
  {
   "cell_type": "code",
   "execution_count": null,
   "metadata": {},
   "outputs": [],
   "source": []
  }
 ],
 "metadata": {
  "kernelspec": {
   "display_name": "Python 2",
   "language": "python",
   "name": "python2"
  },
  "language_info": {
   "codemirror_mode": {
    "name": "ipython",
    "version": 2
   },
   "file_extension": ".py",
   "mimetype": "text/x-python",
   "name": "python",
   "nbconvert_exporter": "python",
   "pygments_lexer": "ipython2",
   "version": "2.7.14"
  }
 },
 "nbformat": 4,
 "nbformat_minor": 2
}
